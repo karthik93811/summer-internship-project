{
  "cells": [
    {
      "cell_type": "markdown",
      "metadata": {
        "id": "LxZ54b4X-BE3"
      },
      "source": [
        "### ANOTHER FEATURE EXTRACTION USING MOTION CATPURE\n"
      ]
    },
    {
      "cell_type": "markdown",
      "metadata": {},
      "source": [
        "### FEATURE EXTRACTION USING 90th PERCENTILE"
      ]
    },
    {
      "cell_type": "code",
      "execution_count": null,
      "metadata": {
        "colab": {
          "base_uri": "https://localhost:8080/"
        },
        "id": "COxLwMTaJaCA",
        "outputId": "1ba2f466-a2c0-430c-b3ae-f3f9263ed358"
      },
      "outputs": [
        {
          "name": "stdout",
          "output_type": "stream",
          "text": [
            "Using device: cuda\n"
          ]
        },
        {
          "name": "stderr",
          "output_type": "stream",
          "text": [
            "Calculating video lengths: 100%|██████████| 1888/1888 [00:09<00:00, 197.18it/s]\n"
          ]
        },
        {
          "name": "stdout",
          "output_type": "stream",
          "text": [
            "Using dynamic frame count: 95\n"
          ]
        },
        {
          "name": "stderr",
          "output_type": "stream",
          "text": [
            "\rExtracting features:   0%|          | 0/1888 [00:00<?, ?it/s]/usr/local/lib/python3.11/dist-packages/torchvision/models/_utils.py:208: UserWarning: The parameter 'pretrained' is deprecated since 0.13 and may be removed in the future, please use 'weights' instead.\n",
            "  warnings.warn(\n",
            "/usr/local/lib/python3.11/dist-packages/torchvision/models/_utils.py:223: UserWarning: Arguments other than a weight enum or `None` for 'weights' are deprecated since 0.13 and may be removed in the future. The current behavior is equivalent to passing `weights=ResNet50_Weights.IMAGENET1K_V1`. You can also use `weights=ResNet50_Weights.DEFAULT` to get the most up-to-date weights.\n",
            "  warnings.warn(msg)\n",
            "Downloading: \"https://download.pytorch.org/models/resnet50-0676ba61.pth\" to /root/.cache/torch/hub/checkpoints/resnet50-0676ba61.pth\n",
            "\n",
            "  0%|          | 0.00/97.8M [00:00<?, ?B/s]\u001b[A\n",
            "  1%|▏         | 1.38M/97.8M [00:00<00:07, 14.2MB/s]\u001b[A\n",
            "  9%|▉         | 9.00M/97.8M [00:00<00:01, 52.5MB/s]\u001b[A\n",
            " 26%|██▌       | 25.1M/97.8M [00:00<00:00, 105MB/s] \u001b[A\n",
            " 47%|████▋     | 46.4M/97.8M [00:00<00:00, 151MB/s]\u001b[A\n",
            " 69%|██████▉   | 67.2M/97.8M [00:00<00:00, 175MB/s]\u001b[A\n",
            "100%|██████████| 97.8M/97.8M [00:00<00:00, 156MB/s]\n",
            "Extracting features: 100%|██████████| 1888/1888 [1:52:16<00:00,  3.57s/it]"
          ]
        },
        {
          "name": "stdout",
          "output_type": "stream",
          "text": [
            "Feature extraction complete!\n"
          ]
        },
        {
          "name": "stderr",
          "output_type": "stream",
          "text": [
            "\n"
          ]
        }
      ],
      "source": [
        "import os\n",
        "import cv2\n",
        "import numpy as np\n",
        "import torch\n",
        "from torchvision import transforms, models\n",
        "import torch.nn as nn\n",
        "from tqdm import tqdm \n",
        "\n",
        "# Mount Google Drive if using Colab\n",
        "# from google.colab import drive\n",
        "# drive.mount('/content/drive')\n",
        "\n",
        "# Global constants\n",
        "FRAME_HEIGHT = 224\n",
        "FRAME_WIDTH = 224\n",
        "BATCH_SIZE = 16\n",
        "DROPOUT_RATE = 0.5  # Increased dropout for regularization\n",
        "\n",
        "# Enhanced transformation with stronger normalization\n",
        "transform = transforms.Compose([\n",
        "    transforms.ToPILImage(),\n",
        "    transforms.Resize((FRAME_HEIGHT, FRAME_WIDTH)),\n",
        "    transforms.ToTensor(),\n",
        "    transforms.Normalize(mean=[0.485, 0.456, 0.406],\n",
        "                         std=[0.229, 0.224, 0.225]),\n",
        "    transforms.RandomErasing(p=0.2)  # Simple augmentation during feature extraction\n",
        "])\n",
        "\n",
        "def calculate_max_frames(video_paths, percentile=90):\n",
        "    \"\"\"Dynamically calculate max frames based on dataset\"\"\"\n",
        "    lengths = []\n",
        "    for path in tqdm(video_paths, desc=\"Calculating video lengths\"):\n",
        "        cap = cv2.VideoCapture(path)\n",
        "        lengths.append(int(cap.get(cv2.CAP_PROP_FRAME_COUNT)))\n",
        "        cap.release()\n",
        "    return int(np.percentile(lengths, percentile))\n",
        "\n",
        "def extract_frames(video_path, num_frames):\n",
        "    \"\"\"Improved frame extraction with time-based sampling and zero-padding\"\"\"\n",
        "    cap = cv2.VideoCapture(video_path)\n",
        "    frames = []\n",
        "    frame_count = int(cap.get(cv2.CAP_PROP_FRAME_COUNT))\n",
        "    fps = cap.get(cv2.CAP_PROP_FPS)\n",
        "\n",
        "    # Time-based sampling\n",
        "    if frame_count <= num_frames:\n",
        "        indices = list(range(frame_count))\n",
        "    else:\n",
        "        duration = frame_count / fps\n",
        "        timestamps = np.linspace(0, duration, num_frames)\n",
        "        indices = (timestamps * fps).astype(int)\n",
        "        indices = np.clip(indices, 0, frame_count-1)\n",
        "\n",
        "    for i in indices:\n",
        "        cap.set(cv2.CAP_PROP_POS_FRAMES, i)\n",
        "        ret, frame = cap.read()\n",
        "        if ret:\n",
        "            frame = cv2.cvtColor(frame, cv2.COLOR_BGR2RGB)\n",
        "            frames.append(transform(frame))\n",
        "\n",
        "    cap.release()\n",
        "    seq_len = len(frames)\n",
        "\n",
        "    # Zero-padding instead of repeating frames\n",
        "    if len(frames) < num_frames:\n",
        "        padding = [torch.zeros(3, FRAME_HEIGHT, FRAME_WIDTH)] * (num_frames - len(frames))\n",
        "        frames.extend(padding)\n",
        "\n",
        "    return torch.stack(frames[:num_frames]), seq_len\n",
        "\n",
        "class FeatureExtractor(nn.Module):\n",
        "    \"\"\"Regularized feature extractor with dropout\"\"\"\n",
        "    def __init__(self):\n",
        "        super().__init__()\n",
        "        base_model = models.resnet50(pretrained=True)\n",
        "        self.features = nn.Sequential(\n",
        "            *list(base_model.children())[:-1],\n",
        "            nn.Dropout(DROPOUT_RATE)\n",
        "        )\n",
        "\n",
        "    def forward(self, x):\n",
        "        return self.features(x).squeeze(-1).squeeze(-1)\n",
        "\n",
        "def extract_and_save_features(video_path, output_dir, num_frames):\n",
        "    \"\"\"With feature existence check and error handling\"\"\"\n",
        "    os.makedirs(output_dir, exist_ok=True)\n",
        "    video_name = os.path.splitext(os.path.basename(video_path))[0]\n",
        "    save_path = os.path.join(output_dir, f\"{video_name}_features.pt\")\n",
        "\n",
        "    if os.path.exists(save_path):\n",
        "        return  # Skip already processed files\n",
        "\n",
        "    try:\n",
        "        frames, seq_len = extract_frames(video_path, num_frames)\n",
        "        feature_extractor = FeatureExtractor().eval().to(device)\n",
        "        with torch.no_grad():\n",
        "            features = feature_extractor(frames.to(device))\n",
        "\n",
        "        torch.save({\n",
        "            'features': features.cpu(),\n",
        "            'seq_len': seq_len\n",
        "        }, save_path)\n",
        "\n",
        "    except Exception as e:\n",
        "        print(f\"Failed to process {video_path}: {str(e)}\")\n",
        "\n",
        "# Initialize device\n",
        "device = torch.device(\"cuda\" if torch.cuda.is_available() else \"cpu\")\n",
        "print(\"Using device:\", device)\n",
        "\n",
        "# Initialize dataset and calculate dynamic frame count\n",
        "train_video_dir = \"/content/drive/MyDrive/CricShot10 dataset\"\n",
        "features_train_dir = \"/content/drive/MyDrive/cricket_features/train-90\"\n",
        "CLASS_LABELS = ['cover', 'defense', 'flick', 'hook', 'late_cut',\n",
        "                'lofted', 'pull', 'square_cut', 'straight', 'sweep']\n",
        "\n",
        "\n",
        "def load_dataset(video_dir):\n",
        "    \"\"\"\n",
        "    Loads video paths and labels based on folder structure.\n",
        "    Returns:\n",
        "      video_paths: list of video file paths\n",
        "      labels: corresponding list of label indices\n",
        "    \"\"\"\n",
        "    video_paths = []\n",
        "    labels = []\n",
        "    for class_idx, class_name in enumerate(CLASS_LABELS):\n",
        "        class_folder = os.path.join(video_dir, class_name)\n",
        "        if not os.path.exists(class_folder):\n",
        "            print(f\"Warning: folder {class_folder} does not exist.\")\n",
        "            continue\n",
        "        for file_name in os.listdir(class_folder):\n",
        "            if file_name.endswith(('.avi', '.mp4')):\n",
        "                full_path = os.path.join(class_folder, file_name)\n",
        "                video_paths.append(full_path)\n",
        "                labels.append(class_idx)\n",
        "    return video_paths, labels\n",
        "\n",
        "# Load dataset and calculate dynamic frame count\n",
        "video_paths, labels = load_dataset(train_video_dir)\n",
        "max_frames = calculate_max_frames(video_paths, percentile=90)\n",
        "print(f\"Using dynamic frame count: {max_frames}\")\n",
        "\n",
        "# Process videos with progress tracking\n",
        "for path in tqdm(video_paths, desc=\"Extracting features\"):\n",
        "    extract_and_save_features(path, features_train_dir, max_frames)\n",
        "\n",
        "print(\"Feature extraction complete!\")"
      ]
    },
    {
      "cell_type": "code",
      "execution_count": null,
      "metadata": {
        "id": "0Y3i09HDCzZN"
      },
      "outputs": [],
      "source": [
        "import os\n",
        "import torch\n",
        "from torch.utils.data import Dataset\n",
        "from sklearn.preprocessing import LabelEncoder\n",
        "import joblib\n",
        "import torchvision"
      ]
    },
    {
      "cell_type": "code",
      "execution_count": null,
      "metadata": {
        "colab": {
          "base_uri": "https://localhost:8080/"
        },
        "id": "t8UN50OJJZ_Q",
        "outputId": "5d8a13b0-323a-4199-9725-49ffc75f6376"
      },
      "outputs": [
        {
          "name": "stdout",
          "output_type": "stream",
          "text": [
            "Total feature files found: 1888\n",
            "Train files: 1510 | Val files: 189 | Test files: 189\n"
          ]
        }
      ],
      "source": [
        "import os\n",
        "import numpy as np\n",
        "from sklearn.model_selection import train_test_split\n",
        "\n",
        "FEATURE_DIR = \"/content/drive/MyDrive/cricket_features/train-90\"\n",
        "\n",
        "CLASSES_LIST = [\"cover\", \"defense\", \"flick\", \"hook\", \"late_cut\", \"lofted\", \"pull\", \"square_cut\", \"straight\", \"sweep\"]\n",
        "\n",
        "all_files = []\n",
        "all_labels = []\n",
        "\n",
        "label_encoder = LabelEncoder()\n",
        "label_encoder.fit(CLASSES_LIST)\n",
        "\n",
        "# Save it for future use\n",
        "joblib.dump(label_encoder, \"label_encoder.pkl\")\n",
        "\n",
        "for file_name in os.listdir(FEATURE_DIR):\n",
        "    if file_name.endswith('.pt'):\n",
        "        # Example: \"square_cut_001_features.pt\" → class name is \"square_cut\"\n",
        "        base_name = file_name.split('_features.pt')[0]\n",
        "        class_name = '_'.join(base_name.split('_')[:-1])\n",
        "        if class_name in CLASSES_LIST:\n",
        "            label = CLASSES_LIST.index(class_name)\n",
        "            all_files.append(file_name)\n",
        "            all_labels.append(label)\n",
        "        else:\n",
        "            print(f\"Warning: {class_name} not found in class list. Skipping {file_name}.\")\n",
        "\n",
        "print(\"Total feature files found:\", len(all_files))\n",
        "\n",
        "# Split data into training, validation, and test sets (for example, 80/10/10)\n",
        "train_files, temp_files, train_labels, temp_labels = train_test_split(all_files, all_labels, test_size=0.2, stratify=all_labels, random_state=42)\n",
        "val_files, test_files, val_labels, test_labels = train_test_split(temp_files, temp_labels, test_size=0.5, stratify=temp_labels, random_state=42)\n",
        "\n",
        "print(f\"Train files: {len(train_files)} | Val files: {len(val_files)} | Test files: {len(test_files)}\")"
      ]
    },
    {
      "cell_type": "code",
      "execution_count": null,
      "metadata": {
        "id": "5l01-IB_JZ8i"
      },
      "outputs": [],
      "source": [
        "class FeatureDataset(Dataset):\n",
        "    def __init__(self, feature_dir, file_list, labels):\n",
        "        \"\"\"\n",
        "        Args:\n",
        "            feature_dir (str): Directory containing saved .pt feature files.\n",
        "            file_list (list): List of feature filenames (with extension) found in the feature_dir.\n",
        "            labels (list): Corresponding list of labels (as integers) for each file.\n",
        "        \"\"\"\n",
        "        self.feature_dir = feature_dir\n",
        "        self.file_list = file_list\n",
        "        self.labels = labels\n",
        "\n",
        "    def __len__(self):\n",
        "        return len(self.file_list)\n",
        "    def __getitem__(self, idx):\n",
        "        file_name = self.file_list[idx]\n",
        "        file_path = os.path.join(self.feature_dir, file_name)\n",
        "        data = torch.load(file_path, weights_only=True)\n",
        "        # Assume your .pt files are dictionaries with keys \"features\" and \"seq_len\"\n",
        "        features = data['features']   # Tensor of shape (NUM_FRAMES, FEATURE_DIM)\n",
        "        seq_len = data.get('seq_len', features.shape[0])  # Use recorded sequence length, if available\n",
        "        label = self.labels[idx]\n",
        "        # Optionally, you could also return seq_len if you plan to pack sequences in your LRCN.\n",
        "        return features, seq_len, label\n"
      ]
    },
    {
      "cell_type": "code",
      "execution_count": null,
      "metadata": {
        "id": "jYvv4mAbJZ5w"
      },
      "outputs": [],
      "source": [
        "from torch.utils.data import DataLoader\n",
        "\n",
        "BATCH_SIZE = 16\n",
        "\n",
        "train_dataset = FeatureDataset(FEATURE_DIR, train_files, train_labels)\n",
        "val_dataset   = FeatureDataset(FEATURE_DIR, val_files, val_labels)\n",
        "test_dataset  = FeatureDataset(FEATURE_DIR, test_files, test_labels)\n",
        "\n",
        "train_loader = DataLoader(train_dataset, batch_size=BATCH_SIZE, shuffle=True, num_workers=2)\n",
        "val_loader   = DataLoader(val_dataset, batch_size=BATCH_SIZE, shuffle=False, num_workers=2)\n",
        "test_loader  = DataLoader(test_dataset, batch_size=BATCH_SIZE, shuffle=False, num_workers=2)\n"
      ]
    },
    {
      "cell_type": "code",
      "execution_count": 1,
      "metadata": {
        "id": "S4ZGemdWJZpk"
      },
      "outputs": [],
      "source": [
        "\n",
        "import torch\n",
        "import torch.nn as nn\n",
        "import torch.optim as optim\n",
        "from torch.nn.utils.rnn import pack_padded_sequence, pad_packed_sequence\n",
        "\n",
        "\n",
        "\n",
        "class LRCN(nn.Module):\n",
        "    def __init__(self, input_size=2048,\n",
        "                 hidden_size=512,      # Reduced from 768 to 512\n",
        "                 num_layers=1,         # Reduced from 2 to 1\n",
        "                 num_classes=10,\n",
        "                 dropout=0.7):         # Increased dropout\n",
        "        super(LRCN, self).__init__()\n",
        "\n",
        "        # Feature embedding with normalization\n",
        "        self.feature_embedding = nn.Sequential(\n",
        "            nn.Linear(input_size, hidden_size),\n",
        "            nn.LayerNorm(hidden_size),\n",
        "            nn.Dropout(0.3),\n",
        "            nn.ReLU()\n",
        "        )\n",
        "\n",
        "        self.lstm = nn.LSTM(\n",
        "            input_size=hidden_size,    # Now takes input from feature embedding\n",
        "            hidden_size=hidden_size,\n",
        "            num_layers=num_layers,\n",
        "            batch_first=True,\n",
        "            bidirectional=True,\n",
        "            dropout=0.3\n",
        "        )\n",
        "\n",
        "        # Attention mechanism\n",
        "        self.attention = nn.Linear(hidden_size * 2, 1)\n",
        "\n",
        "        # Classifier with strong regularization\n",
        "        self.classifier = nn.Sequential(\n",
        "            nn.Linear(hidden_size * 2, hidden_size),\n",
        "            nn.LayerNorm(hidden_size),  # Layer normalization instead of batch norm\n",
        "            nn.Dropout(dropout),        # Higher dropout\n",
        "            nn.ReLU(),\n",
        "            nn.Linear(hidden_size, num_classes)\n",
        "        )\n",
        "\n",
        "        # L2 regularization will be applied through weight decay in optimizer\n",
        "\n",
        "    def forward(self, x, lengths):\n",
        "        # Apply feature embedding first\n",
        "        x = self.feature_embedding(x)\n",
        "\n",
        "        # Pack sequence0\n",
        "        packed = pack_padded_sequence(x, lengths.cpu(), batch_first=True, enforce_sorted=False)\n",
        "        packed_output, _ = self.lstm(packed)\n",
        "        output, _ = pad_packed_sequence(packed_output, batch_first=True)\n",
        "\n",
        "        # Apply attention\n",
        "        attn_weights = torch.softmax(self.attention(output).squeeze(-1), dim=1)\n",
        "\n",
        "        # Apply weighted sum\n",
        "        weighted_output = torch.sum(output * attn_weights.unsqueeze(-1), dim=1)\n",
        "\n",
        "        # Apply classifier\n",
        "        logits = self.classifier(weighted_output)\n",
        "        return logits"
      ]
    },
    {
      "cell_type": "code",
      "execution_count": null,
      "metadata": {
        "id": "TZKTYqxPCepQ"
      },
      "outputs": [],
      "source": [
        "# FEATURE_DIM=2048\n",
        "# NUM_CLASSES=10\n",
        "# NUM_FRAMES=40\n",
        "\n",
        "FEATURE_DIM = 2048\n",
        "NUM_CLASSES = 10\n",
        "NUM_FRAMES = 95\n",
        "EPOCHS = 30\n",
        "LEARNING_RATE = 1e-4\n",
        "WEIGHT_DECAY = 1e-5\n",
        "EARLY_STOPPING_PATIENCE = 10"
      ]
    },
    {
      "cell_type": "code",
      "execution_count": null,
      "metadata": {
        "colab": {
          "base_uri": "https://localhost:8080/",
          "height": 1000
        },
        "id": "mRjERVjqDTDW",
        "outputId": "69ecf74a-51c5-4585-f22c-bcaddaa00fa4"
      },
      "outputs": [
        {
          "name": "stdout",
          "output_type": "stream",
          "text": [
            "Using device: cpu\n",
            "Epoch 1/30: Train Loss 2.1936, Train Acc 0.2040 | Val Loss 1.9543, Val Acc 0.3545\n",
            "Saved best model with validation loss: 1.9543\n",
            "Epoch 2/30: Train Loss 1.8758, Train Acc 0.3536 | Val Loss 1.7182, Val Acc 0.3862\n",
            "Saved best model with validation loss: 1.7182\n",
            "Epoch 3/30: Train Loss 1.6946, Train Acc 0.4172 | Val Loss 1.6345, Val Acc 0.4233\n",
            "Saved best model with validation loss: 1.6345\n",
            "Epoch 4/30: Train Loss 1.5588, Train Acc 0.4669 | Val Loss 1.5296, Val Acc 0.4497\n",
            "Saved best model with validation loss: 1.5296\n",
            "Epoch 5/30: Train Loss 1.4437, Train Acc 0.5079 | Val Loss 1.4840, Val Acc 0.4656\n",
            "Saved best model with validation loss: 1.4840\n",
            "Epoch 6/30: Train Loss 1.3664, Train Acc 0.5457 | Val Loss 1.4464, Val Acc 0.4656\n",
            "Saved best model with validation loss: 1.4464\n",
            "Epoch 7/30: Train Loss 1.2906, Train Acc 0.5642 | Val Loss 1.3161, Val Acc 0.5556\n",
            "Saved best model with validation loss: 1.3161\n",
            "Epoch 8/30: Train Loss 1.2023, Train Acc 0.5974 | Val Loss 1.3025, Val Acc 0.4815\n",
            "Saved best model with validation loss: 1.3025\n",
            "Epoch 9/30: Train Loss 1.1430, Train Acc 0.6179 | Val Loss 1.2328, Val Acc 0.5556\n",
            "Saved best model with validation loss: 1.2328\n",
            "Epoch 10/30: Train Loss 1.0713, Train Acc 0.6377 | Val Loss 1.2277, Val Acc 0.6190\n",
            "Saved best model with validation loss: 1.2277\n",
            "Epoch 11/30: Train Loss 1.0378, Train Acc 0.6642 | Val Loss 1.2229, Val Acc 0.5397\n",
            "Saved best model with validation loss: 1.2229\n",
            "Epoch 12/30: Train Loss 0.9598, Train Acc 0.6795 | Val Loss 1.3060, Val Acc 0.5714\n",
            "Epoch 13/30: Train Loss 0.9279, Train Acc 0.6987 | Val Loss 1.1723, Val Acc 0.6085\n",
            "Saved best model with validation loss: 1.1723\n",
            "Epoch 14/30: Train Loss 0.8896, Train Acc 0.7079 | Val Loss 1.1304, Val Acc 0.6349\n",
            "Saved best model with validation loss: 1.1304\n",
            "Epoch 15/30: Train Loss 0.8356, Train Acc 0.7298 | Val Loss 1.0770, Val Acc 0.6402\n",
            "Saved best model with validation loss: 1.0770\n",
            "Epoch 16/30: Train Loss 0.8278, Train Acc 0.7384 | Val Loss 1.1116, Val Acc 0.6190\n",
            "Epoch 17/30: Train Loss 0.7729, Train Acc 0.7517 | Val Loss 1.1059, Val Acc 0.6508\n",
            "Epoch 18/30: Train Loss 0.7068, Train Acc 0.7762 | Val Loss 1.0559, Val Acc 0.6455\n",
            "Saved best model with validation loss: 1.0559\n",
            "Epoch 19/30: Train Loss 0.6577, Train Acc 0.7894 | Val Loss 0.9522, Val Acc 0.6667\n",
            "Saved best model with validation loss: 0.9522\n",
            "Epoch 20/30: Train Loss 0.6422, Train Acc 0.7987 | Val Loss 0.9777, Val Acc 0.6667\n",
            "Epoch 21/30: Train Loss 0.6019, Train Acc 0.7974 | Val Loss 0.9365, Val Acc 0.6984\n",
            "Saved best model with validation loss: 0.9365\n",
            "Epoch 22/30: Train Loss 0.5538, Train Acc 0.8258 | Val Loss 0.9497, Val Acc 0.6508\n",
            "Epoch 23/30: Train Loss 0.4954, Train Acc 0.8517 | Val Loss 0.8350, Val Acc 0.7090\n",
            "Saved best model with validation loss: 0.8350\n",
            "Epoch 24/30: Train Loss 0.4636, Train Acc 0.8616 | Val Loss 0.9766, Val Acc 0.7037\n",
            "Epoch 25/30: Train Loss 0.5018, Train Acc 0.8311 | Val Loss 0.8521, Val Acc 0.7354\n",
            "Epoch 26/30: Train Loss 0.4533, Train Acc 0.8616 | Val Loss 0.8509, Val Acc 0.7302\n",
            "Epoch 27/30: Train Loss 0.4003, Train Acc 0.8762 | Val Loss 0.9416, Val Acc 0.7090\n",
            "Epoch 28/30: Train Loss 0.4106, Train Acc 0.8781 | Val Loss 0.9242, Val Acc 0.6772\n",
            "Epoch 29/30: Train Loss 0.3352, Train Acc 0.9040 | Val Loss 1.1067, Val Acc 0.6825\n"
          ]
        },
        {
          "ename": "KeyboardInterrupt",
          "evalue": "",
          "output_type": "error",
          "traceback": [
            "\u001b[0;31m---------------------------------------------------------------------------\u001b[0m",
            "\u001b[0;31mKeyboardInterrupt\u001b[0m                         Traceback (most recent call last)",
            "\u001b[0;32m<ipython-input-13-973a7d4455c5>\u001b[0m in \u001b[0;36m<cell line: 0>\u001b[0;34m()\u001b[0m\n\u001b[1;32m    127\u001b[0m \u001b[0;34m\u001b[0m\u001b[0m\n\u001b[1;32m    128\u001b[0m         \u001b[0;31m# Backward pass\u001b[0m\u001b[0;34m\u001b[0m\u001b[0;34m\u001b[0m\u001b[0m\n\u001b[0;32m--> 129\u001b[0;31m         \u001b[0mloss\u001b[0m\u001b[0;34m.\u001b[0m\u001b[0mbackward\u001b[0m\u001b[0;34m(\u001b[0m\u001b[0;34m)\u001b[0m\u001b[0;34m\u001b[0m\u001b[0;34m\u001b[0m\u001b[0m\n\u001b[0m\u001b[1;32m    130\u001b[0m         \u001b[0moptimizer\u001b[0m\u001b[0;34m.\u001b[0m\u001b[0mstep\u001b[0m\u001b[0;34m(\u001b[0m\u001b[0;34m)\u001b[0m\u001b[0;34m\u001b[0m\u001b[0;34m\u001b[0m\u001b[0m\n\u001b[1;32m    131\u001b[0m \u001b[0;34m\u001b[0m\u001b[0m\n",
            "\u001b[0;32m/usr/local/lib/python3.11/dist-packages/torch/_tensor.py\u001b[0m in \u001b[0;36mbackward\u001b[0;34m(self, gradient, retain_graph, create_graph, inputs)\u001b[0m\n\u001b[1;32m    624\u001b[0m                 \u001b[0minputs\u001b[0m\u001b[0;34m=\u001b[0m\u001b[0minputs\u001b[0m\u001b[0;34m,\u001b[0m\u001b[0;34m\u001b[0m\u001b[0;34m\u001b[0m\u001b[0m\n\u001b[1;32m    625\u001b[0m             )\n\u001b[0;32m--> 626\u001b[0;31m         torch.autograd.backward(\n\u001b[0m\u001b[1;32m    627\u001b[0m             \u001b[0mself\u001b[0m\u001b[0;34m,\u001b[0m \u001b[0mgradient\u001b[0m\u001b[0;34m,\u001b[0m \u001b[0mretain_graph\u001b[0m\u001b[0;34m,\u001b[0m \u001b[0mcreate_graph\u001b[0m\u001b[0;34m,\u001b[0m \u001b[0minputs\u001b[0m\u001b[0;34m=\u001b[0m\u001b[0minputs\u001b[0m\u001b[0;34m\u001b[0m\u001b[0;34m\u001b[0m\u001b[0m\n\u001b[1;32m    628\u001b[0m         )\n",
            "\u001b[0;32m/usr/local/lib/python3.11/dist-packages/torch/autograd/__init__.py\u001b[0m in \u001b[0;36mbackward\u001b[0;34m(tensors, grad_tensors, retain_graph, create_graph, grad_variables, inputs)\u001b[0m\n\u001b[1;32m    345\u001b[0m     \u001b[0;31m# some Python versions print out the first line of a multi-line function\u001b[0m\u001b[0;34m\u001b[0m\u001b[0;34m\u001b[0m\u001b[0m\n\u001b[1;32m    346\u001b[0m     \u001b[0;31m# calls in the traceback and some print out the last line\u001b[0m\u001b[0;34m\u001b[0m\u001b[0;34m\u001b[0m\u001b[0m\n\u001b[0;32m--> 347\u001b[0;31m     _engine_run_backward(\n\u001b[0m\u001b[1;32m    348\u001b[0m         \u001b[0mtensors\u001b[0m\u001b[0;34m,\u001b[0m\u001b[0;34m\u001b[0m\u001b[0;34m\u001b[0m\u001b[0m\n\u001b[1;32m    349\u001b[0m         \u001b[0mgrad_tensors_\u001b[0m\u001b[0;34m,\u001b[0m\u001b[0;34m\u001b[0m\u001b[0;34m\u001b[0m\u001b[0m\n",
            "\u001b[0;32m/usr/local/lib/python3.11/dist-packages/torch/autograd/graph.py\u001b[0m in \u001b[0;36m_engine_run_backward\u001b[0;34m(t_outputs, *args, **kwargs)\u001b[0m\n\u001b[1;32m    821\u001b[0m         \u001b[0munregister_hooks\u001b[0m \u001b[0;34m=\u001b[0m \u001b[0m_register_logging_hooks_on_whole_graph\u001b[0m\u001b[0;34m(\u001b[0m\u001b[0mt_outputs\u001b[0m\u001b[0;34m)\u001b[0m\u001b[0;34m\u001b[0m\u001b[0;34m\u001b[0m\u001b[0m\n\u001b[1;32m    822\u001b[0m     \u001b[0;32mtry\u001b[0m\u001b[0;34m:\u001b[0m\u001b[0;34m\u001b[0m\u001b[0;34m\u001b[0m\u001b[0m\n\u001b[0;32m--> 823\u001b[0;31m         return Variable._execution_engine.run_backward(  # Calls into the C++ engine to run the backward pass\n\u001b[0m\u001b[1;32m    824\u001b[0m             \u001b[0mt_outputs\u001b[0m\u001b[0;34m,\u001b[0m \u001b[0;34m*\u001b[0m\u001b[0margs\u001b[0m\u001b[0;34m,\u001b[0m \u001b[0;34m**\u001b[0m\u001b[0mkwargs\u001b[0m\u001b[0;34m\u001b[0m\u001b[0;34m\u001b[0m\u001b[0m\n\u001b[1;32m    825\u001b[0m         )  # Calls into the C++ engine to run the backward pass\n",
            "\u001b[0;31mKeyboardInterrupt\u001b[0m: "
          ]
        }
      ],
      "source": [
        "import torch.optim as optim\n",
        "\n",
        "\n",
        "# Set device\n",
        "device = torch.device(\"cuda\" if torch.cuda.is_available() else \"cpu\")\n",
        "print(\"Using device:\", device)\n",
        "\n",
        "# Instantiate the model, loss function, and optimizer\n",
        "model = LRCN(\n",
        "    input_size=FEATURE_DIM,\n",
        "    hidden_size=128,  # Reduced from 1024\n",
        "    num_layers=2,     # Reduced from 3\n",
        "    num_classes=NUM_CLASSES,\n",
        "    dropout=0.3      # Increased from 0.5\n",
        ").to(device)\n",
        "\n",
        "criterion = nn.CrossEntropyLoss()\n",
        "optimizer = optim.Adam(\n",
        "    model.parameters(),\n",
        "    lr=LEARNING_RATE,\n",
        "    weight_decay=WEIGHT_DECAY  # Added weight decay\n",
        ")\n",
        "\n",
        "# Learning rate scheduler - reduces learning rate when validation loss plateaus\n",
        "scheduler = optim.lr_scheduler.ReduceLROnPlateau(\n",
        "    optimizer,\n",
        "    mode='min',       # Monitor validation loss for improvement\n",
        "    factor=0.5,       # Multiply learning rate by this factor when reducing\n",
        "    patience=5,       # Wait for 5 epochs with no improvement before reducing LR\n",
        "    verbose=True      # Print message when LR is reduced\n",
        ")\n",
        "\n",
        "# Early stopping parameters\n",
        "best_val_loss = float('inf')\n",
        "early_stopping_counter = 0\n",
        "best_model_path = 'best_lrcn_model.pth'\n",
        "\n",
        "# Training and validation loop\n",
        "for epoch in range(EPOCHS):\n",
        "    # TRAINING PHASE\n",
        "    model.train()\n",
        "    train_loss = 0.0\n",
        "    train_correct = 0\n",
        "    train_total = 0\n",
        "\n",
        "    # Training loop\n",
        "    for features, seq_len, labels in train_loader:\n",
        "        # features shape: (batch, NUM_FRAMES, FEATURE_DIM)\n",
        "        features = features.to(device)\n",
        "        labels = labels.to(device)\n",
        "\n",
        "        # Convert sequence lengths tensor\n",
        "        lengths = torch.tensor([min(seq_len_i, NUM_FRAMES) for seq_len_i in seq_len], dtype=torch.int64)\n",
        "        lengths = lengths.to(device)\n",
        "\n",
        "        # Forward pass\n",
        "        optimizer.zero_grad()\n",
        "        outputs = model(features, lengths)\n",
        "        loss = criterion(outputs, labels)\n",
        "\n",
        "        # Backward pass\n",
        "        loss.backward()\n",
        "        optimizer.step()\n",
        "\n",
        "        # Accumulate metrics\n",
        "        train_loss += loss.item() * features.size(0)\n",
        "        _, preds = torch.max(outputs, 1)\n",
        "        train_correct += torch.sum(preds == labels.data).item()\n",
        "        train_total += features.size(0)\n",
        "\n",
        "    # Calculate epoch metrics\n",
        "    train_loss_epoch = train_loss / train_total\n",
        "    train_acc = train_correct / train_total\n",
        "\n",
        "    # VALIDATION PHASE\n",
        "    model.eval()\n",
        "    val_loss = 0.0\n",
        "    val_correct = 0\n",
        "    val_total = 0\n",
        "\n",
        "    with torch.no_grad():\n",
        "        for features, seq_len, labels in val_loader:\n",
        "            features = features.to(device)\n",
        "            labels = labels.to(device)\n",
        "\n",
        "            lengths = torch.tensor([min(seq_len_i, NUM_FRAMES) for seq_len_i in seq_len], dtype=torch.int64)\n",
        "            lengths = lengths.to(device)\n",
        "\n",
        "            outputs = model(features, lengths)\n",
        "            loss = criterion(outputs, labels)\n",
        "\n",
        "            val_loss += loss.item() * features.size(0)\n",
        "            _, preds = torch.max(outputs, 1)\n",
        "            val_correct += torch.sum(preds == labels.data).item()\n",
        "            val_total += features.size(0)\n",
        "\n",
        "    val_loss_epoch = val_loss / val_total\n",
        "    val_acc = val_correct / val_total\n",
        "\n",
        "    # Print metrics\n",
        "    print(f\"Epoch {epoch+1}/{EPOCHS}: Train Loss {train_loss_epoch:.4f}, Train Acc {train_acc:.4f} | Val Loss {val_loss_epoch:.4f}, Val Acc {val_acc:.4f}\")\n",
        "\n",
        "    # Learning rate scheduling\n",
        "    scheduler.step(val_loss_epoch)\n",
        "\n",
        "    # Early stopping check\n",
        "    if val_loss_epoch < best_val_loss:\n",
        "        best_val_loss = val_loss_epoch\n",
        "        early_stopping_counter = 0\n",
        "        # Save best model\n",
        "        torch.save(model.state_dict(), best_model_path)\n",
        "        print(f\"Saved best model with validation loss: {best_val_loss:.4f}\")\n",
        "    else:\n",
        "        early_stopping_counter += 1\n",
        "        if early_stopping_counter >= EARLY_STOPPING_PATIENCE:\n",
        "            print(f\"Early stopping triggered at epoch {epoch+1}\")\n",
        "            break\n",
        "\n",
        "print(\"Training completed!\")"
      ]
    },
    {
      "cell_type": "markdown",
      "metadata": {
        "id": "c9D0tntE9M_j"
      },
      "source": [
        "### ANOTHER FEATURE EXTRACTION USING MOTION CATPURE\n"
      ]
    },
    {
      "cell_type": "markdown",
      "metadata": {
        "id": "IWPKsvfA9K54"
      },
      "source": []
    },
    {
      "cell_type": "code",
      "execution_count": null,
      "metadata": {
        "id": "IarY5Y9ZDgaN"
      },
      "outputs": [],
      "source": []
    },
    {
      "cell_type": "markdown",
      "metadata": {},
      "source": [
        "### MOTION BASED FEATURE EXTRACTION"
      ]
    },
    {
      "cell_type": "code",
      "execution_count": null,
      "metadata": {
        "id": "0E-2HXcYuwzR"
      },
      "outputs": [],
      "source": [
        "import os\n",
        "import cv2\n",
        "import numpy as np\n",
        "import torch\n",
        "from torchvision import transforms, models\n",
        "import torch.nn as nn\n",
        "from PIL import Image\n",
        "from tqdm import tqdm"
      ]
    },
    {
      "cell_type": "code",
      "execution_count": null,
      "metadata": {
        "colab": {
          "base_uri": "https://localhost:8080/"
        },
        "id": "pZ6mgSa6tlb2",
        "outputId": "e1fef867-a11f-4205-cddd-26ced21b2354"
      },
      "outputs": [
        {
          "name": "stdout",
          "output_type": "stream",
          "text": [
            "Found 1888 videos. Using device: cuda\n"
          ]
        },
        {
          "name": "stderr",
          "output_type": "stream",
          "text": [
            "Extracting features:   0%|          | 1/1888 [00:02<1:18:22,  2.49s/it]"
          ]
        },
        {
          "name": "stdout",
          "output_type": "stream",
          "text": [
            "Saved: cover_0167, seq_len=40\n"
          ]
        },
        {
          "name": "stderr",
          "output_type": "stream",
          "text": [
            "\rExtracting features:   0%|          | 2/1888 [00:05<1:29:30,  2.85s/it]"
          ]
        },
        {
          "name": "stdout",
          "output_type": "stream",
          "text": [
            "Saved: cover_0184, seq_len=40\n"
          ]
        },
        {
          "name": "stderr",
          "output_type": "stream",
          "text": [
            "\rExtracting features:   0%|          | 3/1888 [00:06<59:41,  1.90s/it]  "
          ]
        },
        {
          "name": "stdout",
          "output_type": "stream",
          "text": [
            "Saved: cover_0182, seq_len=40\n"
          ]
        },
        {
          "name": "stderr",
          "output_type": "stream",
          "text": [
            "\rExtracting features:   0%|          | 4/1888 [00:06<43:30,  1.39s/it]"
          ]
        },
        {
          "name": "stdout",
          "output_type": "stream",
          "text": [
            "Saved: cover_0094, seq_len=40\n"
          ]
        },
        {
          "name": "stderr",
          "output_type": "stream",
          "text": [
            "\rExtracting features:   0%|          | 5/1888 [00:07<35:55,  1.14s/it]"
          ]
        },
        {
          "name": "stdout",
          "output_type": "stream",
          "text": [
            "Saved: cover_0171, seq_len=40\n"
          ]
        },
        {
          "name": "stderr",
          "output_type": "stream",
          "text": [
            "\rExtracting features:   0%|          | 6/1888 [00:09<45:03,  1.44s/it]"
          ]
        },
        {
          "name": "stdout",
          "output_type": "stream",
          "text": [
            "Saved: cover_0158, seq_len=40\n"
          ]
        },
        {
          "name": "stderr",
          "output_type": "stream",
          "text": [
            "\rExtracting features:   0%|          | 7/1888 [00:10<37:51,  1.21s/it]"
          ]
        },
        {
          "name": "stdout",
          "output_type": "stream",
          "text": [
            "Saved: cover_0174, seq_len=40\n"
          ]
        },
        {
          "name": "stderr",
          "output_type": "stream",
          "text": [
            "\rExtracting features:   0%|          | 8/1888 [00:11<32:00,  1.02s/it]"
          ]
        },
        {
          "name": "stdout",
          "output_type": "stream",
          "text": [
            "Saved: cover_0183, seq_len=40\n"
          ]
        },
        {
          "name": "stderr",
          "output_type": "stream",
          "text": [
            "\rExtracting features:   0%|          | 9/1888 [00:11<27:07,  1.15it/s]"
          ]
        },
        {
          "name": "stdout",
          "output_type": "stream",
          "text": [
            "Saved: cover_0163, seq_len=40\n"
          ]
        },
        {
          "name": "stderr",
          "output_type": "stream",
          "text": [
            "\rExtracting features:   1%|          | 10/1888 [00:12<24:44,  1.27it/s]"
          ]
        },
        {
          "name": "stdout",
          "output_type": "stream",
          "text": [
            "Saved: cover_0179, seq_len=40\n"
          ]
        },
        {
          "name": "stderr",
          "output_type": "stream",
          "text": [
            "\rExtracting features:   1%|          | 11/1888 [00:13<26:30,  1.18it/s]"
          ]
        },
        {
          "name": "stdout",
          "output_type": "stream",
          "text": [
            "Saved: cover_0176, seq_len=40\n"
          ]
        },
        {
          "name": "stderr",
          "output_type": "stream",
          "text": [
            "\rExtracting features:   1%|          | 12/1888 [00:14<27:25,  1.14it/s]"
          ]
        },
        {
          "name": "stdout",
          "output_type": "stream",
          "text": [
            "Saved: cover_0186, seq_len=40\n"
          ]
        },
        {
          "name": "stderr",
          "output_type": "stream",
          "text": [
            "\rExtracting features:   1%|          | 13/1888 [00:15<28:15,  1.11it/s]"
          ]
        },
        {
          "name": "stdout",
          "output_type": "stream",
          "text": [
            "Saved: cover_0178, seq_len=40\n"
          ]
        },
        {
          "name": "stderr",
          "output_type": "stream",
          "text": [
            "\rExtracting features:   1%|          | 14/1888 [00:16<28:47,  1.08it/s]"
          ]
        },
        {
          "name": "stdout",
          "output_type": "stream",
          "text": [
            "Saved: cover_0164, seq_len=40\n"
          ]
        },
        {
          "name": "stderr",
          "output_type": "stream",
          "text": [
            "\rExtracting features:   1%|          | 15/1888 [00:16<25:16,  1.24it/s]"
          ]
        },
        {
          "name": "stdout",
          "output_type": "stream",
          "text": [
            "Saved: cover_0082, seq_len=40\n"
          ]
        },
        {
          "name": "stderr",
          "output_type": "stream",
          "text": [
            "\rExtracting features:   1%|          | 16/1888 [00:17<24:08,  1.29it/s]"
          ]
        },
        {
          "name": "stdout",
          "output_type": "stream",
          "text": [
            "Saved: cover_0181, seq_len=40\n"
          ]
        },
        {
          "name": "stderr",
          "output_type": "stream",
          "text": [
            "\rExtracting features:   1%|          | 17/1888 [00:17<23:20,  1.34it/s]"
          ]
        },
        {
          "name": "stdout",
          "output_type": "stream",
          "text": [
            "Saved: cover_0177, seq_len=40\n"
          ]
        },
        {
          "name": "stderr",
          "output_type": "stream",
          "text": [
            "\rExtracting features:   1%|          | 18/1888 [00:18<21:42,  1.44it/s]"
          ]
        },
        {
          "name": "stdout",
          "output_type": "stream",
          "text": [
            "Saved: cover_0173, seq_len=40\n"
          ]
        },
        {
          "name": "stderr",
          "output_type": "stream",
          "text": [
            "\rExtracting features:   1%|          | 19/1888 [00:19<21:14,  1.47it/s]"
          ]
        },
        {
          "name": "stdout",
          "output_type": "stream",
          "text": [
            "Saved: cover_0160, seq_len=40\n"
          ]
        },
        {
          "name": "stderr",
          "output_type": "stream",
          "text": [
            "\rExtracting features:   1%|          | 20/1888 [00:19<20:07,  1.55it/s]"
          ]
        },
        {
          "name": "stdout",
          "output_type": "stream",
          "text": [
            "Saved: cover_0159, seq_len=40\n"
          ]
        },
        {
          "name": "stderr",
          "output_type": "stream",
          "text": [
            "\rExtracting features:   1%|          | 21/1888 [00:20<19:16,  1.61it/s]"
          ]
        },
        {
          "name": "stdout",
          "output_type": "stream",
          "text": [
            "Saved: cover_0172, seq_len=40\n"
          ]
        },
        {
          "name": "stderr",
          "output_type": "stream",
          "text": [
            "\rExtracting features:   1%|          | 22/1888 [00:20<18:54,  1.65it/s]"
          ]
        },
        {
          "name": "stdout",
          "output_type": "stream",
          "text": [
            "Saved: cover_0170, seq_len=40\n"
          ]
        },
        {
          "name": "stderr",
          "output_type": "stream",
          "text": [
            "\rExtracting features:   1%|          | 23/1888 [00:21<18:49,  1.65it/s]"
          ]
        },
        {
          "name": "stdout",
          "output_type": "stream",
          "text": [
            "Saved: cover_0166, seq_len=40\n"
          ]
        },
        {
          "name": "stderr",
          "output_type": "stream",
          "text": [
            "\rExtracting features:   1%|▏         | 24/1888 [00:22<18:49,  1.65it/s]"
          ]
        },
        {
          "name": "stdout",
          "output_type": "stream",
          "text": [
            "Saved: cover_0165, seq_len=40\n"
          ]
        },
        {
          "name": "stderr",
          "output_type": "stream",
          "text": [
            "\rExtracting features:   1%|▏         | 25/1888 [00:22<18:26,  1.68it/s]"
          ]
        },
        {
          "name": "stdout",
          "output_type": "stream",
          "text": [
            "Saved: cover_0185, seq_len=40\n"
          ]
        },
        {
          "name": "stderr",
          "output_type": "stream",
          "text": [
            "\rExtracting features:   1%|▏         | 26/1888 [00:23<17:35,  1.76it/s]"
          ]
        },
        {
          "name": "stdout",
          "output_type": "stream",
          "text": [
            "Saved: cover_0134, seq_len=40\n"
          ]
        },
        {
          "name": "stderr",
          "output_type": "stream",
          "text": [
            "\rExtracting features:   1%|▏         | 27/1888 [00:23<17:32,  1.77it/s]"
          ]
        },
        {
          "name": "stdout",
          "output_type": "stream",
          "text": [
            "Saved: cover_0157, seq_len=40\n"
          ]
        },
        {
          "name": "stderr",
          "output_type": "stream",
          "text": [
            "\rExtracting features:   1%|▏         | 28/1888 [00:24<17:23,  1.78it/s]"
          ]
        },
        {
          "name": "stdout",
          "output_type": "stream",
          "text": [
            "Saved: cover_0088, seq_len=40\n"
          ]
        },
        {
          "name": "stderr",
          "output_type": "stream",
          "text": [
            "\rExtracting features:   2%|▏         | 29/1888 [00:24<16:52,  1.84it/s]"
          ]
        },
        {
          "name": "stdout",
          "output_type": "stream",
          "text": [
            "Saved: cover_0162, seq_len=40\n"
          ]
        },
        {
          "name": "stderr",
          "output_type": "stream",
          "text": [
            "\rExtracting features:   2%|▏         | 30/1888 [00:25<17:01,  1.82it/s]"
          ]
        },
        {
          "name": "stdout",
          "output_type": "stream",
          "text": [
            "Saved: cover_0092, seq_len=40\n"
          ]
        },
        {
          "name": "stderr",
          "output_type": "stream",
          "text": [
            "\rExtracting features:   2%|▏         | 31/1888 [00:25<16:27,  1.88it/s]"
          ]
        },
        {
          "name": "stdout",
          "output_type": "stream",
          "text": [
            "Saved: cover_0152, seq_len=40\n"
          ]
        },
        {
          "name": "stderr",
          "output_type": "stream",
          "text": [
            "\rExtracting features:   2%|▏         | 32/1888 [00:26<19:09,  1.61it/s]"
          ]
        },
        {
          "name": "stdout",
          "output_type": "stream",
          "text": [
            "Saved: cover_0161, seq_len=40\n"
          ]
        },
        {
          "name": "stderr",
          "output_type": "stream",
          "text": [
            "\rExtracting features:   2%|▏         | 33/1888 [00:27<22:31,  1.37it/s]"
          ]
        },
        {
          "name": "stdout",
          "output_type": "stream",
          "text": [
            "Saved: cover_0145, seq_len=40\n"
          ]
        },
        {
          "name": "stderr",
          "output_type": "stream",
          "text": [
            "\rExtracting features:   2%|▏         | 34/1888 [00:28<24:05,  1.28it/s]"
          ]
        },
        {
          "name": "stdout",
          "output_type": "stream",
          "text": [
            "Saved: cover_0175, seq_len=40\n"
          ]
        },
        {
          "name": "stderr",
          "output_type": "stream",
          "text": [
            "\rExtracting features:   2%|▏         | 35/1888 [00:29<24:25,  1.26it/s]"
          ]
        },
        {
          "name": "stdout",
          "output_type": "stream",
          "text": [
            "Saved: cover_0143, seq_len=40\n"
          ]
        },
        {
          "name": "stderr",
          "output_type": "stream",
          "text": [
            "\rExtracting features:   2%|▏         | 36/1888 [00:30<23:46,  1.30it/s]"
          ]
        },
        {
          "name": "stdout",
          "output_type": "stream",
          "text": [
            "Saved: cover_0090, seq_len=40\n"
          ]
        },
        {
          "name": "stderr",
          "output_type": "stream",
          "text": [
            "\rExtracting features:   2%|▏         | 37/1888 [00:30<21:53,  1.41it/s]"
          ]
        },
        {
          "name": "stdout",
          "output_type": "stream",
          "text": [
            "Saved: cover_0139, seq_len=40\n"
          ]
        },
        {
          "name": "stderr",
          "output_type": "stream",
          "text": [
            "\rExtracting features:   2%|▏         | 38/1888 [00:31<20:16,  1.52it/s]"
          ]
        },
        {
          "name": "stdout",
          "output_type": "stream",
          "text": [
            "Saved: cover_0087, seq_len=40\n"
          ]
        },
        {
          "name": "stderr",
          "output_type": "stream",
          "text": [
            "\rExtracting features:   2%|▏         | 39/1888 [00:31<19:10,  1.61it/s]"
          ]
        },
        {
          "name": "stdout",
          "output_type": "stream",
          "text": [
            "Saved: cover_0091, seq_len=40\n"
          ]
        },
        {
          "name": "stderr",
          "output_type": "stream",
          "text": [
            "\rExtracting features:   2%|▏         | 40/1888 [00:32<18:06,  1.70it/s]"
          ]
        },
        {
          "name": "stdout",
          "output_type": "stream",
          "text": [
            "Saved: cover_0089, seq_len=40\n"
          ]
        },
        {
          "name": "stderr",
          "output_type": "stream",
          "text": [
            "\rExtracting features:   2%|▏         | 41/1888 [00:33<20:02,  1.54it/s]"
          ]
        },
        {
          "name": "stdout",
          "output_type": "stream",
          "text": [
            "Saved: cover_0180, seq_len=40\n"
          ]
        },
        {
          "name": "stderr",
          "output_type": "stream",
          "text": [
            "\rExtracting features:   2%|▏         | 42/1888 [00:33<19:20,  1.59it/s]"
          ]
        },
        {
          "name": "stdout",
          "output_type": "stream",
          "text": [
            "Saved: cover_0083, seq_len=40\n"
          ]
        },
        {
          "name": "stderr",
          "output_type": "stream",
          "text": [
            "\rExtracting features:   2%|▏         | 43/1888 [00:34<19:10,  1.60it/s]"
          ]
        },
        {
          "name": "stdout",
          "output_type": "stream",
          "text": [
            "Saved: cover_0093, seq_len=40\n"
          ]
        },
        {
          "name": "stderr",
          "output_type": "stream",
          "text": [
            "\rExtracting features:   2%|▏         | 44/1888 [00:34<18:24,  1.67it/s]"
          ]
        },
        {
          "name": "stdout",
          "output_type": "stream",
          "text": [
            "Saved: cover_0169, seq_len=40\n"
          ]
        },
        {
          "name": "stderr",
          "output_type": "stream",
          "text": [
            "\rExtracting features:   2%|▏         | 45/1888 [00:35<18:44,  1.64it/s]"
          ]
        },
        {
          "name": "stdout",
          "output_type": "stream",
          "text": [
            "Saved: cover_0168, seq_len=40\n"
          ]
        },
        {
          "name": "stderr",
          "output_type": "stream",
          "text": [
            "\rExtracting features:   2%|▏         | 46/1888 [00:36<18:56,  1.62it/s]"
          ]
        },
        {
          "name": "stdout",
          "output_type": "stream",
          "text": [
            "Saved: cover_0140, seq_len=40\n"
          ]
        },
        {
          "name": "stderr",
          "output_type": "stream",
          "text": [
            "\rExtracting features:   2%|▏         | 47/1888 [00:36<17:52,  1.72it/s]"
          ]
        },
        {
          "name": "stdout",
          "output_type": "stream",
          "text": [
            "Saved: cover_0146, seq_len=40\n"
          ]
        },
        {
          "name": "stderr",
          "output_type": "stream",
          "text": [
            "\rExtracting features:   3%|▎         | 48/1888 [00:37<17:58,  1.71it/s]"
          ]
        },
        {
          "name": "stdout",
          "output_type": "stream",
          "text": [
            "Saved: cover_0153, seq_len=40\n"
          ]
        },
        {
          "name": "stderr",
          "output_type": "stream",
          "text": [
            "\rExtracting features:   3%|▎         | 49/1888 [00:37<16:52,  1.82it/s]"
          ]
        },
        {
          "name": "stdout",
          "output_type": "stream",
          "text": [
            "Saved: cover_0123, seq_len=40\n"
          ]
        },
        {
          "name": "stderr",
          "output_type": "stream",
          "text": [
            "\rExtracting features:   3%|▎         | 50/1888 [00:38<17:22,  1.76it/s]"
          ]
        },
        {
          "name": "stdout",
          "output_type": "stream",
          "text": [
            "Saved: cover_0127, seq_len=40\n"
          ]
        },
        {
          "name": "stderr",
          "output_type": "stream",
          "text": [
            "\rExtracting features:   3%|▎         | 51/1888 [00:38<16:46,  1.83it/s]"
          ]
        },
        {
          "name": "stdout",
          "output_type": "stream",
          "text": [
            "Saved: cover_0141, seq_len=40\n"
          ]
        },
        {
          "name": "stderr",
          "output_type": "stream",
          "text": [
            "\rExtracting features:   3%|▎         | 52/1888 [00:39<16:38,  1.84it/s]"
          ]
        },
        {
          "name": "stdout",
          "output_type": "stream",
          "text": [
            "Saved: cover_0150, seq_len=40\n"
          ]
        },
        {
          "name": "stderr",
          "output_type": "stream",
          "text": [
            "\rExtracting features:   3%|▎         | 53/1888 [00:39<16:04,  1.90it/s]"
          ]
        },
        {
          "name": "stdout",
          "output_type": "stream",
          "text": [
            "Saved: cover_0154, seq_len=40\n"
          ]
        },
        {
          "name": "stderr",
          "output_type": "stream",
          "text": [
            "\rExtracting features:   3%|▎         | 54/1888 [00:40<18:43,  1.63it/s]"
          ]
        },
        {
          "name": "stdout",
          "output_type": "stream",
          "text": [
            "Saved: cover_0133, seq_len=40\n"
          ]
        },
        {
          "name": "stderr",
          "output_type": "stream",
          "text": [
            "\rExtracting features:   3%|▎         | 55/1888 [00:41<21:31,  1.42it/s]"
          ]
        },
        {
          "name": "stdout",
          "output_type": "stream",
          "text": [
            "Saved: cover_0151, seq_len=40\n"
          ]
        },
        {
          "name": "stderr",
          "output_type": "stream",
          "text": [
            "\rExtracting features:   3%|▎         | 56/1888 [00:42<22:16,  1.37it/s]"
          ]
        },
        {
          "name": "stdout",
          "output_type": "stream",
          "text": [
            "Saved: cover_0130, seq_len=40\n"
          ]
        },
        {
          "name": "stderr",
          "output_type": "stream",
          "text": [
            "\rExtracting features:   3%|▎         | 57/1888 [00:43<24:36,  1.24it/s]"
          ]
        },
        {
          "name": "stdout",
          "output_type": "stream",
          "text": [
            "Saved: cover_0147, seq_len=40\n"
          ]
        },
        {
          "name": "stderr",
          "output_type": "stream",
          "text": [
            "\rExtracting features:   3%|▎         | 58/1888 [00:43<23:50,  1.28it/s]"
          ]
        },
        {
          "name": "stdout",
          "output_type": "stream",
          "text": [
            "Saved: cover_0081, seq_len=40\n"
          ]
        },
        {
          "name": "stderr",
          "output_type": "stream",
          "text": [
            "\rExtracting features:   3%|▎         | 59/1888 [00:44<22:32,  1.35it/s]"
          ]
        },
        {
          "name": "stdout",
          "output_type": "stream",
          "text": [
            "Saved: cover_0122, seq_len=40\n"
          ]
        },
        {
          "name": "stderr",
          "output_type": "stream",
          "text": [
            "\rExtracting features:   3%|▎         | 60/1888 [00:45<20:19,  1.50it/s]"
          ]
        },
        {
          "name": "stdout",
          "output_type": "stream",
          "text": [
            "Saved: cover_0115, seq_len=40\n"
          ]
        },
        {
          "name": "stderr",
          "output_type": "stream",
          "text": [
            "\rExtracting features:   3%|▎         | 61/1888 [00:45<19:18,  1.58it/s]"
          ]
        },
        {
          "name": "stdout",
          "output_type": "stream",
          "text": [
            "Saved: cover_0136, seq_len=40\n"
          ]
        },
        {
          "name": "stderr",
          "output_type": "stream",
          "text": [
            "\rExtracting features:   3%|▎         | 62/1888 [00:46<18:55,  1.61it/s]"
          ]
        },
        {
          "name": "stdout",
          "output_type": "stream",
          "text": [
            "Saved: cover_0138, seq_len=40\n"
          ]
        },
        {
          "name": "stderr",
          "output_type": "stream",
          "text": [
            "\rExtracting features:   3%|▎         | 63/1888 [00:46<18:49,  1.62it/s]"
          ]
        },
        {
          "name": "stdout",
          "output_type": "stream",
          "text": [
            "Saved: cover_0137, seq_len=40\n"
          ]
        },
        {
          "name": "stderr",
          "output_type": "stream",
          "text": [
            "\rExtracting features:   3%|▎         | 64/1888 [00:47<19:13,  1.58it/s]"
          ]
        },
        {
          "name": "stdout",
          "output_type": "stream",
          "text": [
            "Saved: cover_0124, seq_len=40\n"
          ]
        },
        {
          "name": "stderr",
          "output_type": "stream",
          "text": [
            "\rExtracting features:   3%|▎         | 65/1888 [00:48<20:14,  1.50it/s]"
          ]
        },
        {
          "name": "stdout",
          "output_type": "stream",
          "text": [
            "Saved: cover_0142, seq_len=40\n"
          ]
        },
        {
          "name": "stderr",
          "output_type": "stream",
          "text": [
            "\rExtracting features:   3%|▎         | 66/1888 [00:48<19:27,  1.56it/s]"
          ]
        },
        {
          "name": "stdout",
          "output_type": "stream",
          "text": [
            "Saved: cover_0131, seq_len=40\n"
          ]
        },
        {
          "name": "stderr",
          "output_type": "stream",
          "text": [
            "\rExtracting features:   4%|▎         | 67/1888 [00:49<19:11,  1.58it/s]"
          ]
        },
        {
          "name": "stdout",
          "output_type": "stream",
          "text": [
            "Saved: cover_0129, seq_len=40\n"
          ]
        },
        {
          "name": "stderr",
          "output_type": "stream",
          "text": [
            "\rExtracting features:   4%|▎         | 68/1888 [00:49<17:47,  1.70it/s]"
          ]
        },
        {
          "name": "stdout",
          "output_type": "stream",
          "text": [
            "Saved: cover_0148, seq_len=40\n"
          ]
        },
        {
          "name": "stderr",
          "output_type": "stream",
          "text": [
            "\rExtracting features:   4%|▎         | 69/1888 [00:50<17:23,  1.74it/s]"
          ]
        },
        {
          "name": "stdout",
          "output_type": "stream",
          "text": [
            "Saved: cover_0084, seq_len=40\n"
          ]
        },
        {
          "name": "stderr",
          "output_type": "stream",
          "text": [
            "\rExtracting features:   4%|▎         | 70/1888 [00:50<16:37,  1.82it/s]"
          ]
        },
        {
          "name": "stdout",
          "output_type": "stream",
          "text": [
            "Saved: cover_0109, seq_len=40\n"
          ]
        },
        {
          "name": "stderr",
          "output_type": "stream",
          "text": [
            "\rExtracting features:   4%|▍         | 71/1888 [00:51<16:06,  1.88it/s]"
          ]
        },
        {
          "name": "stdout",
          "output_type": "stream",
          "text": [
            "Saved: cover_0117, seq_len=40\n"
          ]
        },
        {
          "name": "stderr",
          "output_type": "stream",
          "text": [
            "\rExtracting features:   4%|▍         | 72/1888 [00:51<15:31,  1.95it/s]"
          ]
        },
        {
          "name": "stdout",
          "output_type": "stream",
          "text": [
            "Saved: cover_0119, seq_len=40\n"
          ]
        },
        {
          "name": "stderr",
          "output_type": "stream",
          "text": [
            "\rExtracting features:   4%|▍         | 73/1888 [00:52<15:51,  1.91it/s]"
          ]
        },
        {
          "name": "stdout",
          "output_type": "stream",
          "text": [
            "Saved: cover_0112, seq_len=40\n"
          ]
        },
        {
          "name": "stderr",
          "output_type": "stream",
          "text": [
            "\rExtracting features:   4%|▍         | 74/1888 [00:52<15:19,  1.97it/s]"
          ]
        },
        {
          "name": "stdout",
          "output_type": "stream",
          "text": [
            "Saved: cover_0128, seq_len=40\n"
          ]
        },
        {
          "name": "stderr",
          "output_type": "stream",
          "text": [
            "\rExtracting features:   4%|▍         | 75/1888 [00:53<15:03,  2.01it/s]"
          ]
        },
        {
          "name": "stdout",
          "output_type": "stream",
          "text": [
            "Saved: cover_0121, seq_len=40\n"
          ]
        },
        {
          "name": "stderr",
          "output_type": "stream",
          "text": [
            "\rExtracting features:   4%|▍         | 76/1888 [00:55<32:42,  1.08s/it]"
          ]
        },
        {
          "name": "stdout",
          "output_type": "stream",
          "text": [
            "Saved: cover_0065, seq_len=40\n"
          ]
        },
        {
          "name": "stderr",
          "output_type": "stream",
          "text": [
            "\rExtracting features:   4%|▍         | 77/1888 [00:56<30:29,  1.01s/it]"
          ]
        },
        {
          "name": "stdout",
          "output_type": "stream",
          "text": [
            "Saved: cover_0116, seq_len=40\n"
          ]
        },
        {
          "name": "stderr",
          "output_type": "stream",
          "text": [
            "\rExtracting features:   4%|▍         | 78/1888 [00:57<25:42,  1.17it/s]"
          ]
        },
        {
          "name": "stdout",
          "output_type": "stream",
          "text": [
            "Saved: cover_0110, seq_len=40\n"
          ]
        },
        {
          "name": "stderr",
          "output_type": "stream",
          "text": [
            "\rExtracting features:   4%|▍         | 79/1888 [00:57<23:37,  1.28it/s]"
          ]
        },
        {
          "name": "stdout",
          "output_type": "stream",
          "text": [
            "Saved: cover_0120, seq_len=40\n"
          ]
        },
        {
          "name": "stderr",
          "output_type": "stream",
          "text": [
            "\rExtracting features:   4%|▍         | 80/1888 [00:58<21:01,  1.43it/s]"
          ]
        },
        {
          "name": "stdout",
          "output_type": "stream",
          "text": [
            "Saved: cover_0132, seq_len=40\n"
          ]
        },
        {
          "name": "stderr",
          "output_type": "stream",
          "text": [
            "\rExtracting features:   4%|▍         | 81/1888 [00:58<19:30,  1.54it/s]"
          ]
        },
        {
          "name": "stdout",
          "output_type": "stream",
          "text": [
            "Saved: cover_0102, seq_len=40\n"
          ]
        },
        {
          "name": "stderr",
          "output_type": "stream",
          "text": [
            "\rExtracting features:   4%|▍         | 82/1888 [00:59<18:21,  1.64it/s]"
          ]
        },
        {
          "name": "stdout",
          "output_type": "stream",
          "text": [
            "Saved: cover_0035, seq_len=40\n"
          ]
        },
        {
          "name": "stderr",
          "output_type": "stream",
          "text": [
            "\rExtracting features:   4%|▍         | 83/1888 [00:59<17:46,  1.69it/s]"
          ]
        },
        {
          "name": "stdout",
          "output_type": "stream",
          "text": [
            "Saved: cover_0126, seq_len=40\n"
          ]
        },
        {
          "name": "stderr",
          "output_type": "stream",
          "text": [
            "\rExtracting features:   4%|▍         | 84/1888 [01:00<16:55,  1.78it/s]"
          ]
        },
        {
          "name": "stdout",
          "output_type": "stream",
          "text": [
            "Saved: cover_0100, seq_len=40\n"
          ]
        },
        {
          "name": "stderr",
          "output_type": "stream",
          "text": [
            "\rExtracting features:   5%|▍         | 85/1888 [01:00<17:00,  1.77it/s]"
          ]
        },
        {
          "name": "stdout",
          "output_type": "stream",
          "text": [
            "Saved: cover_0118, seq_len=40\n"
          ]
        },
        {
          "name": "stderr",
          "output_type": "stream",
          "text": [
            "\rExtracting features:   5%|▍         | 86/1888 [01:01<16:13,  1.85it/s]"
          ]
        },
        {
          "name": "stdout",
          "output_type": "stream",
          "text": [
            "Saved: cover_0111, seq_len=40\n"
          ]
        },
        {
          "name": "stderr",
          "output_type": "stream",
          "text": [
            "\rExtracting features:   5%|▍         | 87/1888 [01:02<17:20,  1.73it/s]"
          ]
        },
        {
          "name": "stdout",
          "output_type": "stream",
          "text": [
            "Saved: cover_0149, seq_len=40\n"
          ]
        },
        {
          "name": "stderr",
          "output_type": "stream",
          "text": [
            "\rExtracting features:   5%|▍         | 88/1888 [01:02<17:14,  1.74it/s]"
          ]
        },
        {
          "name": "stdout",
          "output_type": "stream",
          "text": [
            "Saved: cover_0016, seq_len=40\n"
          ]
        },
        {
          "name": "stderr",
          "output_type": "stream",
          "text": [
            "\rExtracting features:   5%|▍         | 89/1888 [01:03<15:00,  2.00it/s]"
          ]
        },
        {
          "name": "stdout",
          "output_type": "stream",
          "text": [
            "Saved: cover_0071, seq_len=40\n"
          ]
        },
        {
          "name": "stderr",
          "output_type": "stream",
          "text": [
            "\rExtracting features:   5%|▍         | 90/1888 [01:04<27:12,  1.10it/s]"
          ]
        },
        {
          "name": "stdout",
          "output_type": "stream",
          "text": [
            "Saved: cover_0011, seq_len=40\n"
          ]
        },
        {
          "name": "stderr",
          "output_type": "stream",
          "text": [
            "\rExtracting features:   5%|▍         | 91/1888 [01:05<23:59,  1.25it/s]"
          ]
        },
        {
          "name": "stdout",
          "output_type": "stream",
          "text": [
            "Saved: cover_0068, seq_len=40\n"
          ]
        },
        {
          "name": "stderr",
          "output_type": "stream",
          "text": [
            "\rExtracting features:   5%|▍         | 92/1888 [01:06<22:19,  1.34it/s]"
          ]
        },
        {
          "name": "stdout",
          "output_type": "stream",
          "text": [
            "Saved: cover_0107, seq_len=40\n"
          ]
        },
        {
          "name": "stderr",
          "output_type": "stream",
          "text": [
            "\rExtracting features:   5%|▍         | 93/1888 [01:06<21:10,  1.41it/s]"
          ]
        },
        {
          "name": "stdout",
          "output_type": "stream",
          "text": [
            "Saved: cover_0003, seq_len=40\n"
          ]
        },
        {
          "name": "stderr",
          "output_type": "stream",
          "text": [
            "\rExtracting features:   5%|▍         | 94/1888 [01:07<23:51,  1.25it/s]"
          ]
        },
        {
          "name": "stdout",
          "output_type": "stream",
          "text": [
            "Saved: cover_0063, seq_len=40\n"
          ]
        },
        {
          "name": "stderr",
          "output_type": "stream",
          "text": [
            "\rExtracting features:   5%|▌         | 95/1888 [01:08<23:49,  1.25it/s]"
          ]
        },
        {
          "name": "stdout",
          "output_type": "stream",
          "text": [
            "Saved: cover_0144, seq_len=40\n"
          ]
        },
        {
          "name": "stderr",
          "output_type": "stream",
          "text": [
            "\rExtracting features:   5%|▌         | 96/1888 [01:08<20:53,  1.43it/s]"
          ]
        },
        {
          "name": "stdout",
          "output_type": "stream",
          "text": [
            "Saved: cover_0070, seq_len=40\n"
          ]
        },
        {
          "name": "stderr",
          "output_type": "stream",
          "text": [
            "\rExtracting features:   5%|▌         | 97/1888 [01:09<21:37,  1.38it/s]"
          ]
        },
        {
          "name": "stdout",
          "output_type": "stream",
          "text": [
            "Saved: cover_0108, seq_len=40\n"
          ]
        },
        {
          "name": "stderr",
          "output_type": "stream",
          "text": [
            "\rExtracting features:   5%|▌         | 98/1888 [01:10<19:20,  1.54it/s]"
          ]
        },
        {
          "name": "stdout",
          "output_type": "stream",
          "text": [
            "Saved: cover_0073, seq_len=40\n"
          ]
        },
        {
          "name": "stderr",
          "output_type": "stream",
          "text": [
            "\rExtracting features:   5%|▌         | 99/1888 [01:10<18:38,  1.60it/s]"
          ]
        },
        {
          "name": "stdout",
          "output_type": "stream",
          "text": [
            "Saved: cover_0079, seq_len=40\n"
          ]
        },
        {
          "name": "stderr",
          "output_type": "stream",
          "text": [
            "\rExtracting features:   5%|▌         | 100/1888 [01:11<16:06,  1.85it/s]"
          ]
        },
        {
          "name": "stdout",
          "output_type": "stream",
          "text": [
            "Saved: cover_0072, seq_len=40\n"
          ]
        },
        {
          "name": "stderr",
          "output_type": "stream",
          "text": [
            "\rExtracting features:   5%|▌         | 101/1888 [01:11<15:57,  1.87it/s]"
          ]
        },
        {
          "name": "stdout",
          "output_type": "stream",
          "text": [
            "Saved: cover_0069, seq_len=40\n"
          ]
        },
        {
          "name": "stderr",
          "output_type": "stream",
          "text": [
            "\rExtracting features:   5%|▌         | 102/1888 [01:12<16:00,  1.86it/s]"
          ]
        },
        {
          "name": "stdout",
          "output_type": "stream",
          "text": [
            "Saved: cover_0008, seq_len=40\n"
          ]
        },
        {
          "name": "stderr",
          "output_type": "stream",
          "text": [
            "\rExtracting features:   5%|▌         | 103/1888 [01:12<16:24,  1.81it/s]"
          ]
        },
        {
          "name": "stdout",
          "output_type": "stream",
          "text": [
            "Saved: cover_0005, seq_len=40\n"
          ]
        },
        {
          "name": "stderr",
          "output_type": "stream",
          "text": [
            "\rExtracting features:   6%|▌         | 104/1888 [01:13<16:16,  1.83it/s]"
          ]
        },
        {
          "name": "stdout",
          "output_type": "stream",
          "text": [
            "Saved: cover_0067, seq_len=40\n"
          ]
        },
        {
          "name": "stderr",
          "output_type": "stream",
          "text": [
            "\rExtracting features:   6%|▌         | 105/1888 [01:13<16:35,  1.79it/s]"
          ]
        },
        {
          "name": "stdout",
          "output_type": "stream",
          "text": [
            "Saved: cover_0060, seq_len=40\n"
          ]
        },
        {
          "name": "stderr",
          "output_type": "stream",
          "text": [
            "\rExtracting features:   6%|▌         | 106/1888 [01:14<17:18,  1.72it/s]"
          ]
        },
        {
          "name": "stdout",
          "output_type": "stream",
          "text": [
            "Saved: cover_0096, seq_len=40\n"
          ]
        },
        {
          "name": "stderr",
          "output_type": "stream",
          "text": [
            "\rExtracting features:   6%|▌         | 107/1888 [01:15<17:03,  1.74it/s]"
          ]
        },
        {
          "name": "stdout",
          "output_type": "stream",
          "text": [
            "Saved: cover_0113, seq_len=40\n"
          ]
        },
        {
          "name": "stderr",
          "output_type": "stream",
          "text": [
            "\rExtracting features:   6%|▌         | 108/1888 [01:15<16:50,  1.76it/s]"
          ]
        },
        {
          "name": "stdout",
          "output_type": "stream",
          "text": [
            "Saved: cover_0066, seq_len=40\n"
          ]
        },
        {
          "name": "stderr",
          "output_type": "stream",
          "text": [
            "\rExtracting features:   6%|▌         | 109/1888 [01:16<16:38,  1.78it/s]"
          ]
        },
        {
          "name": "stdout",
          "output_type": "stream",
          "text": [
            "Saved: cover_0044, seq_len=40\n"
          ]
        },
        {
          "name": "stderr",
          "output_type": "stream",
          "text": [
            "\rExtracting features:   6%|▌         | 110/1888 [01:16<16:54,  1.75it/s]"
          ]
        },
        {
          "name": "stdout",
          "output_type": "stream",
          "text": [
            "Saved: cover_0026, seq_len=40\n"
          ]
        },
        {
          "name": "stderr",
          "output_type": "stream",
          "text": [
            "\rExtracting features:   6%|▌         | 111/1888 [01:17<17:07,  1.73it/s]"
          ]
        },
        {
          "name": "stdout",
          "output_type": "stream",
          "text": [
            "Saved: cover_0031, seq_len=40\n"
          ]
        },
        {
          "name": "stderr",
          "output_type": "stream",
          "text": [
            "\rExtracting features:   6%|▌         | 112/1888 [01:17<16:48,  1.76it/s]"
          ]
        },
        {
          "name": "stdout",
          "output_type": "stream",
          "text": [
            "Saved: cover_0062, seq_len=40\n"
          ]
        },
        {
          "name": "stderr",
          "output_type": "stream",
          "text": [
            "\rExtracting features:   6%|▌         | 113/1888 [01:18<17:27,  1.69it/s]"
          ]
        },
        {
          "name": "stdout",
          "output_type": "stream",
          "text": [
            "Saved: cover_0048, seq_len=40\n"
          ]
        },
        {
          "name": "stderr",
          "output_type": "stream",
          "text": [
            "\rExtracting features:   6%|▌         | 114/1888 [01:19<16:49,  1.76it/s]"
          ]
        },
        {
          "name": "stdout",
          "output_type": "stream",
          "text": [
            "Saved: cover_0052, seq_len=40\n"
          ]
        },
        {
          "name": "stderr",
          "output_type": "stream",
          "text": [
            "\rExtracting features:   6%|▌         | 115/1888 [01:19<17:00,  1.74it/s]"
          ]
        },
        {
          "name": "stdout",
          "output_type": "stream",
          "text": [
            "Saved: cover_0049, seq_len=40\n"
          ]
        },
        {
          "name": "stderr",
          "output_type": "stream",
          "text": [
            "\rExtracting features:   6%|▌         | 116/1888 [01:20<18:06,  1.63it/s]"
          ]
        },
        {
          "name": "stdout",
          "output_type": "stream",
          "text": [
            "Saved: cover_0053, seq_len=40\n"
          ]
        },
        {
          "name": "stderr",
          "output_type": "stream",
          "text": [
            "\rExtracting features:   6%|▌         | 117/1888 [01:21<20:27,  1.44it/s]"
          ]
        },
        {
          "name": "stdout",
          "output_type": "stream",
          "text": [
            "Saved: cover_0059, seq_len=40\n"
          ]
        },
        {
          "name": "stderr",
          "output_type": "stream",
          "text": [
            "\rExtracting features:   6%|▋         | 118/1888 [01:22<22:21,  1.32it/s]"
          ]
        },
        {
          "name": "stdout",
          "output_type": "stream",
          "text": [
            "Saved: cover_0047, seq_len=40\n"
          ]
        },
        {
          "name": "stderr",
          "output_type": "stream",
          "text": [
            "\rExtracting features:   6%|▋         | 119/1888 [01:23<23:34,  1.25it/s]"
          ]
        },
        {
          "name": "stdout",
          "output_type": "stream",
          "text": [
            "Saved: cover_0037, seq_len=40\n"
          ]
        },
        {
          "name": "stderr",
          "output_type": "stream",
          "text": [
            "\rExtracting features:   6%|▋         | 120/1888 [01:23<22:52,  1.29it/s]"
          ]
        },
        {
          "name": "stdout",
          "output_type": "stream",
          "text": [
            "Saved: cover_0104, seq_len=40\n"
          ]
        },
        {
          "name": "stderr",
          "output_type": "stream",
          "text": [
            "\rExtracting features:   6%|▋         | 121/1888 [01:25<31:06,  1.06s/it]"
          ]
        },
        {
          "name": "stdout",
          "output_type": "stream",
          "text": [
            "Saved: cover_0034, seq_len=40\n"
          ]
        },
        {
          "name": "stderr",
          "output_type": "stream",
          "text": [
            "\rExtracting features:   6%|▋         | 122/1888 [01:26<27:06,  1.09it/s]"
          ]
        },
        {
          "name": "stdout",
          "output_type": "stream",
          "text": [
            "Saved: cover_0012, seq_len=40\n"
          ]
        },
        {
          "name": "stderr",
          "output_type": "stream",
          "text": [
            "\rExtracting features:   7%|▋         | 123/1888 [01:26<23:45,  1.24it/s]"
          ]
        },
        {
          "name": "stdout",
          "output_type": "stream",
          "text": [
            "Saved: cover_0055, seq_len=40\n"
          ]
        },
        {
          "name": "stderr",
          "output_type": "stream",
          "text": [
            "\rExtracting features:   7%|▋         | 124/1888 [01:27<21:56,  1.34it/s]"
          ]
        },
        {
          "name": "stdout",
          "output_type": "stream",
          "text": [
            "Saved: cover_0027, seq_len=40\n"
          ]
        },
        {
          "name": "stderr",
          "output_type": "stream",
          "text": [
            "\rExtracting features:   7%|▋         | 125/1888 [01:27<20:07,  1.46it/s]"
          ]
        },
        {
          "name": "stdout",
          "output_type": "stream",
          "text": [
            "Saved: cover_0040, seq_len=40\n"
          ]
        },
        {
          "name": "stderr",
          "output_type": "stream",
          "text": [
            "\rExtracting features:   7%|▋         | 126/1888 [01:28<19:33,  1.50it/s]"
          ]
        },
        {
          "name": "stdout",
          "output_type": "stream",
          "text": [
            "Saved: cover_0056, seq_len=40\n"
          ]
        },
        {
          "name": "stderr",
          "output_type": "stream",
          "text": [
            "\rExtracting features:   7%|▋         | 127/1888 [01:28<18:24,  1.59it/s]"
          ]
        },
        {
          "name": "stdout",
          "output_type": "stream",
          "text": [
            "Saved: cover_0064, seq_len=40\n"
          ]
        },
        {
          "name": "stderr",
          "output_type": "stream",
          "text": [
            "\rExtracting features:   7%|▋         | 128/1888 [01:29<18:02,  1.63it/s]"
          ]
        },
        {
          "name": "stdout",
          "output_type": "stream",
          "text": [
            "Saved: cover_0061, seq_len=40\n"
          ]
        },
        {
          "name": "stderr",
          "output_type": "stream",
          "text": [
            "\rExtracting features:   7%|▋         | 129/1888 [01:30<17:30,  1.67it/s]"
          ]
        },
        {
          "name": "stdout",
          "output_type": "stream",
          "text": [
            "Saved: cover_0054, seq_len=40\n"
          ]
        },
        {
          "name": "stderr",
          "output_type": "stream",
          "text": [
            "\rExtracting features:   7%|▋         | 130/1888 [01:30<17:15,  1.70it/s]"
          ]
        },
        {
          "name": "stdout",
          "output_type": "stream",
          "text": [
            "Saved: cover_0019, seq_len=40\n"
          ]
        },
        {
          "name": "stderr",
          "output_type": "stream",
          "text": [
            "\rExtracting features:   7%|▋         | 131/1888 [01:31<17:21,  1.69it/s]"
          ]
        },
        {
          "name": "stdout",
          "output_type": "stream",
          "text": [
            "Saved: cover_0033, seq_len=40\n"
          ]
        },
        {
          "name": "stderr",
          "output_type": "stream",
          "text": [
            "\rExtracting features:   7%|▋         | 132/1888 [01:31<16:53,  1.73it/s]"
          ]
        },
        {
          "name": "stdout",
          "output_type": "stream",
          "text": [
            "Saved: cover_0050, seq_len=40\n"
          ]
        },
        {
          "name": "stderr",
          "output_type": "stream",
          "text": [
            "\rExtracting features:   7%|▋         | 133/1888 [01:32<16:52,  1.73it/s]"
          ]
        },
        {
          "name": "stdout",
          "output_type": "stream",
          "text": [
            "Saved: cover_0021, seq_len=40\n"
          ]
        },
        {
          "name": "stderr",
          "output_type": "stream",
          "text": [
            "\rExtracting features:   7%|▋         | 134/1888 [01:32<16:42,  1.75it/s]"
          ]
        },
        {
          "name": "stdout",
          "output_type": "stream",
          "text": [
            "Saved: cover_0042, seq_len=40\n"
          ]
        },
        {
          "name": "stderr",
          "output_type": "stream",
          "text": [
            "\rExtracting features:   7%|▋         | 135/1888 [01:33<16:50,  1.73it/s]"
          ]
        },
        {
          "name": "stdout",
          "output_type": "stream",
          "text": [
            "Saved: cover_0114, seq_len=40\n"
          ]
        },
        {
          "name": "stderr",
          "output_type": "stream",
          "text": [
            "\rExtracting features:   7%|▋         | 136/1888 [01:34<20:08,  1.45it/s]"
          ]
        },
        {
          "name": "stdout",
          "output_type": "stream",
          "text": [
            "Saved: cover_0023, seq_len=40\n"
          ]
        },
        {
          "name": "stderr",
          "output_type": "stream",
          "text": [
            "\rExtracting features:   7%|▋         | 137/1888 [01:36<33:28,  1.15s/it]"
          ]
        },
        {
          "name": "stdout",
          "output_type": "stream",
          "text": [
            "Saved: cover_0036, seq_len=40\n"
          ]
        },
        {
          "name": "stderr",
          "output_type": "stream",
          "text": [
            "\rExtracting features:   7%|▋         | 138/1888 [01:37<28:40,  1.02it/s]"
          ]
        },
        {
          "name": "stdout",
          "output_type": "stream",
          "text": [
            "Saved: cover_0051, seq_len=40\n"
          ]
        },
        {
          "name": "stderr",
          "output_type": "stream",
          "text": [
            "\rExtracting features:   7%|▋         | 139/1888 [01:37<24:57,  1.17it/s]"
          ]
        },
        {
          "name": "stdout",
          "output_type": "stream",
          "text": [
            "Saved: cover_0018, seq_len=40\n"
          ]
        },
        {
          "name": "stderr",
          "output_type": "stream",
          "text": [
            "\rExtracting features:   7%|▋         | 140/1888 [01:38<22:51,  1.27it/s]"
          ]
        },
        {
          "name": "stdout",
          "output_type": "stream",
          "text": [
            "Saved: cover_0045, seq_len=40\n"
          ]
        },
        {
          "name": "stderr",
          "output_type": "stream",
          "text": [
            "\rExtracting features:   7%|▋         | 141/1888 [01:39<20:44,  1.40it/s]"
          ]
        },
        {
          "name": "stdout",
          "output_type": "stream",
          "text": [
            "Saved: cover_0010, seq_len=40\n"
          ]
        },
        {
          "name": "stderr",
          "output_type": "stream",
          "text": [
            "\rExtracting features:   8%|▊         | 142/1888 [01:39<19:23,  1.50it/s]"
          ]
        },
        {
          "name": "stdout",
          "output_type": "stream",
          "text": [
            "Saved: cover_0030, seq_len=40\n"
          ]
        },
        {
          "name": "stderr",
          "output_type": "stream",
          "text": [
            "\rExtracting features:   8%|▊         | 143/1888 [01:40<18:51,  1.54it/s]"
          ]
        },
        {
          "name": "stdout",
          "output_type": "stream",
          "text": [
            "Saved: cover_0038, seq_len=40\n"
          ]
        },
        {
          "name": "stderr",
          "output_type": "stream",
          "text": [
            "\rExtracting features:   8%|▊         | 144/1888 [01:40<18:00,  1.61it/s]"
          ]
        },
        {
          "name": "stdout",
          "output_type": "stream",
          "text": [
            "Saved: cover_0024, seq_len=40\n"
          ]
        },
        {
          "name": "stderr",
          "output_type": "stream",
          "text": [
            "\rExtracting features:   8%|▊         | 145/1888 [01:41<17:32,  1.66it/s]"
          ]
        },
        {
          "name": "stdout",
          "output_type": "stream",
          "text": [
            "Saved: cover_0028, seq_len=40\n"
          ]
        },
        {
          "name": "stderr",
          "output_type": "stream",
          "text": [
            "\rExtracting features:   8%|▊         | 146/1888 [01:41<17:58,  1.61it/s]"
          ]
        },
        {
          "name": "stdout",
          "output_type": "stream",
          "text": [
            "Saved: cover_0029, seq_len=40\n"
          ]
        },
        {
          "name": "stderr",
          "output_type": "stream",
          "text": [
            "\rExtracting features:   8%|▊         | 147/1888 [01:42<17:39,  1.64it/s]"
          ]
        },
        {
          "name": "stdout",
          "output_type": "stream",
          "text": [
            "Saved: cover_0041, seq_len=40\n"
          ]
        },
        {
          "name": "stderr",
          "output_type": "stream",
          "text": [
            "\rExtracting features:   8%|▊         | 148/1888 [01:43<18:06,  1.60it/s]"
          ]
        },
        {
          "name": "stdout",
          "output_type": "stream",
          "text": [
            "Saved: cover_0046, seq_len=40\n"
          ]
        },
        {
          "name": "stderr",
          "output_type": "stream",
          "text": [
            "\rExtracting features:   8%|▊         | 149/1888 [01:43<18:01,  1.61it/s]"
          ]
        },
        {
          "name": "stdout",
          "output_type": "stream",
          "text": [
            "Saved: cover_0017, seq_len=40\n"
          ]
        },
        {
          "name": "stderr",
          "output_type": "stream",
          "text": [
            "\rExtracting features:   8%|▊         | 150/1888 [01:44<17:42,  1.64it/s]"
          ]
        },
        {
          "name": "stdout",
          "output_type": "stream",
          "text": [
            "Saved: cover_0006, seq_len=40\n"
          ]
        },
        {
          "name": "stderr",
          "output_type": "stream",
          "text": [
            "\rExtracting features:   8%|▊         | 151/1888 [01:45<17:44,  1.63it/s]"
          ]
        },
        {
          "name": "stdout",
          "output_type": "stream",
          "text": [
            "Saved: cover_0002, seq_len=40\n"
          ]
        },
        {
          "name": "stderr",
          "output_type": "stream",
          "text": [
            "\rExtracting features:   8%|▊         | 152/1888 [01:45<17:34,  1.65it/s]"
          ]
        },
        {
          "name": "stdout",
          "output_type": "stream",
          "text": [
            "Saved: cover_0085, seq_len=40\n"
          ]
        },
        {
          "name": "stderr",
          "output_type": "stream",
          "text": [
            "\rExtracting features:   8%|▊         | 153/1888 [01:46<19:09,  1.51it/s]"
          ]
        },
        {
          "name": "stdout",
          "output_type": "stream",
          "text": [
            "Saved: cover_0098, seq_len=40\n"
          ]
        },
        {
          "name": "stderr",
          "output_type": "stream",
          "text": [
            "\rExtracting features:   8%|▊         | 154/1888 [01:47<20:37,  1.40it/s]"
          ]
        },
        {
          "name": "stdout",
          "output_type": "stream",
          "text": [
            "Saved: cover_0022, seq_len=40\n"
          ]
        },
        {
          "name": "stderr",
          "output_type": "stream",
          "text": [
            "\rExtracting features:   8%|▊         | 155/1888 [01:48<22:08,  1.30it/s]"
          ]
        },
        {
          "name": "stdout",
          "output_type": "stream",
          "text": [
            "Saved: cover_0009, seq_len=40\n"
          ]
        },
        {
          "name": "stderr",
          "output_type": "stream",
          "text": [
            "\rExtracting features:   8%|▊         | 156/1888 [01:48<22:52,  1.26it/s]"
          ]
        },
        {
          "name": "stdout",
          "output_type": "stream",
          "text": [
            "Saved: cover_0187, seq_len=40\n"
          ]
        },
        {
          "name": "stderr",
          "output_type": "stream",
          "text": [
            "\rExtracting features:   8%|▊         | 157/1888 [01:49<21:40,  1.33it/s]"
          ]
        },
        {
          "name": "stdout",
          "output_type": "stream",
          "text": [
            "Saved: cover_0101, seq_len=40\n"
          ]
        },
        {
          "name": "stderr",
          "output_type": "stream",
          "text": [
            "\rExtracting features:   8%|▊         | 158/1888 [01:50<19:59,  1.44it/s]"
          ]
        },
        {
          "name": "stdout",
          "output_type": "stream",
          "text": [
            "Saved: cover_0135, seq_len=40\n"
          ]
        },
        {
          "name": "stderr",
          "output_type": "stream",
          "text": [
            "\rExtracting features:   8%|▊         | 159/1888 [01:50<18:57,  1.52it/s]"
          ]
        },
        {
          "name": "stdout",
          "output_type": "stream",
          "text": [
            "Saved: cover_0014, seq_len=40\n"
          ]
        },
        {
          "name": "stderr",
          "output_type": "stream",
          "text": [
            "\rExtracting features:   8%|▊         | 160/1888 [01:52<31:15,  1.09s/it]"
          ]
        },
        {
          "name": "stdout",
          "output_type": "stream",
          "text": [
            "Saved: cover_0025, seq_len=40\n"
          ]
        },
        {
          "name": "stderr",
          "output_type": "stream",
          "text": [
            "\rExtracting features:   9%|▊         | 161/1888 [01:53<26:36,  1.08it/s]"
          ]
        },
        {
          "name": "stdout",
          "output_type": "stream",
          "text": [
            "Saved: cover_0086, seq_len=40\n"
          ]
        },
        {
          "name": "stderr",
          "output_type": "stream",
          "text": [
            "\rExtracting features:   9%|▊         | 162/1888 [01:53<23:31,  1.22it/s]"
          ]
        },
        {
          "name": "stdout",
          "output_type": "stream",
          "text": [
            "Saved: cover_0156, seq_len=40\n"
          ]
        },
        {
          "name": "stderr",
          "output_type": "stream",
          "text": [
            "\rExtracting features:   9%|▊         | 163/1888 [01:54<20:49,  1.38it/s]"
          ]
        },
        {
          "name": "stdout",
          "output_type": "stream",
          "text": [
            "Saved: cover_0007, seq_len=40\n"
          ]
        },
        {
          "name": "stderr",
          "output_type": "stream",
          "text": [
            "\rExtracting features:   9%|▊         | 164/1888 [01:55<20:42,  1.39it/s]"
          ]
        },
        {
          "name": "stdout",
          "output_type": "stream",
          "text": [
            "Saved: cover_0080, seq_len=40\n"
          ]
        },
        {
          "name": "stderr",
          "output_type": "stream",
          "text": [
            "\rExtracting features:   9%|▊         | 165/1888 [01:55<20:18,  1.41it/s]"
          ]
        },
        {
          "name": "stdout",
          "output_type": "stream",
          "text": [
            "Saved: cover_0076, seq_len=40\n"
          ]
        },
        {
          "name": "stderr",
          "output_type": "stream",
          "text": [
            "\rExtracting features:   9%|▉         | 166/1888 [01:56<19:03,  1.51it/s]"
          ]
        },
        {
          "name": "stdout",
          "output_type": "stream",
          "text": [
            "Saved: cover_0105, seq_len=40\n"
          ]
        },
        {
          "name": "stderr",
          "output_type": "stream",
          "text": [
            "\rExtracting features:   9%|▉         | 167/1888 [01:57<19:00,  1.51it/s]"
          ]
        },
        {
          "name": "stdout",
          "output_type": "stream",
          "text": [
            "Saved: cover_0043, seq_len=40\n"
          ]
        },
        {
          "name": "stderr",
          "output_type": "stream",
          "text": [
            "\rExtracting features:   9%|▉         | 168/1888 [01:57<18:33,  1.55it/s]"
          ]
        },
        {
          "name": "stdout",
          "output_type": "stream",
          "text": [
            "Saved: cover_0099, seq_len=40\n"
          ]
        },
        {
          "name": "stderr",
          "output_type": "stream",
          "text": [
            "\rExtracting features:   9%|▉         | 169/1888 [01:58<18:04,  1.58it/s]"
          ]
        },
        {
          "name": "stdout",
          "output_type": "stream",
          "text": [
            "Saved: cover_0075, seq_len=40\n"
          ]
        },
        {
          "name": "stderr",
          "output_type": "stream",
          "text": [
            "\rExtracting features:   9%|▉         | 170/1888 [01:58<17:42,  1.62it/s]"
          ]
        },
        {
          "name": "stdout",
          "output_type": "stream",
          "text": [
            "Saved: cover_0039, seq_len=40\n"
          ]
        },
        {
          "name": "stderr",
          "output_type": "stream",
          "text": [
            "\rExtracting features:   9%|▉         | 171/1888 [01:59<20:41,  1.38it/s]"
          ]
        },
        {
          "name": "stdout",
          "output_type": "stream",
          "text": [
            "Saved: cover_0013, seq_len=40\n"
          ]
        },
        {
          "name": "stderr",
          "output_type": "stream",
          "text": [
            "\rExtracting features:   9%|▉         | 172/1888 [02:00<21:54,  1.31it/s]"
          ]
        },
        {
          "name": "stdout",
          "output_type": "stream",
          "text": [
            "Saved: cover_0103, seq_len=40\n"
          ]
        },
        {
          "name": "stderr",
          "output_type": "stream",
          "text": [
            "\rExtracting features:   9%|▉         | 173/1888 [02:01<22:56,  1.25it/s]"
          ]
        },
        {
          "name": "stdout",
          "output_type": "stream",
          "text": [
            "Saved: cover_0106, seq_len=40\n"
          ]
        },
        {
          "name": "stderr",
          "output_type": "stream",
          "text": [
            "\rExtracting features:   9%|▉         | 174/1888 [02:02<23:29,  1.22it/s]"
          ]
        },
        {
          "name": "stdout",
          "output_type": "stream",
          "text": [
            "Saved: cover_0004, seq_len=40\n"
          ]
        },
        {
          "name": "stderr",
          "output_type": "stream",
          "text": [
            "\rExtracting features:   9%|▉         | 175/1888 [02:03<21:15,  1.34it/s]"
          ]
        },
        {
          "name": "stdout",
          "output_type": "stream",
          "text": [
            "Saved: cover_0095, seq_len=40\n"
          ]
        },
        {
          "name": "stderr",
          "output_type": "stream",
          "text": [
            "\rExtracting features:   9%|▉         | 176/1888 [02:03<20:12,  1.41it/s]"
          ]
        },
        {
          "name": "stdout",
          "output_type": "stream",
          "text": [
            "Saved: cover_0188, seq_len=40\n"
          ]
        },
        {
          "name": "stderr",
          "output_type": "stream",
          "text": [
            "\rExtracting features:   9%|▉         | 177/1888 [02:04<19:25,  1.47it/s]"
          ]
        },
        {
          "name": "stdout",
          "output_type": "stream",
          "text": [
            "Saved: cover_0155, seq_len=40\n"
          ]
        },
        {
          "name": "stderr",
          "output_type": "stream",
          "text": [
            "\rExtracting features:   9%|▉         | 178/1888 [02:04<18:35,  1.53it/s]"
          ]
        },
        {
          "name": "stdout",
          "output_type": "stream",
          "text": [
            "Saved: cover_0125, seq_len=40\n"
          ]
        },
        {
          "name": "stderr",
          "output_type": "stream",
          "text": [
            "\rExtracting features:   9%|▉         | 179/1888 [02:05<17:49,  1.60it/s]"
          ]
        },
        {
          "name": "stdout",
          "output_type": "stream",
          "text": [
            "Saved: cover_0001, seq_len=40\n"
          ]
        },
        {
          "name": "stderr",
          "output_type": "stream",
          "text": [
            "\rExtracting features:  10%|▉         | 180/1888 [02:06<17:42,  1.61it/s]"
          ]
        },
        {
          "name": "stdout",
          "output_type": "stream",
          "text": [
            "Saved: cover_0077, seq_len=40\n"
          ]
        },
        {
          "name": "stderr",
          "output_type": "stream",
          "text": [
            "\rExtracting features:  10%|▉         | 181/1888 [02:06<18:34,  1.53it/s]"
          ]
        },
        {
          "name": "stdout",
          "output_type": "stream",
          "text": [
            "Saved: cover_0074, seq_len=40\n"
          ]
        },
        {
          "name": "stderr",
          "output_type": "stream",
          "text": [
            "\rExtracting features:  10%|▉         | 182/1888 [02:07<17:53,  1.59it/s]"
          ]
        },
        {
          "name": "stdout",
          "output_type": "stream",
          "text": [
            "Saved: cover_0097, seq_len=40\n"
          ]
        },
        {
          "name": "stderr",
          "output_type": "stream",
          "text": [
            "\rExtracting features:  10%|▉         | 183/1888 [02:07<17:13,  1.65it/s]"
          ]
        },
        {
          "name": "stdout",
          "output_type": "stream",
          "text": [
            "Saved: cover_0032, seq_len=40\n"
          ]
        },
        {
          "name": "stderr",
          "output_type": "stream",
          "text": [
            "\rExtracting features:  10%|▉         | 184/1888 [02:08<17:51,  1.59it/s]"
          ]
        },
        {
          "name": "stdout",
          "output_type": "stream",
          "text": [
            "Saved: cover_0020, seq_len=40\n"
          ]
        },
        {
          "name": "stderr",
          "output_type": "stream",
          "text": [
            "\rExtracting features:  10%|▉         | 185/1888 [02:09<17:12,  1.65it/s]"
          ]
        },
        {
          "name": "stdout",
          "output_type": "stream",
          "text": [
            "Saved: cover_0015, seq_len=40\n"
          ]
        },
        {
          "name": "stderr",
          "output_type": "stream",
          "text": [
            "\rExtracting features:  10%|▉         | 186/1888 [02:09<16:59,  1.67it/s]"
          ]
        },
        {
          "name": "stdout",
          "output_type": "stream",
          "text": [
            "Saved: cover_0078, seq_len=40\n"
          ]
        },
        {
          "name": "stderr",
          "output_type": "stream",
          "text": [
            "\rExtracting features:  10%|▉         | 187/1888 [02:12<37:32,  1.32s/it]"
          ]
        },
        {
          "name": "stdout",
          "output_type": "stream",
          "text": [
            "Saved: cover_0058, seq_len=40\n"
          ]
        },
        {
          "name": "stderr",
          "output_type": "stream",
          "text": [
            "\rExtracting features:  10%|▉         | 188/1888 [02:13<35:36,  1.26s/it]"
          ]
        },
        {
          "name": "stdout",
          "output_type": "stream",
          "text": [
            "Saved: cover_0057, seq_len=40\n"
          ]
        },
        {
          "name": "stderr",
          "output_type": "stream",
          "text": [
            "\rExtracting features:  10%|█         | 189/1888 [02:15<38:55,  1.37s/it]"
          ]
        },
        {
          "name": "stdout",
          "output_type": "stream",
          "text": [
            "Saved: square_cut_0180, seq_len=40\n"
          ]
        },
        {
          "name": "stderr",
          "output_type": "stream",
          "text": [
            "\rExtracting features:  10%|█         | 190/1888 [02:17<40:49,  1.44s/it]"
          ]
        },
        {
          "name": "stdout",
          "output_type": "stream",
          "text": [
            "Saved: square_cut_0092, seq_len=40\n"
          ]
        },
        {
          "name": "stderr",
          "output_type": "stream",
          "text": [
            "\rExtracting features:  10%|█         | 191/1888 [02:18<39:09,  1.38s/it]"
          ]
        },
        {
          "name": "stdout",
          "output_type": "stream",
          "text": [
            "Saved: square_cut_0187, seq_len=40\n"
          ]
        },
        {
          "name": "stderr",
          "output_type": "stream",
          "text": [
            "\rExtracting features:  10%|█         | 192/1888 [02:19<40:40,  1.44s/it]"
          ]
        },
        {
          "name": "stdout",
          "output_type": "stream",
          "text": [
            "Saved: square_cut_0190, seq_len=40\n"
          ]
        },
        {
          "name": "stderr",
          "output_type": "stream",
          "text": [
            "\rExtracting features:  10%|█         | 193/1888 [02:21<39:09,  1.39s/it]"
          ]
        },
        {
          "name": "stdout",
          "output_type": "stream",
          "text": [
            "Saved: square_cut_0173, seq_len=40\n"
          ]
        },
        {
          "name": "stderr",
          "output_type": "stream",
          "text": [
            "\rExtracting features:  10%|█         | 194/1888 [02:22<38:08,  1.35s/it]"
          ]
        },
        {
          "name": "stdout",
          "output_type": "stream",
          "text": [
            "Saved: square_cut_0188, seq_len=40\n"
          ]
        },
        {
          "name": "stderr",
          "output_type": "stream",
          "text": [
            "\rExtracting features:  10%|█         | 195/1888 [02:23<36:44,  1.30s/it]"
          ]
        },
        {
          "name": "stdout",
          "output_type": "stream",
          "text": [
            "Saved: square_cut_0178, seq_len=40\n"
          ]
        },
        {
          "name": "stderr",
          "output_type": "stream",
          "text": [
            "\rExtracting features:  10%|█         | 196/1888 [02:24<35:30,  1.26s/it]"
          ]
        },
        {
          "name": "stdout",
          "output_type": "stream",
          "text": [
            "Saved: square_cut_0091, seq_len=40\n"
          ]
        },
        {
          "name": "stderr",
          "output_type": "stream",
          "text": [
            "\rExtracting features:  10%|█         | 197/1888 [02:26<43:28,  1.54s/it]"
          ]
        },
        {
          "name": "stdout",
          "output_type": "stream",
          "text": [
            "Saved: square_cut_0191, seq_len=40\n"
          ]
        },
        {
          "name": "stderr",
          "output_type": "stream",
          "text": [
            "\rExtracting features:  10%|█         | 198/1888 [02:28<41:16,  1.47s/it]"
          ]
        },
        {
          "name": "stdout",
          "output_type": "stream",
          "text": [
            "Saved: square_cut_0184, seq_len=40\n"
          ]
        },
        {
          "name": "stderr",
          "output_type": "stream",
          "text": [
            "\rExtracting features:  11%|█         | 199/1888 [02:29<38:59,  1.39s/it]"
          ]
        },
        {
          "name": "stdout",
          "output_type": "stream",
          "text": [
            "Saved: square_cut_0171, seq_len=40\n"
          ]
        },
        {
          "name": "stderr",
          "output_type": "stream",
          "text": [
            "\rExtracting features:  11%|█         | 200/1888 [02:30<38:01,  1.35s/it]"
          ]
        },
        {
          "name": "stdout",
          "output_type": "stream",
          "text": [
            "Saved: square_cut_0089, seq_len=40\n"
          ]
        },
        {
          "name": "stderr",
          "output_type": "stream",
          "text": [
            "\rExtracting features:  11%|█         | 201/1888 [02:32<37:32,  1.34s/it]"
          ]
        },
        {
          "name": "stdout",
          "output_type": "stream",
          "text": [
            "Saved: square_cut_0192, seq_len=40\n"
          ]
        },
        {
          "name": "stderr",
          "output_type": "stream",
          "text": [
            "\rExtracting features:  11%|█         | 202/1888 [02:34<43:40,  1.55s/it]"
          ]
        },
        {
          "name": "stdout",
          "output_type": "stream",
          "text": [
            "Saved: square_cut_0183, seq_len=40\n"
          ]
        },
        {
          "name": "stderr",
          "output_type": "stream",
          "text": [
            "\rExtracting features:  11%|█         | 203/1888 [02:35<41:54,  1.49s/it]"
          ]
        },
        {
          "name": "stdout",
          "output_type": "stream",
          "text": [
            "Saved: square_cut_0194, seq_len=40\n"
          ]
        },
        {
          "name": "stderr",
          "output_type": "stream",
          "text": [
            "\rExtracting features:  11%|█         | 204/1888 [02:36<39:41,  1.41s/it]"
          ]
        },
        {
          "name": "stdout",
          "output_type": "stream",
          "text": [
            "Saved: square_cut_0174, seq_len=40\n"
          ]
        },
        {
          "name": "stderr",
          "output_type": "stream",
          "text": [
            "\rExtracting features:  11%|█         | 205/1888 [02:37<38:15,  1.36s/it]"
          ]
        },
        {
          "name": "stdout",
          "output_type": "stream",
          "text": [
            "Saved: square_cut_0090, seq_len=40\n"
          ]
        },
        {
          "name": "stderr",
          "output_type": "stream",
          "text": [
            "\rExtracting features:  11%|█         | 206/1888 [02:39<39:45,  1.42s/it]"
          ]
        },
        {
          "name": "stdout",
          "output_type": "stream",
          "text": [
            "Saved: square_cut_0182, seq_len=40\n"
          ]
        },
        {
          "name": "stderr",
          "output_type": "stream",
          "text": [
            "\rExtracting features:  11%|█         | 207/1888 [02:41<43:08,  1.54s/it]"
          ]
        },
        {
          "name": "stdout",
          "output_type": "stream",
          "text": [
            "Saved: square_cut_0193, seq_len=40\n"
          ]
        },
        {
          "name": "stderr",
          "output_type": "stream",
          "text": [
            "\rExtracting features:  11%|█         | 208/1888 [02:43<50:20,  1.80s/it]"
          ]
        },
        {
          "name": "stdout",
          "output_type": "stream",
          "text": [
            "Saved: square_cut_0087, seq_len=40\n"
          ]
        },
        {
          "name": "stderr",
          "output_type": "stream",
          "text": [
            "\rExtracting features:  11%|█         | 209/1888 [02:44<45:17,  1.62s/it]"
          ]
        },
        {
          "name": "stdout",
          "output_type": "stream",
          "text": [
            "Saved: square_cut_0088, seq_len=40\n"
          ]
        },
        {
          "name": "stderr",
          "output_type": "stream",
          "text": [
            "\rExtracting features:  11%|█         | 210/1888 [02:46<46:08,  1.65s/it]"
          ]
        },
        {
          "name": "stdout",
          "output_type": "stream",
          "text": [
            "Saved: square_cut_0170, seq_len=40\n"
          ]
        },
        {
          "name": "stderr",
          "output_type": "stream",
          "text": [
            "\rExtracting features:  11%|█         | 211/1888 [02:47<42:16,  1.51s/it]"
          ]
        },
        {
          "name": "stdout",
          "output_type": "stream",
          "text": [
            "Saved: square_cut_0081, seq_len=40\n"
          ]
        },
        {
          "name": "stderr",
          "output_type": "stream",
          "text": [
            "\rExtracting features:  11%|█         | 212/1888 [02:48<39:12,  1.40s/it]"
          ]
        },
        {
          "name": "stdout",
          "output_type": "stream",
          "text": [
            "Saved: square_cut_0121, seq_len=40\n"
          ]
        },
        {
          "name": "stderr",
          "output_type": "stream",
          "text": [
            "\rExtracting features:  11%|█▏        | 213/1888 [02:50<38:13,  1.37s/it]"
          ]
        },
        {
          "name": "stdout",
          "output_type": "stream",
          "text": [
            "Saved: square_cut_0176, seq_len=40\n"
          ]
        },
        {
          "name": "stderr",
          "output_type": "stream",
          "text": [
            "\rExtracting features:  11%|█▏        | 214/1888 [02:51<38:14,  1.37s/it]"
          ]
        },
        {
          "name": "stdout",
          "output_type": "stream",
          "text": [
            "Saved: square_cut_0082, seq_len=40\n"
          ]
        },
        {
          "name": "stderr",
          "output_type": "stream",
          "text": [
            "\rExtracting features:  11%|█▏        | 215/1888 [02:53<39:13,  1.41s/it]"
          ]
        },
        {
          "name": "stdout",
          "output_type": "stream",
          "text": [
            "Saved: square_cut_0161, seq_len=40\n"
          ]
        },
        {
          "name": "stderr",
          "output_type": "stream",
          "text": [
            "\rExtracting features:  11%|█▏        | 216/1888 [02:54<38:24,  1.38s/it]"
          ]
        },
        {
          "name": "stdout",
          "output_type": "stream",
          "text": [
            "Saved: square_cut_0195, seq_len=40\n"
          ]
        },
        {
          "name": "stderr",
          "output_type": "stream",
          "text": [
            "\rExtracting features:  11%|█▏        | 217/1888 [02:56<42:11,  1.51s/it]"
          ]
        },
        {
          "name": "stdout",
          "output_type": "stream",
          "text": [
            "Saved: square_cut_0185, seq_len=40\n"
          ]
        },
        {
          "name": "stderr",
          "output_type": "stream",
          "text": [
            "\rExtracting features:  12%|█▏        | 218/1888 [02:57<39:26,  1.42s/it]"
          ]
        },
        {
          "name": "stdout",
          "output_type": "stream",
          "text": [
            "Saved: square_cut_0114, seq_len=40\n"
          ]
        },
        {
          "name": "stderr",
          "output_type": "stream",
          "text": [
            "\rExtracting features:  12%|█▏        | 219/1888 [02:58<37:52,  1.36s/it]"
          ]
        },
        {
          "name": "stdout",
          "output_type": "stream",
          "text": [
            "Saved: square_cut_0080, seq_len=40\n"
          ]
        },
        {
          "name": "stderr",
          "output_type": "stream",
          "text": [
            "\rExtracting features:  12%|█▏        | 220/1888 [02:59<36:43,  1.32s/it]"
          ]
        },
        {
          "name": "stdout",
          "output_type": "stream",
          "text": [
            "Saved: square_cut_0113, seq_len=40\n"
          ]
        },
        {
          "name": "stderr",
          "output_type": "stream",
          "text": [
            "\rExtracting features:  12%|█▏        | 221/1888 [03:01<41:19,  1.49s/it]"
          ]
        },
        {
          "name": "stdout",
          "output_type": "stream",
          "text": [
            "Saved: square_cut_0189, seq_len=40\n"
          ]
        },
        {
          "name": "stderr",
          "output_type": "stream",
          "text": [
            "\rExtracting features:  12%|█▏        | 222/1888 [03:02<38:42,  1.39s/it]"
          ]
        },
        {
          "name": "stdout",
          "output_type": "stream",
          "text": [
            "Saved: square_cut_0159, seq_len=40\n"
          ]
        },
        {
          "name": "stderr",
          "output_type": "stream",
          "text": [
            "\rExtracting features:  12%|█▏        | 223/1888 [03:04<39:01,  1.41s/it]"
          ]
        },
        {
          "name": "stdout",
          "output_type": "stream",
          "text": [
            "Saved: square_cut_0117, seq_len=40\n"
          ]
        },
        {
          "name": "stderr",
          "output_type": "stream",
          "text": [
            "\rExtracting features:  12%|█▏        | 224/1888 [03:05<38:14,  1.38s/it]"
          ]
        },
        {
          "name": "stdout",
          "output_type": "stream",
          "text": [
            "Saved: square_cut_0119, seq_len=40\n"
          ]
        },
        {
          "name": "stderr",
          "output_type": "stream",
          "text": [
            "\rExtracting features:  12%|█▏        | 225/1888 [03:06<37:07,  1.34s/it]"
          ]
        },
        {
          "name": "stdout",
          "output_type": "stream",
          "text": [
            "Saved: square_cut_0179, seq_len=40\n"
          ]
        },
        {
          "name": "stderr",
          "output_type": "stream",
          "text": [
            "\rExtracting features:  12%|█▏        | 226/1888 [03:08<36:24,  1.31s/it]"
          ]
        },
        {
          "name": "stdout",
          "output_type": "stream",
          "text": [
            "Saved: square_cut_0158, seq_len=40\n"
          ]
        },
        {
          "name": "stderr",
          "output_type": "stream",
          "text": [
            "\rExtracting features:  12%|█▏        | 227/1888 [03:10<41:17,  1.49s/it]"
          ]
        },
        {
          "name": "stdout",
          "output_type": "stream",
          "text": [
            "Saved: square_cut_0181, seq_len=40\n"
          ]
        },
        {
          "name": "stderr",
          "output_type": "stream",
          "text": [
            "\rExtracting features:  12%|█▏        | 228/1888 [03:11<38:31,  1.39s/it]"
          ]
        },
        {
          "name": "stdout",
          "output_type": "stream",
          "text": [
            "Saved: square_cut_0120, seq_len=40\n"
          ]
        },
        {
          "name": "stderr",
          "output_type": "stream",
          "text": [
            "\rExtracting features:  12%|█▏        | 229/1888 [03:16<1:10:51,  2.56s/it]"
          ]
        },
        {
          "name": "stdout",
          "output_type": "stream",
          "text": [
            "Saved: square_cut_0157, seq_len=40\n"
          ]
        },
        {
          "name": "stderr",
          "output_type": "stream",
          "text": [
            "\rExtracting features:  12%|█▏        | 230/1888 [03:19<1:12:54,  2.64s/it]"
          ]
        },
        {
          "name": "stdout",
          "output_type": "stream",
          "text": [
            "Saved: square_cut_0149, seq_len=40\n"
          ]
        },
        {
          "name": "stderr",
          "output_type": "stream",
          "text": [
            "\rExtracting features:  12%|█▏        | 231/1888 [03:21<1:06:48,  2.42s/it]"
          ]
        },
        {
          "name": "stdout",
          "output_type": "stream",
          "text": [
            "Saved: square_cut_0177, seq_len=40\n"
          ]
        },
        {
          "name": "stderr",
          "output_type": "stream",
          "text": [
            "\rExtracting features:  12%|█▏        | 232/1888 [03:22<56:31,  2.05s/it]  "
          ]
        },
        {
          "name": "stdout",
          "output_type": "stream",
          "text": [
            "Saved: square_cut_0153, seq_len=40\n"
          ]
        },
        {
          "name": "stderr",
          "output_type": "stream",
          "text": [
            "\rExtracting features:  12%|█▏        | 233/1888 [03:23<50:30,  1.83s/it]"
          ]
        },
        {
          "name": "stdout",
          "output_type": "stream",
          "text": [
            "Saved: square_cut_0155, seq_len=40\n"
          ]
        },
        {
          "name": "stderr",
          "output_type": "stream",
          "text": [
            "\rExtracting features:  12%|█▏        | 234/1888 [03:25<51:54,  1.88s/it]"
          ]
        },
        {
          "name": "stdout",
          "output_type": "stream",
          "text": [
            "Saved: square_cut_0168, seq_len=40\n"
          ]
        },
        {
          "name": "stderr",
          "output_type": "stream",
          "text": [
            "\rExtracting features:  12%|█▏        | 235/1888 [03:27<50:36,  1.84s/it]"
          ]
        },
        {
          "name": "stdout",
          "output_type": "stream",
          "text": [
            "Saved: square_cut_0172, seq_len=40\n"
          ]
        },
        {
          "name": "stderr",
          "output_type": "stream",
          "text": [
            "\rExtracting features:  12%|█▎        | 236/1888 [03:29<47:57,  1.74s/it]"
          ]
        },
        {
          "name": "stdout",
          "output_type": "stream",
          "text": [
            "Saved: square_cut_0169, seq_len=40\n"
          ]
        },
        {
          "name": "stderr",
          "output_type": "stream",
          "text": [
            "\rExtracting features:  13%|█▎        | 237/1888 [03:30<45:38,  1.66s/it]"
          ]
        },
        {
          "name": "stdout",
          "output_type": "stream",
          "text": [
            "Saved: square_cut_0118, seq_len=40\n"
          ]
        },
        {
          "name": "stderr",
          "output_type": "stream",
          "text": [
            "\rExtracting features:  13%|█▎        | 238/1888 [03:31<41:13,  1.50s/it]"
          ]
        },
        {
          "name": "stdout",
          "output_type": "stream",
          "text": [
            "Saved: square_cut_0116, seq_len=40\n"
          ]
        },
        {
          "name": "stderr",
          "output_type": "stream",
          "text": [
            "\rExtracting features:  13%|█▎        | 239/1888 [03:32<38:23,  1.40s/it]"
          ]
        },
        {
          "name": "stdout",
          "output_type": "stream",
          "text": [
            "Saved: square_cut_0146, seq_len=40\n"
          ]
        },
        {
          "name": "stderr",
          "output_type": "stream",
          "text": [
            "\rExtracting features:  13%|█▎        | 240/1888 [03:33<35:45,  1.30s/it]"
          ]
        },
        {
          "name": "stdout",
          "output_type": "stream",
          "text": [
            "Saved: square_cut_0142, seq_len=40\n"
          ]
        },
        {
          "name": "stderr",
          "output_type": "stream",
          "text": [
            "\rExtracting features:  13%|█▎        | 241/1888 [03:35<39:32,  1.44s/it]"
          ]
        },
        {
          "name": "stdout",
          "output_type": "stream",
          "text": [
            "Saved: square_cut_0152, seq_len=40\n"
          ]
        },
        {
          "name": "stderr",
          "output_type": "stream",
          "text": [
            "\rExtracting features:  13%|█▎        | 242/1888 [03:36<37:45,  1.38s/it]"
          ]
        },
        {
          "name": "stdout",
          "output_type": "stream",
          "text": [
            "Saved: square_cut_0147, seq_len=40\n"
          ]
        },
        {
          "name": "stderr",
          "output_type": "stream",
          "text": [
            "\rExtracting features:  13%|█▎        | 243/1888 [03:38<41:07,  1.50s/it]"
          ]
        },
        {
          "name": "stdout",
          "output_type": "stream",
          "text": [
            "Saved: square_cut_0143, seq_len=40\n"
          ]
        },
        {
          "name": "stderr",
          "output_type": "stream",
          "text": [
            "\rExtracting features:  13%|█▎        | 244/1888 [03:40<40:14,  1.47s/it]"
          ]
        },
        {
          "name": "stdout",
          "output_type": "stream",
          "text": [
            "Saved: square_cut_0144, seq_len=40\n"
          ]
        },
        {
          "name": "stderr",
          "output_type": "stream",
          "text": [
            "\rExtracting features:  13%|█▎        | 245/1888 [03:46<1:18:18,  2.86s/it]"
          ]
        },
        {
          "name": "stdout",
          "output_type": "stream",
          "text": [
            "Saved: square_cut_0085, seq_len=40\n"
          ]
        },
        {
          "name": "stderr",
          "output_type": "stream",
          "text": [
            "\rExtracting features:  13%|█▎        | 246/1888 [03:47<1:09:55,  2.55s/it]"
          ]
        },
        {
          "name": "stdout",
          "output_type": "stream",
          "text": [
            "Saved: square_cut_0018, seq_len=40\n"
          ]
        },
        {
          "name": "stderr",
          "output_type": "stream",
          "text": [
            "\rExtracting features:  13%|█▎        | 247/1888 [03:49<1:03:16,  2.31s/it]"
          ]
        },
        {
          "name": "stdout",
          "output_type": "stream",
          "text": [
            "Saved: square_cut_0098, seq_len=40\n"
          ]
        },
        {
          "name": "stderr",
          "output_type": "stream",
          "text": [
            "\rExtracting features:  13%|█▎        | 248/1888 [03:50<54:19,  1.99s/it]  "
          ]
        },
        {
          "name": "stdout",
          "output_type": "stream",
          "text": [
            "Saved: square_cut_0151, seq_len=40\n"
          ]
        },
        {
          "name": "stderr",
          "output_type": "stream",
          "text": [
            "\rExtracting features:  13%|█▎        | 249/1888 [03:52<53:27,  1.96s/it]"
          ]
        },
        {
          "name": "stdout",
          "output_type": "stream",
          "text": [
            "Saved: square_cut_0141, seq_len=40\n"
          ]
        },
        {
          "name": "stderr",
          "output_type": "stream",
          "text": [
            "\rExtracting features:  13%|█▎        | 250/1888 [03:54<50:06,  1.84s/it]"
          ]
        },
        {
          "name": "stdout",
          "output_type": "stream",
          "text": [
            "Saved: square_cut_0084, seq_len=40\n"
          ]
        },
        {
          "name": "stderr",
          "output_type": "stream",
          "text": [
            "\rExtracting features:  13%|█▎        | 251/1888 [03:57<1:01:06,  2.24s/it]"
          ]
        },
        {
          "name": "stdout",
          "output_type": "stream",
          "text": [
            "Saved: square_cut_0097, seq_len=40\n"
          ]
        },
        {
          "name": "stderr",
          "output_type": "stream",
          "text": [
            "\rExtracting features:  13%|█▎        | 252/1888 [03:59<57:37,  2.11s/it]  "
          ]
        },
        {
          "name": "stdout",
          "output_type": "stream",
          "text": [
            "Saved: square_cut_0079, seq_len=40\n"
          ]
        },
        {
          "name": "stderr",
          "output_type": "stream",
          "text": [
            "\rExtracting features:  13%|█▎        | 253/1888 [04:01<55:17,  2.03s/it]"
          ]
        },
        {
          "name": "stdout",
          "output_type": "stream",
          "text": [
            "Saved: square_cut_0017, seq_len=40\n"
          ]
        },
        {
          "name": "stderr",
          "output_type": "stream",
          "text": [
            "\rExtracting features:  13%|█▎        | 254/1888 [04:03<55:12,  2.03s/it]"
          ]
        },
        {
          "name": "stdout",
          "output_type": "stream",
          "text": [
            "Saved: square_cut_0160, seq_len=40\n"
          ]
        },
        {
          "name": "stderr",
          "output_type": "stream",
          "text": [
            "\rExtracting features:  14%|█▎        | 255/1888 [04:04<47:51,  1.76s/it]"
          ]
        },
        {
          "name": "stdout",
          "output_type": "stream",
          "text": [
            "Saved: square_cut_0154, seq_len=40\n"
          ]
        },
        {
          "name": "stderr",
          "output_type": "stream",
          "text": [
            "\rExtracting features:  14%|█▎        | 256/1888 [04:06<52:57,  1.95s/it]"
          ]
        },
        {
          "name": "stdout",
          "output_type": "stream",
          "text": [
            "Saved: square_cut_0020, seq_len=40\n"
          ]
        },
        {
          "name": "stderr",
          "output_type": "stream",
          "text": [
            "\rExtracting features:  14%|█▎        | 257/1888 [04:08<51:30,  1.89s/it]"
          ]
        },
        {
          "name": "stdout",
          "output_type": "stream",
          "text": [
            "Saved: square_cut_0065, seq_len=40\n"
          ]
        },
        {
          "name": "stderr",
          "output_type": "stream",
          "text": [
            "\rExtracting features:  14%|█▎        | 258/1888 [04:10<52:57,  1.95s/it]"
          ]
        },
        {
          "name": "stdout",
          "output_type": "stream",
          "text": [
            "Saved: square_cut_0041, seq_len=40\n"
          ]
        },
        {
          "name": "stderr",
          "output_type": "stream",
          "text": [
            "\rExtracting features:  14%|█▎        | 259/1888 [04:11<45:50,  1.69s/it]"
          ]
        },
        {
          "name": "stdout",
          "output_type": "stream",
          "text": [
            "Saved: square_cut_0150, seq_len=40\n"
          ]
        },
        {
          "name": "stderr",
          "output_type": "stream",
          "text": [
            "\rExtracting features:  14%|█▍        | 260/1888 [04:13<47:01,  1.73s/it]"
          ]
        },
        {
          "name": "stdout",
          "output_type": "stream",
          "text": [
            "Saved: square_cut_0046, seq_len=40\n"
          ]
        },
        {
          "name": "stderr",
          "output_type": "stream",
          "text": [
            "\rExtracting features:  14%|█▍        | 261/1888 [04:15<47:57,  1.77s/it]"
          ]
        },
        {
          "name": "stdout",
          "output_type": "stream",
          "text": [
            "Saved: square_cut_0083, seq_len=40\n"
          ]
        },
        {
          "name": "stderr",
          "output_type": "stream",
          "text": [
            "\rExtracting features:  14%|█▍        | 262/1888 [04:16<43:26,  1.60s/it]"
          ]
        },
        {
          "name": "stdout",
          "output_type": "stream",
          "text": [
            "Saved: square_cut_0145, seq_len=40\n"
          ]
        },
        {
          "name": "stderr",
          "output_type": "stream",
          "text": [
            "\rExtracting features:  14%|█▍        | 263/1888 [04:18<47:21,  1.75s/it]"
          ]
        },
        {
          "name": "stdout",
          "output_type": "stream",
          "text": [
            "Saved: square_cut_0044, seq_len=40\n"
          ]
        },
        {
          "name": "stderr",
          "output_type": "stream",
          "text": [
            "\rExtracting features:  14%|█▍        | 264/1888 [04:20<45:53,  1.70s/it]"
          ]
        },
        {
          "name": "stdout",
          "output_type": "stream",
          "text": [
            "Saved: square_cut_0115, seq_len=40\n"
          ]
        },
        {
          "name": "stderr",
          "output_type": "stream",
          "text": [
            "\rExtracting features:  14%|█▍        | 265/1888 [04:21<45:57,  1.70s/it]"
          ]
        },
        {
          "name": "stdout",
          "output_type": "stream",
          "text": [
            "Saved: square_cut_0140, seq_len=40\n"
          ]
        },
        {
          "name": "stderr",
          "output_type": "stream",
          "text": [
            "\rExtracting features:  14%|█▍        | 266/1888 [04:23<47:07,  1.74s/it]"
          ]
        },
        {
          "name": "stdout",
          "output_type": "stream",
          "text": [
            "Saved: square_cut_0014, seq_len=40\n"
          ]
        },
        {
          "name": "stderr",
          "output_type": "stream",
          "text": [
            "\rExtracting features:  14%|█▍        | 267/1888 [04:25<46:53,  1.74s/it]"
          ]
        },
        {
          "name": "stdout",
          "output_type": "stream",
          "text": [
            "Saved: square_cut_0096, seq_len=40\n"
          ]
        },
        {
          "name": "stderr",
          "output_type": "stream",
          "text": [
            "\rExtracting features:  14%|█▍        | 268/1888 [04:26<42:46,  1.58s/it]"
          ]
        },
        {
          "name": "stdout",
          "output_type": "stream",
          "text": [
            "Saved: square_cut_0199, seq_len=40\n"
          ]
        },
        {
          "name": "stderr",
          "output_type": "stream",
          "text": [
            "\rExtracting features:  14%|█▍        | 269/1888 [04:28<39:57,  1.48s/it]"
          ]
        },
        {
          "name": "stdout",
          "output_type": "stream",
          "text": [
            "Saved: square_cut_0015, seq_len=40\n"
          ]
        },
        {
          "name": "stderr",
          "output_type": "stream",
          "text": [
            "\rExtracting features:  14%|█▍        | 270/1888 [04:29<38:03,  1.41s/it]"
          ]
        },
        {
          "name": "stdout",
          "output_type": "stream",
          "text": [
            "Saved: square_cut_0167, seq_len=40\n"
          ]
        },
        {
          "name": "stderr",
          "output_type": "stream",
          "text": [
            "\rExtracting features:  14%|█▍        | 271/1888 [04:31<44:40,  1.66s/it]"
          ]
        },
        {
          "name": "stdout",
          "output_type": "stream",
          "text": [
            "Saved: square_cut_0198, seq_len=40\n"
          ]
        },
        {
          "name": "stderr",
          "output_type": "stream",
          "text": [
            "\rExtracting features:  14%|█▍        | 272/1888 [04:33<45:21,  1.68s/it]"
          ]
        },
        {
          "name": "stdout",
          "output_type": "stream",
          "text": [
            "Saved: square_cut_0048, seq_len=40\n"
          ]
        },
        {
          "name": "stderr",
          "output_type": "stream",
          "text": [
            "\rExtracting features:  14%|█▍        | 273/1888 [04:35<52:43,  1.96s/it]"
          ]
        },
        {
          "name": "stdout",
          "output_type": "stream",
          "text": [
            "Saved: square_cut_0200, seq_len=40\n"
          ]
        },
        {
          "name": "stderr",
          "output_type": "stream",
          "text": [
            "\rExtracting features:  15%|█▍        | 274/1888 [04:37<51:39,  1.92s/it]"
          ]
        },
        {
          "name": "stdout",
          "output_type": "stream",
          "text": [
            "Saved: square_cut_0006, seq_len=40\n"
          ]
        },
        {
          "name": "stderr",
          "output_type": "stream",
          "text": [
            "\rExtracting features:  15%|█▍        | 275/1888 [04:39<50:00,  1.86s/it]"
          ]
        },
        {
          "name": "stdout",
          "output_type": "stream",
          "text": [
            "Saved: square_cut_0095, seq_len=40\n"
          ]
        },
        {
          "name": "stderr",
          "output_type": "stream",
          "text": [
            "\rExtracting features:  15%|█▍        | 276/1888 [04:41<52:21,  1.95s/it]"
          ]
        },
        {
          "name": "stdout",
          "output_type": "stream",
          "text": [
            "Saved: square_cut_0056, seq_len=40\n"
          ]
        },
        {
          "name": "stderr",
          "output_type": "stream",
          "text": [
            "\rExtracting features:  15%|█▍        | 277/1888 [04:43<49:59,  1.86s/it]"
          ]
        },
        {
          "name": "stdout",
          "output_type": "stream",
          "text": [
            "Saved: square_cut_0165, seq_len=40\n"
          ]
        },
        {
          "name": "stderr",
          "output_type": "stream",
          "text": [
            "\rExtracting features:  15%|█▍        | 278/1888 [04:56<2:21:58,  5.29s/it]"
          ]
        },
        {
          "name": "stdout",
          "output_type": "stream",
          "text": [
            "Saved: square_cut_0196, seq_len=40\n"
          ]
        },
        {
          "name": "stderr",
          "output_type": "stream",
          "text": [
            "\rExtracting features:  15%|█▍        | 279/1888 [04:58<1:53:37,  4.24s/it]"
          ]
        },
        {
          "name": "stdout",
          "output_type": "stream",
          "text": [
            "Saved: square_cut_0016, seq_len=40\n"
          ]
        },
        {
          "name": "stderr",
          "output_type": "stream",
          "text": [
            "\rExtracting features:  15%|█▍        | 280/1888 [05:01<1:43:47,  3.87s/it]"
          ]
        },
        {
          "name": "stdout",
          "output_type": "stream",
          "text": [
            "Saved: square_cut_0066, seq_len=40\n"
          ]
        },
        {
          "name": "stderr",
          "output_type": "stream",
          "text": [
            "\rExtracting features:  15%|█▍        | 281/1888 [05:03<1:27:13,  3.26s/it]"
          ]
        },
        {
          "name": "stdout",
          "output_type": "stream",
          "text": [
            "Saved: square_cut_0007, seq_len=40\n"
          ]
        },
        {
          "name": "stderr",
          "output_type": "stream",
          "text": [
            "\rExtracting features:  15%|█▍        | 282/1888 [05:04<1:11:36,  2.68s/it]"
          ]
        },
        {
          "name": "stdout",
          "output_type": "stream",
          "text": [
            "Saved: square_cut_0043, seq_len=40\n"
          ]
        },
        {
          "name": "stderr",
          "output_type": "stream",
          "text": [
            "\rExtracting features:  15%|█▍        | 283/1888 [05:06<1:06:22,  2.48s/it]"
          ]
        },
        {
          "name": "stdout",
          "output_type": "stream",
          "text": [
            "Saved: square_cut_0028, seq_len=40\n"
          ]
        },
        {
          "name": "stderr",
          "output_type": "stream",
          "text": [
            "\rExtracting features:  15%|█▌        | 284/1888 [05:08<59:00,  2.21s/it]  "
          ]
        },
        {
          "name": "stdout",
          "output_type": "stream",
          "text": [
            "Saved: square_cut_0005, seq_len=40\n"
          ]
        },
        {
          "name": "stderr",
          "output_type": "stream",
          "text": [
            "\rExtracting features:  15%|█▌        | 285/1888 [05:09<53:34,  2.01s/it]"
          ]
        },
        {
          "name": "stdout",
          "output_type": "stream",
          "text": [
            "Saved: square_cut_0011, seq_len=40\n"
          ]
        },
        {
          "name": "stderr",
          "output_type": "stream",
          "text": [
            "\rExtracting features:  15%|█▌        | 286/1888 [05:11<52:40,  1.97s/it]"
          ]
        },
        {
          "name": "stdout",
          "output_type": "stream",
          "text": [
            "Saved: square_cut_0021, seq_len=40\n"
          ]
        },
        {
          "name": "stderr",
          "output_type": "stream",
          "text": [
            "\rExtracting features:  15%|█▌        | 287/1888 [05:12<46:11,  1.73s/it]"
          ]
        },
        {
          "name": "stdout",
          "output_type": "stream",
          "text": [
            "Saved: square_cut_0164, seq_len=40\n"
          ]
        },
        {
          "name": "stderr",
          "output_type": "stream",
          "text": [
            "\rExtracting features:  15%|█▌        | 288/1888 [05:19<1:30:57,  3.41s/it]"
          ]
        },
        {
          "name": "stdout",
          "output_type": "stream",
          "text": [
            "Saved: square_cut_0137, seq_len=40\n"
          ]
        },
        {
          "name": "stderr",
          "output_type": "stream",
          "text": [
            "\rExtracting features:  15%|█▌        | 289/1888 [05:22<1:20:47,  3.03s/it]"
          ]
        },
        {
          "name": "stdout",
          "output_type": "stream",
          "text": [
            "Saved: square_cut_0022, seq_len=40\n"
          ]
        },
        {
          "name": "stderr",
          "output_type": "stream",
          "text": [
            "\rExtracting features:  15%|█▌        | 290/1888 [05:23<1:10:13,  2.64s/it]"
          ]
        },
        {
          "name": "stdout",
          "output_type": "stream",
          "text": [
            "Saved: square_cut_0132, seq_len=40\n"
          ]
        },
        {
          "name": "stderr",
          "output_type": "stream",
          "text": [
            "\rExtracting features:  15%|█▌        | 291/1888 [05:25<1:02:54,  2.36s/it]"
          ]
        },
        {
          "name": "stdout",
          "output_type": "stream",
          "text": [
            "Saved: square_cut_0131, seq_len=40\n"
          ]
        },
        {
          "name": "stderr",
          "output_type": "stream",
          "text": [
            "\rExtracting features:  15%|█▌        | 292/1888 [05:27<58:50,  2.21s/it]  "
          ]
        },
        {
          "name": "stdout",
          "output_type": "stream",
          "text": [
            "Saved: square_cut_0162, seq_len=40\n"
          ]
        },
        {
          "name": "stderr",
          "output_type": "stream",
          "text": [
            "\rExtracting features:  16%|█▌        | 293/1888 [05:29<55:05,  2.07s/it]"
          ]
        },
        {
          "name": "stdout",
          "output_type": "stream",
          "text": [
            "Saved: square_cut_0124, seq_len=40\n"
          ]
        },
        {
          "name": "stderr",
          "output_type": "stream",
          "text": [
            "\rExtracting features:  16%|█▌        | 294/1888 [05:30<47:55,  1.80s/it]"
          ]
        },
        {
          "name": "stdout",
          "output_type": "stream",
          "text": [
            "Saved: square_cut_0156, seq_len=40\n"
          ]
        },
        {
          "name": "stderr",
          "output_type": "stream",
          "text": [
            "\rExtracting features:  16%|█▌        | 295/1888 [05:31<44:04,  1.66s/it]"
          ]
        },
        {
          "name": "stdout",
          "output_type": "stream",
          "text": [
            "Saved: square_cut_0136, seq_len=40\n"
          ]
        },
        {
          "name": "stderr",
          "output_type": "stream",
          "text": [
            "\rExtracting features:  16%|█▌        | 296/1888 [05:33<42:53,  1.62s/it]"
          ]
        },
        {
          "name": "stdout",
          "output_type": "stream",
          "text": [
            "Saved: square_cut_0197, seq_len=40\n"
          ]
        },
        {
          "name": "stderr",
          "output_type": "stream",
          "text": [
            "\rExtracting features:  16%|█▌        | 297/1888 [05:35<49:00,  1.85s/it]"
          ]
        },
        {
          "name": "stdout",
          "output_type": "stream",
          "text": [
            "Saved: square_cut_0127, seq_len=40\n"
          ]
        },
        {
          "name": "stderr",
          "output_type": "stream",
          "text": [
            "\rExtracting features:  16%|█▌        | 298/1888 [05:36<43:56,  1.66s/it]"
          ]
        },
        {
          "name": "stdout",
          "output_type": "stream",
          "text": [
            "Saved: square_cut_0163, seq_len=40\n"
          ]
        },
        {
          "name": "stderr",
          "output_type": "stream",
          "text": [
            "\rExtracting features:  16%|█▌        | 299/1888 [05:38<44:32,  1.68s/it]"
          ]
        },
        {
          "name": "stdout",
          "output_type": "stream",
          "text": [
            "Saved: square_cut_0135, seq_len=40\n"
          ]
        },
        {
          "name": "stderr",
          "output_type": "stream",
          "text": [
            "\rExtracting features:  16%|█▌        | 300/1888 [05:40<44:38,  1.69s/it]"
          ]
        },
        {
          "name": "stdout",
          "output_type": "stream",
          "text": [
            "Saved: square_cut_0175, seq_len=40\n"
          ]
        },
        {
          "name": "stderr",
          "output_type": "stream",
          "text": [
            "\rExtracting features:  16%|█▌        | 301/1888 [05:41<40:12,  1.52s/it]"
          ]
        },
        {
          "name": "stdout",
          "output_type": "stream",
          "text": [
            "Saved: square_cut_0129, seq_len=40\n"
          ]
        },
        {
          "name": "stderr",
          "output_type": "stream",
          "text": [
            "\rExtracting features:  16%|█▌        | 302/1888 [05:42<38:15,  1.45s/it]"
          ]
        },
        {
          "name": "stdout",
          "output_type": "stream",
          "text": [
            "Saved: square_cut_0148, seq_len=40\n"
          ]
        },
        {
          "name": "stderr",
          "output_type": "stream",
          "text": [
            "\rExtracting features:  16%|█▌        | 303/1888 [05:45<46:42,  1.77s/it]"
          ]
        },
        {
          "name": "stdout",
          "output_type": "stream",
          "text": [
            "Saved: square_cut_0139, seq_len=40\n"
          ]
        },
        {
          "name": "stderr",
          "output_type": "stream",
          "text": [
            "\rExtracting features:  16%|█▌        | 304/1888 [05:47<52:45,  2.00s/it]"
          ]
        },
        {
          "name": "stdout",
          "output_type": "stream",
          "text": [
            "Saved: square_cut_0094, seq_len=40\n"
          ]
        },
        {
          "name": "stderr",
          "output_type": "stream",
          "text": [
            "\rExtracting features:  16%|█▌        | 305/1888 [05:49<54:08,  2.05s/it]"
          ]
        },
        {
          "name": "stdout",
          "output_type": "stream",
          "text": [
            "Saved: square_cut_0093, seq_len=40\n"
          ]
        },
        {
          "name": "stderr",
          "output_type": "stream",
          "text": [
            "\rExtracting features:  16%|█▌        | 306/1888 [05:53<1:02:47,  2.38s/it]"
          ]
        },
        {
          "name": "stdout",
          "output_type": "stream",
          "text": [
            "Saved: square_cut_0134, seq_len=40\n"
          ]
        },
        {
          "name": "stderr",
          "output_type": "stream",
          "text": [
            "\rExtracting features:  16%|█▋        | 307/1888 [05:55<1:03:38,  2.42s/it]"
          ]
        },
        {
          "name": "stdout",
          "output_type": "stream",
          "text": [
            "Saved: square_cut_0186, seq_len=40\n"
          ]
        },
        {
          "name": "stderr",
          "output_type": "stream",
          "text": [
            "\rExtracting features:  16%|█▋        | 308/1888 [05:57<1:02:08,  2.36s/it]"
          ]
        },
        {
          "name": "stdout",
          "output_type": "stream",
          "text": [
            "Saved: square_cut_0133, seq_len=40\n"
          ]
        },
        {
          "name": "stderr",
          "output_type": "stream",
          "text": [
            "\rExtracting features:  16%|█▋        | 309/1888 [05:59<56:39,  2.15s/it]  "
          ]
        },
        {
          "name": "stdout",
          "output_type": "stream",
          "text": [
            "Saved: square_cut_0123, seq_len=40\n"
          ]
        },
        {
          "name": "stderr",
          "output_type": "stream",
          "text": [
            "\rExtracting features:  16%|█▋        | 310/1888 [06:01<53:37,  2.04s/it]"
          ]
        },
        {
          "name": "stdout",
          "output_type": "stream",
          "text": [
            "Saved: square_cut_0104, seq_len=40\n"
          ]
        },
        {
          "name": "stderr",
          "output_type": "stream",
          "text": [
            "\rExtracting features:  16%|█▋        | 311/1888 [06:02<46:59,  1.79s/it]"
          ]
        },
        {
          "name": "stdout",
          "output_type": "stream",
          "text": [
            "Saved: square_cut_0112, seq_len=40\n"
          ]
        },
        {
          "name": "stderr",
          "output_type": "stream",
          "text": [
            "\rExtracting features:  17%|█▋        | 312/1888 [06:05<55:01,  2.09s/it]"
          ]
        },
        {
          "name": "stdout",
          "output_type": "stream",
          "text": [
            "Saved: square_cut_0108, seq_len=40\n"
          ]
        },
        {
          "name": "stderr",
          "output_type": "stream",
          "text": [
            "\rExtracting features:  17%|█▋        | 313/1888 [06:06<49:58,  1.90s/it]"
          ]
        },
        {
          "name": "stdout",
          "output_type": "stream",
          "text": [
            "Saved: square_cut_0128, seq_len=40\n"
          ]
        },
        {
          "name": "stderr",
          "output_type": "stream",
          "text": [
            "\rExtracting features:  17%|█▋        | 314/1888 [06:07<44:38,  1.70s/it]"
          ]
        },
        {
          "name": "stdout",
          "output_type": "stream",
          "text": [
            "Saved: square_cut_0109, seq_len=40\n"
          ]
        },
        {
          "name": "stderr",
          "output_type": "stream",
          "text": [
            "\rExtracting features:  17%|█▋        | 315/1888 [06:09<47:09,  1.80s/it]"
          ]
        },
        {
          "name": "stdout",
          "output_type": "stream",
          "text": [
            "Saved: square_cut_0064, seq_len=40\n"
          ]
        },
        {
          "name": "stderr",
          "output_type": "stream",
          "text": [
            "\rExtracting features:  17%|█▋        | 316/1888 [06:11<45:08,  1.72s/it]"
          ]
        },
        {
          "name": "stdout",
          "output_type": "stream",
          "text": [
            "Saved: square_cut_0107, seq_len=40\n"
          ]
        },
        {
          "name": "stderr",
          "output_type": "stream",
          "text": [
            "\rExtracting features:  17%|█▋        | 317/1888 [06:12<40:56,  1.56s/it]"
          ]
        },
        {
          "name": "stdout",
          "output_type": "stream",
          "text": [
            "Saved: square_cut_0103, seq_len=40\n"
          ]
        },
        {
          "name": "stderr",
          "output_type": "stream",
          "text": [
            "\rExtracting features:  17%|█▋        | 318/1888 [06:14<41:53,  1.60s/it]"
          ]
        },
        {
          "name": "stdout",
          "output_type": "stream",
          "text": [
            "Saved: square_cut_0125, seq_len=40\n"
          ]
        },
        {
          "name": "stderr",
          "output_type": "stream",
          "text": [
            "\rExtracting features:  17%|█▋        | 319/1888 [06:16<42:50,  1.64s/it]"
          ]
        },
        {
          "name": "stdout",
          "output_type": "stream",
          "text": [
            "Saved: square_cut_0086, seq_len=40\n"
          ]
        },
        {
          "name": "stderr",
          "output_type": "stream",
          "text": [
            "\rExtracting features:  17%|█▋        | 320/1888 [06:18<45:54,  1.76s/it]"
          ]
        },
        {
          "name": "stdout",
          "output_type": "stream",
          "text": [
            "Saved: square_cut_0061, seq_len=40\n"
          ]
        },
        {
          "name": "stderr",
          "output_type": "stream",
          "text": [
            "\rExtracting features:  17%|█▋        | 321/1888 [06:19<41:33,  1.59s/it]"
          ]
        },
        {
          "name": "stdout",
          "output_type": "stream",
          "text": [
            "Saved: square_cut_0126, seq_len=40\n"
          ]
        },
        {
          "name": "stderr",
          "output_type": "stream",
          "text": [
            "\rExtracting features:  17%|█▋        | 322/1888 [06:21<44:56,  1.72s/it]"
          ]
        },
        {
          "name": "stdout",
          "output_type": "stream",
          "text": [
            "Saved: square_cut_0122, seq_len=40\n"
          ]
        },
        {
          "name": "stderr",
          "output_type": "stream",
          "text": [
            "\rExtracting features:  17%|█▋        | 323/1888 [06:22<43:44,  1.68s/it]"
          ]
        },
        {
          "name": "stdout",
          "output_type": "stream",
          "text": [
            "Saved: square_cut_0075, seq_len=40\n"
          ]
        },
        {
          "name": "stderr",
          "output_type": "stream",
          "text": [
            "\rExtracting features:  17%|█▋        | 324/1888 [06:24<42:36,  1.63s/it]"
          ]
        },
        {
          "name": "stdout",
          "output_type": "stream",
          "text": [
            "Saved: square_cut_0105, seq_len=40\n"
          ]
        },
        {
          "name": "stderr",
          "output_type": "stream",
          "text": [
            "\rExtracting features:  17%|█▋        | 325/1888 [06:26<46:28,  1.78s/it]"
          ]
        },
        {
          "name": "stdout",
          "output_type": "stream",
          "text": [
            "Saved: square_cut_0063, seq_len=40\n"
          ]
        },
        {
          "name": "stderr",
          "output_type": "stream",
          "text": [
            "\rExtracting features:  17%|█▋        | 326/1888 [06:28<46:33,  1.79s/it]"
          ]
        },
        {
          "name": "stdout",
          "output_type": "stream",
          "text": [
            "Saved: square_cut_0110, seq_len=40\n"
          ]
        },
        {
          "name": "stderr",
          "output_type": "stream",
          "text": [
            "\rExtracting features:  17%|█▋        | 327/1888 [06:30<46:18,  1.78s/it]"
          ]
        },
        {
          "name": "stdout",
          "output_type": "stream",
          "text": [
            "Saved: square_cut_0060, seq_len=40\n"
          ]
        },
        {
          "name": "stderr",
          "output_type": "stream",
          "text": [
            "\rExtracting features:  17%|█▋        | 328/1888 [06:32<49:56,  1.92s/it]"
          ]
        },
        {
          "name": "stdout",
          "output_type": "stream",
          "text": [
            "Saved: square_cut_0057, seq_len=40\n"
          ]
        },
        {
          "name": "stderr",
          "output_type": "stream",
          "text": [
            "\rExtracting features:  17%|█▋        | 329/1888 [06:36<1:11:03,  2.73s/it]"
          ]
        },
        {
          "name": "stdout",
          "output_type": "stream",
          "text": [
            "Saved: square_cut_0023, seq_len=40\n"
          ]
        },
        {
          "name": "stderr",
          "output_type": "stream",
          "text": [
            "\rExtracting features:  17%|█▋        | 330/1888 [06:38<1:04:25,  2.48s/it]"
          ]
        },
        {
          "name": "stdout",
          "output_type": "stream",
          "text": [
            "Saved: square_cut_0058, seq_len=40\n"
          ]
        },
        {
          "name": "stderr",
          "output_type": "stream",
          "text": [
            "\rExtracting features:  18%|█▊        | 331/1888 [06:40<59:44,  2.30s/it]  "
          ]
        },
        {
          "name": "stdout",
          "output_type": "stream",
          "text": [
            "Saved: square_cut_0050, seq_len=40\n"
          ]
        },
        {
          "name": "stderr",
          "output_type": "stream",
          "text": [
            "\rExtracting features:  18%|█▊        | 332/1888 [06:42<55:56,  2.16s/it]"
          ]
        },
        {
          "name": "stdout",
          "output_type": "stream",
          "text": [
            "Saved: square_cut_0051, seq_len=40\n"
          ]
        },
        {
          "name": "stderr",
          "output_type": "stream",
          "text": [
            "\rExtracting features:  18%|█▊        | 333/1888 [06:44<50:15,  1.94s/it]"
          ]
        },
        {
          "name": "stdout",
          "output_type": "stream",
          "text": [
            "Saved: square_cut_0047, seq_len=40\n"
          ]
        },
        {
          "name": "stderr",
          "output_type": "stream",
          "text": [
            "\rExtracting features:  18%|█▊        | 334/1888 [06:45<45:35,  1.76s/it]"
          ]
        },
        {
          "name": "stdout",
          "output_type": "stream",
          "text": [
            "Saved: square_cut_0012, seq_len=40\n"
          ]
        },
        {
          "name": "stderr",
          "output_type": "stream",
          "text": [
            "\rExtracting features:  18%|█▊        | 335/1888 [06:47<49:40,  1.92s/it]"
          ]
        },
        {
          "name": "stdout",
          "output_type": "stream",
          "text": [
            "Saved: square_cut_0099, seq_len=40\n"
          ]
        },
        {
          "name": "stderr",
          "output_type": "stream",
          "text": [
            "\rExtracting features:  18%|█▊        | 336/1888 [06:49<47:17,  1.83s/it]"
          ]
        },
        {
          "name": "stdout",
          "output_type": "stream",
          "text": [
            "Saved: square_cut_0053, seq_len=40\n"
          ]
        },
        {
          "name": "stderr",
          "output_type": "stream",
          "text": [
            "\rExtracting features:  18%|█▊        | 337/1888 [06:51<47:00,  1.82s/it]"
          ]
        },
        {
          "name": "stdout",
          "output_type": "stream",
          "text": [
            "Saved: square_cut_0054, seq_len=40\n"
          ]
        },
        {
          "name": "stderr",
          "output_type": "stream",
          "text": [
            "\rExtracting features:  18%|█▊        | 338/1888 [06:53<48:33,  1.88s/it]"
          ]
        },
        {
          "name": "stdout",
          "output_type": "stream",
          "text": [
            "Saved: square_cut_0102, seq_len=40\n"
          ]
        },
        {
          "name": "stderr",
          "output_type": "stream",
          "text": [
            "\rExtracting features:  18%|█▊        | 339/1888 [06:55<49:16,  1.91s/it]"
          ]
        },
        {
          "name": "stdout",
          "output_type": "stream",
          "text": [
            "Saved: square_cut_0100, seq_len=40\n"
          ]
        },
        {
          "name": "stderr",
          "output_type": "stream",
          "text": [
            "\rExtracting features:  18%|█▊        | 340/1888 [06:56<48:24,  1.88s/it]"
          ]
        },
        {
          "name": "stdout",
          "output_type": "stream",
          "text": [
            "Saved: square_cut_0062, seq_len=40\n"
          ]
        },
        {
          "name": "stderr",
          "output_type": "stream",
          "text": [
            "\rExtracting features:  18%|█▊        | 341/1888 [06:58<42:54,  1.66s/it]"
          ]
        },
        {
          "name": "stdout",
          "output_type": "stream",
          "text": [
            "Saved: square_cut_0045, seq_len=40\n"
          ]
        },
        {
          "name": "stderr",
          "output_type": "stream",
          "text": [
            "\rExtracting features:  18%|█▊        | 342/1888 [07:00<49:29,  1.92s/it]"
          ]
        },
        {
          "name": "stdout",
          "output_type": "stream",
          "text": [
            "Saved: square_cut_0106, seq_len=40\n"
          ]
        },
        {
          "name": "stderr",
          "output_type": "stream",
          "text": [
            "\rExtracting features:  18%|█▊        | 343/1888 [07:01<44:06,  1.71s/it]"
          ]
        },
        {
          "name": "stdout",
          "output_type": "stream",
          "text": [
            "Saved: square_cut_0055, seq_len=40\n"
          ]
        },
        {
          "name": "stderr",
          "output_type": "stream",
          "text": [
            "\rExtracting features:  18%|█▊        | 344/1888 [07:03<47:06,  1.83s/it]"
          ]
        },
        {
          "name": "stdout",
          "output_type": "stream",
          "text": [
            "Saved: square_cut_0052, seq_len=40\n"
          ]
        },
        {
          "name": "stderr",
          "output_type": "stream",
          "text": [
            "\rExtracting features:  18%|█▊        | 345/1888 [07:05<42:41,  1.66s/it]"
          ]
        },
        {
          "name": "stdout",
          "output_type": "stream",
          "text": [
            "Saved: square_cut_0029, seq_len=40\n"
          ]
        },
        {
          "name": "stderr",
          "output_type": "stream",
          "text": [
            "\rExtracting features:  18%|█▊        | 346/1888 [07:06<40:09,  1.56s/it]"
          ]
        },
        {
          "name": "stdout",
          "output_type": "stream",
          "text": [
            "Saved: square_cut_0001, seq_len=40\n"
          ]
        },
        {
          "name": "stderr",
          "output_type": "stream",
          "text": [
            "\rExtracting features:  18%|█▊        | 347/1888 [07:07<36:54,  1.44s/it]"
          ]
        },
        {
          "name": "stdout",
          "output_type": "stream",
          "text": [
            "Saved: square_cut_0076, seq_len=40\n"
          ]
        },
        {
          "name": "stderr",
          "output_type": "stream",
          "text": [
            "\rExtracting features:  18%|█▊        | 348/1888 [07:08<34:42,  1.35s/it]"
          ]
        },
        {
          "name": "stdout",
          "output_type": "stream",
          "text": [
            "Saved: square_cut_0037, seq_len=40\n"
          ]
        },
        {
          "name": "stderr",
          "output_type": "stream",
          "text": [
            "\rExtracting features:  18%|█▊        | 349/1888 [07:09<33:35,  1.31s/it]"
          ]
        },
        {
          "name": "stdout",
          "output_type": "stream",
          "text": [
            "Saved: square_cut_0035, seq_len=40\n"
          ]
        },
        {
          "name": "stderr",
          "output_type": "stream",
          "text": [
            "\rExtracting features:  19%|█▊        | 350/1888 [07:11<38:21,  1.50s/it]"
          ]
        },
        {
          "name": "stdout",
          "output_type": "stream",
          "text": [
            "Saved: square_cut_0003, seq_len=40\n"
          ]
        },
        {
          "name": "stderr",
          "output_type": "stream",
          "text": [
            "\rExtracting features:  19%|█▊        | 351/1888 [07:13<40:43,  1.59s/it]"
          ]
        },
        {
          "name": "stdout",
          "output_type": "stream",
          "text": [
            "Saved: square_cut_0101, seq_len=40\n"
          ]
        },
        {
          "name": "stderr",
          "output_type": "stream",
          "text": [
            "\rExtracting features:  19%|█▊        | 352/1888 [07:14<35:19,  1.38s/it]"
          ]
        },
        {
          "name": "stdout",
          "output_type": "stream",
          "text": [
            "Saved: square_cut_0078, seq_len=40\n"
          ]
        },
        {
          "name": "stderr",
          "output_type": "stream",
          "text": [
            "\rExtracting features:  19%|█▊        | 353/1888 [07:15<33:28,  1.31s/it]"
          ]
        },
        {
          "name": "stdout",
          "output_type": "stream",
          "text": [
            "Saved: square_cut_0138, seq_len=40\n"
          ]
        },
        {
          "name": "stderr",
          "output_type": "stream",
          "text": [
            "\rExtracting features:  19%|█▉        | 354/1888 [07:17<37:20,  1.46s/it]"
          ]
        },
        {
          "name": "stdout",
          "output_type": "stream",
          "text": [
            "Saved: square_cut_0040, seq_len=40\n"
          ]
        },
        {
          "name": "stderr",
          "output_type": "stream",
          "text": [
            "\rExtracting features:  19%|█▉        | 355/1888 [07:18<36:06,  1.41s/it]"
          ]
        },
        {
          "name": "stdout",
          "output_type": "stream",
          "text": [
            "Saved: square_cut_0130, seq_len=40\n"
          ]
        },
        {
          "name": "stderr",
          "output_type": "stream",
          "text": [
            "\rExtracting features:  19%|█▉        | 356/1888 [07:20<40:05,  1.57s/it]"
          ]
        },
        {
          "name": "stdout",
          "output_type": "stream",
          "text": [
            "Saved: square_cut_0166, seq_len=40\n"
          ]
        },
        {
          "name": "stderr",
          "output_type": "stream",
          "text": [
            "\rExtracting features:  19%|█▉        | 357/1888 [07:23<44:52,  1.76s/it]"
          ]
        },
        {
          "name": "stdout",
          "output_type": "stream",
          "text": [
            "Saved: square_cut_0019, seq_len=40\n"
          ]
        },
        {
          "name": "stderr",
          "output_type": "stream",
          "text": [
            "\rExtracting features:  19%|█▉        | 358/1888 [07:25<47:08,  1.85s/it]"
          ]
        },
        {
          "name": "stdout",
          "output_type": "stream",
          "text": [
            "Saved: square_cut_0111, seq_len=40\n"
          ]
        },
        {
          "name": "stderr",
          "output_type": "stream",
          "text": [
            "\rExtracting features:  19%|█▉        | 359/1888 [07:26<44:10,  1.73s/it]"
          ]
        },
        {
          "name": "stdout",
          "output_type": "stream",
          "text": [
            "Saved: square_cut_0013, seq_len=40\n"
          ]
        },
        {
          "name": "stderr",
          "output_type": "stream",
          "text": [
            "\rExtracting features:  19%|█▉        | 360/1888 [07:27<41:16,  1.62s/it]"
          ]
        },
        {
          "name": "stdout",
          "output_type": "stream",
          "text": [
            "Saved: square_cut_0010, seq_len=40\n"
          ]
        },
        {
          "name": "stderr",
          "output_type": "stream",
          "text": [
            "\rExtracting features:  19%|█▉        | 361/1888 [07:29<42:40,  1.68s/it]"
          ]
        },
        {
          "name": "stdout",
          "output_type": "stream",
          "text": [
            "Saved: square_cut_0009, seq_len=40\n"
          ]
        },
        {
          "name": "stderr",
          "output_type": "stream",
          "text": [
            "\rExtracting features:  19%|█▉        | 362/1888 [07:32<48:43,  1.92s/it]"
          ]
        },
        {
          "name": "stdout",
          "output_type": "stream",
          "text": [
            "Saved: square_cut_0004, seq_len=40\n"
          ]
        },
        {
          "name": "stderr",
          "output_type": "stream",
          "text": [
            "\rExtracting features:  19%|█▉        | 363/1888 [07:34<48:22,  1.90s/it]"
          ]
        },
        {
          "name": "stdout",
          "output_type": "stream",
          "text": [
            "Saved: square_cut_0042, seq_len=40\n"
          ]
        },
        {
          "name": "stderr",
          "output_type": "stream",
          "text": [
            "\rExtracting features:  19%|█▉        | 364/1888 [07:35<44:53,  1.77s/it]"
          ]
        },
        {
          "name": "stdout",
          "output_type": "stream",
          "text": [
            "Saved: square_cut_0008, seq_len=40\n"
          ]
        },
        {
          "name": "stderr",
          "output_type": "stream",
          "text": [
            "\rExtracting features:  19%|█▉        | 365/1888 [07:36<40:49,  1.61s/it]"
          ]
        },
        {
          "name": "stdout",
          "output_type": "stream",
          "text": [
            "Saved: square_cut_0034, seq_len=40\n"
          ]
        },
        {
          "name": "stderr",
          "output_type": "stream",
          "text": [
            "\rExtracting features:  19%|█▉        | 366/1888 [07:38<40:05,  1.58s/it]"
          ]
        },
        {
          "name": "stdout",
          "output_type": "stream",
          "text": [
            "Saved: square_cut_0033, seq_len=40\n"
          ]
        },
        {
          "name": "stderr",
          "output_type": "stream",
          "text": [
            "\rExtracting features:  19%|█▉        | 367/1888 [07:40<42:30,  1.68s/it]"
          ]
        },
        {
          "name": "stdout",
          "output_type": "stream",
          "text": [
            "Saved: square_cut_0030, seq_len=40\n"
          ]
        },
        {
          "name": "stderr",
          "output_type": "stream",
          "text": [
            "\rExtracting features:  19%|█▉        | 368/1888 [07:41<36:57,  1.46s/it]"
          ]
        },
        {
          "name": "stdout",
          "output_type": "stream",
          "text": [
            "Saved: square_cut_0038, seq_len=40\n"
          ]
        },
        {
          "name": "stderr",
          "output_type": "stream",
          "text": [
            "\rExtracting features:  20%|█▉        | 369/1888 [07:42<34:44,  1.37s/it]"
          ]
        },
        {
          "name": "stdout",
          "output_type": "stream",
          "text": [
            "Saved: square_cut_0002, seq_len=40\n"
          ]
        },
        {
          "name": "stderr",
          "output_type": "stream",
          "text": [
            "\rExtracting features:  20%|█▉        | 370/1888 [07:43<35:32,  1.41s/it]"
          ]
        },
        {
          "name": "stdout",
          "output_type": "stream",
          "text": [
            "Saved: square_cut_0032, seq_len=40\n"
          ]
        },
        {
          "name": "stderr",
          "output_type": "stream",
          "text": [
            "\rExtracting features:  20%|█▉        | 371/1888 [07:44<34:08,  1.35s/it]"
          ]
        },
        {
          "name": "stdout",
          "output_type": "stream",
          "text": [
            "Saved: square_cut_0049, seq_len=40\n"
          ]
        },
        {
          "name": "stderr",
          "output_type": "stream",
          "text": [
            "\rExtracting features:  20%|█▉        | 372/1888 [07:46<37:26,  1.48s/it]"
          ]
        },
        {
          "name": "stdout",
          "output_type": "stream",
          "text": [
            "Saved: square_cut_0031, seq_len=40\n"
          ]
        },
        {
          "name": "stderr",
          "output_type": "stream",
          "text": [
            "\rExtracting features:  20%|█▉        | 373/1888 [07:48<39:25,  1.56s/it]"
          ]
        },
        {
          "name": "stdout",
          "output_type": "stream",
          "text": [
            "Saved: square_cut_0059, seq_len=40\n"
          ]
        },
        {
          "name": "stderr",
          "output_type": "stream",
          "text": [
            "\rExtracting features:  20%|█▉        | 374/1888 [07:49<35:09,  1.39s/it]"
          ]
        },
        {
          "name": "stdout",
          "output_type": "stream",
          "text": [
            "Saved: square_cut_0077, seq_len=40\n"
          ]
        },
        {
          "name": "stderr",
          "output_type": "stream",
          "text": [
            "\rExtracting features:  20%|█▉        | 375/1888 [07:50<35:17,  1.40s/it]"
          ]
        },
        {
          "name": "stdout",
          "output_type": "stream",
          "text": [
            "Saved: square_cut_0074, seq_len=40\n"
          ]
        },
        {
          "name": "stderr",
          "output_type": "stream",
          "text": [
            "\rExtracting features:  20%|█▉        | 376/1888 [07:54<48:12,  1.91s/it]"
          ]
        },
        {
          "name": "stdout",
          "output_type": "stream",
          "text": [
            "Saved: square_cut_0073, seq_len=40\n"
          ]
        },
        {
          "name": "stderr",
          "output_type": "stream",
          "text": [
            "\rExtracting features:  20%|█▉        | 377/1888 [07:55<42:20,  1.68s/it]"
          ]
        },
        {
          "name": "stdout",
          "output_type": "stream",
          "text": [
            "Saved: square_cut_0036, seq_len=40\n"
          ]
        },
        {
          "name": "stderr",
          "output_type": "stream",
          "text": [
            "\rExtracting features:  20%|██        | 378/1888 [07:57<46:08,  1.83s/it]"
          ]
        },
        {
          "name": "stdout",
          "output_type": "stream",
          "text": [
            "Saved: square_cut_0072, seq_len=40\n"
          ]
        },
        {
          "name": "stderr",
          "output_type": "stream",
          "text": [
            "\rExtracting features:  20%|██        | 379/1888 [07:58<42:17,  1.68s/it]"
          ]
        },
        {
          "name": "stdout",
          "output_type": "stream",
          "text": [
            "Saved: square_cut_0039, seq_len=40\n"
          ]
        },
        {
          "name": "stderr",
          "output_type": "stream",
          "text": [
            "\rExtracting features:  20%|██        | 380/1888 [08:01<47:21,  1.88s/it]"
          ]
        },
        {
          "name": "stdout",
          "output_type": "stream",
          "text": [
            "Saved: square_cut_0024, seq_len=40\n"
          ]
        },
        {
          "name": "stderr",
          "output_type": "stream",
          "text": [
            "\rExtracting features:  20%|██        | 381/1888 [08:03<53:37,  2.13s/it]"
          ]
        },
        {
          "name": "stdout",
          "output_type": "stream",
          "text": [
            "Saved: square_cut_0070, seq_len=40\n"
          ]
        },
        {
          "name": "stderr",
          "output_type": "stream",
          "text": [
            "\rExtracting features:  20%|██        | 382/1888 [08:05<53:25,  2.13s/it]"
          ]
        },
        {
          "name": "stdout",
          "output_type": "stream",
          "text": [
            "Saved: square_cut_0069, seq_len=40\n"
          ]
        },
        {
          "name": "stderr",
          "output_type": "stream",
          "text": [
            "\rExtracting features:  20%|██        | 383/1888 [08:07<48:34,  1.94s/it]"
          ]
        },
        {
          "name": "stdout",
          "output_type": "stream",
          "text": [
            "Saved: square_cut_0025, seq_len=40\n"
          ]
        },
        {
          "name": "stderr",
          "output_type": "stream",
          "text": [
            "\rExtracting features:  20%|██        | 384/1888 [08:09<51:10,  2.04s/it]"
          ]
        },
        {
          "name": "stdout",
          "output_type": "stream",
          "text": [
            "Saved: square_cut_0068, seq_len=40\n"
          ]
        },
        {
          "name": "stderr",
          "output_type": "stream",
          "text": [
            "\rExtracting features:  20%|██        | 385/1888 [08:11<48:09,  1.92s/it]"
          ]
        },
        {
          "name": "stdout",
          "output_type": "stream",
          "text": [
            "Saved: square_cut_0067, seq_len=40\n"
          ]
        },
        {
          "name": "stderr",
          "output_type": "stream",
          "text": [
            "\rExtracting features:  20%|██        | 386/1888 [08:13<51:30,  2.06s/it]"
          ]
        },
        {
          "name": "stdout",
          "output_type": "stream",
          "text": [
            "Saved: square_cut_0027, seq_len=40\n"
          ]
        },
        {
          "name": "stderr",
          "output_type": "stream",
          "text": [
            "\rExtracting features:  20%|██        | 387/1888 [08:16<54:02,  2.16s/it]"
          ]
        },
        {
          "name": "stdout",
          "output_type": "stream",
          "text": [
            "Saved: square_cut_0071, seq_len=40\n"
          ]
        },
        {
          "name": "stderr",
          "output_type": "stream",
          "text": [
            "\rExtracting features:  21%|██        | 388/1888 [08:18<54:18,  2.17s/it]"
          ]
        },
        {
          "name": "stdout",
          "output_type": "stream",
          "text": [
            "Saved: square_cut_0026, seq_len=40\n"
          ]
        },
        {
          "name": "stderr",
          "output_type": "stream",
          "text": [
            "\rExtracting features:  21%|██        | 389/1888 [08:20<52:12,  2.09s/it]"
          ]
        },
        {
          "name": "stdout",
          "output_type": "stream",
          "text": [
            "Saved: late_cut_0027, seq_len=40\n"
          ]
        },
        {
          "name": "stderr",
          "output_type": "stream",
          "text": [
            "\rExtracting features:  21%|██        | 390/1888 [08:21<48:28,  1.94s/it]"
          ]
        },
        {
          "name": "stdout",
          "output_type": "stream",
          "text": [
            "Saved: late_cut_0173, seq_len=40\n"
          ]
        },
        {
          "name": "stderr",
          "output_type": "stream",
          "text": [
            "\rExtracting features:  21%|██        | 391/1888 [08:23<46:48,  1.88s/it]"
          ]
        },
        {
          "name": "stdout",
          "output_type": "stream",
          "text": [
            "Saved: late_cut_0034, seq_len=40\n"
          ]
        },
        {
          "name": "stderr",
          "output_type": "stream",
          "text": [
            "\rExtracting features:  21%|██        | 392/1888 [08:25<45:33,  1.83s/it]"
          ]
        },
        {
          "name": "stdout",
          "output_type": "stream",
          "text": [
            "Saved: late_cut_0033, seq_len=40\n"
          ]
        },
        {
          "name": "stderr",
          "output_type": "stream",
          "text": [
            "\rExtracting features:  21%|██        | 393/1888 [08:27<46:20,  1.86s/it]"
          ]
        },
        {
          "name": "stdout",
          "output_type": "stream",
          "text": [
            "Saved: late_cut_0028, seq_len=40\n"
          ]
        },
        {
          "name": "stderr",
          "output_type": "stream",
          "text": [
            "\rExtracting features:  21%|██        | 394/1888 [08:28<43:58,  1.77s/it]"
          ]
        },
        {
          "name": "stdout",
          "output_type": "stream",
          "text": [
            "Saved: late_cut_0127, seq_len=40\n"
          ]
        },
        {
          "name": "stderr",
          "output_type": "stream",
          "text": [
            "\rExtracting features:  21%|██        | 395/1888 [08:30<44:01,  1.77s/it]"
          ]
        },
        {
          "name": "stdout",
          "output_type": "stream",
          "text": [
            "Saved: late_cut_0040, seq_len=40\n"
          ]
        },
        {
          "name": "stderr",
          "output_type": "stream",
          "text": [
            "\rExtracting features:  21%|██        | 396/1888 [08:31<40:15,  1.62s/it]"
          ]
        },
        {
          "name": "stdout",
          "output_type": "stream",
          "text": [
            "Saved: late_cut_0131, seq_len=40\n"
          ]
        },
        {
          "name": "stderr",
          "output_type": "stream",
          "text": [
            "\rExtracting features:  21%|██        | 397/1888 [08:33<41:35,  1.67s/it]"
          ]
        },
        {
          "name": "stdout",
          "output_type": "stream",
          "text": [
            "Saved: late_cut_0108, seq_len=40\n"
          ]
        },
        {
          "name": "stderr",
          "output_type": "stream",
          "text": [
            "\rExtracting features:  21%|██        | 398/1888 [08:36<49:46,  2.00s/it]"
          ]
        },
        {
          "name": "stdout",
          "output_type": "stream",
          "text": [
            "Saved: late_cut_0129, seq_len=40\n"
          ]
        },
        {
          "name": "stderr",
          "output_type": "stream",
          "text": [
            "\rExtracting features:  21%|██        | 399/1888 [08:37<43:39,  1.76s/it]"
          ]
        },
        {
          "name": "stdout",
          "output_type": "stream",
          "text": [
            "Saved: late_cut_0105, seq_len=40\n"
          ]
        },
        {
          "name": "stderr",
          "output_type": "stream",
          "text": [
            "\rExtracting features:  21%|██        | 400/1888 [08:39<43:48,  1.77s/it]"
          ]
        },
        {
          "name": "stdout",
          "output_type": "stream",
          "text": [
            "Saved: late_cut_0132, seq_len=40\n"
          ]
        },
        {
          "name": "stderr",
          "output_type": "stream",
          "text": [
            "\rExtracting features:  21%|██        | 401/1888 [08:41<48:05,  1.94s/it]"
          ]
        },
        {
          "name": "stdout",
          "output_type": "stream",
          "text": [
            "Saved: late_cut_0041, seq_len=40\n"
          ]
        },
        {
          "name": "stderr",
          "output_type": "stream",
          "text": [
            "\rExtracting features:  21%|██▏       | 402/1888 [08:43<48:57,  1.98s/it]"
          ]
        },
        {
          "name": "stdout",
          "output_type": "stream",
          "text": [
            "Saved: late_cut_0130, seq_len=40\n"
          ]
        },
        {
          "name": "stderr",
          "output_type": "stream",
          "text": [
            "\rExtracting features:  21%|██▏       | 403/1888 [08:45<46:59,  1.90s/it]"
          ]
        },
        {
          "name": "stdout",
          "output_type": "stream",
          "text": [
            "Saved: late_cut_0031, seq_len=40\n"
          ]
        },
        {
          "name": "stderr",
          "output_type": "stream",
          "text": [
            "\rExtracting features:  21%|██▏       | 404/1888 [08:47<46:04,  1.86s/it]"
          ]
        },
        {
          "name": "stdout",
          "output_type": "stream",
          "text": [
            "Saved: late_cut_0161, seq_len=40\n"
          ]
        },
        {
          "name": "stderr",
          "output_type": "stream",
          "text": [
            "\rExtracting features:  21%|██▏       | 405/1888 [08:48<41:13,  1.67s/it]"
          ]
        },
        {
          "name": "stdout",
          "output_type": "stream",
          "text": [
            "Saved: late_cut_0111, seq_len=40\n"
          ]
        },
        {
          "name": "stderr",
          "output_type": "stream",
          "text": [
            "\rExtracting features:  22%|██▏       | 406/1888 [08:50<44:19,  1.79s/it]"
          ]
        },
        {
          "name": "stdout",
          "output_type": "stream",
          "text": [
            "Saved: late_cut_0159, seq_len=40\n"
          ]
        },
        {
          "name": "stderr",
          "output_type": "stream",
          "text": [
            "\rExtracting features:  22%|██▏       | 407/1888 [08:52<45:44,  1.85s/it]"
          ]
        },
        {
          "name": "stdout",
          "output_type": "stream",
          "text": [
            "Saved: late_cut_0104, seq_len=40\n"
          ]
        },
        {
          "name": "stderr",
          "output_type": "stream",
          "text": [
            "\rExtracting features:  22%|██▏       | 408/1888 [08:53<43:04,  1.75s/it]"
          ]
        },
        {
          "name": "stdout",
          "output_type": "stream",
          "text": [
            "Saved: late_cut_0107, seq_len=40\n"
          ]
        },
        {
          "name": "stderr",
          "output_type": "stream",
          "text": [
            "\rExtracting features:  22%|██▏       | 409/1888 [08:55<42:45,  1.73s/it]"
          ]
        },
        {
          "name": "stdout",
          "output_type": "stream",
          "text": [
            "Saved: late_cut_0026, seq_len=40\n"
          ]
        },
        {
          "name": "stderr",
          "output_type": "stream",
          "text": [
            "\rExtracting features:  22%|██▏       | 410/1888 [08:58<50:37,  2.06s/it]"
          ]
        },
        {
          "name": "stdout",
          "output_type": "stream",
          "text": [
            "Saved: late_cut_0030, seq_len=40\n"
          ]
        },
        {
          "name": "stderr",
          "output_type": "stream",
          "text": [
            "\rExtracting features:  22%|██▏       | 411/1888 [09:00<48:29,  1.97s/it]"
          ]
        },
        {
          "name": "stdout",
          "output_type": "stream",
          "text": [
            "Saved: late_cut_0128, seq_len=40\n"
          ]
        },
        {
          "name": "stderr",
          "output_type": "stream",
          "text": [
            "\rExtracting features:  22%|██▏       | 412/1888 [09:09<1:45:04,  4.27s/it]"
          ]
        },
        {
          "name": "stdout",
          "output_type": "stream",
          "text": [
            "Saved: late_cut_0157, seq_len=40\n"
          ]
        },
        {
          "name": "stderr",
          "output_type": "stream",
          "text": [
            "\rExtracting features:  22%|██▏       | 413/1888 [09:11<1:25:46,  3.49s/it]"
          ]
        },
        {
          "name": "stdout",
          "output_type": "stream",
          "text": [
            "Saved: late_cut_0160, seq_len=40\n"
          ]
        },
        {
          "name": "stderr",
          "output_type": "stream",
          "text": [
            "\rExtracting features:  22%|██▏       | 414/1888 [09:12<1:08:49,  2.80s/it]"
          ]
        },
        {
          "name": "stdout",
          "output_type": "stream",
          "text": [
            "Saved: late_cut_0029, seq_len=40\n"
          ]
        },
        {
          "name": "stderr",
          "output_type": "stream",
          "text": [
            "\rExtracting features:  22%|██▏       | 415/1888 [09:14<1:01:04,  2.49s/it]"
          ]
        },
        {
          "name": "stdout",
          "output_type": "stream",
          "text": [
            "Saved: late_cut_0154, seq_len=40\n"
          ]
        },
        {
          "name": "stderr",
          "output_type": "stream",
          "text": [
            "\rExtracting features:  22%|██▏       | 416/1888 [09:16<55:29,  2.26s/it]  "
          ]
        },
        {
          "name": "stdout",
          "output_type": "stream",
          "text": [
            "Saved: late_cut_0015, seq_len=40\n"
          ]
        },
        {
          "name": "stderr",
          "output_type": "stream",
          "text": [
            "\rExtracting features:  22%|██▏       | 417/1888 [09:18<55:03,  2.25s/it]"
          ]
        },
        {
          "name": "stdout",
          "output_type": "stream",
          "text": [
            "Saved: late_cut_0038, seq_len=40\n"
          ]
        },
        {
          "name": "stderr",
          "output_type": "stream",
          "text": [
            "\rExtracting features:  22%|██▏       | 418/1888 [09:20<51:12,  2.09s/it]"
          ]
        },
        {
          "name": "stdout",
          "output_type": "stream",
          "text": [
            "Saved: late_cut_0148, seq_len=40\n"
          ]
        },
        {
          "name": "stderr",
          "output_type": "stream",
          "text": [
            "\rExtracting features:  22%|██▏       | 419/1888 [09:21<47:51,  1.96s/it]"
          ]
        },
        {
          "name": "stdout",
          "output_type": "stream",
          "text": [
            "Saved: late_cut_0037, seq_len=40\n"
          ]
        },
        {
          "name": "stderr",
          "output_type": "stream",
          "text": [
            "\rExtracting features:  22%|██▏       | 420/1888 [09:23<47:43,  1.95s/it]"
          ]
        },
        {
          "name": "stdout",
          "output_type": "stream",
          "text": [
            "Saved: late_cut_0106, seq_len=40\n"
          ]
        },
        {
          "name": "stderr",
          "output_type": "stream",
          "text": [
            "\rExtracting features:  22%|██▏       | 421/1888 [09:25<46:28,  1.90s/it]"
          ]
        },
        {
          "name": "stdout",
          "output_type": "stream",
          "text": [
            "Saved: late_cut_0171, seq_len=40\n"
          ]
        },
        {
          "name": "stderr",
          "output_type": "stream",
          "text": [
            "\rExtracting features:  22%|██▏       | 422/1888 [09:27<45:42,  1.87s/it]"
          ]
        },
        {
          "name": "stdout",
          "output_type": "stream",
          "text": [
            "Saved: late_cut_0016, seq_len=40\n"
          ]
        },
        {
          "name": "stderr",
          "output_type": "stream",
          "text": [
            "\rExtracting features:  22%|██▏       | 423/1888 [09:29<47:17,  1.94s/it]"
          ]
        },
        {
          "name": "stdout",
          "output_type": "stream",
          "text": [
            "Saved: late_cut_0158, seq_len=40\n"
          ]
        },
        {
          "name": "stderr",
          "output_type": "stream",
          "text": [
            "\rExtracting features:  22%|██▏       | 424/1888 [09:31<45:06,  1.85s/it]"
          ]
        },
        {
          "name": "stdout",
          "output_type": "stream",
          "text": [
            "Saved: late_cut_0152, seq_len=40\n"
          ]
        },
        {
          "name": "stderr",
          "output_type": "stream",
          "text": [
            "\rExtracting features:  23%|██▎       | 425/1888 [09:32<40:22,  1.66s/it]"
          ]
        },
        {
          "name": "stdout",
          "output_type": "stream",
          "text": [
            "Saved: late_cut_0014, seq_len=40\n"
          ]
        },
        {
          "name": "stderr",
          "output_type": "stream",
          "text": [
            "\rExtracting features:  23%|██▎       | 426/1888 [09:34<45:13,  1.86s/it]"
          ]
        },
        {
          "name": "stdout",
          "output_type": "stream",
          "text": [
            "Saved: late_cut_0172, seq_len=40\n"
          ]
        },
        {
          "name": "stderr",
          "output_type": "stream",
          "text": [
            "\rExtracting features:  23%|██▎       | 427/1888 [09:35<40:35,  1.67s/it]"
          ]
        },
        {
          "name": "stdout",
          "output_type": "stream",
          "text": [
            "Saved: late_cut_0032, seq_len=40\n"
          ]
        },
        {
          "name": "stderr",
          "output_type": "stream",
          "text": [
            "\rExtracting features:  23%|██▎       | 428/1888 [09:37<41:53,  1.72s/it]"
          ]
        },
        {
          "name": "stdout",
          "output_type": "stream",
          "text": [
            "Saved: late_cut_0145, seq_len=40\n"
          ]
        },
        {
          "name": "stderr",
          "output_type": "stream",
          "text": [
            "\rExtracting features:  23%|██▎       | 429/1888 [09:39<42:15,  1.74s/it]"
          ]
        },
        {
          "name": "stdout",
          "output_type": "stream",
          "text": [
            "Saved: late_cut_0153, seq_len=40\n"
          ]
        },
        {
          "name": "stderr",
          "output_type": "stream",
          "text": [
            "\rExtracting features:  23%|██▎       | 430/1888 [09:41<43:48,  1.80s/it]"
          ]
        },
        {
          "name": "stdout",
          "output_type": "stream",
          "text": [
            "Saved: late_cut_0002, seq_len=40\n"
          ]
        },
        {
          "name": "stderr",
          "output_type": "stream",
          "text": [
            "\rExtracting features:  23%|██▎       | 431/1888 [09:43<43:13,  1.78s/it]"
          ]
        },
        {
          "name": "stdout",
          "output_type": "stream",
          "text": [
            "Saved: late_cut_0025, seq_len=40\n"
          ]
        },
        {
          "name": "stderr",
          "output_type": "stream",
          "text": [
            "\rExtracting features:  23%|██▎       | 432/1888 [09:44<43:10,  1.78s/it]"
          ]
        },
        {
          "name": "stdout",
          "output_type": "stream",
          "text": [
            "Saved: late_cut_0179, seq_len=40\n"
          ]
        },
        {
          "name": "stderr",
          "output_type": "stream",
          "text": [
            "\rExtracting features:  23%|██▎       | 433/1888 [09:46<44:30,  1.84s/it]"
          ]
        },
        {
          "name": "stdout",
          "output_type": "stream",
          "text": [
            "Saved: late_cut_0036, seq_len=40\n"
          ]
        },
        {
          "name": "stderr",
          "output_type": "stream",
          "text": [
            "\rExtracting features:  23%|██▎       | 434/1888 [09:49<53:05,  2.19s/it]"
          ]
        },
        {
          "name": "stdout",
          "output_type": "stream",
          "text": [
            "Saved: late_cut_0138, seq_len=40\n"
          ]
        },
        {
          "name": "stderr",
          "output_type": "stream",
          "text": [
            "\rExtracting features:  23%|██▎       | 435/1888 [09:52<52:53,  2.18s/it]"
          ]
        },
        {
          "name": "stdout",
          "output_type": "stream",
          "text": [
            "Saved: late_cut_0143, seq_len=40\n"
          ]
        },
        {
          "name": "stderr",
          "output_type": "stream",
          "text": [
            "\rExtracting features:  23%|██▎       | 436/1888 [09:53<48:32,  2.01s/it]"
          ]
        },
        {
          "name": "stdout",
          "output_type": "stream",
          "text": [
            "Saved: late_cut_0140, seq_len=40\n"
          ]
        },
        {
          "name": "stderr",
          "output_type": "stream",
          "text": [
            "\rExtracting features:  23%|██▎       | 437/1888 [09:55<48:51,  2.02s/it]"
          ]
        },
        {
          "name": "stdout",
          "output_type": "stream",
          "text": [
            "Saved: late_cut_0047, seq_len=40\n"
          ]
        },
        {
          "name": "stderr",
          "output_type": "stream",
          "text": [
            "\rExtracting features:  23%|██▎       | 438/1888 [09:57<47:16,  1.96s/it]"
          ]
        },
        {
          "name": "stdout",
          "output_type": "stream",
          "text": [
            "Saved: late_cut_0149, seq_len=40\n"
          ]
        },
        {
          "name": "stderr",
          "output_type": "stream",
          "text": [
            "\rExtracting features:  23%|██▎       | 439/1888 [09:59<46:21,  1.92s/it]"
          ]
        },
        {
          "name": "stdout",
          "output_type": "stream",
          "text": [
            "Saved: late_cut_0045, seq_len=40\n"
          ]
        },
        {
          "name": "stderr",
          "output_type": "stream",
          "text": [
            "\rExtracting features:  23%|██▎       | 440/1888 [10:01<46:46,  1.94s/it]"
          ]
        },
        {
          "name": "stdout",
          "output_type": "stream",
          "text": [
            "Saved: late_cut_0017, seq_len=40\n"
          ]
        },
        {
          "name": "stderr",
          "output_type": "stream",
          "text": [
            "\rExtracting features:  23%|██▎       | 441/1888 [10:07<1:16:31,  3.17s/it]"
          ]
        },
        {
          "name": "stdout",
          "output_type": "stream",
          "text": [
            "Saved: late_cut_0123, seq_len=40\n"
          ]
        },
        {
          "name": "stderr",
          "output_type": "stream",
          "text": [
            "\rExtracting features:  23%|██▎       | 442/1888 [10:09<1:10:58,  2.94s/it]"
          ]
        },
        {
          "name": "stdout",
          "output_type": "stream",
          "text": [
            "Saved: late_cut_0134, seq_len=40\n"
          ]
        },
        {
          "name": "stderr",
          "output_type": "stream",
          "text": [
            "\rExtracting features:  23%|██▎       | 443/1888 [10:11<1:02:41,  2.60s/it]"
          ]
        },
        {
          "name": "stdout",
          "output_type": "stream",
          "text": [
            "Saved: late_cut_0155, seq_len=40\n"
          ]
        },
        {
          "name": "stderr",
          "output_type": "stream",
          "text": [
            "\rExtracting features:  24%|██▎       | 444/1888 [10:14<1:03:18,  2.63s/it]"
          ]
        },
        {
          "name": "stdout",
          "output_type": "stream",
          "text": [
            "Saved: late_cut_0137, seq_len=40\n"
          ]
        },
        {
          "name": "stderr",
          "output_type": "stream",
          "text": [
            "\rExtracting features:  24%|██▎       | 445/1888 [10:15<56:16,  2.34s/it]  "
          ]
        },
        {
          "name": "stdout",
          "output_type": "stream",
          "text": [
            "Saved: late_cut_0180, seq_len=40\n"
          ]
        },
        {
          "name": "stderr",
          "output_type": "stream",
          "text": [
            "\rExtracting features:  24%|██▎       | 446/1888 [10:17<47:51,  1.99s/it]"
          ]
        },
        {
          "name": "stdout",
          "output_type": "stream",
          "text": [
            "Saved: late_cut_0113, seq_len=40\n"
          ]
        },
        {
          "name": "stderr",
          "output_type": "stream",
          "text": [
            "\rExtracting features:  24%|██▎       | 447/1888 [10:19<49:23,  2.06s/it]"
          ]
        },
        {
          "name": "stdout",
          "output_type": "stream",
          "text": [
            "Saved: late_cut_0126, seq_len=40\n"
          ]
        },
        {
          "name": "stderr",
          "output_type": "stream",
          "text": [
            "\rExtracting features:  24%|██▎       | 448/1888 [10:21<47:37,  1.98s/it]"
          ]
        },
        {
          "name": "stdout",
          "output_type": "stream",
          "text": [
            "Saved: late_cut_0039, seq_len=40\n"
          ]
        },
        {
          "name": "stderr",
          "output_type": "stream",
          "text": [
            "\rExtracting features:  24%|██▍       | 449/1888 [10:22<46:02,  1.92s/it]"
          ]
        },
        {
          "name": "stdout",
          "output_type": "stream",
          "text": [
            "Saved: late_cut_0019, seq_len=40\n"
          ]
        },
        {
          "name": "stderr",
          "output_type": "stream",
          "text": [
            "\rExtracting features:  24%|██▍       | 450/1888 [10:24<45:10,  1.89s/it]"
          ]
        },
        {
          "name": "stdout",
          "output_type": "stream",
          "text": [
            "Saved: late_cut_0018, seq_len=40\n"
          ]
        },
        {
          "name": "stderr",
          "output_type": "stream",
          "text": [
            "\rExtracting features:  24%|██▍       | 451/1888 [10:26<44:10,  1.84s/it]"
          ]
        },
        {
          "name": "stdout",
          "output_type": "stream",
          "text": [
            "Saved: late_cut_0147, seq_len=40\n"
          ]
        },
        {
          "name": "stderr",
          "output_type": "stream",
          "text": [
            "\rExtracting features:  24%|██▍       | 452/1888 [10:28<45:02,  1.88s/it]"
          ]
        },
        {
          "name": "stdout",
          "output_type": "stream",
          "text": [
            "Saved: late_cut_0121, seq_len=40\n"
          ]
        },
        {
          "name": "stderr",
          "output_type": "stream",
          "text": [
            "\rExtracting features:  24%|██▍       | 453/1888 [10:30<43:55,  1.84s/it]"
          ]
        },
        {
          "name": "stdout",
          "output_type": "stream",
          "text": [
            "Saved: late_cut_0144, seq_len=40\n"
          ]
        },
        {
          "name": "stderr",
          "output_type": "stream",
          "text": [
            "\rExtracting features:  24%|██▍       | 454/1888 [10:31<42:55,  1.80s/it]"
          ]
        },
        {
          "name": "stdout",
          "output_type": "stream",
          "text": [
            "Saved: late_cut_0046, seq_len=40\n"
          ]
        },
        {
          "name": "stderr",
          "output_type": "stream",
          "text": [
            "\rExtracting features:  24%|██▍       | 455/1888 [10:33<41:48,  1.75s/it]"
          ]
        },
        {
          "name": "stdout",
          "output_type": "stream",
          "text": [
            "Saved: late_cut_0133, seq_len=40\n"
          ]
        },
        {
          "name": "stderr",
          "output_type": "stream",
          "text": [
            "\rExtracting features:  24%|██▍       | 456/1888 [10:35<45:10,  1.89s/it]"
          ]
        },
        {
          "name": "stdout",
          "output_type": "stream",
          "text": [
            "Saved: late_cut_0146, seq_len=40\n"
          ]
        },
        {
          "name": "stderr",
          "output_type": "stream",
          "text": [
            "\rExtracting features:  24%|██▍       | 457/1888 [10:37<45:55,  1.93s/it]"
          ]
        },
        {
          "name": "stdout",
          "output_type": "stream",
          "text": [
            "Saved: late_cut_0087, seq_len=40\n"
          ]
        },
        {
          "name": "stderr",
          "output_type": "stream",
          "text": [
            "\rExtracting features:  24%|██▍       | 458/1888 [10:39<44:44,  1.88s/it]"
          ]
        },
        {
          "name": "stdout",
          "output_type": "stream",
          "text": [
            "Saved: late_cut_0135, seq_len=40\n"
          ]
        },
        {
          "name": "stderr",
          "output_type": "stream",
          "text": [
            "\rExtracting features:  24%|██▍       | 459/1888 [10:40<39:50,  1.67s/it]"
          ]
        },
        {
          "name": "stdout",
          "output_type": "stream",
          "text": [
            "Saved: late_cut_0095, seq_len=40\n"
          ]
        },
        {
          "name": "stderr",
          "output_type": "stream",
          "text": [
            "\rExtracting features:  24%|██▍       | 460/1888 [10:42<39:49,  1.67s/it]"
          ]
        },
        {
          "name": "stdout",
          "output_type": "stream",
          "text": [
            "Saved: late_cut_0117, seq_len=40\n"
          ]
        },
        {
          "name": "stderr",
          "output_type": "stream",
          "text": [
            "\rExtracting features:  24%|██▍       | 461/1888 [10:44<42:38,  1.79s/it]"
          ]
        },
        {
          "name": "stdout",
          "output_type": "stream",
          "text": [
            "Saved: late_cut_0112, seq_len=40\n"
          ]
        },
        {
          "name": "stderr",
          "output_type": "stream",
          "text": [
            "\rExtracting features:  24%|██▍       | 462/1888 [10:47<49:43,  2.09s/it]"
          ]
        },
        {
          "name": "stdout",
          "output_type": "stream",
          "text": [
            "Saved: late_cut_0110, seq_len=40\n"
          ]
        },
        {
          "name": "stderr",
          "output_type": "stream",
          "text": [
            "\rExtracting features:  25%|██▍       | 463/1888 [10:49<47:47,  2.01s/it]"
          ]
        },
        {
          "name": "stdout",
          "output_type": "stream",
          "text": [
            "Saved: late_cut_0099, seq_len=40\n"
          ]
        },
        {
          "name": "stderr",
          "output_type": "stream",
          "text": [
            "\rExtracting features:  25%|██▍       | 464/1888 [10:52<59:50,  2.52s/it]"
          ]
        },
        {
          "name": "stdout",
          "output_type": "stream",
          "text": [
            "Saved: late_cut_0094, seq_len=40\n"
          ]
        },
        {
          "name": "stderr",
          "output_type": "stream",
          "text": [
            "\rExtracting features:  25%|██▍       | 465/1888 [10:54<54:10,  2.28s/it]"
          ]
        },
        {
          "name": "stdout",
          "output_type": "stream",
          "text": [
            "Saved: late_cut_0120, seq_len=40\n"
          ]
        },
        {
          "name": "stderr",
          "output_type": "stream",
          "text": [
            "\rExtracting features:  25%|██▍       | 466/1888 [10:57<56:34,  2.39s/it]"
          ]
        },
        {
          "name": "stdout",
          "output_type": "stream",
          "text": [
            "Saved: late_cut_0100, seq_len=40\n"
          ]
        },
        {
          "name": "stderr",
          "output_type": "stream",
          "text": [
            "\rExtracting features:  25%|██▍       | 467/1888 [10:58<52:30,  2.22s/it]"
          ]
        },
        {
          "name": "stdout",
          "output_type": "stream",
          "text": [
            "Saved: late_cut_0122, seq_len=40\n"
          ]
        },
        {
          "name": "stderr",
          "output_type": "stream",
          "text": [
            "\rExtracting features:  25%|██▍       | 468/1888 [11:00<49:39,  2.10s/it]"
          ]
        },
        {
          "name": "stdout",
          "output_type": "stream",
          "text": [
            "Saved: late_cut_0136, seq_len=40\n"
          ]
        },
        {
          "name": "stderr",
          "output_type": "stream",
          "text": [
            "\rExtracting features:  25%|██▍       | 469/1888 [11:02<43:25,  1.84s/it]"
          ]
        },
        {
          "name": "stdout",
          "output_type": "stream",
          "text": [
            "Saved: late_cut_0116, seq_len=40\n"
          ]
        },
        {
          "name": "stderr",
          "output_type": "stream",
          "text": [
            "\rExtracting features:  25%|██▍       | 470/1888 [11:03<41:29,  1.76s/it]"
          ]
        },
        {
          "name": "stdout",
          "output_type": "stream",
          "text": [
            "Saved: late_cut_0156, seq_len=40\n"
          ]
        },
        {
          "name": "stderr",
          "output_type": "stream",
          "text": [
            "\rExtracting features:  25%|██▍       | 471/1888 [11:05<42:14,  1.79s/it]"
          ]
        },
        {
          "name": "stdout",
          "output_type": "stream",
          "text": [
            "Saved: late_cut_0020, seq_len=40\n"
          ]
        },
        {
          "name": "stderr",
          "output_type": "stream",
          "text": [
            "\rExtracting features:  25%|██▌       | 472/1888 [11:07<42:13,  1.79s/it]"
          ]
        },
        {
          "name": "stdout",
          "output_type": "stream",
          "text": [
            "Saved: late_cut_0139, seq_len=40\n"
          ]
        },
        {
          "name": "stderr",
          "output_type": "stream",
          "text": [
            "\rExtracting features:  25%|██▌       | 473/1888 [11:09<42:32,  1.80s/it]"
          ]
        },
        {
          "name": "stdout",
          "output_type": "stream",
          "text": [
            "Saved: late_cut_0119, seq_len=40\n"
          ]
        },
        {
          "name": "stderr",
          "output_type": "stream",
          "text": [
            "\rExtracting features:  25%|██▌       | 474/1888 [11:10<40:02,  1.70s/it]"
          ]
        },
        {
          "name": "stdout",
          "output_type": "stream",
          "text": [
            "Saved: late_cut_0114, seq_len=40\n"
          ]
        },
        {
          "name": "stderr",
          "output_type": "stream",
          "text": [
            "\rExtracting features:  25%|██▌       | 475/1888 [11:12<40:31,  1.72s/it]"
          ]
        },
        {
          "name": "stdout",
          "output_type": "stream",
          "text": [
            "Saved: late_cut_0091, seq_len=40\n"
          ]
        },
        {
          "name": "stderr",
          "output_type": "stream",
          "text": [
            "\rExtracting features:  25%|██▌       | 476/1888 [11:13<36:53,  1.57s/it]"
          ]
        },
        {
          "name": "stdout",
          "output_type": "stream",
          "text": [
            "Saved: late_cut_0109, seq_len=40\n"
          ]
        },
        {
          "name": "stderr",
          "output_type": "stream",
          "text": [
            "\rExtracting features:  25%|██▌       | 477/1888 [11:15<39:44,  1.69s/it]"
          ]
        },
        {
          "name": "stdout",
          "output_type": "stream",
          "text": [
            "Saved: late_cut_0115, seq_len=40\n"
          ]
        },
        {
          "name": "stderr",
          "output_type": "stream",
          "text": [
            "\rExtracting features:  25%|██▌       | 478/1888 [11:18<47:49,  2.04s/it]"
          ]
        },
        {
          "name": "stdout",
          "output_type": "stream",
          "text": [
            "Saved: late_cut_0103, seq_len=40\n"
          ]
        },
        {
          "name": "stderr",
          "output_type": "stream",
          "text": [
            "\rExtracting features:  25%|██▌       | 479/1888 [11:20<50:54,  2.17s/it]"
          ]
        },
        {
          "name": "stdout",
          "output_type": "stream",
          "text": [
            "Saved: late_cut_0043, seq_len=40\n"
          ]
        },
        {
          "name": "stderr",
          "output_type": "stream",
          "text": [
            "\rExtracting features:  25%|██▌       | 480/1888 [11:22<46:46,  1.99s/it]"
          ]
        },
        {
          "name": "stdout",
          "output_type": "stream",
          "text": [
            "Saved: late_cut_0093, seq_len=40\n"
          ]
        },
        {
          "name": "stderr",
          "output_type": "stream",
          "text": [
            "\rExtracting features:  25%|██▌       | 481/1888 [11:24<44:57,  1.92s/it]"
          ]
        },
        {
          "name": "stdout",
          "output_type": "stream",
          "text": [
            "Saved: late_cut_0092, seq_len=40\n"
          ]
        },
        {
          "name": "stderr",
          "output_type": "stream",
          "text": [
            "\rExtracting features:  26%|██▌       | 482/1888 [11:25<44:06,  1.88s/it]"
          ]
        },
        {
          "name": "stdout",
          "output_type": "stream",
          "text": [
            "Saved: late_cut_0096, seq_len=40\n"
          ]
        },
        {
          "name": "stderr",
          "output_type": "stream",
          "text": [
            "\rExtracting features:  26%|██▌       | 483/1888 [11:27<42:39,  1.82s/it]"
          ]
        },
        {
          "name": "stdout",
          "output_type": "stream",
          "text": [
            "Saved: late_cut_0089, seq_len=40\n"
          ]
        },
        {
          "name": "stderr",
          "output_type": "stream",
          "text": [
            "\rExtracting features:  26%|██▌       | 484/1888 [11:30<46:35,  1.99s/it]"
          ]
        },
        {
          "name": "stdout",
          "output_type": "stream",
          "text": [
            "Saved: late_cut_0097, seq_len=40\n"
          ]
        },
        {
          "name": "stderr",
          "output_type": "stream",
          "text": [
            "\rExtracting features:  26%|██▌       | 485/1888 [11:31<44:36,  1.91s/it]"
          ]
        },
        {
          "name": "stdout",
          "output_type": "stream",
          "text": [
            "Saved: late_cut_0078, seq_len=40\n"
          ]
        },
        {
          "name": "stderr",
          "output_type": "stream",
          "text": [
            "\rExtracting features:  26%|██▌       | 486/1888 [11:33<45:02,  1.93s/it]"
          ]
        },
        {
          "name": "stdout",
          "output_type": "stream",
          "text": [
            "Saved: late_cut_0118, seq_len=40\n"
          ]
        },
        {
          "name": "stderr",
          "output_type": "stream",
          "text": [
            "\rExtracting features:  26%|██▌       | 487/1888 [11:35<42:08,  1.80s/it]"
          ]
        },
        {
          "name": "stdout",
          "output_type": "stream",
          "text": [
            "Saved: late_cut_0072, seq_len=40\n"
          ]
        },
        {
          "name": "stderr",
          "output_type": "stream",
          "text": [
            "\rExtracting features:  26%|██▌       | 488/1888 [11:37<42:54,  1.84s/it]"
          ]
        },
        {
          "name": "stdout",
          "output_type": "stream",
          "text": [
            "Saved: late_cut_0082, seq_len=40\n"
          ]
        },
        {
          "name": "stderr",
          "output_type": "stream",
          "text": [
            "\rExtracting features:  26%|██▌       | 489/1888 [11:38<38:03,  1.63s/it]"
          ]
        },
        {
          "name": "stdout",
          "output_type": "stream",
          "text": [
            "Saved: late_cut_0080, seq_len=40\n"
          ]
        },
        {
          "name": "stderr",
          "output_type": "stream",
          "text": [
            "\rExtracting features:  26%|██▌       | 490/1888 [11:40<45:00,  1.93s/it]"
          ]
        },
        {
          "name": "stdout",
          "output_type": "stream",
          "text": [
            "Saved: late_cut_0081, seq_len=40\n"
          ]
        },
        {
          "name": "stderr",
          "output_type": "stream",
          "text": [
            "\rExtracting features:  26%|██▌       | 491/1888 [11:42<39:29,  1.70s/it]"
          ]
        },
        {
          "name": "stdout",
          "output_type": "stream",
          "text": [
            "Saved: late_cut_0058, seq_len=40\n"
          ]
        },
        {
          "name": "stderr",
          "output_type": "stream",
          "text": [
            "\rExtracting features:  26%|██▌       | 492/1888 [11:43<39:44,  1.71s/it]"
          ]
        },
        {
          "name": "stdout",
          "output_type": "stream",
          "text": [
            "Saved: late_cut_0074, seq_len=40\n"
          ]
        },
        {
          "name": "stderr",
          "output_type": "stream",
          "text": [
            "\rExtracting features:  26%|██▌       | 493/1888 [11:46<48:40,  2.09s/it]"
          ]
        },
        {
          "name": "stdout",
          "output_type": "stream",
          "text": [
            "Saved: late_cut_0088, seq_len=40\n"
          ]
        },
        {
          "name": "stderr",
          "output_type": "stream",
          "text": [
            "\rExtracting features:  26%|██▌       | 494/1888 [11:51<1:07:52,  2.92s/it]"
          ]
        },
        {
          "name": "stdout",
          "output_type": "stream",
          "text": [
            "Saved: late_cut_0044, seq_len=40\n"
          ]
        },
        {
          "name": "stderr",
          "output_type": "stream",
          "text": [
            "\rExtracting features:  26%|██▌       | 495/1888 [11:52<56:04,  2.42s/it]  "
          ]
        },
        {
          "name": "stdout",
          "output_type": "stream",
          "text": [
            "Saved: late_cut_0085, seq_len=40\n"
          ]
        },
        {
          "name": "stderr",
          "output_type": "stream",
          "text": [
            "\rExtracting features:  26%|██▋       | 496/1888 [11:54<47:06,  2.03s/it]"
          ]
        },
        {
          "name": "stdout",
          "output_type": "stream",
          "text": [
            "Saved: late_cut_0075, seq_len=40\n"
          ]
        },
        {
          "name": "stderr",
          "output_type": "stream",
          "text": [
            "\rExtracting features:  26%|██▋       | 497/1888 [11:55<46:09,  1.99s/it]"
          ]
        },
        {
          "name": "stdout",
          "output_type": "stream",
          "text": [
            "Saved: late_cut_0098, seq_len=40\n"
          ]
        },
        {
          "name": "stderr",
          "output_type": "stream",
          "text": [
            "\rExtracting features:  26%|██▋       | 498/1888 [11:57<44:59,  1.94s/it]"
          ]
        },
        {
          "name": "stdout",
          "output_type": "stream",
          "text": [
            "Saved: late_cut_0079, seq_len=40\n"
          ]
        },
        {
          "name": "stderr",
          "output_type": "stream",
          "text": [
            "\rExtracting features:  26%|██▋       | 499/1888 [11:59<42:39,  1.84s/it]"
          ]
        },
        {
          "name": "stdout",
          "output_type": "stream",
          "text": [
            "Saved: late_cut_0073, seq_len=40\n"
          ]
        },
        {
          "name": "stderr",
          "output_type": "stream",
          "text": [
            "\rExtracting features:  26%|██▋       | 500/1888 [12:01<45:05,  1.95s/it]"
          ]
        },
        {
          "name": "stdout",
          "output_type": "stream",
          "text": [
            "Saved: late_cut_0071, seq_len=40\n"
          ]
        },
        {
          "name": "stderr",
          "output_type": "stream",
          "text": [
            "\rExtracting features:  27%|██▋       | 501/1888 [12:02<41:03,  1.78s/it]"
          ]
        },
        {
          "name": "stdout",
          "output_type": "stream",
          "text": [
            "Saved: late_cut_0063, seq_len=40\n"
          ]
        },
        {
          "name": "stderr",
          "output_type": "stream",
          "text": [
            "\rExtracting features:  27%|██▋       | 502/1888 [12:04<39:00,  1.69s/it]"
          ]
        },
        {
          "name": "stdout",
          "output_type": "stream",
          "text": [
            "Saved: late_cut_0064, seq_len=40\n"
          ]
        },
        {
          "name": "stderr",
          "output_type": "stream",
          "text": [
            "\rExtracting features:  27%|██▋       | 503/1888 [12:05<36:17,  1.57s/it]"
          ]
        },
        {
          "name": "stdout",
          "output_type": "stream",
          "text": [
            "Saved: late_cut_0053, seq_len=40\n"
          ]
        },
        {
          "name": "stderr",
          "output_type": "stream",
          "text": [
            "\rExtracting features:  27%|██▋       | 504/1888 [12:07<37:50,  1.64s/it]"
          ]
        },
        {
          "name": "stdout",
          "output_type": "stream",
          "text": [
            "Saved: late_cut_0066, seq_len=40\n"
          ]
        },
        {
          "name": "stderr",
          "output_type": "stream",
          "text": [
            "\rExtracting features:  27%|██▋       | 505/1888 [12:10<47:27,  2.06s/it]"
          ]
        },
        {
          "name": "stdout",
          "output_type": "stream",
          "text": [
            "Saved: late_cut_0024, seq_len=40\n"
          ]
        },
        {
          "name": "stderr",
          "output_type": "stream",
          "text": [
            "\rExtracting features:  27%|██▋       | 506/1888 [12:12<43:28,  1.89s/it]"
          ]
        },
        {
          "name": "stdout",
          "output_type": "stream",
          "text": [
            "Saved: late_cut_0059, seq_len=40\n"
          ]
        },
        {
          "name": "stderr",
          "output_type": "stream",
          "text": [
            "\rExtracting features:  27%|██▋       | 507/1888 [12:13<39:02,  1.70s/it]"
          ]
        },
        {
          "name": "stdout",
          "output_type": "stream",
          "text": [
            "Saved: late_cut_0007, seq_len=40\n"
          ]
        },
        {
          "name": "stderr",
          "output_type": "stream",
          "text": [
            "\rExtracting features:  27%|██▋       | 508/1888 [12:15<39:35,  1.72s/it]"
          ]
        },
        {
          "name": "stdout",
          "output_type": "stream",
          "text": [
            "Saved: late_cut_0076, seq_len=40\n"
          ]
        },
        {
          "name": "stderr",
          "output_type": "stream",
          "text": [
            "\rExtracting features:  27%|██▋       | 509/1888 [12:17<41:16,  1.80s/it]"
          ]
        },
        {
          "name": "stdout",
          "output_type": "stream",
          "text": [
            "Saved: late_cut_0057, seq_len=40\n"
          ]
        },
        {
          "name": "stderr",
          "output_type": "stream",
          "text": [
            "\rExtracting features:  27%|██▋       | 510/1888 [12:18<37:01,  1.61s/it]"
          ]
        },
        {
          "name": "stdout",
          "output_type": "stream",
          "text": [
            "Saved: late_cut_0035, seq_len=40\n"
          ]
        },
        {
          "name": "stderr",
          "output_type": "stream",
          "text": [
            "\rExtracting features:  27%|██▋       | 511/1888 [12:20<42:31,  1.85s/it]"
          ]
        },
        {
          "name": "stdout",
          "output_type": "stream",
          "text": [
            "Saved: late_cut_0070, seq_len=40\n"
          ]
        },
        {
          "name": "stderr",
          "output_type": "stream",
          "text": [
            "\rExtracting features:  27%|██▋       | 512/1888 [12:22<44:05,  1.92s/it]"
          ]
        },
        {
          "name": "stdout",
          "output_type": "stream",
          "text": [
            "Saved: late_cut_0086, seq_len=40\n"
          ]
        },
        {
          "name": "stderr",
          "output_type": "stream",
          "text": [
            "\rExtracting features:  27%|██▋       | 513/1888 [12:24<40:56,  1.79s/it]"
          ]
        },
        {
          "name": "stdout",
          "output_type": "stream",
          "text": [
            "Saved: late_cut_0055, seq_len=40\n"
          ]
        },
        {
          "name": "stderr",
          "output_type": "stream",
          "text": [
            "\rExtracting features:  27%|██▋       | 514/1888 [12:25<38:00,  1.66s/it]"
          ]
        },
        {
          "name": "stdout",
          "output_type": "stream",
          "text": [
            "Saved: late_cut_0067, seq_len=40\n"
          ]
        },
        {
          "name": "stderr",
          "output_type": "stream",
          "text": [
            "\rExtracting features:  27%|██▋       | 515/1888 [12:26<34:11,  1.49s/it]"
          ]
        },
        {
          "name": "stdout",
          "output_type": "stream",
          "text": [
            "Saved: late_cut_0169, seq_len=40\n"
          ]
        },
        {
          "name": "stderr",
          "output_type": "stream",
          "text": [
            "\rExtracting features:  27%|██▋       | 516/1888 [12:28<35:42,  1.56s/it]"
          ]
        },
        {
          "name": "stdout",
          "output_type": "stream",
          "text": [
            "Saved: late_cut_0077, seq_len=40\n"
          ]
        },
        {
          "name": "stderr",
          "output_type": "stream",
          "text": [
            "\rExtracting features:  27%|██▋       | 517/1888 [12:29<32:17,  1.41s/it]"
          ]
        },
        {
          "name": "stdout",
          "output_type": "stream",
          "text": [
            "Saved: late_cut_0003, seq_len=40\n"
          ]
        },
        {
          "name": "stderr",
          "output_type": "stream",
          "text": [
            "\rExtracting features:  27%|██▋       | 518/1888 [12:30<30:57,  1.36s/it]"
          ]
        },
        {
          "name": "stdout",
          "output_type": "stream",
          "text": [
            "Saved: late_cut_0005, seq_len=40\n"
          ]
        },
        {
          "name": "stderr",
          "output_type": "stream",
          "text": [
            "\rExtracting features:  27%|██▋       | 519/1888 [12:32<33:46,  1.48s/it]"
          ]
        },
        {
          "name": "stdout",
          "output_type": "stream",
          "text": [
            "Saved: late_cut_0054, seq_len=40\n"
          ]
        },
        {
          "name": "stderr",
          "output_type": "stream",
          "text": [
            "\rExtracting features:  28%|██▊       | 520/1888 [12:33<32:08,  1.41s/it]"
          ]
        },
        {
          "name": "stdout",
          "output_type": "stream",
          "text": [
            "Saved: late_cut_0056, seq_len=40\n"
          ]
        },
        {
          "name": "stderr",
          "output_type": "stream",
          "text": [
            "\rExtracting features:  28%|██▊       | 521/1888 [12:34<30:03,  1.32s/it]"
          ]
        },
        {
          "name": "stdout",
          "output_type": "stream",
          "text": [
            "Saved: late_cut_0049, seq_len=40\n"
          ]
        },
        {
          "name": "stderr",
          "output_type": "stream",
          "text": [
            "\rExtracting features:  28%|██▊       | 522/1888 [12:36<31:20,  1.38s/it]"
          ]
        },
        {
          "name": "stdout",
          "output_type": "stream",
          "text": [
            "Saved: late_cut_0061, seq_len=40\n"
          ]
        },
        {
          "name": "stderr",
          "output_type": "stream",
          "text": [
            "\rExtracting features:  28%|██▊       | 523/1888 [12:38<36:04,  1.59s/it]"
          ]
        },
        {
          "name": "stdout",
          "output_type": "stream",
          "text": [
            "Saved: late_cut_0004, seq_len=40\n"
          ]
        },
        {
          "name": "stderr",
          "output_type": "stream",
          "text": [
            "\rExtracting features:  28%|██▊       | 524/1888 [12:40<37:04,  1.63s/it]"
          ]
        },
        {
          "name": "stdout",
          "output_type": "stream",
          "text": [
            "Saved: late_cut_0010, seq_len=40\n"
          ]
        },
        {
          "name": "stderr",
          "output_type": "stream",
          "text": [
            "\rExtracting features:  28%|██▊       | 525/1888 [12:41<37:34,  1.65s/it]"
          ]
        },
        {
          "name": "stdout",
          "output_type": "stream",
          "text": [
            "Saved: late_cut_0006, seq_len=40\n"
          ]
        },
        {
          "name": "stderr",
          "output_type": "stream",
          "text": [
            "\rExtracting features:  28%|██▊       | 526/1888 [12:43<39:03,  1.72s/it]"
          ]
        },
        {
          "name": "stdout",
          "output_type": "stream",
          "text": [
            "Saved: late_cut_0124, seq_len=40\n"
          ]
        },
        {
          "name": "stderr",
          "output_type": "stream",
          "text": [
            "\rExtracting features:  28%|██▊       | 527/1888 [12:45<39:53,  1.76s/it]"
          ]
        },
        {
          "name": "stdout",
          "output_type": "stream",
          "text": [
            "Saved: late_cut_0090, seq_len=40\n"
          ]
        },
        {
          "name": "stderr",
          "output_type": "stream",
          "text": [
            "\rExtracting features:  28%|██▊       | 528/1888 [12:48<50:02,  2.21s/it]"
          ]
        },
        {
          "name": "stdout",
          "output_type": "stream",
          "text": [
            "Saved: late_cut_0060, seq_len=40\n"
          ]
        },
        {
          "name": "stderr",
          "output_type": "stream",
          "text": [
            "\rExtracting features:  28%|██▊       | 529/1888 [12:50<45:20,  2.00s/it]"
          ]
        },
        {
          "name": "stdout",
          "output_type": "stream",
          "text": [
            "Saved: late_cut_0008, seq_len=40\n"
          ]
        },
        {
          "name": "stderr",
          "output_type": "stream",
          "text": [
            "\rExtracting features:  28%|██▊       | 530/1888 [12:52<43:23,  1.92s/it]"
          ]
        },
        {
          "name": "stdout",
          "output_type": "stream",
          "text": [
            "Saved: late_cut_0151, seq_len=40\n"
          ]
        },
        {
          "name": "stderr",
          "output_type": "stream",
          "text": [
            "\rExtracting features:  28%|██▊       | 531/1888 [12:53<38:49,  1.72s/it]"
          ]
        },
        {
          "name": "stdout",
          "output_type": "stream",
          "text": [
            "Saved: late_cut_0065, seq_len=40\n"
          ]
        },
        {
          "name": "stderr",
          "output_type": "stream",
          "text": [
            "\rExtracting features:  28%|██▊       | 532/1888 [12:59<1:11:58,  3.18s/it]"
          ]
        },
        {
          "name": "stdout",
          "output_type": "stream",
          "text": [
            "Saved: late_cut_0042, seq_len=40\n"
          ]
        },
        {
          "name": "stderr",
          "output_type": "stream",
          "text": [
            "\rExtracting features:  28%|██▊       | 533/1888 [13:01<1:00:23,  2.67s/it]"
          ]
        },
        {
          "name": "stdout",
          "output_type": "stream",
          "text": [
            "Saved: late_cut_0013, seq_len=40\n"
          ]
        },
        {
          "name": "stderr",
          "output_type": "stream",
          "text": [
            "\rExtracting features:  28%|██▊       | 534/1888 [13:03<54:34,  2.42s/it]  "
          ]
        },
        {
          "name": "stdout",
          "output_type": "stream",
          "text": [
            "Saved: late_cut_0062, seq_len=40\n"
          ]
        },
        {
          "name": "stderr",
          "output_type": "stream",
          "text": [
            "\rExtracting features:  28%|██▊       | 535/1888 [13:05<50:44,  2.25s/it]"
          ]
        },
        {
          "name": "stdout",
          "output_type": "stream",
          "text": [
            "Saved: late_cut_0051, seq_len=40\n"
          ]
        },
        {
          "name": "stderr",
          "output_type": "stream",
          "text": [
            "\rExtracting features:  28%|██▊       | 536/1888 [13:06<44:25,  1.97s/it]"
          ]
        },
        {
          "name": "stdout",
          "output_type": "stream",
          "text": [
            "Saved: late_cut_0068, seq_len=40\n"
          ]
        },
        {
          "name": "stderr",
          "output_type": "stream",
          "text": [
            "\rExtracting features:  28%|██▊       | 537/1888 [13:08<42:36,  1.89s/it]"
          ]
        },
        {
          "name": "stdout",
          "output_type": "stream",
          "text": [
            "Saved: late_cut_0001, seq_len=40\n"
          ]
        },
        {
          "name": "stderr",
          "output_type": "stream",
          "text": [
            "\rExtracting features:  28%|██▊       | 538/1888 [13:09<42:18,  1.88s/it]"
          ]
        },
        {
          "name": "stdout",
          "output_type": "stream",
          "text": [
            "Saved: late_cut_0168, seq_len=40\n"
          ]
        },
        {
          "name": "stderr",
          "output_type": "stream",
          "text": [
            "\rExtracting features:  29%|██▊       | 539/1888 [13:11<41:12,  1.83s/it]"
          ]
        },
        {
          "name": "stdout",
          "output_type": "stream",
          "text": [
            "Saved: late_cut_0048, seq_len=40\n"
          ]
        },
        {
          "name": "stderr",
          "output_type": "stream",
          "text": [
            "\rExtracting features:  29%|██▊       | 540/1888 [13:12<35:43,  1.59s/it]"
          ]
        },
        {
          "name": "stdout",
          "output_type": "stream",
          "text": [
            "Saved: late_cut_0178, seq_len=40\n"
          ]
        },
        {
          "name": "stderr",
          "output_type": "stream",
          "text": [
            "\rExtracting features:  29%|██▊       | 541/1888 [13:14<39:09,  1.74s/it]"
          ]
        },
        {
          "name": "stdout",
          "output_type": "stream",
          "text": [
            "Saved: late_cut_0009, seq_len=40\n"
          ]
        },
        {
          "name": "stderr",
          "output_type": "stream",
          "text": [
            "\rExtracting features:  29%|██▊       | 542/1888 [13:19<59:12,  2.64s/it]"
          ]
        },
        {
          "name": "stdout",
          "output_type": "stream",
          "text": [
            "Saved: late_cut_0012, seq_len=40\n"
          ]
        },
        {
          "name": "stderr",
          "output_type": "stream",
          "text": [
            "\rExtracting features:  29%|██▉       | 543/1888 [13:21<52:53,  2.36s/it]"
          ]
        },
        {
          "name": "stdout",
          "output_type": "stream",
          "text": [
            "Saved: late_cut_0142, seq_len=40\n"
          ]
        },
        {
          "name": "stderr",
          "output_type": "stream",
          "text": [
            "\rExtracting features:  29%|██▉       | 544/1888 [13:23<55:18,  2.47s/it]"
          ]
        },
        {
          "name": "stdout",
          "output_type": "stream",
          "text": [
            "Saved: late_cut_0141, seq_len=40\n"
          ]
        },
        {
          "name": "stderr",
          "output_type": "stream",
          "text": [
            "\rExtracting features:  29%|██▉       | 545/1888 [13:25<50:01,  2.24s/it]"
          ]
        },
        {
          "name": "stdout",
          "output_type": "stream",
          "text": [
            "Saved: late_cut_0023, seq_len=40\n"
          ]
        },
        {
          "name": "stderr",
          "output_type": "stream",
          "text": [
            "\rExtracting features:  29%|██▉       | 546/1888 [13:27<46:17,  2.07s/it]"
          ]
        },
        {
          "name": "stdout",
          "output_type": "stream",
          "text": [
            "Saved: late_cut_0050, seq_len=40\n"
          ]
        },
        {
          "name": "stderr",
          "output_type": "stream",
          "text": [
            "\rExtracting features:  29%|██▉       | 547/1888 [13:30<51:30,  2.30s/it]"
          ]
        },
        {
          "name": "stdout",
          "output_type": "stream",
          "text": [
            "Saved: late_cut_0052, seq_len=40\n"
          ]
        },
        {
          "name": "stderr",
          "output_type": "stream",
          "text": [
            "\rExtracting features:  29%|██▉       | 548/1888 [13:31<47:47,  2.14s/it]"
          ]
        },
        {
          "name": "stdout",
          "output_type": "stream",
          "text": [
            "Saved: late_cut_0182, seq_len=40\n"
          ]
        },
        {
          "name": "stderr",
          "output_type": "stream",
          "text": [
            "\rExtracting features:  29%|██▉       | 549/1888 [13:34<53:54,  2.42s/it]"
          ]
        },
        {
          "name": "stdout",
          "output_type": "stream",
          "text": [
            "Saved: late_cut_0181, seq_len=40\n"
          ]
        },
        {
          "name": "stderr",
          "output_type": "stream",
          "text": [
            "\rExtracting features:  29%|██▉       | 550/1888 [13:36<49:27,  2.22s/it]"
          ]
        },
        {
          "name": "stdout",
          "output_type": "stream",
          "text": [
            "Saved: late_cut_0069, seq_len=40\n"
          ]
        },
        {
          "name": "stderr",
          "output_type": "stream",
          "text": [
            "\rExtracting features:  29%|██▉       | 551/1888 [13:40<59:42,  2.68s/it]"
          ]
        },
        {
          "name": "stdout",
          "output_type": "stream",
          "text": [
            "Saved: late_cut_0011, seq_len=40\n"
          ]
        },
        {
          "name": "stderr",
          "output_type": "stream",
          "text": [
            "\rExtracting features:  29%|██▉       | 552/1888 [13:42<55:25,  2.49s/it]"
          ]
        },
        {
          "name": "stdout",
          "output_type": "stream",
          "text": [
            "Saved: late_cut_0176, seq_len=40\n"
          ]
        },
        {
          "name": "stderr",
          "output_type": "stream",
          "text": [
            "\rExtracting features:  29%|██▉       | 553/1888 [13:44<50:37,  2.28s/it]"
          ]
        },
        {
          "name": "stdout",
          "output_type": "stream",
          "text": [
            "Saved: late_cut_0150, seq_len=40\n"
          ]
        },
        {
          "name": "stderr",
          "output_type": "stream",
          "text": [
            "\rExtracting features:  29%|██▉       | 554/1888 [13:45<46:32,  2.09s/it]"
          ]
        },
        {
          "name": "stdout",
          "output_type": "stream",
          "text": [
            "Saved: late_cut_0022, seq_len=40\n"
          ]
        },
        {
          "name": "stderr",
          "output_type": "stream",
          "text": [
            "\rExtracting features:  29%|██▉       | 555/1888 [13:47<44:34,  2.01s/it]"
          ]
        },
        {
          "name": "stdout",
          "output_type": "stream",
          "text": [
            "Saved: late_cut_0175, seq_len=40\n"
          ]
        },
        {
          "name": "stderr",
          "output_type": "stream",
          "text": [
            "\rExtracting features:  29%|██▉       | 556/1888 [13:49<43:55,  1.98s/it]"
          ]
        },
        {
          "name": "stdout",
          "output_type": "stream",
          "text": [
            "Saved: late_cut_0125, seq_len=40\n"
          ]
        },
        {
          "name": "stderr",
          "output_type": "stream",
          "text": [
            "\rExtracting features:  30%|██▉       | 557/1888 [13:51<44:33,  2.01s/it]"
          ]
        },
        {
          "name": "stdout",
          "output_type": "stream",
          "text": [
            "Saved: late_cut_0083, seq_len=40\n"
          ]
        },
        {
          "name": "stderr",
          "output_type": "stream",
          "text": [
            "\rExtracting features:  30%|██▉       | 558/1888 [14:01<1:35:31,  4.31s/it]"
          ]
        },
        {
          "name": "stdout",
          "output_type": "stream",
          "text": [
            "Saved: late_cut_0084, seq_len=40\n"
          ]
        },
        {
          "name": "stderr",
          "output_type": "stream",
          "text": [
            "\rExtracting features:  30%|██▉       | 559/1888 [14:04<1:24:49,  3.83s/it]"
          ]
        },
        {
          "name": "stdout",
          "output_type": "stream",
          "text": [
            "Saved: late_cut_0164, seq_len=40\n"
          ]
        },
        {
          "name": "stderr",
          "output_type": "stream",
          "text": [
            "\rExtracting features:  30%|██▉       | 560/1888 [14:06<1:13:42,  3.33s/it]"
          ]
        },
        {
          "name": "stdout",
          "output_type": "stream",
          "text": [
            "Saved: late_cut_0162, seq_len=40\n"
          ]
        },
        {
          "name": "stderr",
          "output_type": "stream",
          "text": [
            "\rExtracting features:  30%|██▉       | 561/1888 [14:08<1:03:50,  2.89s/it]"
          ]
        },
        {
          "name": "stdout",
          "output_type": "stream",
          "text": [
            "Saved: late_cut_0021, seq_len=40\n"
          ]
        },
        {
          "name": "stderr",
          "output_type": "stream",
          "text": [
            "\rExtracting features:  30%|██▉       | 562/1888 [14:10<57:54,  2.62s/it]  "
          ]
        },
        {
          "name": "stdout",
          "output_type": "stream",
          "text": [
            "Saved: late_cut_0167, seq_len=40\n"
          ]
        },
        {
          "name": "stderr",
          "output_type": "stream",
          "text": [
            "\rExtracting features:  30%|██▉       | 563/1888 [14:12<53:25,  2.42s/it]"
          ]
        },
        {
          "name": "stdout",
          "output_type": "stream",
          "text": [
            "Saved: late_cut_0165, seq_len=40\n"
          ]
        },
        {
          "name": "stderr",
          "output_type": "stream",
          "text": [
            "\rExtracting features:  30%|██▉       | 564/1888 [14:14<51:20,  2.33s/it]"
          ]
        },
        {
          "name": "stdout",
          "output_type": "stream",
          "text": [
            "Saved: late_cut_0102, seq_len=40\n"
          ]
        },
        {
          "name": "stderr",
          "output_type": "stream",
          "text": [
            "\rExtracting features:  30%|██▉       | 565/1888 [14:15<45:54,  2.08s/it]"
          ]
        },
        {
          "name": "stdout",
          "output_type": "stream",
          "text": [
            "Saved: late_cut_0174, seq_len=40\n"
          ]
        },
        {
          "name": "stderr",
          "output_type": "stream",
          "text": [
            "\rExtracting features:  30%|██▉       | 566/1888 [14:17<43:24,  1.97s/it]"
          ]
        },
        {
          "name": "stdout",
          "output_type": "stream",
          "text": [
            "Saved: late_cut_0101, seq_len=40\n"
          ]
        },
        {
          "name": "stderr",
          "output_type": "stream",
          "text": [
            "\rExtracting features:  30%|███       | 567/1888 [14:18<36:44,  1.67s/it]"
          ]
        },
        {
          "name": "stdout",
          "output_type": "stream",
          "text": [
            "Saved: late_cut_0177, seq_len=40\n"
          ]
        },
        {
          "name": "stderr",
          "output_type": "stream",
          "text": [
            "\rExtracting features:  30%|███       | 568/1888 [14:19<34:55,  1.59s/it]"
          ]
        },
        {
          "name": "stdout",
          "output_type": "stream",
          "text": [
            "Saved: late_cut_0163, seq_len=40\n"
          ]
        },
        {
          "name": "stderr",
          "output_type": "stream",
          "text": [
            "\rExtracting features:  30%|███       | 569/1888 [14:22<39:48,  1.81s/it]"
          ]
        },
        {
          "name": "stdout",
          "output_type": "stream",
          "text": [
            "Saved: late_cut_0166, seq_len=40\n"
          ]
        },
        {
          "name": "stderr",
          "output_type": "stream",
          "text": [
            "\rExtracting features:  30%|███       | 570/1888 [14:23<35:59,  1.64s/it]"
          ]
        },
        {
          "name": "stdout",
          "output_type": "stream",
          "text": [
            "Saved: late_cut_0170, seq_len=40\n"
          ]
        },
        {
          "name": "stderr",
          "output_type": "stream",
          "text": [
            "\rExtracting features:  30%|███       | 571/1888 [14:24<32:58,  1.50s/it]"
          ]
        },
        {
          "name": "stdout",
          "output_type": "stream",
          "text": [
            "Saved: flick_0172, seq_len=40\n"
          ]
        },
        {
          "name": "stderr",
          "output_type": "stream",
          "text": [
            "\rExtracting features:  30%|███       | 572/1888 [14:26<34:19,  1.56s/it]"
          ]
        },
        {
          "name": "stdout",
          "output_type": "stream",
          "text": [
            "Saved: flick_0176, seq_len=40\n"
          ]
        },
        {
          "name": "stderr",
          "output_type": "stream",
          "text": [
            "\rExtracting features:  30%|███       | 573/1888 [14:27<34:02,  1.55s/it]"
          ]
        },
        {
          "name": "stdout",
          "output_type": "stream",
          "text": [
            "Saved: flick_0173, seq_len=40\n"
          ]
        },
        {
          "name": "stderr",
          "output_type": "stream",
          "text": [
            "\rExtracting features:  30%|███       | 574/1888 [14:29<33:14,  1.52s/it]"
          ]
        },
        {
          "name": "stdout",
          "output_type": "stream",
          "text": [
            "Saved: flick_0177, seq_len=40\n"
          ]
        },
        {
          "name": "stderr",
          "output_type": "stream",
          "text": [
            "\rExtracting features:  30%|███       | 575/1888 [14:31<35:54,  1.64s/it]"
          ]
        },
        {
          "name": "stdout",
          "output_type": "stream",
          "text": [
            "Saved: flick_0169, seq_len=40\n"
          ]
        },
        {
          "name": "stderr",
          "output_type": "stream",
          "text": [
            "\rExtracting features:  31%|███       | 576/1888 [14:33<37:32,  1.72s/it]"
          ]
        },
        {
          "name": "stdout",
          "output_type": "stream",
          "text": [
            "Saved: flick_0171, seq_len=40\n"
          ]
        },
        {
          "name": "stderr",
          "output_type": "stream",
          "text": [
            "\rExtracting features:  31%|███       | 577/1888 [14:35<39:05,  1.79s/it]"
          ]
        },
        {
          "name": "stdout",
          "output_type": "stream",
          "text": [
            "Saved: flick_0174, seq_len=40\n"
          ]
        },
        {
          "name": "stderr",
          "output_type": "stream",
          "text": [
            "\rExtracting features:  31%|███       | 578/1888 [14:36<39:59,  1.83s/it]"
          ]
        },
        {
          "name": "stdout",
          "output_type": "stream",
          "text": [
            "Saved: flick_0167, seq_len=40\n"
          ]
        },
        {
          "name": "stderr",
          "output_type": "stream",
          "text": [
            "\rExtracting features:  31%|███       | 579/1888 [14:38<40:16,  1.85s/it]"
          ]
        },
        {
          "name": "stdout",
          "output_type": "stream",
          "text": [
            "Saved: flick_0168, seq_len=40\n"
          ]
        },
        {
          "name": "stderr",
          "output_type": "stream",
          "text": [
            "\rExtracting features:  31%|███       | 580/1888 [14:40<39:20,  1.80s/it]"
          ]
        },
        {
          "name": "stdout",
          "output_type": "stream",
          "text": [
            "Saved: flick_0175, seq_len=40\n"
          ]
        },
        {
          "name": "stderr",
          "output_type": "stream",
          "text": [
            "\rExtracting features:  31%|███       | 581/1888 [14:42<37:28,  1.72s/it]"
          ]
        },
        {
          "name": "stdout",
          "output_type": "stream",
          "text": [
            "Saved: flick_0030, seq_len=40\n"
          ]
        },
        {
          "name": "stderr",
          "output_type": "stream",
          "text": [
            "\rExtracting features:  31%|███       | 582/1888 [14:43<33:47,  1.55s/it]"
          ]
        },
        {
          "name": "stdout",
          "output_type": "stream",
          "text": [
            "Saved: flick_0029, seq_len=40\n"
          ]
        },
        {
          "name": "stderr",
          "output_type": "stream",
          "text": [
            "\rExtracting features:  31%|███       | 583/1888 [14:45<35:42,  1.64s/it]"
          ]
        },
        {
          "name": "stdout",
          "output_type": "stream",
          "text": [
            "Saved: flick_0166, seq_len=40\n"
          ]
        },
        {
          "name": "stderr",
          "output_type": "stream",
          "text": [
            "\rExtracting features:  31%|███       | 584/1888 [14:46<36:38,  1.69s/it]"
          ]
        },
        {
          "name": "stdout",
          "output_type": "stream",
          "text": [
            "Saved: flick_0026, seq_len=40\n"
          ]
        },
        {
          "name": "stderr",
          "output_type": "stream",
          "text": [
            "\rExtracting features:  31%|███       | 585/1888 [14:48<38:52,  1.79s/it]"
          ]
        },
        {
          "name": "stdout",
          "output_type": "stream",
          "text": [
            "Saved: flick_0028, seq_len=40\n"
          ]
        },
        {
          "name": "stderr",
          "output_type": "stream",
          "text": [
            "\rExtracting features:  31%|███       | 586/1888 [14:50<34:42,  1.60s/it]"
          ]
        },
        {
          "name": "stdout",
          "output_type": "stream",
          "text": [
            "Saved: flick_0027, seq_len=40\n"
          ]
        },
        {
          "name": "stderr",
          "output_type": "stream",
          "text": [
            "\rExtracting features:  31%|███       | 587/1888 [14:51<36:00,  1.66s/it]"
          ]
        },
        {
          "name": "stdout",
          "output_type": "stream",
          "text": [
            "Saved: flick_0130, seq_len=40\n"
          ]
        },
        {
          "name": "stderr",
          "output_type": "stream",
          "text": [
            "\rExtracting features:  31%|███       | 588/1888 [14:54<39:29,  1.82s/it]"
          ]
        },
        {
          "name": "stdout",
          "output_type": "stream",
          "text": [
            "Saved: flick_0134, seq_len=40\n"
          ]
        },
        {
          "name": "stderr",
          "output_type": "stream",
          "text": [
            "\rExtracting features:  31%|███       | 589/1888 [14:55<38:43,  1.79s/it]"
          ]
        },
        {
          "name": "stdout",
          "output_type": "stream",
          "text": [
            "Saved: flick_0022, seq_len=40\n"
          ]
        },
        {
          "name": "stderr",
          "output_type": "stream",
          "text": [
            "\rExtracting features:  31%|███▏      | 590/1888 [14:57<41:01,  1.90s/it]"
          ]
        },
        {
          "name": "stdout",
          "output_type": "stream",
          "text": [
            "Saved: flick_0019, seq_len=40\n"
          ]
        },
        {
          "name": "stderr",
          "output_type": "stream",
          "text": [
            "\rExtracting features:  31%|███▏      | 591/1888 [14:59<39:53,  1.85s/it]"
          ]
        },
        {
          "name": "stdout",
          "output_type": "stream",
          "text": [
            "Saved: flick_0110, seq_len=40\n"
          ]
        },
        {
          "name": "stderr",
          "output_type": "stream",
          "text": [
            "\rExtracting features:  31%|███▏      | 592/1888 [15:01<40:09,  1.86s/it]"
          ]
        },
        {
          "name": "stdout",
          "output_type": "stream",
          "text": [
            "Saved: flick_0170, seq_len=40\n"
          ]
        },
        {
          "name": "stderr",
          "output_type": "stream",
          "text": [
            "\rExtracting features:  31%|███▏      | 593/1888 [15:03<38:55,  1.80s/it]"
          ]
        },
        {
          "name": "stdout",
          "output_type": "stream",
          "text": [
            "Saved: flick_0018, seq_len=40\n"
          ]
        },
        {
          "name": "stderr",
          "output_type": "stream",
          "text": [
            "\rExtracting features:  31%|███▏      | 594/1888 [15:05<41:52,  1.94s/it]"
          ]
        },
        {
          "name": "stdout",
          "output_type": "stream",
          "text": [
            "Saved: flick_0111, seq_len=40\n"
          ]
        },
        {
          "name": "stderr",
          "output_type": "stream",
          "text": [
            "\rExtracting features:  32%|███▏      | 595/1888 [15:07<43:19,  2.01s/it]"
          ]
        },
        {
          "name": "stdout",
          "output_type": "stream",
          "text": [
            "Saved: flick_0021, seq_len=40\n"
          ]
        },
        {
          "name": "stderr",
          "output_type": "stream",
          "text": [
            "\rExtracting features:  32%|███▏      | 596/1888 [15:09<41:56,  1.95s/it]"
          ]
        },
        {
          "name": "stdout",
          "output_type": "stream",
          "text": [
            "Saved: flick_0132, seq_len=40\n"
          ]
        },
        {
          "name": "stderr",
          "output_type": "stream",
          "text": [
            "\rExtracting features:  32%|███▏      | 597/1888 [15:10<37:27,  1.74s/it]"
          ]
        },
        {
          "name": "stdout",
          "output_type": "stream",
          "text": [
            "Saved: flick_0025, seq_len=40\n"
          ]
        },
        {
          "name": "stderr",
          "output_type": "stream",
          "text": [
            "\rExtracting features:  32%|███▏      | 598/1888 [15:12<37:09,  1.73s/it]"
          ]
        },
        {
          "name": "stdout",
          "output_type": "stream",
          "text": [
            "Saved: flick_0117, seq_len=40\n"
          ]
        },
        {
          "name": "stderr",
          "output_type": "stream",
          "text": [
            "\rExtracting features:  32%|███▏      | 599/1888 [15:14<41:37,  1.94s/it]"
          ]
        },
        {
          "name": "stdout",
          "output_type": "stream",
          "text": [
            "Saved: flick_0017, seq_len=40\n"
          ]
        },
        {
          "name": "stderr",
          "output_type": "stream",
          "text": [
            "\rExtracting features:  32%|███▏      | 600/1888 [15:16<42:34,  1.98s/it]"
          ]
        },
        {
          "name": "stdout",
          "output_type": "stream",
          "text": [
            "Saved: flick_0131, seq_len=40\n"
          ]
        },
        {
          "name": "stderr",
          "output_type": "stream",
          "text": [
            "\rExtracting features:  32%|███▏      | 601/1888 [15:18<42:48,  2.00s/it]"
          ]
        },
        {
          "name": "stdout",
          "output_type": "stream",
          "text": [
            "Saved: flick_0123, seq_len=40\n"
          ]
        },
        {
          "name": "stderr",
          "output_type": "stream",
          "text": [
            "\rExtracting features:  32%|███▏      | 602/1888 [15:20<40:54,  1.91s/it]"
          ]
        },
        {
          "name": "stdout",
          "output_type": "stream",
          "text": [
            "Saved: flick_0157, seq_len=40\n"
          ]
        },
        {
          "name": "stderr",
          "output_type": "stream",
          "text": [
            "\rExtracting features:  32%|███▏      | 603/1888 [15:21<37:05,  1.73s/it]"
          ]
        },
        {
          "name": "stdout",
          "output_type": "stream",
          "text": [
            "Saved: flick_0133, seq_len=40\n"
          ]
        },
        {
          "name": "stderr",
          "output_type": "stream",
          "text": [
            "\rExtracting features:  32%|███▏      | 604/1888 [15:24<43:59,  2.06s/it]"
          ]
        },
        {
          "name": "stdout",
          "output_type": "stream",
          "text": [
            "Saved: flick_0128, seq_len=40\n"
          ]
        },
        {
          "name": "stderr",
          "output_type": "stream",
          "text": [
            "\rExtracting features:  32%|███▏      | 605/1888 [15:27<46:10,  2.16s/it]"
          ]
        },
        {
          "name": "stdout",
          "output_type": "stream",
          "text": [
            "Saved: flick_0153, seq_len=40\n"
          ]
        },
        {
          "name": "stderr",
          "output_type": "stream",
          "text": [
            "\rExtracting features:  32%|███▏      | 606/1888 [15:29<44:39,  2.09s/it]"
          ]
        },
        {
          "name": "stdout",
          "output_type": "stream",
          "text": [
            "Saved: flick_0121, seq_len=40\n"
          ]
        },
        {
          "name": "stderr",
          "output_type": "stream",
          "text": [
            "\rExtracting features:  32%|███▏      | 607/1888 [15:30<41:44,  1.96s/it]"
          ]
        },
        {
          "name": "stdout",
          "output_type": "stream",
          "text": [
            "Saved: flick_0152, seq_len=40\n"
          ]
        },
        {
          "name": "stderr",
          "output_type": "stream",
          "text": [
            "\rExtracting features:  32%|███▏      | 608/1888 [15:32<40:30,  1.90s/it]"
          ]
        },
        {
          "name": "stdout",
          "output_type": "stream",
          "text": [
            "Saved: flick_0118, seq_len=40\n"
          ]
        },
        {
          "name": "stderr",
          "output_type": "stream",
          "text": [
            "\rExtracting features:  32%|███▏      | 609/1888 [15:35<45:40,  2.14s/it]"
          ]
        },
        {
          "name": "stdout",
          "output_type": "stream",
          "text": [
            "Saved: flick_0124, seq_len=40\n"
          ]
        },
        {
          "name": "stderr",
          "output_type": "stream",
          "text": [
            "\rExtracting features:  32%|███▏      | 610/1888 [15:36<42:52,  2.01s/it]"
          ]
        },
        {
          "name": "stdout",
          "output_type": "stream",
          "text": [
            "Saved: flick_0125, seq_len=40\n"
          ]
        },
        {
          "name": "stderr",
          "output_type": "stream",
          "text": [
            "\rExtracting features:  32%|███▏      | 611/1888 [15:38<42:02,  1.97s/it]"
          ]
        },
        {
          "name": "stdout",
          "output_type": "stream",
          "text": [
            "Saved: flick_0023, seq_len=40\n"
          ]
        },
        {
          "name": "stderr",
          "output_type": "stream",
          "text": [
            "\rExtracting features:  32%|███▏      | 612/1888 [15:40<41:25,  1.95s/it]"
          ]
        },
        {
          "name": "stdout",
          "output_type": "stream",
          "text": [
            "Saved: flick_0120, seq_len=40\n"
          ]
        },
        {
          "name": "stderr",
          "output_type": "stream",
          "text": [
            "\rExtracting features:  32%|███▏      | 613/1888 [15:42<43:14,  2.03s/it]"
          ]
        },
        {
          "name": "stdout",
          "output_type": "stream",
          "text": [
            "Saved: flick_0020, seq_len=40\n"
          ]
        },
        {
          "name": "stderr",
          "output_type": "stream",
          "text": [
            "\rExtracting features:  33%|███▎      | 614/1888 [15:44<38:23,  1.81s/it]"
          ]
        },
        {
          "name": "stdout",
          "output_type": "stream",
          "text": [
            "Saved: flick_0155, seq_len=40\n"
          ]
        },
        {
          "name": "stderr",
          "output_type": "stream",
          "text": [
            "\rExtracting features:  33%|███▎      | 615/1888 [15:46<39:44,  1.87s/it]"
          ]
        },
        {
          "name": "stdout",
          "output_type": "stream",
          "text": [
            "Saved: flick_0093, seq_len=40\n"
          ]
        },
        {
          "name": "stderr",
          "output_type": "stream",
          "text": [
            "\rExtracting features:  33%|███▎      | 616/1888 [15:48<42:12,  1.99s/it]"
          ]
        },
        {
          "name": "stdout",
          "output_type": "stream",
          "text": [
            "Saved: flick_0080, seq_len=40\n"
          ]
        },
        {
          "name": "stderr",
          "output_type": "stream",
          "text": [
            "\rExtracting features:  33%|███▎      | 617/1888 [15:50<41:04,  1.94s/it]"
          ]
        },
        {
          "name": "stdout",
          "output_type": "stream",
          "text": [
            "Saved: flick_0096, seq_len=40\n"
          ]
        },
        {
          "name": "stderr",
          "output_type": "stream",
          "text": [
            "\rExtracting features:  33%|███▎      | 618/1888 [15:52<39:56,  1.89s/it]"
          ]
        },
        {
          "name": "stdout",
          "output_type": "stream",
          "text": [
            "Saved: flick_0146, seq_len=40\n"
          ]
        },
        {
          "name": "stderr",
          "output_type": "stream",
          "text": [
            "\rExtracting features:  33%|███▎      | 619/1888 [15:53<38:58,  1.84s/it]"
          ]
        },
        {
          "name": "stdout",
          "output_type": "stream",
          "text": [
            "Saved: flick_0156, seq_len=40\n"
          ]
        },
        {
          "name": "stderr",
          "output_type": "stream",
          "text": [
            "\rExtracting features:  33%|███▎      | 620/1888 [15:55<36:47,  1.74s/it]"
          ]
        },
        {
          "name": "stdout",
          "output_type": "stream",
          "text": [
            "Saved: flick_0149, seq_len=40\n"
          ]
        },
        {
          "name": "stderr",
          "output_type": "stream",
          "text": [
            "\rExtracting features:  33%|███▎      | 621/1888 [16:00<59:21,  2.81s/it]"
          ]
        },
        {
          "name": "stdout",
          "output_type": "stream",
          "text": [
            "Saved: flick_0151, seq_len=40\n"
          ]
        },
        {
          "name": "stderr",
          "output_type": "stream",
          "text": [
            "\rExtracting features:  33%|███▎      | 622/1888 [16:02<54:36,  2.59s/it]"
          ]
        },
        {
          "name": "stdout",
          "output_type": "stream",
          "text": [
            "Saved: flick_0145, seq_len=40\n"
          ]
        },
        {
          "name": "stderr",
          "output_type": "stream",
          "text": [
            "\rExtracting features:  33%|███▎      | 623/1888 [16:04<49:48,  2.36s/it]"
          ]
        },
        {
          "name": "stdout",
          "output_type": "stream",
          "text": [
            "Saved: flick_0127, seq_len=40\n"
          ]
        },
        {
          "name": "stderr",
          "output_type": "stream",
          "text": [
            "\rExtracting features:  33%|███▎      | 624/1888 [16:05<42:00,  1.99s/it]"
          ]
        },
        {
          "name": "stdout",
          "output_type": "stream",
          "text": [
            "Saved: flick_0144, seq_len=40\n"
          ]
        },
        {
          "name": "stderr",
          "output_type": "stream",
          "text": [
            "\rExtracting features:  33%|███▎      | 625/1888 [16:07<38:43,  1.84s/it]"
          ]
        },
        {
          "name": "stdout",
          "output_type": "stream",
          "text": [
            "Saved: flick_0119, seq_len=40\n"
          ]
        },
        {
          "name": "stderr",
          "output_type": "stream",
          "text": [
            "\rExtracting features:  33%|███▎      | 626/1888 [16:08<37:05,  1.76s/it]"
          ]
        },
        {
          "name": "stdout",
          "output_type": "stream",
          "text": [
            "Saved: flick_0009, seq_len=40\n"
          ]
        },
        {
          "name": "stderr",
          "output_type": "stream",
          "text": [
            "\rExtracting features:  33%|███▎      | 627/1888 [16:10<34:29,  1.64s/it]"
          ]
        },
        {
          "name": "stdout",
          "output_type": "stream",
          "text": [
            "Saved: flick_0147, seq_len=40\n"
          ]
        },
        {
          "name": "stderr",
          "output_type": "stream",
          "text": [
            "\rExtracting features:  33%|███▎      | 628/1888 [16:12<36:00,  1.71s/it]"
          ]
        },
        {
          "name": "stdout",
          "output_type": "stream",
          "text": [
            "Saved: flick_0085, seq_len=40\n"
          ]
        },
        {
          "name": "stderr",
          "output_type": "stream",
          "text": [
            "\rExtracting features:  33%|███▎      | 629/1888 [16:13<36:44,  1.75s/it]"
          ]
        },
        {
          "name": "stdout",
          "output_type": "stream",
          "text": [
            "Saved: flick_0091, seq_len=40\n"
          ]
        },
        {
          "name": "stderr",
          "output_type": "stream",
          "text": [
            "\rExtracting features:  33%|███▎      | 630/1888 [16:15<33:33,  1.60s/it]"
          ]
        },
        {
          "name": "stdout",
          "output_type": "stream",
          "text": [
            "Saved: flick_0095, seq_len=40\n"
          ]
        },
        {
          "name": "stderr",
          "output_type": "stream",
          "text": [
            "\rExtracting features:  33%|███▎      | 631/1888 [16:17<41:34,  1.98s/it]"
          ]
        },
        {
          "name": "stdout",
          "output_type": "stream",
          "text": [
            "Saved: flick_0012, seq_len=40\n"
          ]
        },
        {
          "name": "stderr",
          "output_type": "stream",
          "text": [
            "\rExtracting features:  33%|███▎      | 632/1888 [16:20<44:10,  2.11s/it]"
          ]
        },
        {
          "name": "stdout",
          "output_type": "stream",
          "text": [
            "Saved: flick_0079, seq_len=40\n"
          ]
        },
        {
          "name": "stderr",
          "output_type": "stream",
          "text": [
            "\rExtracting features:  34%|███▎      | 633/1888 [16:22<43:59,  2.10s/it]"
          ]
        },
        {
          "name": "stdout",
          "output_type": "stream",
          "text": [
            "Saved: flick_0016, seq_len=40\n"
          ]
        },
        {
          "name": "stderr",
          "output_type": "stream",
          "text": [
            "\rExtracting features:  34%|███▎      | 634/1888 [16:24<41:09,  1.97s/it]"
          ]
        },
        {
          "name": "stdout",
          "output_type": "stream",
          "text": [
            "Saved: flick_0072, seq_len=40\n"
          ]
        },
        {
          "name": "stderr",
          "output_type": "stream",
          "text": [
            "\rExtracting features:  34%|███▎      | 635/1888 [16:26<42:10,  2.02s/it]"
          ]
        },
        {
          "name": "stdout",
          "output_type": "stream",
          "text": [
            "Saved: flick_0154, seq_len=40\n"
          ]
        },
        {
          "name": "stderr",
          "output_type": "stream",
          "text": [
            "\rExtracting features:  34%|███▎      | 636/1888 [16:28<41:48,  2.00s/it]"
          ]
        },
        {
          "name": "stdout",
          "output_type": "stream",
          "text": [
            "Saved: flick_0148, seq_len=40\n"
          ]
        },
        {
          "name": "stderr",
          "output_type": "stream",
          "text": [
            "\rExtracting features:  34%|███▎      | 637/1888 [16:30<45:23,  2.18s/it]"
          ]
        },
        {
          "name": "stdout",
          "output_type": "stream",
          "text": [
            "Saved: flick_0087, seq_len=40\n"
          ]
        },
        {
          "name": "stderr",
          "output_type": "stream",
          "text": [
            "\rExtracting features:  34%|███▍      | 638/1888 [16:33<46:00,  2.21s/it]"
          ]
        },
        {
          "name": "stdout",
          "output_type": "stream",
          "text": [
            "Saved: flick_0008, seq_len=40\n"
          ]
        },
        {
          "name": "stderr",
          "output_type": "stream",
          "text": [
            "\rExtracting features:  34%|███▍      | 639/1888 [16:34<39:42,  1.91s/it]"
          ]
        },
        {
          "name": "stdout",
          "output_type": "stream",
          "text": [
            "Saved: flick_0122, seq_len=40\n"
          ]
        },
        {
          "name": "stderr",
          "output_type": "stream",
          "text": [
            "\rExtracting features:  34%|███▍      | 640/1888 [16:37<45:45,  2.20s/it]"
          ]
        },
        {
          "name": "stdout",
          "output_type": "stream",
          "text": [
            "Saved: flick_0069, seq_len=40\n"
          ]
        },
        {
          "name": "stderr",
          "output_type": "stream",
          "text": [
            "\rExtracting features:  34%|███▍      | 641/1888 [16:39<48:02,  2.31s/it]"
          ]
        },
        {
          "name": "stdout",
          "output_type": "stream",
          "text": [
            "Saved: flick_0065, seq_len=40\n"
          ]
        },
        {
          "name": "stderr",
          "output_type": "stream",
          "text": [
            "\rExtracting features:  34%|███▍      | 642/1888 [16:41<44:39,  2.15s/it]"
          ]
        },
        {
          "name": "stdout",
          "output_type": "stream",
          "text": [
            "Saved: flick_0077, seq_len=40\n"
          ]
        },
        {
          "name": "stderr",
          "output_type": "stream",
          "text": [
            "\rExtracting features:  34%|███▍      | 643/1888 [16:42<38:51,  1.87s/it]"
          ]
        },
        {
          "name": "stdout",
          "output_type": "stream",
          "text": [
            "Saved: flick_0062, seq_len=40\n"
          ]
        },
        {
          "name": "stderr",
          "output_type": "stream",
          "text": [
            "\rExtracting features:  34%|███▍      | 644/1888 [16:44<41:01,  1.98s/it]"
          ]
        },
        {
          "name": "stdout",
          "output_type": "stream",
          "text": [
            "Saved: flick_0063, seq_len=40\n"
          ]
        },
        {
          "name": "stderr",
          "output_type": "stream",
          "text": [
            "\rExtracting features:  34%|███▍      | 645/1888 [16:56<1:43:15,  4.98s/it]"
          ]
        },
        {
          "name": "stdout",
          "output_type": "stream",
          "text": [
            "Saved: flick_0045, seq_len=40\n"
          ]
        },
        {
          "name": "stderr",
          "output_type": "stream",
          "text": [
            "\rExtracting features:  34%|███▍      | 646/1888 [17:02<1:44:56,  5.07s/it]"
          ]
        },
        {
          "name": "stdout",
          "output_type": "stream",
          "text": [
            "Saved: flick_0052, seq_len=40\n"
          ]
        },
        {
          "name": "stderr",
          "output_type": "stream",
          "text": [
            "\rExtracting features:  34%|███▍      | 647/1888 [17:05<1:30:42,  4.39s/it]"
          ]
        },
        {
          "name": "stdout",
          "output_type": "stream",
          "text": [
            "Saved: flick_0070, seq_len=40\n"
          ]
        },
        {
          "name": "stderr",
          "output_type": "stream",
          "text": [
            "\rExtracting features:  34%|███▍      | 648/1888 [17:06<1:14:10,  3.59s/it]"
          ]
        },
        {
          "name": "stdout",
          "output_type": "stream",
          "text": [
            "Saved: flick_0042, seq_len=40\n"
          ]
        },
        {
          "name": "stderr",
          "output_type": "stream",
          "text": [
            "\rExtracting features:  34%|███▍      | 649/1888 [17:08<59:54,  2.90s/it]  "
          ]
        },
        {
          "name": "stdout",
          "output_type": "stream",
          "text": [
            "Saved: flick_0039, seq_len=40\n"
          ]
        },
        {
          "name": "stderr",
          "output_type": "stream",
          "text": [
            "\rExtracting features:  34%|███▍      | 650/1888 [17:10<55:13,  2.68s/it]"
          ]
        },
        {
          "name": "stdout",
          "output_type": "stream",
          "text": [
            "Saved: flick_0178, seq_len=40\n"
          ]
        },
        {
          "name": "stderr",
          "output_type": "stream",
          "text": [
            "\rExtracting features:  34%|███▍      | 651/1888 [17:11<46:54,  2.27s/it]"
          ]
        },
        {
          "name": "stdout",
          "output_type": "stream",
          "text": [
            "Saved: flick_0041, seq_len=40\n"
          ]
        },
        {
          "name": "stderr",
          "output_type": "stream",
          "text": [
            "\rExtracting features:  35%|███▍      | 652/1888 [17:13<43:51,  2.13s/it]"
          ]
        },
        {
          "name": "stdout",
          "output_type": "stream",
          "text": [
            "Saved: flick_0159, seq_len=40\n"
          ]
        },
        {
          "name": "stderr",
          "output_type": "stream",
          "text": [
            "\rExtracting features:  35%|███▍      | 653/1888 [17:15<43:26,  2.11s/it]"
          ]
        },
        {
          "name": "stdout",
          "output_type": "stream",
          "text": [
            "Saved: flick_0101, seq_len=40\n"
          ]
        },
        {
          "name": "stderr",
          "output_type": "stream",
          "text": [
            "\rExtracting features:  35%|███▍      | 654/1888 [17:16<38:23,  1.87s/it]"
          ]
        },
        {
          "name": "stdout",
          "output_type": "stream",
          "text": [
            "Saved: flick_0116, seq_len=40\n"
          ]
        },
        {
          "name": "stderr",
          "output_type": "stream",
          "text": [
            "\rExtracting features:  35%|███▍      | 655/1888 [17:17<34:04,  1.66s/it]"
          ]
        },
        {
          "name": "stdout",
          "output_type": "stream",
          "text": [
            "Saved: flick_0054, seq_len=40\n"
          ]
        },
        {
          "name": "stderr",
          "output_type": "stream",
          "text": [
            "\rExtracting features:  35%|███▍      | 656/1888 [17:23<59:04,  2.88s/it]"
          ]
        },
        {
          "name": "stdout",
          "output_type": "stream",
          "text": [
            "Saved: flick_0113, seq_len=40\n"
          ]
        },
        {
          "name": "stderr",
          "output_type": "stream",
          "text": [
            "\rExtracting features:  35%|███▍      | 657/1888 [17:25<52:25,  2.56s/it]"
          ]
        },
        {
          "name": "stdout",
          "output_type": "stream",
          "text": [
            "Saved: flick_0044, seq_len=40\n"
          ]
        },
        {
          "name": "stderr",
          "output_type": "stream",
          "text": [
            "\rExtracting features:  35%|███▍      | 658/1888 [17:27<49:36,  2.42s/it]"
          ]
        },
        {
          "name": "stdout",
          "output_type": "stream",
          "text": [
            "Saved: flick_0015, seq_len=40\n"
          ]
        },
        {
          "name": "stderr",
          "output_type": "stream",
          "text": [
            "\rExtracting features:  35%|███▍      | 659/1888 [17:28<42:09,  2.06s/it]"
          ]
        },
        {
          "name": "stdout",
          "output_type": "stream",
          "text": [
            "Saved: flick_0107, seq_len=40\n"
          ]
        },
        {
          "name": "stderr",
          "output_type": "stream",
          "text": [
            "\rExtracting features:  35%|███▍      | 660/1888 [17:30<40:28,  1.98s/it]"
          ]
        },
        {
          "name": "stdout",
          "output_type": "stream",
          "text": [
            "Saved: flick_0094, seq_len=40\n"
          ]
        },
        {
          "name": "stderr",
          "output_type": "stream",
          "text": [
            "\rExtracting features:  35%|███▌      | 661/1888 [17:33<43:50,  2.14s/it]"
          ]
        },
        {
          "name": "stdout",
          "output_type": "stream",
          "text": [
            "Saved: flick_0058, seq_len=40\n"
          ]
        },
        {
          "name": "stderr",
          "output_type": "stream",
          "text": [
            "\rExtracting features:  35%|███▌      | 662/1888 [17:34<40:49,  2.00s/it]"
          ]
        },
        {
          "name": "stdout",
          "output_type": "stream",
          "text": [
            "Saved: flick_0143, seq_len=40\n"
          ]
        },
        {
          "name": "stderr",
          "output_type": "stream",
          "text": [
            "\rExtracting features:  35%|███▌      | 663/1888 [17:36<37:54,  1.86s/it]"
          ]
        },
        {
          "name": "stdout",
          "output_type": "stream",
          "text": [
            "Saved: flick_0142, seq_len=40\n"
          ]
        },
        {
          "name": "stderr",
          "output_type": "stream",
          "text": [
            "\rExtracting features:  35%|███▌      | 664/1888 [17:37<33:15,  1.63s/it]"
          ]
        },
        {
          "name": "stdout",
          "output_type": "stream",
          "text": [
            "Saved: flick_0092, seq_len=40\n"
          ]
        },
        {
          "name": "stderr",
          "output_type": "stream",
          "text": [
            "\rExtracting features:  35%|███▌      | 665/1888 [17:38<32:06,  1.58s/it]"
          ]
        },
        {
          "name": "stdout",
          "output_type": "stream",
          "text": [
            "Saved: flick_0086, seq_len=40\n"
          ]
        },
        {
          "name": "stderr",
          "output_type": "stream",
          "text": [
            "\rExtracting features:  35%|███▌      | 666/1888 [17:40<34:10,  1.68s/it]"
          ]
        },
        {
          "name": "stdout",
          "output_type": "stream",
          "text": [
            "Saved: flick_0099, seq_len=40\n"
          ]
        },
        {
          "name": "stderr",
          "output_type": "stream",
          "text": [
            "\rExtracting features:  35%|███▌      | 667/1888 [17:41<31:23,  1.54s/it]"
          ]
        },
        {
          "name": "stdout",
          "output_type": "stream",
          "text": [
            "Saved: flick_0084, seq_len=40\n"
          ]
        },
        {
          "name": "stderr",
          "output_type": "stream",
          "text": [
            "\rExtracting features:  35%|███▌      | 668/1888 [17:43<32:52,  1.62s/it]"
          ]
        },
        {
          "name": "stdout",
          "output_type": "stream",
          "text": [
            "Saved: flick_0105, seq_len=40\n"
          ]
        },
        {
          "name": "stderr",
          "output_type": "stream",
          "text": [
            "\rExtracting features:  35%|███▌      | 669/1888 [17:45<32:16,  1.59s/it]"
          ]
        },
        {
          "name": "stdout",
          "output_type": "stream",
          "text": [
            "Saved: flick_0011, seq_len=40\n"
          ]
        },
        {
          "name": "stderr",
          "output_type": "stream",
          "text": [
            "\rExtracting features:  35%|███▌      | 670/1888 [17:46<30:38,  1.51s/it]"
          ]
        },
        {
          "name": "stdout",
          "output_type": "stream",
          "text": [
            "Saved: flick_0014, seq_len=40\n"
          ]
        },
        {
          "name": "stderr",
          "output_type": "stream",
          "text": [
            "\rExtracting features:  36%|███▌      | 671/1888 [17:49<38:58,  1.92s/it]"
          ]
        },
        {
          "name": "stdout",
          "output_type": "stream",
          "text": [
            "Saved: flick_0088, seq_len=40\n"
          ]
        },
        {
          "name": "stderr",
          "output_type": "stream",
          "text": [
            "\rExtracting features:  36%|███▌      | 672/1888 [17:50<34:45,  1.72s/it]"
          ]
        },
        {
          "name": "stdout",
          "output_type": "stream",
          "text": [
            "Saved: flick_0089, seq_len=40\n"
          ]
        },
        {
          "name": "stderr",
          "output_type": "stream",
          "text": [
            "\rExtracting features:  36%|███▌      | 673/1888 [17:52<35:39,  1.76s/it]"
          ]
        },
        {
          "name": "stdout",
          "output_type": "stream",
          "text": [
            "Saved: flick_0076, seq_len=40\n"
          ]
        },
        {
          "name": "stderr",
          "output_type": "stream",
          "text": [
            "\rExtracting features:  36%|███▌      | 674/1888 [17:53<32:27,  1.60s/it]"
          ]
        },
        {
          "name": "stdout",
          "output_type": "stream",
          "text": [
            "Saved: flick_0068, seq_len=40\n"
          ]
        },
        {
          "name": "stderr",
          "output_type": "stream",
          "text": [
            "\rExtracting features:  36%|███▌      | 675/1888 [17:54<29:17,  1.45s/it]"
          ]
        },
        {
          "name": "stdout",
          "output_type": "stream",
          "text": [
            "Saved: flick_0074, seq_len=40\n"
          ]
        },
        {
          "name": "stderr",
          "output_type": "stream",
          "text": [
            "\rExtracting features:  36%|███▌      | 676/1888 [17:56<27:52,  1.38s/it]"
          ]
        },
        {
          "name": "stdout",
          "output_type": "stream",
          "text": [
            "Saved: flick_0081, seq_len=40\n"
          ]
        },
        {
          "name": "stderr",
          "output_type": "stream",
          "text": [
            "\rExtracting features:  36%|███▌      | 677/1888 [17:57<26:35,  1.32s/it]"
          ]
        },
        {
          "name": "stdout",
          "output_type": "stream",
          "text": [
            "Saved: flick_0061, seq_len=40\n"
          ]
        },
        {
          "name": "stderr",
          "output_type": "stream",
          "text": [
            "\rExtracting features:  36%|███▌      | 678/1888 [17:58<26:03,  1.29s/it]"
          ]
        },
        {
          "name": "stdout",
          "output_type": "stream",
          "text": [
            "Saved: flick_0083, seq_len=40\n"
          ]
        },
        {
          "name": "stderr",
          "output_type": "stream",
          "text": [
            "\rExtracting features:  36%|███▌      | 679/1888 [18:00<27:30,  1.37s/it]"
          ]
        },
        {
          "name": "stdout",
          "output_type": "stream",
          "text": [
            "Saved: flick_0078, seq_len=40\n"
          ]
        },
        {
          "name": "stderr",
          "output_type": "stream",
          "text": [
            "\rExtracting features:  36%|███▌      | 680/1888 [18:01<28:07,  1.40s/it]"
          ]
        },
        {
          "name": "stdout",
          "output_type": "stream",
          "text": [
            "Saved: flick_0059, seq_len=40\n"
          ]
        },
        {
          "name": "stderr",
          "output_type": "stream",
          "text": [
            "\rExtracting features:  36%|███▌      | 681/1888 [18:05<41:13,  2.05s/it]"
          ]
        },
        {
          "name": "stdout",
          "output_type": "stream",
          "text": [
            "Saved: flick_0066, seq_len=40\n"
          ]
        },
        {
          "name": "stderr",
          "output_type": "stream",
          "text": [
            "\rExtracting features:  36%|███▌      | 682/1888 [18:06<39:32,  1.97s/it]"
          ]
        },
        {
          "name": "stdout",
          "output_type": "stream",
          "text": [
            "Saved: flick_0010, seq_len=40\n"
          ]
        },
        {
          "name": "stderr",
          "output_type": "stream",
          "text": [
            "\rExtracting features:  36%|███▌      | 683/1888 [18:08<37:50,  1.88s/it]"
          ]
        },
        {
          "name": "stdout",
          "output_type": "stream",
          "text": [
            "Saved: flick_0071, seq_len=40\n"
          ]
        },
        {
          "name": "stderr",
          "output_type": "stream",
          "text": [
            "\rExtracting features:  36%|███▌      | 684/1888 [18:10<37:00,  1.84s/it]"
          ]
        },
        {
          "name": "stdout",
          "output_type": "stream",
          "text": [
            "Saved: flick_0051, seq_len=40\n"
          ]
        },
        {
          "name": "stderr",
          "output_type": "stream",
          "text": [
            "\rExtracting features:  36%|███▋      | 685/1888 [18:12<39:03,  1.95s/it]"
          ]
        },
        {
          "name": "stdout",
          "output_type": "stream",
          "text": [
            "Saved: flick_0067, seq_len=40\n"
          ]
        },
        {
          "name": "stderr",
          "output_type": "stream",
          "text": [
            "\rExtracting features:  36%|███▋      | 686/1888 [18:14<36:42,  1.83s/it]"
          ]
        },
        {
          "name": "stdout",
          "output_type": "stream",
          "text": [
            "Saved: flick_0090, seq_len=40\n"
          ]
        },
        {
          "name": "stderr",
          "output_type": "stream",
          "text": [
            "\rExtracting features:  36%|███▋      | 687/1888 [18:15<36:50,  1.84s/it]"
          ]
        },
        {
          "name": "stdout",
          "output_type": "stream",
          "text": [
            "Saved: flick_0053, seq_len=40\n"
          ]
        },
        {
          "name": "stderr",
          "output_type": "stream",
          "text": [
            "\rExtracting features:  36%|███▋      | 688/1888 [18:17<36:32,  1.83s/it]"
          ]
        },
        {
          "name": "stdout",
          "output_type": "stream",
          "text": [
            "Saved: flick_0064, seq_len=40\n"
          ]
        },
        {
          "name": "stderr",
          "output_type": "stream",
          "text": [
            "\rExtracting features:  36%|███▋      | 689/1888 [18:19<35:44,  1.79s/it]"
          ]
        },
        {
          "name": "stdout",
          "output_type": "stream",
          "text": [
            "Saved: flick_0075, seq_len=40\n"
          ]
        },
        {
          "name": "stderr",
          "output_type": "stream",
          "text": [
            "\rExtracting features:  37%|███▋      | 690/1888 [18:22<41:28,  2.08s/it]"
          ]
        },
        {
          "name": "stdout",
          "output_type": "stream",
          "text": [
            "Saved: flick_0049, seq_len=40\n"
          ]
        },
        {
          "name": "stderr",
          "output_type": "stream",
          "text": [
            "\rExtracting features:  37%|███▋      | 691/1888 [18:23<35:50,  1.80s/it]"
          ]
        },
        {
          "name": "stdout",
          "output_type": "stream",
          "text": [
            "Saved: flick_0073, seq_len=40\n"
          ]
        },
        {
          "name": "stderr",
          "output_type": "stream",
          "text": [
            "\rExtracting features:  37%|███▋      | 692/1888 [18:25<37:57,  1.90s/it]"
          ]
        },
        {
          "name": "stdout",
          "output_type": "stream",
          "text": [
            "Saved: flick_0050, seq_len=40\n"
          ]
        },
        {
          "name": "stderr",
          "output_type": "stream",
          "text": [
            "\rExtracting features:  37%|███▋      | 693/1888 [18:27<37:08,  1.86s/it]"
          ]
        },
        {
          "name": "stdout",
          "output_type": "stream",
          "text": [
            "Saved: flick_0060, seq_len=40\n"
          ]
        },
        {
          "name": "stderr",
          "output_type": "stream",
          "text": [
            "\rExtracting features:  37%|███▋      | 694/1888 [18:28<35:49,  1.80s/it]"
          ]
        },
        {
          "name": "stdout",
          "output_type": "stream",
          "text": [
            "Saved: flick_0046, seq_len=40\n"
          ]
        },
        {
          "name": "stderr",
          "output_type": "stream",
          "text": [
            "\rExtracting features:  37%|███▋      | 695/1888 [18:30<35:42,  1.80s/it]"
          ]
        },
        {
          "name": "stdout",
          "output_type": "stream",
          "text": [
            "Saved: flick_0057, seq_len=40\n"
          ]
        },
        {
          "name": "stderr",
          "output_type": "stream",
          "text": [
            "\rExtracting features:  37%|███▋      | 696/1888 [18:32<36:20,  1.83s/it]"
          ]
        },
        {
          "name": "stdout",
          "output_type": "stream",
          "text": [
            "Saved: flick_0055, seq_len=40\n"
          ]
        },
        {
          "name": "stderr",
          "output_type": "stream",
          "text": [
            "\rExtracting features:  37%|███▋      | 697/1888 [18:34<35:32,  1.79s/it]"
          ]
        },
        {
          "name": "stdout",
          "output_type": "stream",
          "text": [
            "Saved: flick_0048, seq_len=40\n"
          ]
        },
        {
          "name": "stderr",
          "output_type": "stream",
          "text": [
            "\rExtracting features:  37%|███▋      | 698/1888 [18:35<31:28,  1.59s/it]"
          ]
        },
        {
          "name": "stdout",
          "output_type": "stream",
          "text": [
            "Saved: flick_0006, seq_len=40\n"
          ]
        },
        {
          "name": "stderr",
          "output_type": "stream",
          "text": [
            "\rExtracting features:  37%|███▋      | 699/1888 [18:36<28:31,  1.44s/it]"
          ]
        },
        {
          "name": "stdout",
          "output_type": "stream",
          "text": [
            "Saved: flick_0043, seq_len=40\n"
          ]
        },
        {
          "name": "stderr",
          "output_type": "stream",
          "text": [
            "\rExtracting features:  37%|███▋      | 700/1888 [18:37<28:16,  1.43s/it]"
          ]
        },
        {
          "name": "stdout",
          "output_type": "stream",
          "text": [
            "Saved: flick_0040, seq_len=40\n"
          ]
        },
        {
          "name": "stderr",
          "output_type": "stream",
          "text": [
            "\rExtracting features:  37%|███▋      | 701/1888 [18:39<28:44,  1.45s/it]"
          ]
        },
        {
          "name": "stdout",
          "output_type": "stream",
          "text": [
            "Saved: flick_0047, seq_len=40\n"
          ]
        },
        {
          "name": "stderr",
          "output_type": "stream",
          "text": [
            "\rExtracting features:  37%|███▋      | 702/1888 [18:40<27:26,  1.39s/it]"
          ]
        },
        {
          "name": "stdout",
          "output_type": "stream",
          "text": [
            "Saved: flick_0163, seq_len=40\n"
          ]
        },
        {
          "name": "stderr",
          "output_type": "stream",
          "text": [
            "\rExtracting features:  37%|███▋      | 703/1888 [18:42<29:47,  1.51s/it]"
          ]
        },
        {
          "name": "stdout",
          "output_type": "stream",
          "text": [
            "Saved: flick_0160, seq_len=40\n"
          ]
        },
        {
          "name": "stderr",
          "output_type": "stream",
          "text": [
            "\rExtracting features:  37%|███▋      | 704/1888 [18:44<31:12,  1.58s/it]"
          ]
        },
        {
          "name": "stdout",
          "output_type": "stream",
          "text": [
            "Saved: flick_0007, seq_len=40\n"
          ]
        },
        {
          "name": "stderr",
          "output_type": "stream",
          "text": [
            "\rExtracting features:  37%|███▋      | 705/1888 [18:45<28:32,  1.45s/it]"
          ]
        },
        {
          "name": "stdout",
          "output_type": "stream",
          "text": [
            "Saved: flick_0037, seq_len=40\n"
          ]
        },
        {
          "name": "stderr",
          "output_type": "stream",
          "text": [
            "\rExtracting features:  37%|███▋      | 706/1888 [18:46<27:02,  1.37s/it]"
          ]
        },
        {
          "name": "stdout",
          "output_type": "stream",
          "text": [
            "Saved: flick_0038, seq_len=40\n"
          ]
        },
        {
          "name": "stderr",
          "output_type": "stream",
          "text": [
            "\rExtracting features:  37%|███▋      | 707/1888 [18:48<28:39,  1.46s/it]"
          ]
        },
        {
          "name": "stdout",
          "output_type": "stream",
          "text": [
            "Saved: flick_0179, seq_len=40\n"
          ]
        },
        {
          "name": "stderr",
          "output_type": "stream",
          "text": [
            "\rExtracting features:  38%|███▊      | 708/1888 [18:49<27:10,  1.38s/it]"
          ]
        },
        {
          "name": "stdout",
          "output_type": "stream",
          "text": [
            "Saved: flick_0181, seq_len=40\n"
          ]
        },
        {
          "name": "stderr",
          "output_type": "stream",
          "text": [
            "\rExtracting features:  38%|███▊      | 709/1888 [18:50<27:55,  1.42s/it]"
          ]
        },
        {
          "name": "stdout",
          "output_type": "stream",
          "text": [
            "Saved: flick_0162, seq_len=40\n"
          ]
        },
        {
          "name": "stderr",
          "output_type": "stream",
          "text": [
            "\rExtracting features:  38%|███▊      | 710/1888 [18:52<30:11,  1.54s/it]"
          ]
        },
        {
          "name": "stdout",
          "output_type": "stream",
          "text": [
            "Saved: flick_0180, seq_len=40\n"
          ]
        },
        {
          "name": "stderr",
          "output_type": "stream",
          "text": [
            "\rExtracting features:  38%|███▊      | 711/1888 [18:54<31:38,  1.61s/it]"
          ]
        },
        {
          "name": "stdout",
          "output_type": "stream",
          "text": [
            "Saved: flick_0141, seq_len=40\n"
          ]
        },
        {
          "name": "stderr",
          "output_type": "stream",
          "text": [
            "\rExtracting features:  38%|███▊      | 712/1888 [18:56<31:47,  1.62s/it]"
          ]
        },
        {
          "name": "stdout",
          "output_type": "stream",
          "text": [
            "Saved: flick_0165, seq_len=40\n"
          ]
        },
        {
          "name": "stderr",
          "output_type": "stream",
          "text": [
            "\rExtracting features:  38%|███▊      | 713/1888 [18:57<32:33,  1.66s/it]"
          ]
        },
        {
          "name": "stdout",
          "output_type": "stream",
          "text": [
            "Saved: flick_0164, seq_len=40\n"
          ]
        },
        {
          "name": "stderr",
          "output_type": "stream",
          "text": [
            "\rExtracting features:  38%|███▊      | 714/1888 [19:00<36:29,  1.87s/it]"
          ]
        },
        {
          "name": "stdout",
          "output_type": "stream",
          "text": [
            "Saved: flick_0003, seq_len=40\n"
          ]
        },
        {
          "name": "stderr",
          "output_type": "stream",
          "text": [
            "\rExtracting features:  38%|███▊      | 715/1888 [19:01<35:34,  1.82s/it]"
          ]
        },
        {
          "name": "stdout",
          "output_type": "stream",
          "text": [
            "Saved: flick_0004, seq_len=40\n"
          ]
        },
        {
          "name": "stderr",
          "output_type": "stream",
          "text": [
            "\rExtracting features:  38%|███▊      | 716/1888 [19:03<33:39,  1.72s/it]"
          ]
        },
        {
          "name": "stdout",
          "output_type": "stream",
          "text": [
            "Saved: flick_0135, seq_len=40\n"
          ]
        },
        {
          "name": "stderr",
          "output_type": "stream",
          "text": [
            "\rExtracting features:  38%|███▊      | 717/1888 [19:06<41:47,  2.14s/it]"
          ]
        },
        {
          "name": "stdout",
          "output_type": "stream",
          "text": [
            "Saved: flick_0137, seq_len=40\n"
          ]
        },
        {
          "name": "stderr",
          "output_type": "stream",
          "text": [
            "\rExtracting features:  38%|███▊      | 718/1888 [19:08<39:22,  2.02s/it]"
          ]
        },
        {
          "name": "stdout",
          "output_type": "stream",
          "text": [
            "Saved: flick_0140, seq_len=40\n"
          ]
        },
        {
          "name": "stderr",
          "output_type": "stream",
          "text": [
            "\rExtracting features:  38%|███▊      | 719/1888 [19:10<42:21,  2.17s/it]"
          ]
        },
        {
          "name": "stdout",
          "output_type": "stream",
          "text": [
            "Saved: flick_0136, seq_len=40\n"
          ]
        },
        {
          "name": "stderr",
          "output_type": "stream",
          "text": [
            "\rExtracting features:  38%|███▊      | 720/1888 [19:12<36:46,  1.89s/it]"
          ]
        },
        {
          "name": "stdout",
          "output_type": "stream",
          "text": [
            "Saved: flick_0129, seq_len=40\n"
          ]
        },
        {
          "name": "stderr",
          "output_type": "stream",
          "text": [
            "\rExtracting features:  38%|███▊      | 721/1888 [19:13<36:15,  1.86s/it]"
          ]
        },
        {
          "name": "stdout",
          "output_type": "stream",
          "text": [
            "Saved: flick_0005, seq_len=40\n"
          ]
        },
        {
          "name": "stderr",
          "output_type": "stream",
          "text": [
            "\rExtracting features:  38%|███▊      | 722/1888 [19:15<34:45,  1.79s/it]"
          ]
        },
        {
          "name": "stdout",
          "output_type": "stream",
          "text": [
            "Saved: flick_0150, seq_len=40\n"
          ]
        },
        {
          "name": "stderr",
          "output_type": "stream",
          "text": [
            "\rExtracting features:  38%|███▊      | 723/1888 [19:16<32:51,  1.69s/it]"
          ]
        },
        {
          "name": "stdout",
          "output_type": "stream",
          "text": [
            "Saved: flick_0139, seq_len=40\n"
          ]
        },
        {
          "name": "stderr",
          "output_type": "stream",
          "text": [
            "\rExtracting features:  38%|███▊      | 724/1888 [19:18<33:48,  1.74s/it]"
          ]
        },
        {
          "name": "stdout",
          "output_type": "stream",
          "text": [
            "Saved: flick_0161, seq_len=40\n"
          ]
        },
        {
          "name": "stderr",
          "output_type": "stream",
          "text": [
            "\rExtracting features:  38%|███▊      | 725/1888 [19:21<36:53,  1.90s/it]"
          ]
        },
        {
          "name": "stdout",
          "output_type": "stream",
          "text": [
            "Saved: flick_0138, seq_len=40\n"
          ]
        },
        {
          "name": "stderr",
          "output_type": "stream",
          "text": [
            "\rExtracting features:  38%|███▊      | 726/1888 [19:22<33:09,  1.71s/it]"
          ]
        },
        {
          "name": "stdout",
          "output_type": "stream",
          "text": [
            "Saved: flick_0035, seq_len=40\n"
          ]
        },
        {
          "name": "stderr",
          "output_type": "stream",
          "text": [
            "\rExtracting features:  39%|███▊      | 727/1888 [19:24<35:38,  1.84s/it]"
          ]
        },
        {
          "name": "stdout",
          "output_type": "stream",
          "text": [
            "Saved: flick_0033, seq_len=40\n"
          ]
        },
        {
          "name": "stderr",
          "output_type": "stream",
          "text": [
            "\rExtracting features:  39%|███▊      | 728/1888 [19:25<32:01,  1.66s/it]"
          ]
        },
        {
          "name": "stdout",
          "output_type": "stream",
          "text": [
            "Saved: flick_0126, seq_len=40\n"
          ]
        },
        {
          "name": "stderr",
          "output_type": "stream",
          "text": [
            "\rExtracting features:  39%|███▊      | 729/1888 [19:28<36:40,  1.90s/it]"
          ]
        },
        {
          "name": "stdout",
          "output_type": "stream",
          "text": [
            "Saved: flick_0112, seq_len=40\n"
          ]
        },
        {
          "name": "stderr",
          "output_type": "stream",
          "text": [
            "\rExtracting features:  39%|███▊      | 730/1888 [19:29<34:06,  1.77s/it]"
          ]
        },
        {
          "name": "stdout",
          "output_type": "stream",
          "text": [
            "Saved: flick_0115, seq_len=40\n"
          ]
        },
        {
          "name": "stderr",
          "output_type": "stream",
          "text": [
            "\rExtracting features:  39%|███▊      | 731/1888 [19:31<34:35,  1.79s/it]"
          ]
        },
        {
          "name": "stdout",
          "output_type": "stream",
          "text": [
            "Saved: flick_0104, seq_len=40\n"
          ]
        },
        {
          "name": "stderr",
          "output_type": "stream",
          "text": [
            "\rExtracting features:  39%|███▉      | 732/1888 [19:36<51:11,  2.66s/it]"
          ]
        },
        {
          "name": "stdout",
          "output_type": "stream",
          "text": [
            "Saved: flick_0036, seq_len=40\n"
          ]
        },
        {
          "name": "stderr",
          "output_type": "stream",
          "text": [
            "\rExtracting features:  39%|███▉      | 733/1888 [19:38<48:23,  2.51s/it]"
          ]
        },
        {
          "name": "stdout",
          "output_type": "stream",
          "text": [
            "Saved: flick_0114, seq_len=40\n"
          ]
        },
        {
          "name": "stderr",
          "output_type": "stream",
          "text": [
            "\rExtracting features:  39%|███▉      | 734/1888 [19:40<45:24,  2.36s/it]"
          ]
        },
        {
          "name": "stdout",
          "output_type": "stream",
          "text": [
            "Saved: flick_0034, seq_len=40\n"
          ]
        },
        {
          "name": "stderr",
          "output_type": "stream",
          "text": [
            "\rExtracting features:  39%|███▉      | 735/1888 [19:41<40:54,  2.13s/it]"
          ]
        },
        {
          "name": "stdout",
          "output_type": "stream",
          "text": [
            "Saved: flick_0108, seq_len=40\n"
          ]
        },
        {
          "name": "stderr",
          "output_type": "stream",
          "text": [
            "\rExtracting features:  39%|███▉      | 736/1888 [19:43<35:21,  1.84s/it]"
          ]
        },
        {
          "name": "stdout",
          "output_type": "stream",
          "text": [
            "Saved: flick_0158, seq_len=40\n"
          ]
        },
        {
          "name": "stderr",
          "output_type": "stream",
          "text": [
            "\rExtracting features:  39%|███▉      | 737/1888 [19:44<34:57,  1.82s/it]"
          ]
        },
        {
          "name": "stdout",
          "output_type": "stream",
          "text": [
            "Saved: flick_0100, seq_len=40\n"
          ]
        },
        {
          "name": "stderr",
          "output_type": "stream",
          "text": [
            "\rExtracting features:  39%|███▉      | 738/1888 [19:47<41:28,  2.16s/it]"
          ]
        },
        {
          "name": "stdout",
          "output_type": "stream",
          "text": [
            "Saved: flick_0102, seq_len=40\n"
          ]
        },
        {
          "name": "stderr",
          "output_type": "stream",
          "text": [
            "\rExtracting features:  39%|███▉      | 739/1888 [19:49<38:46,  2.02s/it]"
          ]
        },
        {
          "name": "stdout",
          "output_type": "stream",
          "text": [
            "Saved: flick_0103, seq_len=40\n"
          ]
        },
        {
          "name": "stderr",
          "output_type": "stream",
          "text": [
            "\rExtracting features:  39%|███▉      | 740/1888 [19:51<37:05,  1.94s/it]"
          ]
        },
        {
          "name": "stdout",
          "output_type": "stream",
          "text": [
            "Saved: flick_0098, seq_len=40\n"
          ]
        },
        {
          "name": "stderr",
          "output_type": "stream",
          "text": [
            "\rExtracting features:  39%|███▉      | 741/1888 [19:53<39:12,  2.05s/it]"
          ]
        },
        {
          "name": "stdout",
          "output_type": "stream",
          "text": [
            "Saved: flick_0032, seq_len=40\n"
          ]
        },
        {
          "name": "stderr",
          "output_type": "stream",
          "text": [
            "\rExtracting features:  39%|███▉      | 742/1888 [19:55<36:06,  1.89s/it]"
          ]
        },
        {
          "name": "stdout",
          "output_type": "stream",
          "text": [
            "Saved: flick_0082, seq_len=40\n"
          ]
        },
        {
          "name": "stderr",
          "output_type": "stream",
          "text": [
            "\rExtracting features:  39%|███▉      | 743/1888 [19:57<40:00,  2.10s/it]"
          ]
        },
        {
          "name": "stdout",
          "output_type": "stream",
          "text": [
            "Saved: flick_0031, seq_len=40\n"
          ]
        },
        {
          "name": "stderr",
          "output_type": "stream",
          "text": [
            "\rExtracting features:  39%|███▉      | 744/1888 [19:59<38:00,  1.99s/it]"
          ]
        },
        {
          "name": "stdout",
          "output_type": "stream",
          "text": [
            "Saved: flick_0106, seq_len=40\n"
          ]
        },
        {
          "name": "stderr",
          "output_type": "stream",
          "text": [
            "\rExtracting features:  39%|███▉      | 745/1888 [20:01<37:35,  1.97s/it]"
          ]
        },
        {
          "name": "stdout",
          "output_type": "stream",
          "text": [
            "Saved: flick_0024, seq_len=40\n"
          ]
        },
        {
          "name": "stderr",
          "output_type": "stream",
          "text": [
            "\rExtracting features:  40%|███▉      | 746/1888 [20:03<36:20,  1.91s/it]"
          ]
        },
        {
          "name": "stdout",
          "output_type": "stream",
          "text": [
            "Saved: flick_0001, seq_len=40\n"
          ]
        },
        {
          "name": "stderr",
          "output_type": "stream",
          "text": [
            "\rExtracting features:  40%|███▉      | 747/1888 [20:04<35:25,  1.86s/it]"
          ]
        },
        {
          "name": "stdout",
          "output_type": "stream",
          "text": [
            "Saved: flick_0002, seq_len=40\n"
          ]
        },
        {
          "name": "stderr",
          "output_type": "stream",
          "text": [
            "\rExtracting features:  40%|███▉      | 748/1888 [20:06<33:25,  1.76s/it]"
          ]
        },
        {
          "name": "stdout",
          "output_type": "stream",
          "text": [
            "Saved: flick_0109, seq_len=40\n"
          ]
        },
        {
          "name": "stderr",
          "output_type": "stream",
          "text": [
            "\rExtracting features:  40%|███▉      | 749/1888 [20:08<32:55,  1.73s/it]"
          ]
        },
        {
          "name": "stdout",
          "output_type": "stream",
          "text": [
            "Saved: flick_0013, seq_len=40\n"
          ]
        },
        {
          "name": "stderr",
          "output_type": "stream",
          "text": [
            "\rExtracting features:  40%|███▉      | 750/1888 [20:09<34:02,  1.79s/it]"
          ]
        },
        {
          "name": "stdout",
          "output_type": "stream",
          "text": [
            "Saved: flick_0056, seq_len=40\n"
          ]
        },
        {
          "name": "stderr",
          "output_type": "stream",
          "text": [
            "\rExtracting features:  40%|███▉      | 751/1888 [20:11<33:41,  1.78s/it]"
          ]
        },
        {
          "name": "stdout",
          "output_type": "stream",
          "text": [
            "Saved: flick_0097, seq_len=40\n"
          ]
        },
        {
          "name": "stderr",
          "output_type": "stream",
          "text": [
            "\rExtracting features:  40%|███▉      | 752/1888 [20:13<35:57,  1.90s/it]"
          ]
        },
        {
          "name": "stdout",
          "output_type": "stream",
          "text": [
            "Saved: lofted_0157, seq_len=40\n"
          ]
        },
        {
          "name": "stderr",
          "output_type": "stream",
          "text": [
            "\rExtracting features:  40%|███▉      | 753/1888 [20:15<36:19,  1.92s/it]"
          ]
        },
        {
          "name": "stdout",
          "output_type": "stream",
          "text": [
            "Saved: lofted_0158, seq_len=40\n"
          ]
        },
        {
          "name": "stderr",
          "output_type": "stream",
          "text": [
            "\rExtracting features:  40%|███▉      | 754/1888 [20:17<36:20,  1.92s/it]"
          ]
        },
        {
          "name": "stdout",
          "output_type": "stream",
          "text": [
            "Saved: lofted_0160, seq_len=40\n"
          ]
        },
        {
          "name": "stderr",
          "output_type": "stream",
          "text": [
            "\rExtracting features:  40%|███▉      | 755/1888 [20:19<35:00,  1.85s/it]"
          ]
        },
        {
          "name": "stdout",
          "output_type": "stream",
          "text": [
            "Saved: lofted_0156, seq_len=40\n"
          ]
        },
        {
          "name": "stderr",
          "output_type": "stream",
          "text": [
            "\rExtracting features:  40%|████      | 756/1888 [20:21<33:12,  1.76s/it]"
          ]
        },
        {
          "name": "stdout",
          "output_type": "stream",
          "text": [
            "Saved: lofted_0155, seq_len=40\n"
          ]
        },
        {
          "name": "stderr",
          "output_type": "stream",
          "text": [
            "\rExtracting features:  40%|████      | 757/1888 [20:22<33:05,  1.76s/it]"
          ]
        },
        {
          "name": "stdout",
          "output_type": "stream",
          "text": [
            "Saved: lofted_0159, seq_len=40\n"
          ]
        },
        {
          "name": "stderr",
          "output_type": "stream",
          "text": [
            "\rExtracting features:  40%|████      | 758/1888 [20:24<34:04,  1.81s/it]"
          ]
        },
        {
          "name": "stdout",
          "output_type": "stream",
          "text": [
            "Saved: lofted_0139, seq_len=40\n"
          ]
        },
        {
          "name": "stderr",
          "output_type": "stream",
          "text": [
            "\rExtracting features:  40%|████      | 759/1888 [20:26<33:44,  1.79s/it]"
          ]
        },
        {
          "name": "stdout",
          "output_type": "stream",
          "text": [
            "Saved: lofted_0149, seq_len=40\n"
          ]
        },
        {
          "name": "stderr",
          "output_type": "stream",
          "text": [
            "\rExtracting features:  40%|████      | 760/1888 [20:28<32:38,  1.74s/it]"
          ]
        },
        {
          "name": "stdout",
          "output_type": "stream",
          "text": [
            "Saved: lofted_0152, seq_len=40\n"
          ]
        },
        {
          "name": "stderr",
          "output_type": "stream",
          "text": [
            "\rExtracting features:  40%|████      | 761/1888 [20:29<30:00,  1.60s/it]"
          ]
        },
        {
          "name": "stdout",
          "output_type": "stream",
          "text": [
            "Saved: lofted_0147, seq_len=40\n"
          ]
        },
        {
          "name": "stderr",
          "output_type": "stream",
          "text": [
            "\rExtracting features:  40%|████      | 762/1888 [20:30<28:18,  1.51s/it]"
          ]
        },
        {
          "name": "stdout",
          "output_type": "stream",
          "text": [
            "Saved: lofted_0138, seq_len=40\n"
          ]
        },
        {
          "name": "stderr",
          "output_type": "stream",
          "text": [
            "\rExtracting features:  40%|████      | 763/1888 [20:32<30:40,  1.64s/it]"
          ]
        },
        {
          "name": "stdout",
          "output_type": "stream",
          "text": [
            "Saved: lofted_0150, seq_len=40\n"
          ]
        },
        {
          "name": "stderr",
          "output_type": "stream",
          "text": [
            "\rExtracting features:  40%|████      | 764/1888 [20:34<32:02,  1.71s/it]"
          ]
        },
        {
          "name": "stdout",
          "output_type": "stream",
          "text": [
            "Saved: lofted_0154, seq_len=40\n"
          ]
        },
        {
          "name": "stderr",
          "output_type": "stream",
          "text": [
            "\rExtracting features:  41%|████      | 765/1888 [20:35<29:52,  1.60s/it]"
          ]
        },
        {
          "name": "stdout",
          "output_type": "stream",
          "text": [
            "Saved: lofted_0151, seq_len=40\n"
          ]
        },
        {
          "name": "stderr",
          "output_type": "stream",
          "text": [
            "\rExtracting features:  41%|████      | 766/1888 [20:37<31:21,  1.68s/it]"
          ]
        },
        {
          "name": "stdout",
          "output_type": "stream",
          "text": [
            "Saved: lofted_0140, seq_len=40\n"
          ]
        },
        {
          "name": "stderr",
          "output_type": "stream",
          "text": [
            "\rExtracting features:  41%|████      | 767/1888 [20:39<30:03,  1.61s/it]"
          ]
        },
        {
          "name": "stdout",
          "output_type": "stream",
          "text": [
            "Saved: lofted_0146, seq_len=40\n"
          ]
        },
        {
          "name": "stderr",
          "output_type": "stream",
          "text": [
            "\rExtracting features:  41%|████      | 768/1888 [20:41<32:24,  1.74s/it]"
          ]
        },
        {
          "name": "stdout",
          "output_type": "stream",
          "text": [
            "Saved: lofted_0143, seq_len=40\n"
          ]
        },
        {
          "name": "stderr",
          "output_type": "stream",
          "text": [
            "\rExtracting features:  41%|████      | 769/1888 [20:43<33:07,  1.78s/it]"
          ]
        },
        {
          "name": "stdout",
          "output_type": "stream",
          "text": [
            "Saved: lofted_0187, seq_len=40\n"
          ]
        },
        {
          "name": "stderr",
          "output_type": "stream",
          "text": [
            "\rExtracting features:  41%|████      | 770/1888 [20:44<31:20,  1.68s/it]"
          ]
        },
        {
          "name": "stdout",
          "output_type": "stream",
          "text": [
            "Saved: lofted_0102, seq_len=40\n"
          ]
        },
        {
          "name": "stderr",
          "output_type": "stream",
          "text": [
            "\rExtracting features:  41%|████      | 771/1888 [20:46<32:14,  1.73s/it]"
          ]
        },
        {
          "name": "stdout",
          "output_type": "stream",
          "text": [
            "Saved: lofted_0190, seq_len=40\n"
          ]
        },
        {
          "name": "stderr",
          "output_type": "stream",
          "text": [
            "\rExtracting features:  41%|████      | 772/1888 [20:48<35:23,  1.90s/it]"
          ]
        },
        {
          "name": "stdout",
          "output_type": "stream",
          "text": [
            "Saved: lofted_0141, seq_len=40\n"
          ]
        },
        {
          "name": "stderr",
          "output_type": "stream",
          "text": [
            "\rExtracting features:  41%|████      | 773/1888 [20:50<35:40,  1.92s/it]"
          ]
        },
        {
          "name": "stdout",
          "output_type": "stream",
          "text": [
            "Saved: lofted_0144, seq_len=40\n"
          ]
        },
        {
          "name": "stderr",
          "output_type": "stream",
          "text": [
            "\rExtracting features:  41%|████      | 774/1888 [20:52<36:20,  1.96s/it]"
          ]
        },
        {
          "name": "stdout",
          "output_type": "stream",
          "text": [
            "Saved: lofted_0142, seq_len=40\n"
          ]
        },
        {
          "name": "stderr",
          "output_type": "stream",
          "text": [
            "\rExtracting features:  41%|████      | 775/1888 [20:54<35:38,  1.92s/it]"
          ]
        },
        {
          "name": "stdout",
          "output_type": "stream",
          "text": [
            "Saved: lofted_0185, seq_len=40\n"
          ]
        },
        {
          "name": "stderr",
          "output_type": "stream",
          "text": [
            "\rExtracting features:  41%|████      | 776/1888 [20:55<32:15,  1.74s/it]"
          ]
        },
        {
          "name": "stdout",
          "output_type": "stream",
          "text": [
            "Saved: lofted_0100, seq_len=40\n"
          ]
        },
        {
          "name": "stderr",
          "output_type": "stream",
          "text": [
            "\rExtracting features:  41%|████      | 777/1888 [20:58<35:33,  1.92s/it]"
          ]
        },
        {
          "name": "stdout",
          "output_type": "stream",
          "text": [
            "Saved: lofted_0183, seq_len=40\n"
          ]
        },
        {
          "name": "stderr",
          "output_type": "stream",
          "text": [
            "\rExtracting features:  41%|████      | 778/1888 [20:59<32:16,  1.74s/it]"
          ]
        },
        {
          "name": "stdout",
          "output_type": "stream",
          "text": [
            "Saved: lofted_0189, seq_len=40\n"
          ]
        },
        {
          "name": "stderr",
          "output_type": "stream",
          "text": [
            "\rExtracting features:  41%|████▏     | 779/1888 [21:00<30:58,  1.68s/it]"
          ]
        },
        {
          "name": "stdout",
          "output_type": "stream",
          "text": [
            "Saved: lofted_0153, seq_len=40\n"
          ]
        },
        {
          "name": "stderr",
          "output_type": "stream",
          "text": [
            "\rExtracting features:  41%|████▏     | 780/1888 [21:03<33:30,  1.81s/it]"
          ]
        },
        {
          "name": "stdout",
          "output_type": "stream",
          "text": [
            "Saved: lofted_0101, seq_len=40\n"
          ]
        },
        {
          "name": "stderr",
          "output_type": "stream",
          "text": [
            "\rExtracting features:  41%|████▏     | 781/1888 [21:04<33:08,  1.80s/it]"
          ]
        },
        {
          "name": "stdout",
          "output_type": "stream",
          "text": [
            "Saved: lofted_0188, seq_len=40\n"
          ]
        },
        {
          "name": "stderr",
          "output_type": "stream",
          "text": [
            "\rExtracting features:  41%|████▏     | 782/1888 [21:06<30:10,  1.64s/it]"
          ]
        },
        {
          "name": "stdout",
          "output_type": "stream",
          "text": [
            "Saved: lofted_0096, seq_len=40\n"
          ]
        },
        {
          "name": "stderr",
          "output_type": "stream",
          "text": [
            "\rExtracting features:  41%|████▏     | 783/1888 [21:07<30:34,  1.66s/it]"
          ]
        },
        {
          "name": "stdout",
          "output_type": "stream",
          "text": [
            "Saved: lofted_0092, seq_len=40\n"
          ]
        },
        {
          "name": "stderr",
          "output_type": "stream",
          "text": [
            "\rExtracting features:  42%|████▏     | 784/1888 [21:09<31:17,  1.70s/it]"
          ]
        },
        {
          "name": "stdout",
          "output_type": "stream",
          "text": [
            "Saved: lofted_0137, seq_len=40\n"
          ]
        },
        {
          "name": "stderr",
          "output_type": "stream",
          "text": [
            "\rExtracting features:  42%|████▏     | 785/1888 [21:11<30:41,  1.67s/it]"
          ]
        },
        {
          "name": "stdout",
          "output_type": "stream",
          "text": [
            "Saved: lofted_0093, seq_len=40\n"
          ]
        },
        {
          "name": "stderr",
          "output_type": "stream",
          "text": [
            "\rExtracting features:  42%|████▏     | 786/1888 [21:14<37:06,  2.02s/it]"
          ]
        },
        {
          "name": "stdout",
          "output_type": "stream",
          "text": [
            "Saved: lofted_0097, seq_len=40\n"
          ]
        },
        {
          "name": "stderr",
          "output_type": "stream",
          "text": [
            "\rExtracting features:  42%|████▏     | 787/1888 [21:15<36:10,  1.97s/it]"
          ]
        },
        {
          "name": "stdout",
          "output_type": "stream",
          "text": [
            "Saved: lofted_0135, seq_len=40\n"
          ]
        },
        {
          "name": "stderr",
          "output_type": "stream",
          "text": [
            "\rExtracting features:  42%|████▏     | 788/1888 [21:18<37:29,  2.05s/it]"
          ]
        },
        {
          "name": "stdout",
          "output_type": "stream",
          "text": [
            "Saved: lofted_0095, seq_len=40\n"
          ]
        },
        {
          "name": "stderr",
          "output_type": "stream",
          "text": [
            "\rExtracting features:  42%|████▏     | 789/1888 [21:20<37:59,  2.07s/it]"
          ]
        },
        {
          "name": "stdout",
          "output_type": "stream",
          "text": [
            "Saved: lofted_0136, seq_len=40\n"
          ]
        },
        {
          "name": "stderr",
          "output_type": "stream",
          "text": [
            "\rExtracting features:  42%|████▏     | 790/1888 [21:22<40:13,  2.20s/it]"
          ]
        },
        {
          "name": "stdout",
          "output_type": "stream",
          "text": [
            "Saved: lofted_0191, seq_len=40\n"
          ]
        },
        {
          "name": "stderr",
          "output_type": "stream",
          "text": [
            "\rExtracting features:  42%|████▏     | 791/1888 [21:24<37:42,  2.06s/it]"
          ]
        },
        {
          "name": "stdout",
          "output_type": "stream",
          "text": [
            "Saved: lofted_0094, seq_len=40\n"
          ]
        },
        {
          "name": "stderr",
          "output_type": "stream",
          "text": [
            "\rExtracting features:  42%|████▏     | 792/1888 [21:26<35:59,  1.97s/it]"
          ]
        },
        {
          "name": "stdout",
          "output_type": "stream",
          "text": [
            "Saved: lofted_0108, seq_len=40\n"
          ]
        },
        {
          "name": "stderr",
          "output_type": "stream",
          "text": [
            "\rExtracting features:  42%|████▏     | 793/1888 [21:28<35:14,  1.93s/it]"
          ]
        },
        {
          "name": "stdout",
          "output_type": "stream",
          "text": [
            "Saved: lofted_0182, seq_len=40\n"
          ]
        },
        {
          "name": "stderr",
          "output_type": "stream",
          "text": [
            "\rExtracting features:  42%|████▏     | 794/1888 [21:29<32:09,  1.76s/it]"
          ]
        },
        {
          "name": "stdout",
          "output_type": "stream",
          "text": [
            "Saved: lofted_0132, seq_len=40\n"
          ]
        },
        {
          "name": "stderr",
          "output_type": "stream",
          "text": [
            "\rExtracting features:  42%|████▏     | 795/1888 [21:30<29:08,  1.60s/it]"
          ]
        },
        {
          "name": "stdout",
          "output_type": "stream",
          "text": [
            "Saved: lofted_0126, seq_len=40\n"
          ]
        },
        {
          "name": "stderr",
          "output_type": "stream",
          "text": [
            "\rExtracting features:  42%|████▏     | 796/1888 [21:32<30:11,  1.66s/it]"
          ]
        },
        {
          "name": "stdout",
          "output_type": "stream",
          "text": [
            "Saved: lofted_0125, seq_len=40\n"
          ]
        },
        {
          "name": "stderr",
          "output_type": "stream",
          "text": [
            "\rExtracting features:  42%|████▏     | 797/1888 [21:34<32:38,  1.79s/it]"
          ]
        },
        {
          "name": "stdout",
          "output_type": "stream",
          "text": [
            "Saved: lofted_0133, seq_len=40\n"
          ]
        },
        {
          "name": "stderr",
          "output_type": "stream",
          "text": [
            "\rExtracting features:  42%|████▏     | 798/1888 [21:37<38:25,  2.12s/it]"
          ]
        },
        {
          "name": "stdout",
          "output_type": "stream",
          "text": [
            "Saved: lofted_0184, seq_len=40\n"
          ]
        },
        {
          "name": "stderr",
          "output_type": "stream",
          "text": [
            "\rExtracting features:  42%|████▏     | 799/1888 [21:40<41:28,  2.28s/it]"
          ]
        },
        {
          "name": "stdout",
          "output_type": "stream",
          "text": [
            "Saved: lofted_0124, seq_len=40\n"
          ]
        },
        {
          "name": "stderr",
          "output_type": "stream",
          "text": [
            "\rExtracting features:  42%|████▏     | 800/1888 [21:41<35:51,  1.98s/it]"
          ]
        },
        {
          "name": "stdout",
          "output_type": "stream",
          "text": [
            "Saved: lofted_0131, seq_len=40\n"
          ]
        },
        {
          "name": "stderr",
          "output_type": "stream",
          "text": [
            "\rExtracting features:  42%|████▏     | 801/1888 [21:42<32:10,  1.78s/it]"
          ]
        },
        {
          "name": "stdout",
          "output_type": "stream",
          "text": [
            "Saved: lofted_0122, seq_len=40\n"
          ]
        },
        {
          "name": "stderr",
          "output_type": "stream",
          "text": [
            "\rExtracting features:  42%|████▏     | 802/1888 [21:44<33:07,  1.83s/it]"
          ]
        },
        {
          "name": "stdout",
          "output_type": "stream",
          "text": [
            "Saved: lofted_0098, seq_len=40\n"
          ]
        },
        {
          "name": "stderr",
          "output_type": "stream",
          "text": [
            "\rExtracting features:  43%|████▎     | 803/1888 [21:47<39:50,  2.20s/it]"
          ]
        },
        {
          "name": "stdout",
          "output_type": "stream",
          "text": [
            "Saved: lofted_0134, seq_len=40\n"
          ]
        },
        {
          "name": "stderr",
          "output_type": "stream",
          "text": [
            "\rExtracting features:  43%|████▎     | 804/1888 [21:49<38:00,  2.10s/it]"
          ]
        },
        {
          "name": "stdout",
          "output_type": "stream",
          "text": [
            "Saved: lofted_0128, seq_len=40\n"
          ]
        },
        {
          "name": "stderr",
          "output_type": "stream",
          "text": [
            "\rExtracting features:  43%|████▎     | 805/1888 [21:50<33:05,  1.83s/it]"
          ]
        },
        {
          "name": "stdout",
          "output_type": "stream",
          "text": [
            "Saved: lofted_0121, seq_len=40\n"
          ]
        },
        {
          "name": "stderr",
          "output_type": "stream",
          "text": [
            "\rExtracting features:  43%|████▎     | 806/1888 [21:52<29:39,  1.65s/it]"
          ]
        },
        {
          "name": "stdout",
          "output_type": "stream",
          "text": [
            "Saved: lofted_0192, seq_len=40\n"
          ]
        },
        {
          "name": "stderr",
          "output_type": "stream",
          "text": [
            "\rExtracting features:  43%|████▎     | 807/1888 [21:53<30:38,  1.70s/it]"
          ]
        },
        {
          "name": "stdout",
          "output_type": "stream",
          "text": [
            "Saved: lofted_0129, seq_len=40\n"
          ]
        },
        {
          "name": "stderr",
          "output_type": "stream",
          "text": [
            "\rExtracting features:  43%|████▎     | 808/1888 [21:55<30:49,  1.71s/it]"
          ]
        },
        {
          "name": "stdout",
          "output_type": "stream",
          "text": [
            "Saved: lofted_0117, seq_len=40\n"
          ]
        },
        {
          "name": "stderr",
          "output_type": "stream",
          "text": [
            "\rExtracting features:  43%|████▎     | 809/1888 [21:57<31:06,  1.73s/it]"
          ]
        },
        {
          "name": "stdout",
          "output_type": "stream",
          "text": [
            "Saved: lofted_0116, seq_len=40\n"
          ]
        },
        {
          "name": "stderr",
          "output_type": "stream",
          "text": [
            "\rExtracting features:  43%|████▎     | 810/1888 [21:58<28:41,  1.60s/it]"
          ]
        },
        {
          "name": "stdout",
          "output_type": "stream",
          "text": [
            "Saved: lofted_0127, seq_len=40\n"
          ]
        },
        {
          "name": "stderr",
          "output_type": "stream",
          "text": [
            "\rExtracting features:  43%|████▎     | 811/1888 [22:00<28:27,  1.59s/it]"
          ]
        },
        {
          "name": "stdout",
          "output_type": "stream",
          "text": [
            "Saved: lofted_0119, seq_len=40\n"
          ]
        },
        {
          "name": "stderr",
          "output_type": "stream",
          "text": [
            "\rExtracting features:  43%|████▎     | 812/1888 [22:03<35:05,  1.96s/it]"
          ]
        },
        {
          "name": "stdout",
          "output_type": "stream",
          "text": [
            "Saved: lofted_0130, seq_len=40\n"
          ]
        },
        {
          "name": "stderr",
          "output_type": "stream",
          "text": [
            "\rExtracting features:  43%|████▎     | 813/1888 [22:05<35:08,  1.96s/it]"
          ]
        },
        {
          "name": "stdout",
          "output_type": "stream",
          "text": [
            "Saved: lofted_0181, seq_len=40\n"
          ]
        },
        {
          "name": "stderr",
          "output_type": "stream",
          "text": [
            "\rExtracting features:  43%|████▎     | 814/1888 [22:06<33:37,  1.88s/it]"
          ]
        },
        {
          "name": "stdout",
          "output_type": "stream",
          "text": [
            "Saved: lofted_0077, seq_len=40\n"
          ]
        },
        {
          "name": "stderr",
          "output_type": "stream",
          "text": [
            "\rExtracting features:  43%|████▎     | 815/1888 [22:08<33:53,  1.90s/it]"
          ]
        },
        {
          "name": "stdout",
          "output_type": "stream",
          "text": [
            "Saved: lofted_0079, seq_len=40\n"
          ]
        },
        {
          "name": "stderr",
          "output_type": "stream",
          "text": [
            "\rExtracting features:  43%|████▎     | 816/1888 [22:10<32:18,  1.81s/it]"
          ]
        },
        {
          "name": "stdout",
          "output_type": "stream",
          "text": [
            "Saved: lofted_0069, seq_len=40\n"
          ]
        },
        {
          "name": "stderr",
          "output_type": "stream",
          "text": [
            "\rExtracting features:  43%|████▎     | 817/1888 [22:11<29:57,  1.68s/it]"
          ]
        },
        {
          "name": "stdout",
          "output_type": "stream",
          "text": [
            "Saved: lofted_0074, seq_len=40\n"
          ]
        },
        {
          "name": "stderr",
          "output_type": "stream",
          "text": [
            "\rExtracting features:  43%|████▎     | 818/1888 [22:13<32:33,  1.83s/it]"
          ]
        },
        {
          "name": "stdout",
          "output_type": "stream",
          "text": [
            "Saved: lofted_0082, seq_len=40\n"
          ]
        },
        {
          "name": "stderr",
          "output_type": "stream",
          "text": [
            "\rExtracting features:  43%|████▎     | 819/1888 [22:16<34:40,  1.95s/it]"
          ]
        },
        {
          "name": "stdout",
          "output_type": "stream",
          "text": [
            "Saved: lofted_0123, seq_len=40\n"
          ]
        },
        {
          "name": "stderr",
          "output_type": "stream",
          "text": [
            "\rExtracting features:  43%|████▎     | 820/1888 [22:17<34:08,  1.92s/it]"
          ]
        },
        {
          "name": "stdout",
          "output_type": "stream",
          "text": [
            "Saved: lofted_0180, seq_len=40\n"
          ]
        },
        {
          "name": "stderr",
          "output_type": "stream",
          "text": [
            "\rExtracting features:  43%|████▎     | 821/1888 [22:19<33:15,  1.87s/it]"
          ]
        },
        {
          "name": "stdout",
          "output_type": "stream",
          "text": [
            "Saved: lofted_0083, seq_len=40\n"
          ]
        },
        {
          "name": "stderr",
          "output_type": "stream",
          "text": [
            "\rExtracting features:  44%|████▎     | 822/1888 [22:21<32:32,  1.83s/it]"
          ]
        },
        {
          "name": "stdout",
          "output_type": "stream",
          "text": [
            "Saved: lofted_0080, seq_len=40\n"
          ]
        },
        {
          "name": "stderr",
          "output_type": "stream",
          "text": [
            "\rExtracting features:  44%|████▎     | 823/1888 [22:23<34:24,  1.94s/it]"
          ]
        },
        {
          "name": "stdout",
          "output_type": "stream",
          "text": [
            "Saved: lofted_0115, seq_len=40\n"
          ]
        },
        {
          "name": "stderr",
          "output_type": "stream",
          "text": [
            "\rExtracting features:  44%|████▎     | 824/1888 [22:25<35:02,  1.98s/it]"
          ]
        },
        {
          "name": "stdout",
          "output_type": "stream",
          "text": [
            "Saved: lofted_0081, seq_len=40\n"
          ]
        },
        {
          "name": "stderr",
          "output_type": "stream",
          "text": [
            "\rExtracting features:  44%|████▎     | 825/1888 [22:32<1:01:46,  3.49s/it]"
          ]
        },
        {
          "name": "stdout",
          "output_type": "stream",
          "text": [
            "Saved: lofted_0179, seq_len=40\n"
          ]
        },
        {
          "name": "stderr",
          "output_type": "stream",
          "text": [
            "\rExtracting features:  44%|████▍     | 826/1888 [22:34<53:40,  3.03s/it]  "
          ]
        },
        {
          "name": "stdout",
          "output_type": "stream",
          "text": [
            "Saved: lofted_0058, seq_len=40\n"
          ]
        },
        {
          "name": "stderr",
          "output_type": "stream",
          "text": [
            "\rExtracting features:  44%|████▍     | 827/1888 [22:36<48:16,  2.73s/it]"
          ]
        },
        {
          "name": "stdout",
          "output_type": "stream",
          "text": [
            "Saved: lofted_0072, seq_len=40\n"
          ]
        },
        {
          "name": "stderr",
          "output_type": "stream",
          "text": [
            "\rExtracting features:  44%|████▍     | 828/1888 [22:39<49:13,  2.79s/it]"
          ]
        },
        {
          "name": "stdout",
          "output_type": "stream",
          "text": [
            "Saved: lofted_0071, seq_len=40\n"
          ]
        },
        {
          "name": "stderr",
          "output_type": "stream",
          "text": [
            "\rExtracting features:  44%|████▍     | 829/1888 [22:41<46:18,  2.62s/it]"
          ]
        },
        {
          "name": "stdout",
          "output_type": "stream",
          "text": [
            "Saved: lofted_0145, seq_len=40\n"
          ]
        },
        {
          "name": "stderr",
          "output_type": "stream",
          "text": [
            "\rExtracting features:  44%|████▍     | 830/1888 [22:42<38:10,  2.16s/it]"
          ]
        },
        {
          "name": "stdout",
          "output_type": "stream",
          "text": [
            "Saved: lofted_0078, seq_len=40\n"
          ]
        },
        {
          "name": "stderr",
          "output_type": "stream",
          "text": [
            "\rExtracting features:  44%|████▍     | 831/1888 [22:44<33:25,  1.90s/it]"
          ]
        },
        {
          "name": "stdout",
          "output_type": "stream",
          "text": [
            "Saved: lofted_0073, seq_len=40\n"
          ]
        },
        {
          "name": "stderr",
          "output_type": "stream",
          "text": [
            "\rExtracting features:  44%|████▍     | 832/1888 [22:46<37:07,  2.11s/it]"
          ]
        },
        {
          "name": "stdout",
          "output_type": "stream",
          "text": [
            "Saved: lofted_0076, seq_len=40\n"
          ]
        },
        {
          "name": "stderr",
          "output_type": "stream",
          "text": [
            "\rExtracting features:  44%|████▍     | 833/1888 [22:49<38:01,  2.16s/it]"
          ]
        },
        {
          "name": "stdout",
          "output_type": "stream",
          "text": [
            "Saved: lofted_0075, seq_len=40\n"
          ]
        },
        {
          "name": "stderr",
          "output_type": "stream",
          "text": [
            "\rExtracting features:  44%|████▍     | 834/1888 [22:51<38:14,  2.18s/it]"
          ]
        },
        {
          "name": "stdout",
          "output_type": "stream",
          "text": [
            "Saved: lofted_0070, seq_len=40\n"
          ]
        },
        {
          "name": "stderr",
          "output_type": "stream",
          "text": [
            "\rExtracting features:  44%|████▍     | 835/1888 [22:53<36:38,  2.09s/it]"
          ]
        },
        {
          "name": "stdout",
          "output_type": "stream",
          "text": [
            "Saved: lofted_0063, seq_len=40\n"
          ]
        },
        {
          "name": "stderr",
          "output_type": "stream",
          "text": [
            "\rExtracting features:  44%|████▍     | 836/1888 [22:55<36:17,  2.07s/it]"
          ]
        },
        {
          "name": "stdout",
          "output_type": "stream",
          "text": [
            "Saved: lofted_0067, seq_len=40\n"
          ]
        },
        {
          "name": "stderr",
          "output_type": "stream",
          "text": [
            "\rExtracting features:  44%|████▍     | 837/1888 [22:57<36:39,  2.09s/it]"
          ]
        },
        {
          "name": "stdout",
          "output_type": "stream",
          "text": [
            "Saved: lofted_0046, seq_len=40\n"
          ]
        },
        {
          "name": "stderr",
          "output_type": "stream",
          "text": [
            "\rExtracting features:  44%|████▍     | 838/1888 [22:59<38:44,  2.21s/it]"
          ]
        },
        {
          "name": "stdout",
          "output_type": "stream",
          "text": [
            "Saved: lofted_0061, seq_len=40\n"
          ]
        },
        {
          "name": "stderr",
          "output_type": "stream",
          "text": [
            "\rExtracting features:  44%|████▍     | 839/1888 [23:02<43:46,  2.50s/it]"
          ]
        },
        {
          "name": "stdout",
          "output_type": "stream",
          "text": [
            "Saved: lofted_0065, seq_len=40\n"
          ]
        },
        {
          "name": "stderr",
          "output_type": "stream",
          "text": [
            "\rExtracting features:  44%|████▍     | 840/1888 [23:05<41:47,  2.39s/it]"
          ]
        },
        {
          "name": "stdout",
          "output_type": "stream",
          "text": [
            "Saved: lofted_0064, seq_len=40\n"
          ]
        },
        {
          "name": "stderr",
          "output_type": "stream",
          "text": [
            "\rExtracting features:  45%|████▍     | 841/1888 [23:07<39:51,  2.28s/it]"
          ]
        },
        {
          "name": "stdout",
          "output_type": "stream",
          "text": [
            "Saved: lofted_0066, seq_len=40\n"
          ]
        },
        {
          "name": "stderr",
          "output_type": "stream",
          "text": [
            "\rExtracting features:  45%|████▍     | 842/1888 [23:08<35:46,  2.05s/it]"
          ]
        },
        {
          "name": "stdout",
          "output_type": "stream",
          "text": [
            "Saved: lofted_0059, seq_len=40\n"
          ]
        },
        {
          "name": "stderr",
          "output_type": "stream",
          "text": [
            "\rExtracting features:  45%|████▍     | 843/1888 [23:10<34:27,  1.98s/it]"
          ]
        },
        {
          "name": "stdout",
          "output_type": "stream",
          "text": [
            "Saved: lofted_0068, seq_len=40\n"
          ]
        },
        {
          "name": "stderr",
          "output_type": "stream",
          "text": [
            "\rExtracting features:  45%|████▍     | 844/1888 [23:12<35:00,  2.01s/it]"
          ]
        },
        {
          "name": "stdout",
          "output_type": "stream",
          "text": [
            "Saved: lofted_0032, seq_len=40\n"
          ]
        },
        {
          "name": "stderr",
          "output_type": "stream",
          "text": [
            "\rExtracting features:  45%|████▍     | 845/1888 [23:15<37:56,  2.18s/it]"
          ]
        },
        {
          "name": "stdout",
          "output_type": "stream",
          "text": [
            "Saved: lofted_0016, seq_len=40\n"
          ]
        },
        {
          "name": "stderr",
          "output_type": "stream",
          "text": [
            "\rExtracting features:  45%|████▍     | 846/1888 [23:17<36:27,  2.10s/it]"
          ]
        },
        {
          "name": "stdout",
          "output_type": "stream",
          "text": [
            "Saved: lofted_0051, seq_len=40\n"
          ]
        },
        {
          "name": "stderr",
          "output_type": "stream",
          "text": [
            "\rExtracting features:  45%|████▍     | 847/1888 [23:19<37:18,  2.15s/it]"
          ]
        },
        {
          "name": "stdout",
          "output_type": "stream",
          "text": [
            "Saved: lofted_0062, seq_len=40\n"
          ]
        },
        {
          "name": "stderr",
          "output_type": "stream",
          "text": [
            "\rExtracting features:  45%|████▍     | 848/1888 [23:21<38:24,  2.22s/it]"
          ]
        },
        {
          "name": "stdout",
          "output_type": "stream",
          "text": [
            "Saved: lofted_0017, seq_len=40\n"
          ]
        },
        {
          "name": "stderr",
          "output_type": "stream",
          "text": [
            "\rExtracting features:  45%|████▍     | 849/1888 [23:24<39:25,  2.28s/it]"
          ]
        },
        {
          "name": "stdout",
          "output_type": "stream",
          "text": [
            "Saved: lofted_0018, seq_len=40\n"
          ]
        },
        {
          "name": "stderr",
          "output_type": "stream",
          "text": [
            "\rExtracting features:  45%|████▌     | 850/1888 [23:26<39:42,  2.30s/it]"
          ]
        },
        {
          "name": "stdout",
          "output_type": "stream",
          "text": [
            "Saved: lofted_0015, seq_len=40\n"
          ]
        },
        {
          "name": "stderr",
          "output_type": "stream",
          "text": [
            "\rExtracting features:  45%|████▌     | 851/1888 [23:29<43:17,  2.50s/it]"
          ]
        },
        {
          "name": "stdout",
          "output_type": "stream",
          "text": [
            "Saved: lofted_0045, seq_len=40\n"
          ]
        },
        {
          "name": "stderr",
          "output_type": "stream",
          "text": [
            "\rExtracting features:  45%|████▌     | 852/1888 [23:31<42:03,  2.44s/it]"
          ]
        },
        {
          "name": "stdout",
          "output_type": "stream",
          "text": [
            "Saved: lofted_0050, seq_len=40\n"
          ]
        },
        {
          "name": "stderr",
          "output_type": "stream",
          "text": [
            "\rExtracting features:  45%|████▌     | 853/1888 [23:34<42:22,  2.46s/it]"
          ]
        },
        {
          "name": "stdout",
          "output_type": "stream",
          "text": [
            "Saved: lofted_0043, seq_len=40\n"
          ]
        },
        {
          "name": "stderr",
          "output_type": "stream",
          "text": [
            "\rExtracting features:  45%|████▌     | 854/1888 [23:40<1:03:03,  3.66s/it]"
          ]
        },
        {
          "name": "stdout",
          "output_type": "stream",
          "text": [
            "Saved: lofted_0026, seq_len=40\n"
          ]
        },
        {
          "name": "stderr",
          "output_type": "stream",
          "text": [
            "\rExtracting features:  45%|████▌     | 855/1888 [23:43<56:16,  3.27s/it]  "
          ]
        },
        {
          "name": "stdout",
          "output_type": "stream",
          "text": [
            "Saved: lofted_0040, seq_len=40\n"
          ]
        },
        {
          "name": "stderr",
          "output_type": "stream",
          "text": [
            "\rExtracting features:  45%|████▌     | 856/1888 [23:45<53:54,  3.13s/it]"
          ]
        },
        {
          "name": "stdout",
          "output_type": "stream",
          "text": [
            "Saved: lofted_0047, seq_len=40\n"
          ]
        },
        {
          "name": "stderr",
          "output_type": "stream",
          "text": [
            "\rExtracting features:  45%|████▌     | 857/1888 [23:47<48:23,  2.82s/it]"
          ]
        },
        {
          "name": "stdout",
          "output_type": "stream",
          "text": [
            "Saved: lofted_0031, seq_len=40\n"
          ]
        },
        {
          "name": "stderr",
          "output_type": "stream",
          "text": [
            "\rExtracting features:  45%|████▌     | 858/1888 [23:50<45:52,  2.67s/it]"
          ]
        },
        {
          "name": "stdout",
          "output_type": "stream",
          "text": [
            "Saved: lofted_0054, seq_len=40\n"
          ]
        },
        {
          "name": "stderr",
          "output_type": "stream",
          "text": [
            "\rExtracting features:  45%|████▌     | 859/1888 [23:52<42:32,  2.48s/it]"
          ]
        },
        {
          "name": "stdout",
          "output_type": "stream",
          "text": [
            "Saved: lofted_0053, seq_len=40\n"
          ]
        },
        {
          "name": "stderr",
          "output_type": "stream",
          "text": [
            "\rExtracting features:  46%|████▌     | 860/1888 [23:55<45:22,  2.65s/it]"
          ]
        },
        {
          "name": "stdout",
          "output_type": "stream",
          "text": [
            "Saved: lofted_0025, seq_len=40\n"
          ]
        },
        {
          "name": "stderr",
          "output_type": "stream",
          "text": [
            "\rExtracting features:  46%|████▌     | 861/1888 [23:57<42:50,  2.50s/it]"
          ]
        },
        {
          "name": "stdout",
          "output_type": "stream",
          "text": [
            "Saved: lofted_0014, seq_len=40\n"
          ]
        },
        {
          "name": "stderr",
          "output_type": "stream",
          "text": [
            "\rExtracting features:  46%|████▌     | 862/1888 [24:00<43:16,  2.53s/it]"
          ]
        },
        {
          "name": "stdout",
          "output_type": "stream",
          "text": [
            "Saved: lofted_0028, seq_len=40\n"
          ]
        },
        {
          "name": "stderr",
          "output_type": "stream",
          "text": [
            "\rExtracting features:  46%|████▌     | 863/1888 [24:02<42:21,  2.48s/it]"
          ]
        },
        {
          "name": "stdout",
          "output_type": "stream",
          "text": [
            "Saved: lofted_0052, seq_len=40\n"
          ]
        },
        {
          "name": "stderr",
          "output_type": "stream",
          "text": [
            "\rExtracting features:  46%|████▌     | 864/1888 [24:04<40:08,  2.35s/it]"
          ]
        },
        {
          "name": "stdout",
          "output_type": "stream",
          "text": [
            "Saved: lofted_0024, seq_len=40\n"
          ]
        },
        {
          "name": "stderr",
          "output_type": "stream",
          "text": [
            "\rExtracting features:  46%|████▌     | 865/1888 [24:06<39:36,  2.32s/it]"
          ]
        },
        {
          "name": "stdout",
          "output_type": "stream",
          "text": [
            "Saved: lofted_0171, seq_len=40\n"
          ]
        },
        {
          "name": "stderr",
          "output_type": "stream",
          "text": [
            "\rExtracting features:  46%|████▌     | 866/1888 [24:08<37:25,  2.20s/it]"
          ]
        },
        {
          "name": "stdout",
          "output_type": "stream",
          "text": [
            "Saved: lofted_0042, seq_len=40\n"
          ]
        },
        {
          "name": "stderr",
          "output_type": "stream",
          "text": [
            "\rExtracting features:  46%|████▌     | 867/1888 [24:10<36:35,  2.15s/it]"
          ]
        },
        {
          "name": "stdout",
          "output_type": "stream",
          "text": [
            "Saved: lofted_0038, seq_len=40\n"
          ]
        },
        {
          "name": "stderr",
          "output_type": "stream",
          "text": [
            "\rExtracting features:  46%|████▌     | 868/1888 [24:12<36:25,  2.14s/it]"
          ]
        },
        {
          "name": "stdout",
          "output_type": "stream",
          "text": [
            "Saved: lofted_0022, seq_len=40\n"
          ]
        },
        {
          "name": "stderr",
          "output_type": "stream",
          "text": [
            "\rExtracting features:  46%|████▌     | 869/1888 [24:14<35:57,  2.12s/it]"
          ]
        },
        {
          "name": "stdout",
          "output_type": "stream",
          "text": [
            "Saved: lofted_0034, seq_len=40\n"
          ]
        },
        {
          "name": "stderr",
          "output_type": "stream",
          "text": [
            "\rExtracting features:  46%|████▌     | 870/1888 [24:17<36:53,  2.17s/it]"
          ]
        },
        {
          "name": "stdout",
          "output_type": "stream",
          "text": [
            "Saved: lofted_0029, seq_len=40\n"
          ]
        },
        {
          "name": "stderr",
          "output_type": "stream",
          "text": [
            "\rExtracting features:  46%|████▌     | 871/1888 [24:19<39:09,  2.31s/it]"
          ]
        },
        {
          "name": "stdout",
          "output_type": "stream",
          "text": [
            "Saved: lofted_0036, seq_len=40\n"
          ]
        },
        {
          "name": "stderr",
          "output_type": "stream",
          "text": [
            "\rExtracting features:  46%|████▌     | 872/1888 [24:22<38:45,  2.29s/it]"
          ]
        },
        {
          "name": "stdout",
          "output_type": "stream",
          "text": [
            "Saved: lofted_0008, seq_len=40\n"
          ]
        },
        {
          "name": "stderr",
          "output_type": "stream",
          "text": [
            "\rExtracting features:  46%|████▌     | 873/1888 [24:24<40:19,  2.38s/it]"
          ]
        },
        {
          "name": "stdout",
          "output_type": "stream",
          "text": [
            "Saved: lofted_0173, seq_len=40\n"
          ]
        },
        {
          "name": "stderr",
          "output_type": "stream",
          "text": [
            "\rExtracting features:  46%|████▋     | 874/1888 [24:26<39:44,  2.35s/it]"
          ]
        },
        {
          "name": "stdout",
          "output_type": "stream",
          "text": [
            "Saved: lofted_0023, seq_len=40\n"
          ]
        },
        {
          "name": "stderr",
          "output_type": "stream",
          "text": [
            "\rExtracting features:  46%|████▋     | 875/1888 [24:29<38:52,  2.30s/it]"
          ]
        },
        {
          "name": "stdout",
          "output_type": "stream",
          "text": [
            "Saved: lofted_0004, seq_len=40\n"
          ]
        },
        {
          "name": "stderr",
          "output_type": "stream",
          "text": [
            "\rExtracting features:  46%|████▋     | 876/1888 [24:31<39:44,  2.36s/it]"
          ]
        },
        {
          "name": "stdout",
          "output_type": "stream",
          "text": [
            "Saved: lofted_0007, seq_len=40\n"
          ]
        },
        {
          "name": "stderr",
          "output_type": "stream",
          "text": [
            "\rExtracting features:  46%|████▋     | 877/1888 [24:33<39:07,  2.32s/it]"
          ]
        },
        {
          "name": "stdout",
          "output_type": "stream",
          "text": [
            "Saved: lofted_0167, seq_len=40\n"
          ]
        },
        {
          "name": "stderr",
          "output_type": "stream",
          "text": [
            "\rExtracting features:  47%|████▋     | 878/1888 [24:35<36:23,  2.16s/it]"
          ]
        },
        {
          "name": "stdout",
          "output_type": "stream",
          "text": [
            "Saved: lofted_0027, seq_len=40\n"
          ]
        },
        {
          "name": "stderr",
          "output_type": "stream",
          "text": [
            "\rExtracting features:  47%|████▋     | 879/1888 [24:37<36:06,  2.15s/it]"
          ]
        },
        {
          "name": "stdout",
          "output_type": "stream",
          "text": [
            "Saved: lofted_0174, seq_len=40\n"
          ]
        },
        {
          "name": "stderr",
          "output_type": "stream",
          "text": [
            "\rExtracting features:  47%|████▋     | 880/1888 [24:40<37:00,  2.20s/it]"
          ]
        },
        {
          "name": "stdout",
          "output_type": "stream",
          "text": [
            "Saved: lofted_0006, seq_len=40\n"
          ]
        },
        {
          "name": "stderr",
          "output_type": "stream",
          "text": [
            "\rExtracting features:  47%|████▋     | 881/1888 [24:42<38:42,  2.31s/it]"
          ]
        },
        {
          "name": "stdout",
          "output_type": "stream",
          "text": [
            "Saved: lofted_0170, seq_len=40\n"
          ]
        },
        {
          "name": "stderr",
          "output_type": "stream",
          "text": [
            "\rExtracting features:  47%|████▋     | 882/1888 [24:45<40:25,  2.41s/it]"
          ]
        },
        {
          "name": "stdout",
          "output_type": "stream",
          "text": [
            "Saved: lofted_0168, seq_len=40\n"
          ]
        },
        {
          "name": "stderr",
          "output_type": "stream",
          "text": [
            "\rExtracting features:  47%|████▋     | 883/1888 [24:47<40:30,  2.42s/it]"
          ]
        },
        {
          "name": "stdout",
          "output_type": "stream",
          "text": [
            "Saved: lofted_0176, seq_len=40\n"
          ]
        },
        {
          "name": "stderr",
          "output_type": "stream",
          "text": [
            "\rExtracting features:  47%|████▋     | 884/1888 [24:50<40:02,  2.39s/it]"
          ]
        },
        {
          "name": "stdout",
          "output_type": "stream",
          "text": [
            "Saved: lofted_0169, seq_len=40\n"
          ]
        },
        {
          "name": "stderr",
          "output_type": "stream",
          "text": [
            "\rExtracting features:  47%|████▋     | 885/1888 [24:52<38:50,  2.32s/it]"
          ]
        },
        {
          "name": "stdout",
          "output_type": "stream",
          "text": [
            "Saved: lofted_0166, seq_len=40\n"
          ]
        },
        {
          "name": "stderr",
          "output_type": "stream",
          "text": [
            "\rExtracting features:  47%|████▋     | 886/1888 [24:54<37:55,  2.27s/it]"
          ]
        },
        {
          "name": "stdout",
          "output_type": "stream",
          "text": [
            "Saved: lofted_0020, seq_len=40\n"
          ]
        },
        {
          "name": "stderr",
          "output_type": "stream",
          "text": [
            "\rExtracting features:  47%|████▋     | 887/1888 [24:56<39:33,  2.37s/it]"
          ]
        },
        {
          "name": "stdout",
          "output_type": "stream",
          "text": [
            "Saved: lofted_0002, seq_len=40\n"
          ]
        },
        {
          "name": "stderr",
          "output_type": "stream",
          "text": [
            "\rExtracting features:  47%|████▋     | 888/1888 [24:59<40:11,  2.41s/it]"
          ]
        },
        {
          "name": "stdout",
          "output_type": "stream",
          "text": [
            "Saved: lofted_0161, seq_len=40\n"
          ]
        },
        {
          "name": "stderr",
          "output_type": "stream",
          "text": [
            "\rExtracting features:  47%|████▋     | 889/1888 [25:01<36:58,  2.22s/it]"
          ]
        },
        {
          "name": "stdout",
          "output_type": "stream",
          "text": [
            "Saved: lofted_0120, seq_len=40\n"
          ]
        },
        {
          "name": "stderr",
          "output_type": "stream",
          "text": [
            "\rExtracting features:  47%|████▋     | 890/1888 [25:03<37:16,  2.24s/it]"
          ]
        },
        {
          "name": "stdout",
          "output_type": "stream",
          "text": [
            "Saved: lofted_0009, seq_len=40\n"
          ]
        },
        {
          "name": "stderr",
          "output_type": "stream",
          "text": [
            "\rExtracting features:  47%|████▋     | 891/1888 [25:05<36:32,  2.20s/it]"
          ]
        },
        {
          "name": "stdout",
          "output_type": "stream",
          "text": [
            "Saved: lofted_0175, seq_len=40\n"
          ]
        },
        {
          "name": "stderr",
          "output_type": "stream",
          "text": [
            "\rExtracting features:  47%|████▋     | 892/1888 [25:07<36:53,  2.22s/it]"
          ]
        },
        {
          "name": "stdout",
          "output_type": "stream",
          "text": [
            "Saved: lofted_0195, seq_len=40\n"
          ]
        },
        {
          "name": "stderr",
          "output_type": "stream",
          "text": [
            "\rExtracting features:  47%|████▋     | 893/1888 [25:10<39:04,  2.36s/it]"
          ]
        },
        {
          "name": "stdout",
          "output_type": "stream",
          "text": [
            "Saved: lofted_0086, seq_len=40\n"
          ]
        },
        {
          "name": "stderr",
          "output_type": "stream",
          "text": [
            "\rExtracting features:  47%|████▋     | 894/1888 [25:16<56:04,  3.38s/it]"
          ]
        },
        {
          "name": "stdout",
          "output_type": "stream",
          "text": [
            "Saved: lofted_0113, seq_len=40\n"
          ]
        },
        {
          "name": "stderr",
          "output_type": "stream",
          "text": [
            "\rExtracting features:  47%|████▋     | 895/1888 [25:18<49:49,  3.01s/it]"
          ]
        },
        {
          "name": "stdout",
          "output_type": "stream",
          "text": [
            "Saved: lofted_0103, seq_len=40\n"
          ]
        },
        {
          "name": "stderr",
          "output_type": "stream",
          "text": [
            "\rExtracting features:  47%|████▋     | 896/1888 [25:27<1:21:03,  4.90s/it]"
          ]
        },
        {
          "name": "stdout",
          "output_type": "stream",
          "text": [
            "Saved: lofted_0111, seq_len=40\n"
          ]
        },
        {
          "name": "stderr",
          "output_type": "stream",
          "text": [
            "\rExtracting features:  48%|████▊     | 897/1888 [25:29<1:06:43,  4.04s/it]"
          ]
        },
        {
          "name": "stdout",
          "output_type": "stream",
          "text": [
            "Saved: lofted_0165, seq_len=40\n"
          ]
        },
        {
          "name": "stderr",
          "output_type": "stream",
          "text": [
            "\rExtracting features:  48%|████▊     | 898/1888 [25:31<56:52,  3.45s/it]  "
          ]
        },
        {
          "name": "stdout",
          "output_type": "stream",
          "text": [
            "Saved: lofted_0035, seq_len=40\n"
          ]
        },
        {
          "name": "stderr",
          "output_type": "stream",
          "text": [
            "\rExtracting features:  48%|████▊     | 899/1888 [25:34<53:13,  3.23s/it]"
          ]
        },
        {
          "name": "stdout",
          "output_type": "stream",
          "text": [
            "Saved: lofted_0197, seq_len=40\n"
          ]
        },
        {
          "name": "stderr",
          "output_type": "stream",
          "text": [
            "\rExtracting features:  48%|████▊     | 900/1888 [25:37<53:34,  3.25s/it]"
          ]
        },
        {
          "name": "stdout",
          "output_type": "stream",
          "text": [
            "Saved: lofted_0193, seq_len=40\n"
          ]
        },
        {
          "name": "stderr",
          "output_type": "stream",
          "text": [
            "\rExtracting features:  48%|████▊     | 901/1888 [25:40<48:47,  2.97s/it]"
          ]
        },
        {
          "name": "stdout",
          "output_type": "stream",
          "text": [
            "Saved: lofted_0084, seq_len=40\n"
          ]
        },
        {
          "name": "stderr",
          "output_type": "stream",
          "text": [
            "\rExtracting features:  48%|████▊     | 902/1888 [25:42<45:05,  2.74s/it]"
          ]
        },
        {
          "name": "stdout",
          "output_type": "stream",
          "text": [
            "Saved: lofted_0088, seq_len=40\n"
          ]
        },
        {
          "name": "stderr",
          "output_type": "stream",
          "text": [
            "\rExtracting features:  48%|████▊     | 903/1888 [25:45<47:05,  2.87s/it]"
          ]
        },
        {
          "name": "stdout",
          "output_type": "stream",
          "text": [
            "Saved: lofted_0114, seq_len=40\n"
          ]
        },
        {
          "name": "stderr",
          "output_type": "stream",
          "text": [
            "\rExtracting features:  48%|████▊     | 904/1888 [25:48<46:32,  2.84s/it]"
          ]
        },
        {
          "name": "stdout",
          "output_type": "stream",
          "text": [
            "Saved: lofted_0099, seq_len=40\n"
          ]
        },
        {
          "name": "stderr",
          "output_type": "stream",
          "text": [
            "\rExtracting features:  48%|████▊     | 905/1888 [25:50<42:51,  2.62s/it]"
          ]
        },
        {
          "name": "stdout",
          "output_type": "stream",
          "text": [
            "Saved: lofted_0198, seq_len=40\n"
          ]
        },
        {
          "name": "stderr",
          "output_type": "stream",
          "text": [
            "\rExtracting features:  48%|████▊     | 906/1888 [25:52<41:11,  2.52s/it]"
          ]
        },
        {
          "name": "stdout",
          "output_type": "stream",
          "text": [
            "Saved: lofted_0109, seq_len=40\n"
          ]
        },
        {
          "name": "stderr",
          "output_type": "stream",
          "text": [
            "\rExtracting features:  48%|████▊     | 907/1888 [25:54<38:58,  2.38s/it]"
          ]
        },
        {
          "name": "stdout",
          "output_type": "stream",
          "text": [
            "Saved: lofted_0112, seq_len=40\n"
          ]
        },
        {
          "name": "stderr",
          "output_type": "stream",
          "text": [
            "\rExtracting features:  48%|████▊     | 908/1888 [25:57<38:54,  2.38s/it]"
          ]
        },
        {
          "name": "stdout",
          "output_type": "stream",
          "text": [
            "Saved: lofted_0104, seq_len=40\n"
          ]
        },
        {
          "name": "stderr",
          "output_type": "stream",
          "text": [
            "\rExtracting features:  48%|████▊     | 909/1888 [25:59<39:32,  2.42s/it]"
          ]
        },
        {
          "name": "stdout",
          "output_type": "stream",
          "text": [
            "Saved: lofted_0037, seq_len=40\n"
          ]
        },
        {
          "name": "stderr",
          "output_type": "stream",
          "text": [
            "\rExtracting features:  48%|████▊     | 910/1888 [26:01<36:02,  2.21s/it]"
          ]
        },
        {
          "name": "stdout",
          "output_type": "stream",
          "text": [
            "Saved: lofted_0163, seq_len=40\n"
          ]
        },
        {
          "name": "stderr",
          "output_type": "stream",
          "text": [
            "\rExtracting features:  48%|████▊     | 911/1888 [26:03<35:03,  2.15s/it]"
          ]
        },
        {
          "name": "stdout",
          "output_type": "stream",
          "text": [
            "Saved: lofted_0044, seq_len=40\n"
          ]
        },
        {
          "name": "stderr",
          "output_type": "stream",
          "text": [
            "\rExtracting features:  48%|████▊     | 912/1888 [26:05<34:55,  2.15s/it]"
          ]
        },
        {
          "name": "stdout",
          "output_type": "stream",
          "text": [
            "Saved: lofted_0110, seq_len=40\n"
          ]
        },
        {
          "name": "stderr",
          "output_type": "stream",
          "text": [
            "\rExtracting features:  48%|████▊     | 913/1888 [26:07<34:34,  2.13s/it]"
          ]
        },
        {
          "name": "stdout",
          "output_type": "stream",
          "text": [
            "Saved: lofted_0003, seq_len=40\n"
          ]
        },
        {
          "name": "stderr",
          "output_type": "stream",
          "text": [
            "\rExtracting features:  48%|████▊     | 914/1888 [26:09<34:58,  2.15s/it]"
          ]
        },
        {
          "name": "stdout",
          "output_type": "stream",
          "text": [
            "Saved: lofted_0087, seq_len=40\n"
          ]
        },
        {
          "name": "stderr",
          "output_type": "stream",
          "text": [
            "\rExtracting features:  48%|████▊     | 915/1888 [26:12<36:24,  2.25s/it]"
          ]
        },
        {
          "name": "stdout",
          "output_type": "stream",
          "text": [
            "Saved: lofted_0089, seq_len=40\n"
          ]
        },
        {
          "name": "stderr",
          "output_type": "stream",
          "text": [
            "\rExtracting features:  49%|████▊     | 916/1888 [26:14<36:09,  2.23s/it]"
          ]
        },
        {
          "name": "stdout",
          "output_type": "stream",
          "text": [
            "Saved: lofted_0039, seq_len=40\n"
          ]
        },
        {
          "name": "stderr",
          "output_type": "stream",
          "text": [
            "\rExtracting features:  49%|████▊     | 917/1888 [26:16<35:47,  2.21s/it]"
          ]
        },
        {
          "name": "stdout",
          "output_type": "stream",
          "text": [
            "Saved: lofted_0148, seq_len=40\n"
          ]
        },
        {
          "name": "stderr",
          "output_type": "stream",
          "text": [
            "\rExtracting features:  49%|████▊     | 918/1888 [26:18<32:17,  2.00s/it]"
          ]
        },
        {
          "name": "stdout",
          "output_type": "stream",
          "text": [
            "Saved: lofted_0048, seq_len=40\n"
          ]
        },
        {
          "name": "stderr",
          "output_type": "stream",
          "text": [
            "\rExtracting features:  49%|████▊     | 919/1888 [26:20<32:44,  2.03s/it]"
          ]
        },
        {
          "name": "stdout",
          "output_type": "stream",
          "text": [
            "Saved: lofted_0033, seq_len=40\n"
          ]
        },
        {
          "name": "stderr",
          "output_type": "stream",
          "text": [
            "\rExtracting features:  49%|████▊     | 920/1888 [26:22<33:13,  2.06s/it]"
          ]
        },
        {
          "name": "stdout",
          "output_type": "stream",
          "text": [
            "Saved: lofted_0041, seq_len=40\n"
          ]
        },
        {
          "name": "stderr",
          "output_type": "stream",
          "text": [
            "\rExtracting features:  49%|████▉     | 921/1888 [26:25<37:43,  2.34s/it]"
          ]
        },
        {
          "name": "stdout",
          "output_type": "stream",
          "text": [
            "Saved: lofted_0162, seq_len=40\n"
          ]
        },
        {
          "name": "stderr",
          "output_type": "stream",
          "text": [
            "\rExtracting features:  49%|████▉     | 922/1888 [26:28<39:48,  2.47s/it]"
          ]
        },
        {
          "name": "stdout",
          "output_type": "stream",
          "text": [
            "Saved: lofted_0090, seq_len=40\n"
          ]
        },
        {
          "name": "stderr",
          "output_type": "stream",
          "text": [
            "\rExtracting features:  49%|████▉     | 923/1888 [26:30<38:19,  2.38s/it]"
          ]
        },
        {
          "name": "stdout",
          "output_type": "stream",
          "text": [
            "Saved: lofted_0060, seq_len=40\n"
          ]
        },
        {
          "name": "stderr",
          "output_type": "stream",
          "text": [
            "\rExtracting features:  49%|████▉     | 924/1888 [26:32<35:37,  2.22s/it]"
          ]
        },
        {
          "name": "stdout",
          "output_type": "stream",
          "text": [
            "Saved: lofted_0118, seq_len=40\n"
          ]
        },
        {
          "name": "stderr",
          "output_type": "stream",
          "text": [
            "\rExtracting features:  49%|████▉     | 925/1888 [26:34<36:14,  2.26s/it]"
          ]
        },
        {
          "name": "stdout",
          "output_type": "stream",
          "text": [
            "Saved: lofted_0049, seq_len=40\n"
          ]
        },
        {
          "name": "stderr",
          "output_type": "stream",
          "text": [
            "\rExtracting features:  49%|████▉     | 926/1888 [26:37<38:40,  2.41s/it]"
          ]
        },
        {
          "name": "stdout",
          "output_type": "stream",
          "text": [
            "Saved: lofted_0194, seq_len=40\n"
          ]
        },
        {
          "name": "stderr",
          "output_type": "stream",
          "text": [
            "\rExtracting features:  49%|████▉     | 927/1888 [26:39<37:32,  2.34s/it]"
          ]
        },
        {
          "name": "stdout",
          "output_type": "stream",
          "text": [
            "Saved: lofted_0030, seq_len=40\n"
          ]
        },
        {
          "name": "stderr",
          "output_type": "stream",
          "text": [
            "\rExtracting features:  49%|████▉     | 928/1888 [26:41<35:51,  2.24s/it]"
          ]
        },
        {
          "name": "stdout",
          "output_type": "stream",
          "text": [
            "Saved: lofted_0186, seq_len=40\n"
          ]
        },
        {
          "name": "stderr",
          "output_type": "stream",
          "text": [
            "\rExtracting features:  49%|████▉     | 929/1888 [26:45<42:30,  2.66s/it]"
          ]
        },
        {
          "name": "stdout",
          "output_type": "stream",
          "text": [
            "Saved: lofted_0021, seq_len=40\n"
          ]
        },
        {
          "name": "stderr",
          "output_type": "stream",
          "text": [
            "\rExtracting features:  49%|████▉     | 930/1888 [26:47<39:47,  2.49s/it]"
          ]
        },
        {
          "name": "stdout",
          "output_type": "stream",
          "text": [
            "Saved: lofted_0105, seq_len=40\n"
          ]
        },
        {
          "name": "stderr",
          "output_type": "stream",
          "text": [
            "\rExtracting features:  49%|████▉     | 931/1888 [26:49<39:12,  2.46s/it]"
          ]
        },
        {
          "name": "stdout",
          "output_type": "stream",
          "text": [
            "Saved: lofted_0056, seq_len=40\n"
          ]
        },
        {
          "name": "stderr",
          "output_type": "stream",
          "text": [
            "\rExtracting features:  49%|████▉     | 932/1888 [26:52<39:47,  2.50s/it]"
          ]
        },
        {
          "name": "stdout",
          "output_type": "stream",
          "text": [
            "Saved: lofted_0057, seq_len=40\n"
          ]
        },
        {
          "name": "stderr",
          "output_type": "stream",
          "text": [
            "\rExtracting features:  49%|████▉     | 933/1888 [26:54<38:21,  2.41s/it]"
          ]
        },
        {
          "name": "stdout",
          "output_type": "stream",
          "text": [
            "Saved: lofted_0055, seq_len=40\n"
          ]
        },
        {
          "name": "stderr",
          "output_type": "stream",
          "text": [
            "\rExtracting features:  49%|████▉     | 934/1888 [26:56<37:07,  2.33s/it]"
          ]
        },
        {
          "name": "stdout",
          "output_type": "stream",
          "text": [
            "Saved: lofted_0085, seq_len=40\n"
          ]
        },
        {
          "name": "stderr",
          "output_type": "stream",
          "text": [
            "\rExtracting features:  50%|████▉     | 935/1888 [26:58<35:42,  2.25s/it]"
          ]
        },
        {
          "name": "stdout",
          "output_type": "stream",
          "text": [
            "Saved: lofted_0196, seq_len=40\n"
          ]
        },
        {
          "name": "stderr",
          "output_type": "stream",
          "text": [
            "\rExtracting features:  50%|████▉     | 936/1888 [27:02<42:32,  2.68s/it]"
          ]
        },
        {
          "name": "stdout",
          "output_type": "stream",
          "text": [
            "Saved: lofted_0019, seq_len=40\n"
          ]
        },
        {
          "name": "stderr",
          "output_type": "stream",
          "text": [
            "\rExtracting features:  50%|████▉     | 937/1888 [27:05<42:32,  2.68s/it]"
          ]
        },
        {
          "name": "stdout",
          "output_type": "stream",
          "text": [
            "Saved: lofted_0091, seq_len=40\n"
          ]
        },
        {
          "name": "stderr",
          "output_type": "stream",
          "text": [
            "\rExtracting features:  50%|████▉     | 938/1888 [27:07<39:37,  2.50s/it]"
          ]
        },
        {
          "name": "stdout",
          "output_type": "stream",
          "text": [
            "Saved: lofted_0164, seq_len=40\n"
          ]
        },
        {
          "name": "stderr",
          "output_type": "stream",
          "text": [
            "\rExtracting features:  50%|████▉     | 939/1888 [27:09<36:44,  2.32s/it]"
          ]
        },
        {
          "name": "stdout",
          "output_type": "stream",
          "text": [
            "Saved: lofted_0013, seq_len=40\n"
          ]
        },
        {
          "name": "stderr",
          "output_type": "stream",
          "text": [
            "\rExtracting features:  50%|████▉     | 940/1888 [27:11<35:45,  2.26s/it]"
          ]
        },
        {
          "name": "stdout",
          "output_type": "stream",
          "text": [
            "Saved: lofted_0012, seq_len=40\n"
          ]
        },
        {
          "name": "stderr",
          "output_type": "stream",
          "text": [
            "\rExtracting features:  50%|████▉     | 941/1888 [27:13<34:36,  2.19s/it]"
          ]
        },
        {
          "name": "stdout",
          "output_type": "stream",
          "text": [
            "Saved: lofted_0011, seq_len=40\n"
          ]
        },
        {
          "name": "stderr",
          "output_type": "stream",
          "text": [
            "\rExtracting features:  50%|████▉     | 942/1888 [27:16<39:01,  2.48s/it]"
          ]
        },
        {
          "name": "stdout",
          "output_type": "stream",
          "text": [
            "Saved: lofted_0106, seq_len=40\n"
          ]
        },
        {
          "name": "stderr",
          "output_type": "stream",
          "text": [
            "\rExtracting features:  50%|████▉     | 943/1888 [27:17<34:48,  2.21s/it]"
          ]
        },
        {
          "name": "stdout",
          "output_type": "stream",
          "text": [
            "Saved: lofted_0005, seq_len=40\n"
          ]
        },
        {
          "name": "stderr",
          "output_type": "stream",
          "text": [
            "\rExtracting features:  50%|█████     | 944/1888 [27:19<31:39,  2.01s/it]"
          ]
        },
        {
          "name": "stdout",
          "output_type": "stream",
          "text": [
            "Saved: lofted_0177, seq_len=40\n"
          ]
        },
        {
          "name": "stderr",
          "output_type": "stream",
          "text": [
            "\rExtracting features:  50%|█████     | 945/1888 [27:21<32:21,  2.06s/it]"
          ]
        },
        {
          "name": "stdout",
          "output_type": "stream",
          "text": [
            "Saved: lofted_0172, seq_len=40\n"
          ]
        },
        {
          "name": "stderr",
          "output_type": "stream",
          "text": [
            "\rExtracting features:  50%|█████     | 946/1888 [27:24<33:48,  2.15s/it]"
          ]
        },
        {
          "name": "stdout",
          "output_type": "stream",
          "text": [
            "Saved: lofted_0107, seq_len=40\n"
          ]
        },
        {
          "name": "stderr",
          "output_type": "stream",
          "text": [
            "\rExtracting features:  50%|█████     | 947/1888 [27:26<33:16,  2.12s/it]"
          ]
        },
        {
          "name": "stdout",
          "output_type": "stream",
          "text": [
            "Saved: lofted_0001, seq_len=40\n"
          ]
        },
        {
          "name": "stderr",
          "output_type": "stream",
          "text": [
            "\rExtracting features:  50%|█████     | 948/1888 [27:28<36:49,  2.35s/it]"
          ]
        },
        {
          "name": "stdout",
          "output_type": "stream",
          "text": [
            "Saved: lofted_0178, seq_len=40\n"
          ]
        },
        {
          "name": "stderr",
          "output_type": "stream",
          "text": [
            "\rExtracting features:  50%|█████     | 949/1888 [27:31<36:45,  2.35s/it]"
          ]
        },
        {
          "name": "stdout",
          "output_type": "stream",
          "text": [
            "Saved: lofted_0010, seq_len=40\n"
          ]
        },
        {
          "name": "stderr",
          "output_type": "stream",
          "text": [
            "\rExtracting features:  50%|█████     | 950/1888 [27:32<31:06,  1.99s/it]"
          ]
        },
        {
          "name": "stdout",
          "output_type": "stream",
          "text": [
            "Saved: defense_0178, seq_len=40\n"
          ]
        },
        {
          "name": "stderr",
          "output_type": "stream",
          "text": [
            "\rExtracting features:  50%|█████     | 951/1888 [27:33<26:35,  1.70s/it]"
          ]
        },
        {
          "name": "stdout",
          "output_type": "stream",
          "text": [
            "Saved: defense_0180, seq_len=40\n"
          ]
        },
        {
          "name": "stderr",
          "output_type": "stream",
          "text": [
            "\rExtracting features:  50%|█████     | 952/1888 [27:34<24:44,  1.59s/it]"
          ]
        },
        {
          "name": "stdout",
          "output_type": "stream",
          "text": [
            "Saved: defense_0188, seq_len=40\n"
          ]
        },
        {
          "name": "stderr",
          "output_type": "stream",
          "text": [
            "\rExtracting features:  50%|█████     | 953/1888 [27:36<22:55,  1.47s/it]"
          ]
        },
        {
          "name": "stdout",
          "output_type": "stream",
          "text": [
            "Saved: defense_0181, seq_len=40\n"
          ]
        },
        {
          "name": "stderr",
          "output_type": "stream",
          "text": [
            "\rExtracting features:  51%|█████     | 954/1888 [27:37<23:57,  1.54s/it]"
          ]
        },
        {
          "name": "stdout",
          "output_type": "stream",
          "text": [
            "Saved: defense_0183, seq_len=40\n"
          ]
        },
        {
          "name": "stderr",
          "output_type": "stream",
          "text": [
            "\rExtracting features:  51%|█████     | 955/1888 [27:38<22:07,  1.42s/it]"
          ]
        },
        {
          "name": "stdout",
          "output_type": "stream",
          "text": [
            "Saved: defense_0189, seq_len=40\n"
          ]
        },
        {
          "name": "stderr",
          "output_type": "stream",
          "text": [
            "\rExtracting features:  51%|█████     | 956/1888 [27:40<21:44,  1.40s/it]"
          ]
        },
        {
          "name": "stdout",
          "output_type": "stream",
          "text": [
            "Saved: defense_0184, seq_len=40\n"
          ]
        },
        {
          "name": "stderr",
          "output_type": "stream",
          "text": [
            "\rExtracting features:  51%|█████     | 957/1888 [27:42<25:19,  1.63s/it]"
          ]
        },
        {
          "name": "stdout",
          "output_type": "stream",
          "text": [
            "Saved: defense_0176, seq_len=40\n"
          ]
        },
        {
          "name": "stderr",
          "output_type": "stream",
          "text": [
            "\rExtracting features:  51%|█████     | 958/1888 [27:44<27:03,  1.75s/it]"
          ]
        },
        {
          "name": "stdout",
          "output_type": "stream",
          "text": [
            "Saved: defense_0179, seq_len=40\n"
          ]
        },
        {
          "name": "stderr",
          "output_type": "stream",
          "text": [
            "\rExtracting features:  51%|█████     | 959/1888 [27:46<26:55,  1.74s/it]"
          ]
        },
        {
          "name": "stdout",
          "output_type": "stream",
          "text": [
            "Saved: defense_0185, seq_len=40\n"
          ]
        },
        {
          "name": "stderr",
          "output_type": "stream",
          "text": [
            "\rExtracting features:  51%|█████     | 960/1888 [27:48<27:55,  1.81s/it]"
          ]
        },
        {
          "name": "stdout",
          "output_type": "stream",
          "text": [
            "Saved: defense_0186, seq_len=40\n"
          ]
        },
        {
          "name": "stderr",
          "output_type": "stream",
          "text": [
            "\rExtracting features:  51%|█████     | 961/1888 [27:50<31:03,  2.01s/it]"
          ]
        },
        {
          "name": "stdout",
          "output_type": "stream",
          "text": [
            "Saved: defense_0074, seq_len=40\n"
          ]
        },
        {
          "name": "stderr",
          "output_type": "stream",
          "text": [
            "\rExtracting features:  51%|█████     | 962/1888 [27:52<31:48,  2.06s/it]"
          ]
        },
        {
          "name": "stdout",
          "output_type": "stream",
          "text": [
            "Saved: defense_0168, seq_len=40\n"
          ]
        },
        {
          "name": "stderr",
          "output_type": "stream",
          "text": [
            "\rExtracting features:  51%|█████     | 963/1888 [27:54<30:52,  2.00s/it]"
          ]
        },
        {
          "name": "stdout",
          "output_type": "stream",
          "text": [
            "Saved: defense_0182, seq_len=40\n"
          ]
        },
        {
          "name": "stderr",
          "output_type": "stream",
          "text": [
            "\rExtracting features:  51%|█████     | 964/1888 [27:55<27:45,  1.80s/it]"
          ]
        },
        {
          "name": "stdout",
          "output_type": "stream",
          "text": [
            "Saved: defense_0171, seq_len=40\n"
          ]
        },
        {
          "name": "stderr",
          "output_type": "stream",
          "text": [
            "\rExtracting features:  51%|█████     | 965/1888 [27:57<27:17,  1.77s/it]"
          ]
        },
        {
          "name": "stdout",
          "output_type": "stream",
          "text": [
            "Saved: defense_0174, seq_len=40\n"
          ]
        },
        {
          "name": "stderr",
          "output_type": "stream",
          "text": [
            "\rExtracting features:  51%|█████     | 966/1888 [27:58<24:07,  1.57s/it]"
          ]
        },
        {
          "name": "stdout",
          "output_type": "stream",
          "text": [
            "Saved: defense_0177, seq_len=40\n"
          ]
        },
        {
          "name": "stderr",
          "output_type": "stream",
          "text": [
            "\rExtracting features:  51%|█████     | 967/1888 [28:00<24:35,  1.60s/it]"
          ]
        },
        {
          "name": "stdout",
          "output_type": "stream",
          "text": [
            "Saved: defense_0102, seq_len=40\n"
          ]
        },
        {
          "name": "stderr",
          "output_type": "stream",
          "text": [
            "\rExtracting features:  51%|█████▏    | 968/1888 [28:02<26:08,  1.70s/it]"
          ]
        },
        {
          "name": "stdout",
          "output_type": "stream",
          "text": [
            "Saved: defense_0073, seq_len=40\n"
          ]
        },
        {
          "name": "stderr",
          "output_type": "stream",
          "text": [
            "\rExtracting features:  51%|█████▏    | 969/1888 [28:04<26:41,  1.74s/it]"
          ]
        },
        {
          "name": "stdout",
          "output_type": "stream",
          "text": [
            "Saved: defense_0173, seq_len=40\n"
          ]
        },
        {
          "name": "stderr",
          "output_type": "stream",
          "text": [
            "\rExtracting features:  51%|█████▏    | 970/1888 [28:06<28:16,  1.85s/it]"
          ]
        },
        {
          "name": "stdout",
          "output_type": "stream",
          "text": [
            "Saved: defense_0172, seq_len=40\n"
          ]
        },
        {
          "name": "stderr",
          "output_type": "stream",
          "text": [
            "\rExtracting features:  51%|█████▏    | 971/1888 [28:07<27:09,  1.78s/it]"
          ]
        },
        {
          "name": "stdout",
          "output_type": "stream",
          "text": [
            "Saved: defense_0097, seq_len=40\n"
          ]
        },
        {
          "name": "stderr",
          "output_type": "stream",
          "text": [
            "\rExtracting features:  51%|█████▏    | 972/1888 [28:09<24:48,  1.62s/it]"
          ]
        },
        {
          "name": "stdout",
          "output_type": "stream",
          "text": [
            "Saved: defense_0169, seq_len=40\n"
          ]
        },
        {
          "name": "stderr",
          "output_type": "stream",
          "text": [
            "\rExtracting features:  52%|█████▏    | 973/1888 [28:10<23:42,  1.55s/it]"
          ]
        },
        {
          "name": "stdout",
          "output_type": "stream",
          "text": [
            "Saved: defense_0095, seq_len=40\n"
          ]
        },
        {
          "name": "stderr",
          "output_type": "stream",
          "text": [
            "\rExtracting features:  52%|█████▏    | 974/1888 [28:11<21:48,  1.43s/it]"
          ]
        },
        {
          "name": "stdout",
          "output_type": "stream",
          "text": [
            "Saved: defense_0100, seq_len=40\n"
          ]
        },
        {
          "name": "stderr",
          "output_type": "stream",
          "text": [
            "\rExtracting features:  52%|█████▏    | 975/1888 [28:13<23:52,  1.57s/it]"
          ]
        },
        {
          "name": "stdout",
          "output_type": "stream",
          "text": [
            "Saved: defense_0167, seq_len=40\n"
          ]
        },
        {
          "name": "stderr",
          "output_type": "stream",
          "text": [
            "\rExtracting features:  52%|█████▏    | 976/1888 [28:15<24:36,  1.62s/it]"
          ]
        },
        {
          "name": "stdout",
          "output_type": "stream",
          "text": [
            "Saved: defense_0156, seq_len=40\n"
          ]
        },
        {
          "name": "stderr",
          "output_type": "stream",
          "text": [
            "\rExtracting features:  52%|█████▏    | 977/1888 [28:16<23:03,  1.52s/it]"
          ]
        },
        {
          "name": "stdout",
          "output_type": "stream",
          "text": [
            "Saved: defense_0175, seq_len=40\n"
          ]
        },
        {
          "name": "stderr",
          "output_type": "stream",
          "text": [
            "\rExtracting features:  52%|█████▏    | 978/1888 [28:19<30:28,  2.01s/it]"
          ]
        },
        {
          "name": "stdout",
          "output_type": "stream",
          "text": [
            "Saved: defense_0157, seq_len=40\n"
          ]
        },
        {
          "name": "stderr",
          "output_type": "stream",
          "text": [
            "\rExtracting features:  52%|█████▏    | 979/1888 [28:21<29:14,  1.93s/it]"
          ]
        },
        {
          "name": "stdout",
          "output_type": "stream",
          "text": [
            "Saved: defense_0088, seq_len=40\n"
          ]
        },
        {
          "name": "stderr",
          "output_type": "stream",
          "text": [
            "\rExtracting features:  52%|█████▏    | 980/1888 [28:23<28:12,  1.86s/it]"
          ]
        },
        {
          "name": "stdout",
          "output_type": "stream",
          "text": [
            "Saved: defense_0091, seq_len=40\n"
          ]
        },
        {
          "name": "stderr",
          "output_type": "stream",
          "text": [
            "\rExtracting features:  52%|█████▏    | 981/1888 [28:24<25:57,  1.72s/it]"
          ]
        },
        {
          "name": "stdout",
          "output_type": "stream",
          "text": [
            "Saved: defense_0090, seq_len=40\n"
          ]
        },
        {
          "name": "stderr",
          "output_type": "stream",
          "text": [
            "\rExtracting features:  52%|█████▏    | 982/1888 [28:26<25:40,  1.70s/it]"
          ]
        },
        {
          "name": "stdout",
          "output_type": "stream",
          "text": [
            "Saved: defense_0148, seq_len=40\n"
          ]
        },
        {
          "name": "stderr",
          "output_type": "stream",
          "text": [
            "\rExtracting features:  52%|█████▏    | 983/1888 [28:27<23:00,  1.52s/it]"
          ]
        },
        {
          "name": "stdout",
          "output_type": "stream",
          "text": [
            "Saved: defense_0093, seq_len=40\n"
          ]
        },
        {
          "name": "stderr",
          "output_type": "stream",
          "text": [
            "\rExtracting features:  52%|█████▏    | 984/1888 [28:29<25:42,  1.71s/it]"
          ]
        },
        {
          "name": "stdout",
          "output_type": "stream",
          "text": [
            "Saved: defense_0150, seq_len=40\n"
          ]
        },
        {
          "name": "stderr",
          "output_type": "stream",
          "text": [
            "\rExtracting features:  52%|█████▏    | 985/1888 [28:31<25:50,  1.72s/it]"
          ]
        },
        {
          "name": "stdout",
          "output_type": "stream",
          "text": [
            "Saved: defense_0099, seq_len=40\n"
          ]
        },
        {
          "name": "stderr",
          "output_type": "stream",
          "text": [
            "\rExtracting features:  52%|█████▏    | 986/1888 [28:32<24:46,  1.65s/it]"
          ]
        },
        {
          "name": "stdout",
          "output_type": "stream",
          "text": [
            "Saved: defense_0096, seq_len=40\n"
          ]
        },
        {
          "name": "stderr",
          "output_type": "stream",
          "text": [
            "\rExtracting features:  52%|█████▏    | 987/1888 [28:34<25:13,  1.68s/it]"
          ]
        },
        {
          "name": "stdout",
          "output_type": "stream",
          "text": [
            "Saved: defense_0094, seq_len=40\n"
          ]
        },
        {
          "name": "stderr",
          "output_type": "stream",
          "text": [
            "\rExtracting features:  52%|█████▏    | 988/1888 [28:36<28:19,  1.89s/it]"
          ]
        },
        {
          "name": "stdout",
          "output_type": "stream",
          "text": [
            "Saved: defense_0155, seq_len=40\n"
          ]
        },
        {
          "name": "stderr",
          "output_type": "stream",
          "text": [
            "\rExtracting features:  52%|█████▏    | 989/1888 [28:39<29:55,  2.00s/it]"
          ]
        },
        {
          "name": "stdout",
          "output_type": "stream",
          "text": [
            "Saved: defense_0154, seq_len=40\n"
          ]
        },
        {
          "name": "stderr",
          "output_type": "stream",
          "text": [
            "\rExtracting features:  52%|█████▏    | 990/1888 [28:40<28:17,  1.89s/it]"
          ]
        },
        {
          "name": "stdout",
          "output_type": "stream",
          "text": [
            "Saved: defense_0149, seq_len=40\n"
          ]
        },
        {
          "name": "stderr",
          "output_type": "stream",
          "text": [
            "\rExtracting features:  52%|█████▏    | 991/1888 [28:41<25:21,  1.70s/it]"
          ]
        },
        {
          "name": "stdout",
          "output_type": "stream",
          "text": [
            "Saved: defense_0153, seq_len=40\n"
          ]
        },
        {
          "name": "stderr",
          "output_type": "stream",
          "text": [
            "\rExtracting features:  53%|█████▎    | 992/1888 [28:44<28:37,  1.92s/it]"
          ]
        },
        {
          "name": "stdout",
          "output_type": "stream",
          "text": [
            "Saved: defense_0086, seq_len=40\n"
          ]
        },
        {
          "name": "stderr",
          "output_type": "stream",
          "text": [
            "\rExtracting features:  53%|█████▎    | 993/1888 [28:46<28:21,  1.90s/it]"
          ]
        },
        {
          "name": "stdout",
          "output_type": "stream",
          "text": [
            "Saved: defense_0147, seq_len=40\n"
          ]
        },
        {
          "name": "stderr",
          "output_type": "stream",
          "text": [
            "\rExtracting features:  53%|█████▎    | 994/1888 [28:51<45:01,  3.02s/it]"
          ]
        },
        {
          "name": "stdout",
          "output_type": "stream",
          "text": [
            "Saved: defense_0087, seq_len=40\n"
          ]
        },
        {
          "name": "stderr",
          "output_type": "stream",
          "text": [
            "\rExtracting features:  53%|█████▎    | 995/1888 [28:54<45:05,  3.03s/it]"
          ]
        },
        {
          "name": "stdout",
          "output_type": "stream",
          "text": [
            "Saved: defense_0027, seq_len=40\n"
          ]
        },
        {
          "name": "stderr",
          "output_type": "stream",
          "text": [
            "\rExtracting features:  53%|█████▎    | 996/1888 [28:57<40:32,  2.73s/it]"
          ]
        },
        {
          "name": "stdout",
          "output_type": "stream",
          "text": [
            "Saved: defense_0089, seq_len=40\n"
          ]
        },
        {
          "name": "stderr",
          "output_type": "stream",
          "text": [
            "\rExtracting features:  53%|█████▎    | 997/1888 [28:58<36:13,  2.44s/it]"
          ]
        },
        {
          "name": "stdout",
          "output_type": "stream",
          "text": [
            "Saved: defense_0151, seq_len=40\n"
          ]
        },
        {
          "name": "stderr",
          "output_type": "stream",
          "text": [
            "\rExtracting features:  53%|█████▎    | 998/1888 [29:01<35:33,  2.40s/it]"
          ]
        },
        {
          "name": "stdout",
          "output_type": "stream",
          "text": [
            "Saved: defense_0019, seq_len=40\n"
          ]
        },
        {
          "name": "stderr",
          "output_type": "stream",
          "text": [
            "\rExtracting features:  53%|█████▎    | 999/1888 [29:02<31:13,  2.11s/it]"
          ]
        },
        {
          "name": "stdout",
          "output_type": "stream",
          "text": [
            "Saved: defense_0024, seq_len=40\n"
          ]
        },
        {
          "name": "stderr",
          "output_type": "stream",
          "text": [
            "\rExtracting features:  53%|█████▎    | 1000/1888 [29:04<30:05,  2.03s/it]"
          ]
        },
        {
          "name": "stdout",
          "output_type": "stream",
          "text": [
            "Saved: defense_0101, seq_len=40\n"
          ]
        },
        {
          "name": "stderr",
          "output_type": "stream",
          "text": [
            "\rExtracting features:  53%|█████▎    | 1001/1888 [29:06<30:58,  2.10s/it]"
          ]
        },
        {
          "name": "stdout",
          "output_type": "stream",
          "text": [
            "Saved: defense_0014, seq_len=40\n"
          ]
        },
        {
          "name": "stderr",
          "output_type": "stream",
          "text": [
            "\rExtracting features:  53%|█████▎    | 1002/1888 [29:08<31:30,  2.13s/it]"
          ]
        },
        {
          "name": "stdout",
          "output_type": "stream",
          "text": [
            "Saved: defense_0012, seq_len=40\n"
          ]
        },
        {
          "name": "stderr",
          "output_type": "stream",
          "text": [
            "\rExtracting features:  53%|█████▎    | 1003/1888 [29:15<51:45,  3.51s/it]"
          ]
        },
        {
          "name": "stdout",
          "output_type": "stream",
          "text": [
            "Saved: defense_0016, seq_len=40\n"
          ]
        },
        {
          "name": "stderr",
          "output_type": "stream",
          "text": [
            "\rExtracting features:  53%|█████▎    | 1004/1888 [29:17<45:08,  3.06s/it]"
          ]
        },
        {
          "name": "stdout",
          "output_type": "stream",
          "text": [
            "Saved: defense_0011, seq_len=40\n"
          ]
        },
        {
          "name": "stderr",
          "output_type": "stream",
          "text": [
            "\rExtracting features:  53%|█████▎    | 1005/1888 [29:18<36:35,  2.49s/it]"
          ]
        },
        {
          "name": "stdout",
          "output_type": "stream",
          "text": [
            "Saved: defense_0085, seq_len=40\n"
          ]
        },
        {
          "name": "stderr",
          "output_type": "stream",
          "text": [
            "\rExtracting features:  53%|█████▎    | 1006/1888 [29:20<31:34,  2.15s/it]"
          ]
        },
        {
          "name": "stdout",
          "output_type": "stream",
          "text": [
            "Saved: defense_0170, seq_len=40\n"
          ]
        },
        {
          "name": "stderr",
          "output_type": "stream",
          "text": [
            "\rExtracting features:  53%|█████▎    | 1007/1888 [29:21<29:31,  2.01s/it]"
          ]
        },
        {
          "name": "stdout",
          "output_type": "stream",
          "text": [
            "Saved: defense_0021, seq_len=40\n"
          ]
        },
        {
          "name": "stderr",
          "output_type": "stream",
          "text": [
            "\rExtracting features:  53%|█████▎    | 1008/1888 [29:24<30:31,  2.08s/it]"
          ]
        },
        {
          "name": "stdout",
          "output_type": "stream",
          "text": [
            "Saved: defense_0017, seq_len=40\n"
          ]
        },
        {
          "name": "stderr",
          "output_type": "stream",
          "text": [
            "\rExtracting features:  53%|█████▎    | 1009/1888 [29:25<29:47,  2.03s/it]"
          ]
        },
        {
          "name": "stdout",
          "output_type": "stream",
          "text": [
            "Saved: defense_0158, seq_len=40\n"
          ]
        },
        {
          "name": "stderr",
          "output_type": "stream",
          "text": [
            "\rExtracting features:  53%|█████▎    | 1010/1888 [29:28<30:10,  2.06s/it]"
          ]
        },
        {
          "name": "stdout",
          "output_type": "stream",
          "text": [
            "Saved: defense_0031, seq_len=40\n"
          ]
        },
        {
          "name": "stderr",
          "output_type": "stream",
          "text": [
            "\rExtracting features:  54%|█████▎    | 1011/1888 [29:31<35:14,  2.41s/it]"
          ]
        },
        {
          "name": "stdout",
          "output_type": "stream",
          "text": [
            "Saved: defense_0032, seq_len=40\n"
          ]
        },
        {
          "name": "stderr",
          "output_type": "stream",
          "text": [
            "\rExtracting features:  54%|█████▎    | 1012/1888 [29:33<36:10,  2.48s/it]"
          ]
        },
        {
          "name": "stdout",
          "output_type": "stream",
          "text": [
            "Saved: defense_0022, seq_len=40\n"
          ]
        },
        {
          "name": "stderr",
          "output_type": "stream",
          "text": [
            "\rExtracting features:  54%|█████▎    | 1013/1888 [29:36<34:29,  2.37s/it]"
          ]
        },
        {
          "name": "stdout",
          "output_type": "stream",
          "text": [
            "Saved: defense_0008, seq_len=40\n"
          ]
        },
        {
          "name": "stderr",
          "output_type": "stream",
          "text": [
            "\rExtracting features:  54%|█████▎    | 1014/1888 [29:37<32:38,  2.24s/it]"
          ]
        },
        {
          "name": "stdout",
          "output_type": "stream",
          "text": [
            "Saved: defense_0025, seq_len=40\n"
          ]
        },
        {
          "name": "stderr",
          "output_type": "stream",
          "text": [
            "\rExtracting features:  54%|█████▍    | 1015/1888 [29:39<30:43,  2.11s/it]"
          ]
        },
        {
          "name": "stdout",
          "output_type": "stream",
          "text": [
            "Saved: defense_0192, seq_len=40\n"
          ]
        },
        {
          "name": "stderr",
          "output_type": "stream",
          "text": [
            "\rExtracting features:  54%|█████▍    | 1016/1888 [29:41<30:12,  2.08s/it]"
          ]
        },
        {
          "name": "stdout",
          "output_type": "stream",
          "text": [
            "Saved: defense_0009, seq_len=40\n"
          ]
        },
        {
          "name": "stderr",
          "output_type": "stream",
          "text": [
            "\rExtracting features:  54%|█████▍    | 1017/1888 [29:43<28:26,  1.96s/it]"
          ]
        },
        {
          "name": "stdout",
          "output_type": "stream",
          "text": [
            "Saved: defense_0004, seq_len=40\n"
          ]
        },
        {
          "name": "stderr",
          "output_type": "stream",
          "text": [
            "\rExtracting features:  54%|█████▍    | 1018/1888 [29:45<28:17,  1.95s/it]"
          ]
        },
        {
          "name": "stdout",
          "output_type": "stream",
          "text": [
            "Saved: defense_0128, seq_len=40\n"
          ]
        },
        {
          "name": "stderr",
          "output_type": "stream",
          "text": [
            "\rExtracting features:  54%|█████▍    | 1019/1888 [29:47<30:41,  2.12s/it]"
          ]
        },
        {
          "name": "stdout",
          "output_type": "stream",
          "text": [
            "Saved: defense_0006, seq_len=40\n"
          ]
        },
        {
          "name": "stderr",
          "output_type": "stream",
          "text": [
            "\rExtracting features:  54%|█████▍    | 1020/1888 [29:50<33:41,  2.33s/it]"
          ]
        },
        {
          "name": "stdout",
          "output_type": "stream",
          "text": [
            "Saved: defense_0010, seq_len=40\n"
          ]
        },
        {
          "name": "stderr",
          "output_type": "stream",
          "text": [
            "\rExtracting features:  54%|█████▍    | 1021/1888 [29:52<32:52,  2.27s/it]"
          ]
        },
        {
          "name": "stdout",
          "output_type": "stream",
          "text": [
            "Saved: defense_0003, seq_len=40\n"
          ]
        },
        {
          "name": "stderr",
          "output_type": "stream",
          "text": [
            "\rExtracting features:  54%|█████▍    | 1022/1888 [29:54<31:38,  2.19s/it]"
          ]
        },
        {
          "name": "stdout",
          "output_type": "stream",
          "text": [
            "Saved: defense_0029, seq_len=40\n"
          ]
        },
        {
          "name": "stderr",
          "output_type": "stream",
          "text": [
            "\rExtracting features:  54%|█████▍    | 1023/1888 [29:56<30:01,  2.08s/it]"
          ]
        },
        {
          "name": "stdout",
          "output_type": "stream",
          "text": [
            "Saved: defense_0166, seq_len=40\n"
          ]
        },
        {
          "name": "stderr",
          "output_type": "stream",
          "text": [
            "\rExtracting features:  54%|█████▍    | 1024/1888 [29:58<30:33,  2.12s/it]"
          ]
        },
        {
          "name": "stdout",
          "output_type": "stream",
          "text": [
            "Saved: defense_0124, seq_len=40\n"
          ]
        },
        {
          "name": "stderr",
          "output_type": "stream",
          "text": [
            "\rExtracting features:  54%|█████▍    | 1025/1888 [30:01<30:50,  2.14s/it]"
          ]
        },
        {
          "name": "stdout",
          "output_type": "stream",
          "text": [
            "Saved: defense_0122, seq_len=40\n"
          ]
        },
        {
          "name": "stderr",
          "output_type": "stream",
          "text": [
            "\rExtracting features:  54%|█████▍    | 1026/1888 [30:03<29:47,  2.07s/it]"
          ]
        },
        {
          "name": "stdout",
          "output_type": "stream",
          "text": [
            "Saved: defense_0123, seq_len=40\n"
          ]
        },
        {
          "name": "stderr",
          "output_type": "stream",
          "text": [
            "\rExtracting features:  54%|█████▍    | 1027/1888 [30:04<26:28,  1.84s/it]"
          ]
        },
        {
          "name": "stdout",
          "output_type": "stream",
          "text": [
            "Saved: defense_0187, seq_len=40\n"
          ]
        },
        {
          "name": "stderr",
          "output_type": "stream",
          "text": [
            "\rExtracting features:  54%|█████▍    | 1028/1888 [30:06<26:52,  1.88s/it]"
          ]
        },
        {
          "name": "stdout",
          "output_type": "stream",
          "text": [
            "Saved: defense_0129, seq_len=40\n"
          ]
        },
        {
          "name": "stderr",
          "output_type": "stream",
          "text": [
            "\rExtracting features:  55%|█████▍    | 1029/1888 [30:08<26:46,  1.87s/it]"
          ]
        },
        {
          "name": "stdout",
          "output_type": "stream",
          "text": [
            "Saved: defense_0126, seq_len=40\n"
          ]
        },
        {
          "name": "stderr",
          "output_type": "stream",
          "text": [
            "\rExtracting features:  55%|█████▍    | 1030/1888 [30:09<25:05,  1.75s/it]"
          ]
        },
        {
          "name": "stdout",
          "output_type": "stream",
          "text": [
            "Saved: defense_0005, seq_len=40\n"
          ]
        },
        {
          "name": "stderr",
          "output_type": "stream",
          "text": [
            "\rExtracting features:  55%|█████▍    | 1031/1888 [30:11<25:48,  1.81s/it]"
          ]
        },
        {
          "name": "stdout",
          "output_type": "stream",
          "text": [
            "Saved: defense_0190, seq_len=40\n"
          ]
        },
        {
          "name": "stderr",
          "output_type": "stream",
          "text": [
            "\rExtracting features:  55%|█████▍    | 1032/1888 [30:13<26:36,  1.87s/it]"
          ]
        },
        {
          "name": "stdout",
          "output_type": "stream",
          "text": [
            "Saved: defense_0018, seq_len=40\n"
          ]
        },
        {
          "name": "stderr",
          "output_type": "stream",
          "text": [
            "\rExtracting features:  55%|█████▍    | 1033/1888 [30:14<24:01,  1.69s/it]"
          ]
        },
        {
          "name": "stdout",
          "output_type": "stream",
          "text": [
            "Saved: defense_0119, seq_len=40\n"
          ]
        },
        {
          "name": "stderr",
          "output_type": "stream",
          "text": [
            "\rExtracting features:  55%|█████▍    | 1034/1888 [30:16<22:35,  1.59s/it]"
          ]
        },
        {
          "name": "stdout",
          "output_type": "stream",
          "text": [
            "Saved: defense_0115, seq_len=40\n"
          ]
        },
        {
          "name": "stderr",
          "output_type": "stream",
          "text": [
            "\rExtracting features:  55%|█████▍    | 1035/1888 [30:18<24:00,  1.69s/it]"
          ]
        },
        {
          "name": "stdout",
          "output_type": "stream",
          "text": [
            "Saved: defense_0125, seq_len=40\n"
          ]
        },
        {
          "name": "stderr",
          "output_type": "stream",
          "text": [
            "\rExtracting features:  55%|█████▍    | 1036/1888 [30:20<25:08,  1.77s/it]"
          ]
        },
        {
          "name": "stdout",
          "output_type": "stream",
          "text": [
            "Saved: defense_0117, seq_len=40\n"
          ]
        },
        {
          "name": "stderr",
          "output_type": "stream",
          "text": [
            "\rExtracting features:  55%|█████▍    | 1037/1888 [30:21<25:47,  1.82s/it]"
          ]
        },
        {
          "name": "stdout",
          "output_type": "stream",
          "text": [
            "Saved: defense_0116, seq_len=40\n"
          ]
        },
        {
          "name": "stderr",
          "output_type": "stream",
          "text": [
            "\rExtracting features:  55%|█████▍    | 1038/1888 [30:24<28:09,  1.99s/it]"
          ]
        },
        {
          "name": "stdout",
          "output_type": "stream",
          "text": [
            "Saved: defense_0118, seq_len=40\n"
          ]
        },
        {
          "name": "stderr",
          "output_type": "stream",
          "text": [
            "\rExtracting features:  55%|█████▌    | 1039/1888 [30:26<26:53,  1.90s/it]"
          ]
        },
        {
          "name": "stdout",
          "output_type": "stream",
          "text": [
            "Saved: defense_0127, seq_len=40\n"
          ]
        },
        {
          "name": "stderr",
          "output_type": "stream",
          "text": [
            "\rExtracting features:  55%|█████▌    | 1040/1888 [30:27<26:16,  1.86s/it]"
          ]
        },
        {
          "name": "stdout",
          "output_type": "stream",
          "text": [
            "Saved: defense_0120, seq_len=40\n"
          ]
        },
        {
          "name": "stderr",
          "output_type": "stream",
          "text": [
            "\rExtracting features:  55%|█████▌    | 1041/1888 [30:29<27:13,  1.93s/it]"
          ]
        },
        {
          "name": "stdout",
          "output_type": "stream",
          "text": [
            "Saved: defense_0114, seq_len=40\n"
          ]
        },
        {
          "name": "stderr",
          "output_type": "stream",
          "text": [
            "\rExtracting features:  55%|█████▌    | 1042/1888 [30:31<26:43,  1.89s/it]"
          ]
        },
        {
          "name": "stdout",
          "output_type": "stream",
          "text": [
            "Saved: defense_0112, seq_len=40\n"
          ]
        },
        {
          "name": "stderr",
          "output_type": "stream",
          "text": [
            "\rExtracting features:  55%|█████▌    | 1043/1888 [30:36<40:28,  2.87s/it]"
          ]
        },
        {
          "name": "stdout",
          "output_type": "stream",
          "text": [
            "Saved: defense_0109, seq_len=40\n"
          ]
        },
        {
          "name": "stderr",
          "output_type": "stream",
          "text": [
            "\rExtracting features:  55%|█████▌    | 1044/1888 [30:38<35:14,  2.51s/it]"
          ]
        },
        {
          "name": "stdout",
          "output_type": "stream",
          "text": [
            "Saved: defense_0113, seq_len=40\n"
          ]
        },
        {
          "name": "stderr",
          "output_type": "stream",
          "text": [
            "\rExtracting features:  55%|█████▌    | 1045/1888 [30:41<35:24,  2.52s/it]"
          ]
        },
        {
          "name": "stdout",
          "output_type": "stream",
          "text": [
            "Saved: defense_0111, seq_len=40\n"
          ]
        },
        {
          "name": "stderr",
          "output_type": "stream",
          "text": [
            "\rExtracting features:  55%|█████▌    | 1046/1888 [30:43<34:43,  2.48s/it]"
          ]
        },
        {
          "name": "stdout",
          "output_type": "stream",
          "text": [
            "Saved: defense_0106, seq_len=40\n"
          ]
        },
        {
          "name": "stderr",
          "output_type": "stream",
          "text": [
            "\rExtracting features:  55%|█████▌    | 1047/1888 [30:44<30:07,  2.15s/it]"
          ]
        },
        {
          "name": "stdout",
          "output_type": "stream",
          "text": [
            "Saved: defense_0108, seq_len=40\n"
          ]
        },
        {
          "name": "stderr",
          "output_type": "stream",
          "text": [
            "\rExtracting features:  56%|█████▌    | 1048/1888 [30:47<31:15,  2.23s/it]"
          ]
        },
        {
          "name": "stdout",
          "output_type": "stream",
          "text": [
            "Saved: defense_0103, seq_len=40\n"
          ]
        },
        {
          "name": "stderr",
          "output_type": "stream",
          "text": [
            "\rExtracting features:  56%|█████▌    | 1049/1888 [30:49<31:43,  2.27s/it]"
          ]
        },
        {
          "name": "stdout",
          "output_type": "stream",
          "text": [
            "Saved: defense_0105, seq_len=40\n"
          ]
        },
        {
          "name": "stderr",
          "output_type": "stream",
          "text": [
            "\rExtracting features:  56%|█████▌    | 1050/1888 [30:51<28:24,  2.03s/it]"
          ]
        },
        {
          "name": "stdout",
          "output_type": "stream",
          "text": [
            "Saved: defense_0081, seq_len=40\n"
          ]
        },
        {
          "name": "stderr",
          "output_type": "stream",
          "text": [
            "\rExtracting features:  56%|█████▌    | 1051/1888 [30:52<24:57,  1.79s/it]"
          ]
        },
        {
          "name": "stdout",
          "output_type": "stream",
          "text": [
            "Saved: defense_0076, seq_len=40\n"
          ]
        },
        {
          "name": "stderr",
          "output_type": "stream",
          "text": [
            "\rExtracting features:  56%|█████▌    | 1052/1888 [30:55<29:41,  2.13s/it]"
          ]
        },
        {
          "name": "stdout",
          "output_type": "stream",
          "text": [
            "Saved: defense_0084, seq_len=40\n"
          ]
        },
        {
          "name": "stderr",
          "output_type": "stream",
          "text": [
            "\rExtracting features:  56%|█████▌    | 1053/1888 [30:58<32:18,  2.32s/it]"
          ]
        },
        {
          "name": "stdout",
          "output_type": "stream",
          "text": [
            "Saved: defense_0107, seq_len=40\n"
          ]
        },
        {
          "name": "stderr",
          "output_type": "stream",
          "text": [
            "\rExtracting features:  56%|█████▌    | 1054/1888 [31:00<31:19,  2.25s/it]"
          ]
        },
        {
          "name": "stdout",
          "output_type": "stream",
          "text": [
            "Saved: defense_0077, seq_len=40\n"
          ]
        },
        {
          "name": "stderr",
          "output_type": "stream",
          "text": [
            "\rExtracting features:  56%|█████▌    | 1055/1888 [31:02<30:38,  2.21s/it]"
          ]
        },
        {
          "name": "stdout",
          "output_type": "stream",
          "text": [
            "Saved: defense_0098, seq_len=40\n"
          ]
        },
        {
          "name": "stderr",
          "output_type": "stream",
          "text": [
            "\rExtracting features:  56%|█████▌    | 1056/1888 [31:03<28:22,  2.05s/it]"
          ]
        },
        {
          "name": "stdout",
          "output_type": "stream",
          "text": [
            "Saved: defense_0191, seq_len=40\n"
          ]
        },
        {
          "name": "stderr",
          "output_type": "stream",
          "text": [
            "\rExtracting features:  56%|█████▌    | 1057/1888 [31:06<28:39,  2.07s/it]"
          ]
        },
        {
          "name": "stdout",
          "output_type": "stream",
          "text": [
            "Saved: defense_0104, seq_len=40\n"
          ]
        },
        {
          "name": "stderr",
          "output_type": "stream",
          "text": [
            "\rExtracting features:  56%|█████▌    | 1058/1888 [31:08<28:44,  2.08s/it]"
          ]
        },
        {
          "name": "stdout",
          "output_type": "stream",
          "text": [
            "Saved: defense_0092, seq_len=40\n"
          ]
        },
        {
          "name": "stderr",
          "output_type": "stream",
          "text": [
            "\rExtracting features:  56%|█████▌    | 1059/1888 [31:09<27:39,  2.00s/it]"
          ]
        },
        {
          "name": "stdout",
          "output_type": "stream",
          "text": [
            "Saved: defense_0072, seq_len=40\n"
          ]
        },
        {
          "name": "stderr",
          "output_type": "stream",
          "text": [
            "\rExtracting features:  56%|█████▌    | 1060/1888 [31:11<26:56,  1.95s/it]"
          ]
        },
        {
          "name": "stdout",
          "output_type": "stream",
          "text": [
            "Saved: defense_0083, seq_len=40\n"
          ]
        },
        {
          "name": "stderr",
          "output_type": "stream",
          "text": [
            "\rExtracting features:  56%|█████▌    | 1061/1888 [31:14<30:20,  2.20s/it]"
          ]
        },
        {
          "name": "stdout",
          "output_type": "stream",
          "text": [
            "Saved: defense_0069, seq_len=40\n"
          ]
        },
        {
          "name": "stderr",
          "output_type": "stream",
          "text": [
            "\rExtracting features:  56%|█████▋    | 1062/1888 [31:16<28:59,  2.11s/it]"
          ]
        },
        {
          "name": "stdout",
          "output_type": "stream",
          "text": [
            "Saved: defense_0079, seq_len=40\n"
          ]
        },
        {
          "name": "stderr",
          "output_type": "stream",
          "text": [
            "\rExtracting features:  56%|█████▋    | 1063/1888 [31:18<28:19,  2.06s/it]"
          ]
        },
        {
          "name": "stdout",
          "output_type": "stream",
          "text": [
            "Saved: defense_0082, seq_len=40\n"
          ]
        },
        {
          "name": "stderr",
          "output_type": "stream",
          "text": [
            "\rExtracting features:  56%|█████▋    | 1064/1888 [31:19<24:38,  1.79s/it]"
          ]
        },
        {
          "name": "stdout",
          "output_type": "stream",
          "text": [
            "Saved: defense_0066, seq_len=40\n"
          ]
        },
        {
          "name": "stderr",
          "output_type": "stream",
          "text": [
            "\rExtracting features:  56%|█████▋    | 1065/1888 [31:21<26:07,  1.90s/it]"
          ]
        },
        {
          "name": "stdout",
          "output_type": "stream",
          "text": [
            "Saved: defense_0068, seq_len=40\n"
          ]
        },
        {
          "name": "stderr",
          "output_type": "stream",
          "text": [
            "\rExtracting features:  56%|█████▋    | 1066/1888 [31:23<26:22,  1.93s/it]"
          ]
        },
        {
          "name": "stdout",
          "output_type": "stream",
          "text": [
            "Saved: defense_0078, seq_len=40\n"
          ]
        },
        {
          "name": "stderr",
          "output_type": "stream",
          "text": [
            "\rExtracting features:  57%|█████▋    | 1067/1888 [31:25<24:28,  1.79s/it]"
          ]
        },
        {
          "name": "stdout",
          "output_type": "stream",
          "text": [
            "Saved: defense_0061, seq_len=40\n"
          ]
        },
        {
          "name": "stderr",
          "output_type": "stream",
          "text": [
            "\rExtracting features:  57%|█████▋    | 1068/1888 [31:27<26:13,  1.92s/it]"
          ]
        },
        {
          "name": "stdout",
          "output_type": "stream",
          "text": [
            "Saved: defense_0063, seq_len=40\n"
          ]
        },
        {
          "name": "stderr",
          "output_type": "stream",
          "text": [
            "\rExtracting features:  57%|█████▋    | 1069/1888 [31:29<25:13,  1.85s/it]"
          ]
        },
        {
          "name": "stdout",
          "output_type": "stream",
          "text": [
            "Saved: defense_0057, seq_len=40\n"
          ]
        },
        {
          "name": "stderr",
          "output_type": "stream",
          "text": [
            "\rExtracting features:  57%|█████▋    | 1070/1888 [31:30<23:06,  1.69s/it]"
          ]
        },
        {
          "name": "stdout",
          "output_type": "stream",
          "text": [
            "Saved: defense_0080, seq_len=40\n"
          ]
        },
        {
          "name": "stderr",
          "output_type": "stream",
          "text": [
            "\rExtracting features:  57%|█████▋    | 1071/1888 [31:33<26:48,  1.97s/it]"
          ]
        },
        {
          "name": "stdout",
          "output_type": "stream",
          "text": [
            "Saved: defense_0054, seq_len=40\n"
          ]
        },
        {
          "name": "stderr",
          "output_type": "stream",
          "text": [
            "\rExtracting features:  57%|█████▋    | 1072/1888 [31:34<24:18,  1.79s/it]"
          ]
        },
        {
          "name": "stdout",
          "output_type": "stream",
          "text": [
            "Saved: defense_0050, seq_len=40\n"
          ]
        },
        {
          "name": "stderr",
          "output_type": "stream",
          "text": [
            "\rExtracting features:  57%|█████▋    | 1073/1888 [31:36<24:22,  1.79s/it]"
          ]
        },
        {
          "name": "stdout",
          "output_type": "stream",
          "text": [
            "Saved: defense_0075, seq_len=40\n"
          ]
        },
        {
          "name": "stderr",
          "output_type": "stream",
          "text": [
            "\rExtracting features:  57%|█████▋    | 1074/1888 [31:38<27:04,  2.00s/it]"
          ]
        },
        {
          "name": "stdout",
          "output_type": "stream",
          "text": [
            "Saved: defense_0056, seq_len=40\n"
          ]
        },
        {
          "name": "stderr",
          "output_type": "stream",
          "text": [
            "\rExtracting features:  57%|█████▋    | 1075/1888 [31:40<24:48,  1.83s/it]"
          ]
        },
        {
          "name": "stdout",
          "output_type": "stream",
          "text": [
            "Saved: defense_0059, seq_len=40\n"
          ]
        },
        {
          "name": "stderr",
          "output_type": "stream",
          "text": [
            "\rExtracting features:  57%|█████▋    | 1076/1888 [31:42<26:54,  1.99s/it]"
          ]
        },
        {
          "name": "stdout",
          "output_type": "stream",
          "text": [
            "Saved: defense_0064, seq_len=40\n"
          ]
        },
        {
          "name": "stderr",
          "output_type": "stream",
          "text": [
            "\rExtracting features:  57%|█████▋    | 1077/1888 [31:43<23:54,  1.77s/it]"
          ]
        },
        {
          "name": "stdout",
          "output_type": "stream",
          "text": [
            "Saved: defense_0042, seq_len=40\n"
          ]
        },
        {
          "name": "stderr",
          "output_type": "stream",
          "text": [
            "\rExtracting features:  57%|█████▋    | 1078/1888 [31:45<24:02,  1.78s/it]"
          ]
        },
        {
          "name": "stdout",
          "output_type": "stream",
          "text": [
            "Saved: defense_0048, seq_len=40\n"
          ]
        },
        {
          "name": "stderr",
          "output_type": "stream",
          "text": [
            "\rExtracting features:  57%|█████▋    | 1079/1888 [31:47<25:03,  1.86s/it]"
          ]
        },
        {
          "name": "stdout",
          "output_type": "stream",
          "text": [
            "Saved: defense_0053, seq_len=40\n"
          ]
        },
        {
          "name": "stderr",
          "output_type": "stream",
          "text": [
            "\rExtracting features:  57%|█████▋    | 1080/1888 [31:49<24:47,  1.84s/it]"
          ]
        },
        {
          "name": "stdout",
          "output_type": "stream",
          "text": [
            "Saved: defense_0067, seq_len=40\n"
          ]
        },
        {
          "name": "stderr",
          "output_type": "stream",
          "text": [
            "\rExtracting features:  57%|█████▋    | 1081/1888 [31:51<25:11,  1.87s/it]"
          ]
        },
        {
          "name": "stdout",
          "output_type": "stream",
          "text": [
            "Saved: defense_0052, seq_len=40\n"
          ]
        },
        {
          "name": "stderr",
          "output_type": "stream",
          "text": [
            "\rExtracting features:  57%|█████▋    | 1082/1888 [31:52<23:59,  1.79s/it]"
          ]
        },
        {
          "name": "stdout",
          "output_type": "stream",
          "text": [
            "Saved: defense_0051, seq_len=40\n"
          ]
        },
        {
          "name": "stderr",
          "output_type": "stream",
          "text": [
            "\rExtracting features:  57%|█████▋    | 1083/1888 [31:54<23:45,  1.77s/it]"
          ]
        },
        {
          "name": "stdout",
          "output_type": "stream",
          "text": [
            "Saved: defense_0058, seq_len=40\n"
          ]
        },
        {
          "name": "stderr",
          "output_type": "stream",
          "text": [
            "\rExtracting features:  57%|█████▋    | 1084/1888 [31:55<21:59,  1.64s/it]"
          ]
        },
        {
          "name": "stdout",
          "output_type": "stream",
          "text": [
            "Saved: defense_0065, seq_len=40\n"
          ]
        },
        {
          "name": "stderr",
          "output_type": "stream",
          "text": [
            "\rExtracting features:  57%|█████▋    | 1085/1888 [31:57<22:15,  1.66s/it]"
          ]
        },
        {
          "name": "stdout",
          "output_type": "stream",
          "text": [
            "Saved: defense_0071, seq_len=40\n"
          ]
        },
        {
          "name": "stderr",
          "output_type": "stream",
          "text": [
            "\rExtracting features:  58%|█████▊    | 1086/1888 [31:58<20:16,  1.52s/it]"
          ]
        },
        {
          "name": "stdout",
          "output_type": "stream",
          "text": [
            "Saved: defense_0002, seq_len=40\n"
          ]
        },
        {
          "name": "stderr",
          "output_type": "stream",
          "text": [
            "\rExtracting features:  58%|█████▊    | 1087/1888 [32:00<21:26,  1.61s/it]"
          ]
        },
        {
          "name": "stdout",
          "output_type": "stream",
          "text": [
            "Saved: defense_0034, seq_len=40\n"
          ]
        },
        {
          "name": "stderr",
          "output_type": "stream",
          "text": [
            "\rExtracting features:  58%|█████▊    | 1088/1888 [32:01<19:55,  1.49s/it]"
          ]
        },
        {
          "name": "stdout",
          "output_type": "stream",
          "text": [
            "Saved: defense_0020, seq_len=40\n"
          ]
        },
        {
          "name": "stderr",
          "output_type": "stream",
          "text": [
            "\rExtracting features:  58%|█████▊    | 1089/1888 [32:03<21:20,  1.60s/it]"
          ]
        },
        {
          "name": "stdout",
          "output_type": "stream",
          "text": [
            "Saved: defense_0062, seq_len=40\n"
          ]
        },
        {
          "name": "stderr",
          "output_type": "stream",
          "text": [
            "\rExtracting features:  58%|█████▊    | 1090/1888 [32:05<22:14,  1.67s/it]"
          ]
        },
        {
          "name": "stdout",
          "output_type": "stream",
          "text": [
            "Saved: defense_0033, seq_len=40\n"
          ]
        },
        {
          "name": "stderr",
          "output_type": "stream",
          "text": [
            "\rExtracting features:  58%|█████▊    | 1091/1888 [32:07<23:19,  1.76s/it]"
          ]
        },
        {
          "name": "stdout",
          "output_type": "stream",
          "text": [
            "Saved: defense_0036, seq_len=40\n"
          ]
        },
        {
          "name": "stderr",
          "output_type": "stream",
          "text": [
            "\rExtracting features:  58%|█████▊    | 1092/1888 [32:09<23:50,  1.80s/it]"
          ]
        },
        {
          "name": "stdout",
          "output_type": "stream",
          "text": [
            "Saved: defense_0007, seq_len=40\n"
          ]
        },
        {
          "name": "stderr",
          "output_type": "stream",
          "text": [
            "\rExtracting features:  58%|█████▊    | 1093/1888 [32:11<24:52,  1.88s/it]"
          ]
        },
        {
          "name": "stdout",
          "output_type": "stream",
          "text": [
            "Saved: defense_0026, seq_len=40\n"
          ]
        },
        {
          "name": "stderr",
          "output_type": "stream",
          "text": [
            "\rExtracting features:  58%|█████▊    | 1094/1888 [32:14<27:27,  2.08s/it]"
          ]
        },
        {
          "name": "stdout",
          "output_type": "stream",
          "text": [
            "Saved: defense_0043, seq_len=40\n"
          ]
        },
        {
          "name": "stderr",
          "output_type": "stream",
          "text": [
            "\rExtracting features:  58%|█████▊    | 1095/1888 [32:15<26:35,  2.01s/it]"
          ]
        },
        {
          "name": "stdout",
          "output_type": "stream",
          "text": [
            "Saved: defense_0013, seq_len=40\n"
          ]
        },
        {
          "name": "stderr",
          "output_type": "stream",
          "text": [
            "\rExtracting features:  58%|█████▊    | 1096/1888 [32:17<25:43,  1.95s/it]"
          ]
        },
        {
          "name": "stdout",
          "output_type": "stream",
          "text": [
            "Saved: defense_0165, seq_len=40\n"
          ]
        },
        {
          "name": "stderr",
          "output_type": "stream",
          "text": [
            "\rExtracting features:  58%|█████▊    | 1097/1888 [32:19<24:10,  1.83s/it]"
          ]
        },
        {
          "name": "stdout",
          "output_type": "stream",
          "text": [
            "Saved: defense_0144, seq_len=40\n"
          ]
        },
        {
          "name": "stderr",
          "output_type": "stream",
          "text": [
            "\rExtracting features:  58%|█████▊    | 1098/1888 [32:26<44:07,  3.35s/it]"
          ]
        },
        {
          "name": "stdout",
          "output_type": "stream",
          "text": [
            "Saved: defense_0028, seq_len=40\n"
          ]
        },
        {
          "name": "stderr",
          "output_type": "stream",
          "text": [
            "\rExtracting features:  58%|█████▊    | 1099/1888 [32:28<39:51,  3.03s/it]"
          ]
        },
        {
          "name": "stdout",
          "output_type": "stream",
          "text": [
            "Saved: defense_0044, seq_len=40\n"
          ]
        },
        {
          "name": "stderr",
          "output_type": "stream",
          "text": [
            "\rExtracting features:  58%|█████▊    | 1100/1888 [32:30<36:17,  2.76s/it]"
          ]
        },
        {
          "name": "stdout",
          "output_type": "stream",
          "text": [
            "Saved: defense_0139, seq_len=40\n"
          ]
        },
        {
          "name": "stderr",
          "output_type": "stream",
          "text": [
            "\rExtracting features:  58%|█████▊    | 1101/1888 [32:32<33:45,  2.57s/it]"
          ]
        },
        {
          "name": "stdout",
          "output_type": "stream",
          "text": [
            "Saved: defense_0143, seq_len=40\n"
          ]
        },
        {
          "name": "stderr",
          "output_type": "stream",
          "text": [
            "\rExtracting features:  58%|█████▊    | 1102/1888 [32:34<29:42,  2.27s/it]"
          ]
        },
        {
          "name": "stdout",
          "output_type": "stream",
          "text": [
            "Saved: defense_0039, seq_len=40\n"
          ]
        },
        {
          "name": "stderr",
          "output_type": "stream",
          "text": [
            "\rExtracting features:  58%|█████▊    | 1103/1888 [32:36<30:26,  2.33s/it]"
          ]
        },
        {
          "name": "stdout",
          "output_type": "stream",
          "text": [
            "Saved: defense_0121, seq_len=40\n"
          ]
        },
        {
          "name": "stderr",
          "output_type": "stream",
          "text": [
            "\rExtracting features:  58%|█████▊    | 1104/1888 [32:39<30:39,  2.35s/it]"
          ]
        },
        {
          "name": "stdout",
          "output_type": "stream",
          "text": [
            "Saved: defense_0140, seq_len=40\n"
          ]
        },
        {
          "name": "stderr",
          "output_type": "stream",
          "text": [
            "\rExtracting features:  59%|█████▊    | 1105/1888 [32:44<41:22,  3.17s/it]"
          ]
        },
        {
          "name": "stdout",
          "output_type": "stream",
          "text": [
            "Saved: defense_0023, seq_len=40\n"
          ]
        },
        {
          "name": "stderr",
          "output_type": "stream",
          "text": [
            "\rExtracting features:  59%|█████▊    | 1106/1888 [32:46<36:10,  2.77s/it]"
          ]
        },
        {
          "name": "stdout",
          "output_type": "stream",
          "text": [
            "Saved: defense_0138, seq_len=40\n"
          ]
        },
        {
          "name": "stderr",
          "output_type": "stream",
          "text": [
            "\rExtracting features:  59%|█████▊    | 1107/1888 [32:48<33:33,  2.58s/it]"
          ]
        },
        {
          "name": "stdout",
          "output_type": "stream",
          "text": [
            "Saved: defense_0045, seq_len=40\n"
          ]
        },
        {
          "name": "stderr",
          "output_type": "stream",
          "text": [
            "\rExtracting features:  59%|█████▊    | 1108/1888 [32:50<31:08,  2.40s/it]"
          ]
        },
        {
          "name": "stdout",
          "output_type": "stream",
          "text": [
            "Saved: defense_0038, seq_len=40\n"
          ]
        },
        {
          "name": "stderr",
          "output_type": "stream",
          "text": [
            "\rExtracting features:  59%|█████▊    | 1109/1888 [32:53<33:06,  2.55s/it]"
          ]
        },
        {
          "name": "stdout",
          "output_type": "stream",
          "text": [
            "Saved: defense_0035, seq_len=40\n"
          ]
        },
        {
          "name": "stderr",
          "output_type": "stream",
          "text": [
            "\rExtracting features:  59%|█████▉    | 1110/1888 [32:55<31:47,  2.45s/it]"
          ]
        },
        {
          "name": "stdout",
          "output_type": "stream",
          "text": [
            "Saved: defense_0060, seq_len=40\n"
          ]
        },
        {
          "name": "stderr",
          "output_type": "stream",
          "text": [
            "\rExtracting features:  59%|█████▉    | 1111/1888 [32:57<29:25,  2.27s/it]"
          ]
        },
        {
          "name": "stdout",
          "output_type": "stream",
          "text": [
            "Saved: defense_0164, seq_len=40\n"
          ]
        },
        {
          "name": "stderr",
          "output_type": "stream",
          "text": [
            "\rExtracting features:  59%|█████▉    | 1112/1888 [32:59<27:44,  2.15s/it]"
          ]
        },
        {
          "name": "stdout",
          "output_type": "stream",
          "text": [
            "Saved: defense_0049, seq_len=40\n"
          ]
        },
        {
          "name": "stderr",
          "output_type": "stream",
          "text": [
            "\rExtracting features:  59%|█████▉    | 1113/1888 [33:02<31:06,  2.41s/it]"
          ]
        },
        {
          "name": "stdout",
          "output_type": "stream",
          "text": [
            "Saved: defense_0037, seq_len=40\n"
          ]
        },
        {
          "name": "stderr",
          "output_type": "stream",
          "text": [
            "\rExtracting features:  59%|█████▉    | 1114/1888 [33:03<28:36,  2.22s/it]"
          ]
        },
        {
          "name": "stdout",
          "output_type": "stream",
          "text": [
            "Saved: defense_0030, seq_len=40\n"
          ]
        },
        {
          "name": "stderr",
          "output_type": "stream",
          "text": [
            "\rExtracting features:  59%|█████▉    | 1115/1888 [33:04<24:28,  1.90s/it]"
          ]
        },
        {
          "name": "stdout",
          "output_type": "stream",
          "text": [
            "Saved: defense_0161, seq_len=40\n"
          ]
        },
        {
          "name": "stderr",
          "output_type": "stream",
          "text": [
            "\rExtracting features:  59%|█████▉    | 1116/1888 [33:06<22:26,  1.74s/it]"
          ]
        },
        {
          "name": "stdout",
          "output_type": "stream",
          "text": [
            "Saved: defense_0146, seq_len=40\n"
          ]
        },
        {
          "name": "stderr",
          "output_type": "stream",
          "text": [
            "\rExtracting features:  59%|█████▉    | 1117/1888 [33:08<23:51,  1.86s/it]"
          ]
        },
        {
          "name": "stdout",
          "output_type": "stream",
          "text": [
            "Saved: defense_0131, seq_len=40\n"
          ]
        },
        {
          "name": "stderr",
          "output_type": "stream",
          "text": [
            "\rExtracting features:  59%|█████▉    | 1118/1888 [33:09<21:48,  1.70s/it]"
          ]
        },
        {
          "name": "stdout",
          "output_type": "stream",
          "text": [
            "Saved: defense_0015, seq_len=40\n"
          ]
        },
        {
          "name": "stderr",
          "output_type": "stream",
          "text": [
            "\rExtracting features:  59%|█████▉    | 1119/1888 [33:11<21:42,  1.69s/it]"
          ]
        },
        {
          "name": "stdout",
          "output_type": "stream",
          "text": [
            "Saved: defense_0137, seq_len=40\n"
          ]
        },
        {
          "name": "stderr",
          "output_type": "stream",
          "text": [
            "\rExtracting features:  59%|█████▉    | 1120/1888 [33:12<20:42,  1.62s/it]"
          ]
        },
        {
          "name": "stdout",
          "output_type": "stream",
          "text": [
            "Saved: defense_0070, seq_len=40\n"
          ]
        },
        {
          "name": "stderr",
          "output_type": "stream",
          "text": [
            "\rExtracting features:  59%|█████▉    | 1121/1888 [33:14<21:51,  1.71s/it]"
          ]
        },
        {
          "name": "stdout",
          "output_type": "stream",
          "text": [
            "Saved: defense_0142, seq_len=40\n"
          ]
        },
        {
          "name": "stderr",
          "output_type": "stream",
          "text": [
            "\rExtracting features:  59%|█████▉    | 1122/1888 [33:17<24:55,  1.95s/it]"
          ]
        },
        {
          "name": "stdout",
          "output_type": "stream",
          "text": [
            "Saved: defense_0159, seq_len=40\n"
          ]
        },
        {
          "name": "stderr",
          "output_type": "stream",
          "text": [
            "\rExtracting features:  59%|█████▉    | 1123/1888 [33:19<24:07,  1.89s/it]"
          ]
        },
        {
          "name": "stdout",
          "output_type": "stream",
          "text": [
            "Saved: defense_0162, seq_len=40\n"
          ]
        },
        {
          "name": "stderr",
          "output_type": "stream",
          "text": [
            "\rExtracting features:  60%|█████▉    | 1124/1888 [33:20<23:35,  1.85s/it]"
          ]
        },
        {
          "name": "stdout",
          "output_type": "stream",
          "text": [
            "Saved: defense_0110, seq_len=40\n"
          ]
        },
        {
          "name": "stderr",
          "output_type": "stream",
          "text": [
            "\rExtracting features:  60%|█████▉    | 1125/1888 [33:22<23:26,  1.84s/it]"
          ]
        },
        {
          "name": "stdout",
          "output_type": "stream",
          "text": [
            "Saved: defense_0132, seq_len=40\n"
          ]
        },
        {
          "name": "stderr",
          "output_type": "stream",
          "text": [
            "\rExtracting features:  60%|█████▉    | 1126/1888 [33:24<22:46,  1.79s/it]"
          ]
        },
        {
          "name": "stdout",
          "output_type": "stream",
          "text": [
            "Saved: defense_0163, seq_len=40\n"
          ]
        },
        {
          "name": "stderr",
          "output_type": "stream",
          "text": [
            "\rExtracting features:  60%|█████▉    | 1127/1888 [33:26<24:42,  1.95s/it]"
          ]
        },
        {
          "name": "stdout",
          "output_type": "stream",
          "text": [
            "Saved: defense_0001, seq_len=40\n"
          ]
        },
        {
          "name": "stderr",
          "output_type": "stream",
          "text": [
            "\rExtracting features:  60%|█████▉    | 1128/1888 [33:29<26:22,  2.08s/it]"
          ]
        },
        {
          "name": "stdout",
          "output_type": "stream",
          "text": [
            "Saved: defense_0141, seq_len=40\n"
          ]
        },
        {
          "name": "stderr",
          "output_type": "stream",
          "text": [
            "\rExtracting features:  60%|█████▉    | 1129/1888 [33:31<26:42,  2.11s/it]"
          ]
        },
        {
          "name": "stdout",
          "output_type": "stream",
          "text": [
            "Saved: defense_0145, seq_len=40\n"
          ]
        },
        {
          "name": "stderr",
          "output_type": "stream",
          "text": [
            "\rExtracting features:  60%|█████▉    | 1130/1888 [33:33<27:11,  2.15s/it]"
          ]
        },
        {
          "name": "stdout",
          "output_type": "stream",
          "text": [
            "Saved: defense_0152, seq_len=40\n"
          ]
        },
        {
          "name": "stderr",
          "output_type": "stream",
          "text": [
            "\rExtracting features:  60%|█████▉    | 1131/1888 [33:35<27:52,  2.21s/it]"
          ]
        },
        {
          "name": "stdout",
          "output_type": "stream",
          "text": [
            "Saved: defense_0041, seq_len=40\n"
          ]
        },
        {
          "name": "stderr",
          "output_type": "stream",
          "text": [
            "\rExtracting features:  60%|█████▉    | 1132/1888 [33:37<26:21,  2.09s/it]"
          ]
        },
        {
          "name": "stdout",
          "output_type": "stream",
          "text": [
            "Saved: defense_0134, seq_len=40\n"
          ]
        },
        {
          "name": "stderr",
          "output_type": "stream",
          "text": [
            "\rExtracting features:  60%|██████    | 1133/1888 [33:39<25:33,  2.03s/it]"
          ]
        },
        {
          "name": "stdout",
          "output_type": "stream",
          "text": [
            "Saved: defense_0055, seq_len=40\n"
          ]
        },
        {
          "name": "stderr",
          "output_type": "stream",
          "text": [
            "\rExtracting features:  60%|██████    | 1134/1888 [33:40<22:55,  1.82s/it]"
          ]
        },
        {
          "name": "stdout",
          "output_type": "stream",
          "text": [
            "Saved: defense_0135, seq_len=40\n"
          ]
        },
        {
          "name": "stderr",
          "output_type": "stream",
          "text": [
            "\rExtracting features:  60%|██████    | 1135/1888 [33:42<20:18,  1.62s/it]"
          ]
        },
        {
          "name": "stdout",
          "output_type": "stream",
          "text": [
            "Saved: defense_0047, seq_len=40\n"
          ]
        },
        {
          "name": "stderr",
          "output_type": "stream",
          "text": [
            "\rExtracting features:  60%|██████    | 1136/1888 [33:44<24:56,  1.99s/it]"
          ]
        },
        {
          "name": "stdout",
          "output_type": "stream",
          "text": [
            "Saved: defense_0160, seq_len=40\n"
          ]
        },
        {
          "name": "stderr",
          "output_type": "stream",
          "text": [
            "\rExtracting features:  60%|██████    | 1137/1888 [33:47<26:36,  2.13s/it]"
          ]
        },
        {
          "name": "stdout",
          "output_type": "stream",
          "text": [
            "Saved: defense_0040, seq_len=40\n"
          ]
        },
        {
          "name": "stderr",
          "output_type": "stream",
          "text": [
            "\rExtracting features:  60%|██████    | 1138/1888 [33:49<25:31,  2.04s/it]"
          ]
        },
        {
          "name": "stdout",
          "output_type": "stream",
          "text": [
            "Saved: defense_0046, seq_len=40\n"
          ]
        },
        {
          "name": "stderr",
          "output_type": "stream",
          "text": [
            "\rExtracting features:  60%|██████    | 1139/1888 [33:52<31:41,  2.54s/it]"
          ]
        },
        {
          "name": "stdout",
          "output_type": "stream",
          "text": [
            "Saved: defense_0130, seq_len=40\n"
          ]
        },
        {
          "name": "stderr",
          "output_type": "stream",
          "text": [
            "\rExtracting features:  60%|██████    | 1140/1888 [33:55<31:07,  2.50s/it]"
          ]
        },
        {
          "name": "stdout",
          "output_type": "stream",
          "text": [
            "Saved: defense_0136, seq_len=40\n"
          ]
        },
        {
          "name": "stderr",
          "output_type": "stream",
          "text": [
            "\rExtracting features:  60%|██████    | 1141/1888 [33:57<29:31,  2.37s/it]"
          ]
        },
        {
          "name": "stdout",
          "output_type": "stream",
          "text": [
            "Saved: defense_0133, seq_len=40\n"
          ]
        },
        {
          "name": "stderr",
          "output_type": "stream",
          "text": [
            "\rExtracting features:  60%|██████    | 1142/1888 [33:59<30:05,  2.42s/it]"
          ]
        },
        {
          "name": "stdout",
          "output_type": "stream",
          "text": [
            "Saved: pull_0112, seq_len=40\n"
          ]
        },
        {
          "name": "stderr",
          "output_type": "stream",
          "text": [
            "\rExtracting features:  61%|██████    | 1143/1888 [34:01<25:39,  2.07s/it]"
          ]
        },
        {
          "name": "stdout",
          "output_type": "stream",
          "text": [
            "Saved: pull_0053, seq_len=40\n"
          ]
        },
        {
          "name": "stderr",
          "output_type": "stream",
          "text": [
            "\rExtracting features:  61%|██████    | 1144/1888 [34:02<24:18,  1.96s/it]"
          ]
        },
        {
          "name": "stdout",
          "output_type": "stream",
          "text": [
            "Saved: pull_0103, seq_len=40\n"
          ]
        },
        {
          "name": "stderr",
          "output_type": "stream",
          "text": [
            "\rExtracting features:  61%|██████    | 1145/1888 [34:04<23:31,  1.90s/it]"
          ]
        },
        {
          "name": "stdout",
          "output_type": "stream",
          "text": [
            "Saved: pull_0127, seq_len=40\n"
          ]
        },
        {
          "name": "stderr",
          "output_type": "stream",
          "text": [
            "\rExtracting features:  61%|██████    | 1146/1888 [34:05<20:56,  1.69s/it]"
          ]
        },
        {
          "name": "stdout",
          "output_type": "stream",
          "text": [
            "Saved: pull_0109, seq_len=40\n"
          ]
        },
        {
          "name": "stderr",
          "output_type": "stream",
          "text": [
            "\rExtracting features:  61%|██████    | 1147/1888 [34:07<20:56,  1.70s/it]"
          ]
        },
        {
          "name": "stdout",
          "output_type": "stream",
          "text": [
            "Saved: pull_0107, seq_len=40\n"
          ]
        },
        {
          "name": "stderr",
          "output_type": "stream",
          "text": [
            "\rExtracting features:  61%|██████    | 1148/1888 [34:09<21:35,  1.75s/it]"
          ]
        },
        {
          "name": "stdout",
          "output_type": "stream",
          "text": [
            "Saved: pull_0105, seq_len=40\n"
          ]
        },
        {
          "name": "stderr",
          "output_type": "stream",
          "text": [
            "\rExtracting features:  61%|██████    | 1149/1888 [34:10<20:39,  1.68s/it]"
          ]
        },
        {
          "name": "stdout",
          "output_type": "stream",
          "text": [
            "Saved: pull_0021, seq_len=40\n"
          ]
        },
        {
          "name": "stderr",
          "output_type": "stream",
          "text": [
            "\rExtracting features:  61%|██████    | 1150/1888 [34:12<19:33,  1.59s/it]"
          ]
        },
        {
          "name": "stdout",
          "output_type": "stream",
          "text": [
            "Saved: pull_0120, seq_len=40\n"
          ]
        },
        {
          "name": "stderr",
          "output_type": "stream",
          "text": [
            "\rExtracting features:  61%|██████    | 1151/1888 [34:13<18:00,  1.47s/it]"
          ]
        },
        {
          "name": "stdout",
          "output_type": "stream",
          "text": [
            "Saved: pull_0115, seq_len=40\n"
          ]
        },
        {
          "name": "stderr",
          "output_type": "stream",
          "text": [
            "\rExtracting features:  61%|██████    | 1152/1888 [34:15<18:52,  1.54s/it]"
          ]
        },
        {
          "name": "stdout",
          "output_type": "stream",
          "text": [
            "Saved: pull_0113, seq_len=40\n"
          ]
        },
        {
          "name": "stderr",
          "output_type": "stream",
          "text": [
            "\rExtracting features:  61%|██████    | 1153/1888 [34:17<20:02,  1.64s/it]"
          ]
        },
        {
          "name": "stdout",
          "output_type": "stream",
          "text": [
            "Saved: pull_0102, seq_len=40\n"
          ]
        },
        {
          "name": "stderr",
          "output_type": "stream",
          "text": [
            "\rExtracting features:  61%|██████    | 1154/1888 [34:18<20:10,  1.65s/it]"
          ]
        },
        {
          "name": "stdout",
          "output_type": "stream",
          "text": [
            "Saved: pull_0129, seq_len=40\n"
          ]
        },
        {
          "name": "stderr",
          "output_type": "stream",
          "text": [
            "\rExtracting features:  61%|██████    | 1155/1888 [34:20<20:18,  1.66s/it]"
          ]
        },
        {
          "name": "stdout",
          "output_type": "stream",
          "text": [
            "Saved: pull_0171, seq_len=40\n"
          ]
        },
        {
          "name": "stderr",
          "output_type": "stream",
          "text": [
            "\rExtracting features:  61%|██████    | 1156/1888 [34:22<20:22,  1.67s/it]"
          ]
        },
        {
          "name": "stdout",
          "output_type": "stream",
          "text": [
            "Saved: pull_0124, seq_len=40\n"
          ]
        },
        {
          "name": "stderr",
          "output_type": "stream",
          "text": [
            "\rExtracting features:  61%|██████▏   | 1157/1888 [34:23<19:53,  1.63s/it]"
          ]
        },
        {
          "name": "stdout",
          "output_type": "stream",
          "text": [
            "Saved: pull_0111, seq_len=40\n"
          ]
        },
        {
          "name": "stderr",
          "output_type": "stream",
          "text": [
            "\rExtracting features:  61%|██████▏   | 1158/1888 [34:25<20:31,  1.69s/it]"
          ]
        },
        {
          "name": "stdout",
          "output_type": "stream",
          "text": [
            "Saved: pull_0020, seq_len=40\n"
          ]
        },
        {
          "name": "stderr",
          "output_type": "stream",
          "text": [
            "\rExtracting features:  61%|██████▏   | 1159/1888 [34:27<20:41,  1.70s/it]"
          ]
        },
        {
          "name": "stdout",
          "output_type": "stream",
          "text": [
            "Saved: pull_0022, seq_len=40\n"
          ]
        },
        {
          "name": "stderr",
          "output_type": "stream",
          "text": [
            "\rExtracting features:  61%|██████▏   | 1160/1888 [34:28<18:45,  1.55s/it]"
          ]
        },
        {
          "name": "stdout",
          "output_type": "stream",
          "text": [
            "Saved: pull_0110, seq_len=40\n"
          ]
        },
        {
          "name": "stderr",
          "output_type": "stream",
          "text": [
            "\rExtracting features:  61%|██████▏   | 1161/1888 [34:29<17:13,  1.42s/it]"
          ]
        },
        {
          "name": "stdout",
          "output_type": "stream",
          "text": [
            "Saved: pull_0130, seq_len=40\n"
          ]
        },
        {
          "name": "stderr",
          "output_type": "stream",
          "text": [
            "\rExtracting features:  62%|██████▏   | 1162/1888 [34:31<17:32,  1.45s/it]"
          ]
        },
        {
          "name": "stdout",
          "output_type": "stream",
          "text": [
            "Saved: pull_0119, seq_len=40\n"
          ]
        },
        {
          "name": "stderr",
          "output_type": "stream",
          "text": [
            "\rExtracting features:  62%|██████▏   | 1163/1888 [34:32<16:34,  1.37s/it]"
          ]
        },
        {
          "name": "stdout",
          "output_type": "stream",
          "text": [
            "Saved: pull_0178, seq_len=40\n"
          ]
        },
        {
          "name": "stderr",
          "output_type": "stream",
          "text": [
            "\rExtracting features:  62%|██████▏   | 1164/1888 [34:34<19:05,  1.58s/it]"
          ]
        },
        {
          "name": "stdout",
          "output_type": "stream",
          "text": [
            "Saved: pull_0174, seq_len=40\n"
          ]
        },
        {
          "name": "stderr",
          "output_type": "stream",
          "text": [
            "\rExtracting features:  62%|██████▏   | 1165/1888 [34:35<18:49,  1.56s/it]"
          ]
        },
        {
          "name": "stdout",
          "output_type": "stream",
          "text": [
            "Saved: pull_0128, seq_len=40\n"
          ]
        },
        {
          "name": "stderr",
          "output_type": "stream",
          "text": [
            "\rExtracting features:  62%|██████▏   | 1166/1888 [34:37<19:38,  1.63s/it]"
          ]
        },
        {
          "name": "stdout",
          "output_type": "stream",
          "text": [
            "Saved: pull_0023, seq_len=40\n"
          ]
        },
        {
          "name": "stderr",
          "output_type": "stream",
          "text": [
            "\rExtracting features:  62%|██████▏   | 1167/1888 [34:38<17:44,  1.48s/it]"
          ]
        },
        {
          "name": "stdout",
          "output_type": "stream",
          "text": [
            "Saved: pull_0104, seq_len=40\n"
          ]
        },
        {
          "name": "stderr",
          "output_type": "stream",
          "text": [
            "\rExtracting features:  62%|██████▏   | 1168/1888 [34:40<18:44,  1.56s/it]"
          ]
        },
        {
          "name": "stdout",
          "output_type": "stream",
          "text": [
            "Saved: pull_0117, seq_len=40\n"
          ]
        },
        {
          "name": "stderr",
          "output_type": "stream",
          "text": [
            "\rExtracting features:  62%|██████▏   | 1169/1888 [34:42<19:09,  1.60s/it]"
          ]
        },
        {
          "name": "stdout",
          "output_type": "stream",
          "text": [
            "Saved: pull_0121, seq_len=40\n"
          ]
        },
        {
          "name": "stderr",
          "output_type": "stream",
          "text": [
            "\rExtracting features:  62%|██████▏   | 1170/1888 [34:43<19:26,  1.62s/it]"
          ]
        },
        {
          "name": "stdout",
          "output_type": "stream",
          "text": [
            "Saved: pull_0106, seq_len=40\n"
          ]
        },
        {
          "name": "stderr",
          "output_type": "stream",
          "text": [
            "\rExtracting features:  62%|██████▏   | 1171/1888 [34:44<17:32,  1.47s/it]"
          ]
        },
        {
          "name": "stdout",
          "output_type": "stream",
          "text": [
            "Saved: pull_0173, seq_len=40\n"
          ]
        },
        {
          "name": "stderr",
          "output_type": "stream",
          "text": [
            "\rExtracting features:  62%|██████▏   | 1172/1888 [34:46<18:09,  1.52s/it]"
          ]
        },
        {
          "name": "stdout",
          "output_type": "stream",
          "text": [
            "Saved: pull_0170, seq_len=40\n"
          ]
        },
        {
          "name": "stderr",
          "output_type": "stream",
          "text": [
            "\rExtracting features:  62%|██████▏   | 1173/1888 [34:48<20:01,  1.68s/it]"
          ]
        },
        {
          "name": "stdout",
          "output_type": "stream",
          "text": [
            "Saved: pull_0126, seq_len=40\n"
          ]
        },
        {
          "name": "stderr",
          "output_type": "stream",
          "text": [
            "\rExtracting features:  62%|██████▏   | 1174/1888 [34:51<23:45,  2.00s/it]"
          ]
        },
        {
          "name": "stdout",
          "output_type": "stream",
          "text": [
            "Saved: pull_0172, seq_len=40\n"
          ]
        },
        {
          "name": "stderr",
          "output_type": "stream",
          "text": [
            "\rExtracting features:  62%|██████▏   | 1175/1888 [34:52<20:37,  1.74s/it]"
          ]
        },
        {
          "name": "stdout",
          "output_type": "stream",
          "text": [
            "Saved: pull_0108, seq_len=40\n"
          ]
        },
        {
          "name": "stderr",
          "output_type": "stream",
          "text": [
            "\rExtracting features:  62%|██████▏   | 1176/1888 [34:54<20:31,  1.73s/it]"
          ]
        },
        {
          "name": "stdout",
          "output_type": "stream",
          "text": [
            "Saved: pull_0175, seq_len=40\n"
          ]
        },
        {
          "name": "stderr",
          "output_type": "stream",
          "text": [
            "\rExtracting features:  62%|██████▏   | 1177/1888 [34:55<19:32,  1.65s/it]"
          ]
        },
        {
          "name": "stdout",
          "output_type": "stream",
          "text": [
            "Saved: pull_0169, seq_len=40\n"
          ]
        },
        {
          "name": "stderr",
          "output_type": "stream",
          "text": [
            "\rExtracting features:  62%|██████▏   | 1178/1888 [34:57<20:11,  1.71s/it]"
          ]
        },
        {
          "name": "stdout",
          "output_type": "stream",
          "text": [
            "Saved: pull_0116, seq_len=40\n"
          ]
        },
        {
          "name": "stderr",
          "output_type": "stream",
          "text": [
            "\rExtracting features:  62%|██████▏   | 1179/1888 [34:58<18:23,  1.56s/it]"
          ]
        },
        {
          "name": "stdout",
          "output_type": "stream",
          "text": [
            "Saved: pull_0118, seq_len=40\n"
          ]
        },
        {
          "name": "stderr",
          "output_type": "stream",
          "text": [
            "\rExtracting features:  62%|██████▎   | 1180/1888 [35:00<20:05,  1.70s/it]"
          ]
        },
        {
          "name": "stdout",
          "output_type": "stream",
          "text": [
            "Saved: pull_0024, seq_len=40\n"
          ]
        },
        {
          "name": "stderr",
          "output_type": "stream",
          "text": [
            "\rExtracting features:  63%|██████▎   | 1181/1888 [35:03<24:47,  2.10s/it]"
          ]
        },
        {
          "name": "stdout",
          "output_type": "stream",
          "text": [
            "Saved: pull_0131, seq_len=40\n"
          ]
        },
        {
          "name": "stderr",
          "output_type": "stream",
          "text": [
            "\rExtracting features:  63%|██████▎   | 1182/1888 [35:05<23:24,  1.99s/it]"
          ]
        },
        {
          "name": "stdout",
          "output_type": "stream",
          "text": [
            "Saved: pull_0123, seq_len=40\n"
          ]
        },
        {
          "name": "stderr",
          "output_type": "stream",
          "text": [
            "\rExtracting features:  63%|██████▎   | 1183/1888 [35:07<22:34,  1.92s/it]"
          ]
        },
        {
          "name": "stdout",
          "output_type": "stream",
          "text": [
            "Saved: pull_0114, seq_len=40\n"
          ]
        },
        {
          "name": "stderr",
          "output_type": "stream",
          "text": [
            "\rExtracting features:  63%|██████▎   | 1184/1888 [35:08<19:52,  1.69s/it]"
          ]
        },
        {
          "name": "stdout",
          "output_type": "stream",
          "text": [
            "Saved: pull_0176, seq_len=40\n"
          ]
        },
        {
          "name": "stderr",
          "output_type": "stream",
          "text": [
            "\rExtracting features:  63%|██████▎   | 1185/1888 [35:10<19:34,  1.67s/it]"
          ]
        },
        {
          "name": "stdout",
          "output_type": "stream",
          "text": [
            "Saved: pull_0045, seq_len=40\n"
          ]
        },
        {
          "name": "stderr",
          "output_type": "stream",
          "text": [
            "\rExtracting features:  63%|██████▎   | 1186/1888 [35:11<19:45,  1.69s/it]"
          ]
        },
        {
          "name": "stdout",
          "output_type": "stream",
          "text": [
            "Saved: pull_0154, seq_len=40\n"
          ]
        },
        {
          "name": "stderr",
          "output_type": "stream",
          "text": [
            "\rExtracting features:  63%|██████▎   | 1187/1888 [35:13<20:22,  1.74s/it]"
          ]
        },
        {
          "name": "stdout",
          "output_type": "stream",
          "text": [
            "Saved: pull_0046, seq_len=40\n"
          ]
        },
        {
          "name": "stderr",
          "output_type": "stream",
          "text": [
            "\rExtracting features:  63%|██████▎   | 1188/1888 [35:22<43:57,  3.77s/it]"
          ]
        },
        {
          "name": "stdout",
          "output_type": "stream",
          "text": [
            "Saved: pull_0159, seq_len=40\n"
          ]
        },
        {
          "name": "stderr",
          "output_type": "stream",
          "text": [
            "\rExtracting features:  63%|██████▎   | 1189/1888 [35:23<34:32,  2.96s/it]"
          ]
        },
        {
          "name": "stdout",
          "output_type": "stream",
          "text": [
            "Saved: pull_0168, seq_len=40\n"
          ]
        },
        {
          "name": "stderr",
          "output_type": "stream",
          "text": [
            "\rExtracting features:  63%|██████▎   | 1190/1888 [35:24<30:04,  2.59s/it]"
          ]
        },
        {
          "name": "stdout",
          "output_type": "stream",
          "text": [
            "Saved: pull_0157, seq_len=40\n"
          ]
        },
        {
          "name": "stderr",
          "output_type": "stream",
          "text": [
            "\rExtracting features:  63%|██████▎   | 1191/1888 [35:27<28:12,  2.43s/it]"
          ]
        },
        {
          "name": "stdout",
          "output_type": "stream",
          "text": [
            "Saved: pull_0167, seq_len=40\n"
          ]
        },
        {
          "name": "stderr",
          "output_type": "stream",
          "text": [
            "\rExtracting features:  63%|██████▎   | 1192/1888 [35:28<25:55,  2.23s/it]"
          ]
        },
        {
          "name": "stdout",
          "output_type": "stream",
          "text": [
            "Saved: pull_0125, seq_len=40\n"
          ]
        },
        {
          "name": "stderr",
          "output_type": "stream",
          "text": [
            "\rExtracting features:  63%|██████▎   | 1193/1888 [35:30<24:47,  2.14s/it]"
          ]
        },
        {
          "name": "stdout",
          "output_type": "stream",
          "text": [
            "Saved: pull_0156, seq_len=40\n"
          ]
        },
        {
          "name": "stderr",
          "output_type": "stream",
          "text": [
            "\rExtracting features:  63%|██████▎   | 1194/1888 [35:32<23:39,  2.04s/it]"
          ]
        },
        {
          "name": "stdout",
          "output_type": "stream",
          "text": [
            "Saved: pull_0152, seq_len=40\n"
          ]
        },
        {
          "name": "stderr",
          "output_type": "stream",
          "text": [
            "\rExtracting features:  63%|██████▎   | 1195/1888 [35:34<24:57,  2.16s/it]"
          ]
        },
        {
          "name": "stdout",
          "output_type": "stream",
          "text": [
            "Saved: pull_0146, seq_len=40\n"
          ]
        },
        {
          "name": "stderr",
          "output_type": "stream",
          "text": [
            "\rExtracting features:  63%|██████▎   | 1196/1888 [35:36<21:27,  1.86s/it]"
          ]
        },
        {
          "name": "stdout",
          "output_type": "stream",
          "text": [
            "Saved: pull_0164, seq_len=40\n"
          ]
        },
        {
          "name": "stderr",
          "output_type": "stream",
          "text": [
            "\rExtracting features:  63%|██████▎   | 1197/1888 [35:37<18:58,  1.65s/it]"
          ]
        },
        {
          "name": "stdout",
          "output_type": "stream",
          "text": [
            "Saved: pull_0160, seq_len=40\n"
          ]
        },
        {
          "name": "stderr",
          "output_type": "stream",
          "text": [
            "\rExtracting features:  63%|██████▎   | 1198/1888 [35:39<20:53,  1.82s/it]"
          ]
        },
        {
          "name": "stdout",
          "output_type": "stream",
          "text": [
            "Saved: pull_0047, seq_len=40\n"
          ]
        },
        {
          "name": "stderr",
          "output_type": "stream",
          "text": [
            "\rExtracting features:  64%|██████▎   | 1199/1888 [35:41<20:52,  1.82s/it]"
          ]
        },
        {
          "name": "stdout",
          "output_type": "stream",
          "text": [
            "Saved: pull_0161, seq_len=40\n"
          ]
        },
        {
          "name": "stderr",
          "output_type": "stream",
          "text": [
            "\rExtracting features:  64%|██████▎   | 1200/1888 [35:43<21:09,  1.85s/it]"
          ]
        },
        {
          "name": "stdout",
          "output_type": "stream",
          "text": [
            "Saved: pull_0151, seq_len=40\n"
          ]
        },
        {
          "name": "stderr",
          "output_type": "stream",
          "text": [
            "\rExtracting features:  64%|██████▎   | 1201/1888 [35:44<19:04,  1.67s/it]"
          ]
        },
        {
          "name": "stdout",
          "output_type": "stream",
          "text": [
            "Saved: pull_0044, seq_len=40\n"
          ]
        },
        {
          "name": "stderr",
          "output_type": "stream",
          "text": [
            "\rExtracting features:  64%|██████▎   | 1202/1888 [35:46<19:35,  1.71s/it]"
          ]
        },
        {
          "name": "stdout",
          "output_type": "stream",
          "text": [
            "Saved: pull_0043, seq_len=40\n"
          ]
        },
        {
          "name": "stderr",
          "output_type": "stream",
          "text": [
            "\rExtracting features:  64%|██████▎   | 1203/1888 [35:48<19:54,  1.74s/it]"
          ]
        },
        {
          "name": "stdout",
          "output_type": "stream",
          "text": [
            "Saved: pull_0153, seq_len=40\n"
          ]
        },
        {
          "name": "stderr",
          "output_type": "stream",
          "text": [
            "\rExtracting features:  64%|██████▍   | 1204/1888 [35:50<22:40,  1.99s/it]"
          ]
        },
        {
          "name": "stdout",
          "output_type": "stream",
          "text": [
            "Saved: pull_0177, seq_len=40\n"
          ]
        },
        {
          "name": "stderr",
          "output_type": "stream",
          "text": [
            "\rExtracting features:  64%|██████▍   | 1205/1888 [35:52<21:55,  1.93s/it]"
          ]
        },
        {
          "name": "stdout",
          "output_type": "stream",
          "text": [
            "Saved: pull_0149, seq_len=40\n"
          ]
        },
        {
          "name": "stderr",
          "output_type": "stream",
          "text": [
            "\rExtracting features:  64%|██████▍   | 1206/1888 [35:54<21:27,  1.89s/it]"
          ]
        },
        {
          "name": "stdout",
          "output_type": "stream",
          "text": [
            "Saved: pull_0037, seq_len=40\n"
          ]
        },
        {
          "name": "stderr",
          "output_type": "stream",
          "text": [
            "\rExtracting features:  64%|██████▍   | 1207/1888 [35:56<21:04,  1.86s/it]"
          ]
        },
        {
          "name": "stdout",
          "output_type": "stream",
          "text": [
            "Saved: pull_0032, seq_len=40\n"
          ]
        },
        {
          "name": "stderr",
          "output_type": "stream",
          "text": [
            "\rExtracting features:  64%|██████▍   | 1208/1888 [35:57<21:02,  1.86s/it]"
          ]
        },
        {
          "name": "stdout",
          "output_type": "stream",
          "text": [
            "Saved: pull_0145, seq_len=40\n"
          ]
        },
        {
          "name": "stderr",
          "output_type": "stream",
          "text": [
            "\rExtracting features:  64%|██████▍   | 1209/1888 [35:59<20:30,  1.81s/it]"
          ]
        },
        {
          "name": "stdout",
          "output_type": "stream",
          "text": [
            "Saved: pull_0036, seq_len=40\n"
          ]
        },
        {
          "name": "stderr",
          "output_type": "stream",
          "text": [
            "\rExtracting features:  64%|██████▍   | 1210/1888 [36:01<20:01,  1.77s/it]"
          ]
        },
        {
          "name": "stdout",
          "output_type": "stream",
          "text": [
            "Saved: pull_0143, seq_len=40\n"
          ]
        },
        {
          "name": "stderr",
          "output_type": "stream",
          "text": [
            "\rExtracting features:  64%|██████▍   | 1211/1888 [36:02<19:06,  1.69s/it]"
          ]
        },
        {
          "name": "stdout",
          "output_type": "stream",
          "text": [
            "Saved: pull_0034, seq_len=40\n"
          ]
        },
        {
          "name": "stderr",
          "output_type": "stream",
          "text": [
            "\rExtracting features:  64%|██████▍   | 1212/1888 [36:04<19:58,  1.77s/it]"
          ]
        },
        {
          "name": "stdout",
          "output_type": "stream",
          "text": [
            "Saved: pull_0031, seq_len=40\n"
          ]
        },
        {
          "name": "stderr",
          "output_type": "stream",
          "text": [
            "\rExtracting features:  64%|██████▍   | 1213/1888 [36:09<29:42,  2.64s/it]"
          ]
        },
        {
          "name": "stdout",
          "output_type": "stream",
          "text": [
            "Saved: pull_0038, seq_len=40\n"
          ]
        },
        {
          "name": "stderr",
          "output_type": "stream",
          "text": [
            "\rExtracting features:  64%|██████▍   | 1214/1888 [36:10<24:45,  2.20s/it]"
          ]
        },
        {
          "name": "stdout",
          "output_type": "stream",
          "text": [
            "Saved: pull_0140, seq_len=40\n"
          ]
        },
        {
          "name": "stderr",
          "output_type": "stream",
          "text": [
            "\rExtracting features:  64%|██████▍   | 1215/1888 [36:12<23:17,  2.08s/it]"
          ]
        },
        {
          "name": "stdout",
          "output_type": "stream",
          "text": [
            "Saved: pull_0042, seq_len=40\n"
          ]
        },
        {
          "name": "stderr",
          "output_type": "stream",
          "text": [
            "\rExtracting features:  64%|██████▍   | 1216/1888 [36:13<20:11,  1.80s/it]"
          ]
        },
        {
          "name": "stdout",
          "output_type": "stream",
          "text": [
            "Saved: pull_0155, seq_len=40\n"
          ]
        },
        {
          "name": "stderr",
          "output_type": "stream",
          "text": [
            "\rExtracting features:  64%|██████▍   | 1217/1888 [36:14<18:25,  1.65s/it]"
          ]
        },
        {
          "name": "stdout",
          "output_type": "stream",
          "text": [
            "Saved: pull_0148, seq_len=40\n"
          ]
        },
        {
          "name": "stderr",
          "output_type": "stream",
          "text": [
            "\rExtracting features:  65%|██████▍   | 1218/1888 [36:16<17:29,  1.57s/it]"
          ]
        },
        {
          "name": "stdout",
          "output_type": "stream",
          "text": [
            "Saved: pull_0028, seq_len=40\n"
          ]
        },
        {
          "name": "stderr",
          "output_type": "stream",
          "text": [
            "\rExtracting features:  65%|██████▍   | 1219/1888 [36:17<17:53,  1.60s/it]"
          ]
        },
        {
          "name": "stdout",
          "output_type": "stream",
          "text": [
            "Saved: pull_0162, seq_len=40\n"
          ]
        },
        {
          "name": "stderr",
          "output_type": "stream",
          "text": [
            "\rExtracting features:  65%|██████▍   | 1220/1888 [36:18<15:59,  1.44s/it]"
          ]
        },
        {
          "name": "stdout",
          "output_type": "stream",
          "text": [
            "Saved: pull_0158, seq_len=40\n"
          ]
        },
        {
          "name": "stderr",
          "output_type": "stream",
          "text": [
            "\rExtracting features:  65%|██████▍   | 1221/1888 [36:21<18:45,  1.69s/it]"
          ]
        },
        {
          "name": "stdout",
          "output_type": "stream",
          "text": [
            "Saved: pull_0165, seq_len=40\n"
          ]
        },
        {
          "name": "stderr",
          "output_type": "stream",
          "text": [
            "\rExtracting features:  65%|██████▍   | 1222/1888 [36:22<17:05,  1.54s/it]"
          ]
        },
        {
          "name": "stdout",
          "output_type": "stream",
          "text": [
            "Saved: pull_0029, seq_len=40\n"
          ]
        },
        {
          "name": "stderr",
          "output_type": "stream",
          "text": [
            "\rExtracting features:  65%|██████▍   | 1223/1888 [36:24<17:50,  1.61s/it]"
          ]
        },
        {
          "name": "stdout",
          "output_type": "stream",
          "text": [
            "Saved: pull_0142, seq_len=40\n"
          ]
        },
        {
          "name": "stderr",
          "output_type": "stream",
          "text": [
            "\rExtracting features:  65%|██████▍   | 1224/1888 [36:26<19:56,  1.80s/it]"
          ]
        },
        {
          "name": "stdout",
          "output_type": "stream",
          "text": [
            "Saved: pull_0163, seq_len=40\n"
          ]
        },
        {
          "name": "stderr",
          "output_type": "stream",
          "text": [
            "\rExtracting features:  65%|██████▍   | 1225/1888 [36:28<19:11,  1.74s/it]"
          ]
        },
        {
          "name": "stdout",
          "output_type": "stream",
          "text": [
            "Saved: pull_0147, seq_len=40\n"
          ]
        },
        {
          "name": "stderr",
          "output_type": "stream",
          "text": [
            "\rExtracting features:  65%|██████▍   | 1226/1888 [36:29<18:02,  1.63s/it]"
          ]
        },
        {
          "name": "stdout",
          "output_type": "stream",
          "text": [
            "Saved: pull_0052, seq_len=40\n"
          ]
        },
        {
          "name": "stderr",
          "output_type": "stream",
          "text": [
            "\rExtracting features:  65%|██████▍   | 1227/1888 [36:31<18:12,  1.65s/it]"
          ]
        },
        {
          "name": "stdout",
          "output_type": "stream",
          "text": [
            "Saved: pull_0035, seq_len=40\n"
          ]
        },
        {
          "name": "stderr",
          "output_type": "stream",
          "text": [
            "\rExtracting features:  65%|██████▌   | 1228/1888 [36:33<19:27,  1.77s/it]"
          ]
        },
        {
          "name": "stdout",
          "output_type": "stream",
          "text": [
            "Saved: pull_0051, seq_len=40\n"
          ]
        },
        {
          "name": "stderr",
          "output_type": "stream",
          "text": [
            "\rExtracting features:  65%|██████▌   | 1229/1888 [36:35<21:00,  1.91s/it]"
          ]
        },
        {
          "name": "stdout",
          "output_type": "stream",
          "text": [
            "Saved: pull_0040, seq_len=40\n"
          ]
        },
        {
          "name": "stderr",
          "output_type": "stream",
          "text": [
            "\rExtracting features:  65%|██████▌   | 1230/1888 [36:37<20:24,  1.86s/it]"
          ]
        },
        {
          "name": "stdout",
          "output_type": "stream",
          "text": [
            "Saved: pull_0141, seq_len=40\n"
          ]
        },
        {
          "name": "stderr",
          "output_type": "stream",
          "text": [
            "\rExtracting features:  65%|██████▌   | 1231/1888 [36:38<18:43,  1.71s/it]"
          ]
        },
        {
          "name": "stdout",
          "output_type": "stream",
          "text": [
            "Saved: pull_0082, seq_len=40\n"
          ]
        },
        {
          "name": "stderr",
          "output_type": "stream",
          "text": [
            "\rExtracting features:  65%|██████▌   | 1232/1888 [36:40<19:18,  1.77s/it]"
          ]
        },
        {
          "name": "stdout",
          "output_type": "stream",
          "text": [
            "Saved: pull_0094, seq_len=40\n"
          ]
        },
        {
          "name": "stderr",
          "output_type": "stream",
          "text": [
            "\rExtracting features:  65%|██████▌   | 1233/1888 [36:42<20:05,  1.84s/it]"
          ]
        },
        {
          "name": "stdout",
          "output_type": "stream",
          "text": [
            "Saved: pull_0095, seq_len=40\n"
          ]
        },
        {
          "name": "stderr",
          "output_type": "stream",
          "text": [
            "\rExtracting features:  65%|██████▌   | 1234/1888 [36:44<19:36,  1.80s/it]"
          ]
        },
        {
          "name": "stdout",
          "output_type": "stream",
          "text": [
            "Saved: pull_0027, seq_len=40\n"
          ]
        },
        {
          "name": "stderr",
          "output_type": "stream",
          "text": [
            "\rExtracting features:  65%|██████▌   | 1235/1888 [36:45<17:50,  1.64s/it]"
          ]
        },
        {
          "name": "stdout",
          "output_type": "stream",
          "text": [
            "Saved: pull_0093, seq_len=40\n"
          ]
        },
        {
          "name": "stderr",
          "output_type": "stream",
          "text": [
            "\rExtracting features:  65%|██████▌   | 1236/1888 [36:47<20:00,  1.84s/it]"
          ]
        },
        {
          "name": "stdout",
          "output_type": "stream",
          "text": [
            "Saved: pull_0025, seq_len=40\n"
          ]
        },
        {
          "name": "stderr",
          "output_type": "stream",
          "text": [
            "\rExtracting features:  66%|██████▌   | 1237/1888 [36:49<18:25,  1.70s/it]"
          ]
        },
        {
          "name": "stdout",
          "output_type": "stream",
          "text": [
            "Saved: pull_0091, seq_len=40\n"
          ]
        },
        {
          "name": "stderr",
          "output_type": "stream",
          "text": [
            "\rExtracting features:  66%|██████▌   | 1238/1888 [36:50<17:00,  1.57s/it]"
          ]
        },
        {
          "name": "stdout",
          "output_type": "stream",
          "text": [
            "Saved: pull_0081, seq_len=40\n"
          ]
        },
        {
          "name": "stderr",
          "output_type": "stream",
          "text": [
            "\rExtracting features:  66%|██████▌   | 1239/1888 [36:51<16:01,  1.48s/it]"
          ]
        },
        {
          "name": "stdout",
          "output_type": "stream",
          "text": [
            "Saved: pull_0057, seq_len=40\n"
          ]
        },
        {
          "name": "stderr",
          "output_type": "stream",
          "text": [
            "\rExtracting features:  66%|██████▌   | 1240/1888 [36:53<18:29,  1.71s/it]"
          ]
        },
        {
          "name": "stdout",
          "output_type": "stream",
          "text": [
            "Saved: pull_0138, seq_len=40\n"
          ]
        },
        {
          "name": "stderr",
          "output_type": "stream",
          "text": [
            "\rExtracting features:  66%|██████▌   | 1241/1888 [36:55<17:54,  1.66s/it]"
          ]
        },
        {
          "name": "stdout",
          "output_type": "stream",
          "text": [
            "Saved: pull_0033, seq_len=40\n"
          ]
        },
        {
          "name": "stderr",
          "output_type": "stream",
          "text": [
            "\rExtracting features:  66%|██████▌   | 1242/1888 [36:56<17:34,  1.63s/it]"
          ]
        },
        {
          "name": "stdout",
          "output_type": "stream",
          "text": [
            "Saved: pull_0083, seq_len=40\n"
          ]
        },
        {
          "name": "stderr",
          "output_type": "stream",
          "text": [
            "\rExtracting features:  66%|██████▌   | 1243/1888 [36:58<18:25,  1.71s/it]"
          ]
        },
        {
          "name": "stdout",
          "output_type": "stream",
          "text": [
            "Saved: pull_0039, seq_len=40\n"
          ]
        },
        {
          "name": "stderr",
          "output_type": "stream",
          "text": [
            "\rExtracting features:  66%|██████▌   | 1244/1888 [36:59<16:34,  1.54s/it]"
          ]
        },
        {
          "name": "stdout",
          "output_type": "stream",
          "text": [
            "Saved: pull_0026, seq_len=40\n"
          ]
        },
        {
          "name": "stderr",
          "output_type": "stream",
          "text": [
            "\rExtracting features:  66%|██████▌   | 1245/1888 [37:01<17:16,  1.61s/it]"
          ]
        },
        {
          "name": "stdout",
          "output_type": "stream",
          "text": [
            "Saved: pull_0099, seq_len=40\n"
          ]
        },
        {
          "name": "stderr",
          "output_type": "stream",
          "text": [
            "\rExtracting features:  66%|██████▌   | 1246/1888 [37:03<17:30,  1.64s/it]"
          ]
        },
        {
          "name": "stdout",
          "output_type": "stream",
          "text": [
            "Saved: pull_0041, seq_len=40\n"
          ]
        },
        {
          "name": "stderr",
          "output_type": "stream",
          "text": [
            "\rExtracting features:  66%|██████▌   | 1247/1888 [37:05<19:23,  1.81s/it]"
          ]
        },
        {
          "name": "stdout",
          "output_type": "stream",
          "text": [
            "Saved: pull_0077, seq_len=40\n"
          ]
        },
        {
          "name": "stderr",
          "output_type": "stream",
          "text": [
            "\rExtracting features:  66%|██████▌   | 1248/1888 [37:07<20:19,  1.91s/it]"
          ]
        },
        {
          "name": "stdout",
          "output_type": "stream",
          "text": [
            "Saved: pull_0132, seq_len=40\n"
          ]
        },
        {
          "name": "stderr",
          "output_type": "stream",
          "text": [
            "\rExtracting features:  66%|██████▌   | 1249/1888 [37:08<17:57,  1.69s/it]"
          ]
        },
        {
          "name": "stdout",
          "output_type": "stream",
          "text": [
            "Saved: pull_0054, seq_len=40\n"
          ]
        },
        {
          "name": "stderr",
          "output_type": "stream",
          "text": [
            "\rExtracting features:  66%|██████▌   | 1250/1888 [37:11<19:15,  1.81s/it]"
          ]
        },
        {
          "name": "stdout",
          "output_type": "stream",
          "text": [
            "Saved: pull_0136, seq_len=40\n"
          ]
        },
        {
          "name": "stderr",
          "output_type": "stream",
          "text": [
            "\rExtracting features:  66%|██████▋   | 1251/1888 [37:12<19:17,  1.82s/it]"
          ]
        },
        {
          "name": "stdout",
          "output_type": "stream",
          "text": [
            "Saved: pull_0073, seq_len=40\n"
          ]
        },
        {
          "name": "stderr",
          "output_type": "stream",
          "text": [
            "\rExtracting features:  66%|██████▋   | 1252/1888 [37:14<17:21,  1.64s/it]"
          ]
        },
        {
          "name": "stdout",
          "output_type": "stream",
          "text": [
            "Saved: pull_0074, seq_len=40\n"
          ]
        },
        {
          "name": "stderr",
          "output_type": "stream",
          "text": [
            "\rExtracting features:  66%|██████▋   | 1253/1888 [37:15<17:34,  1.66s/it]"
          ]
        },
        {
          "name": "stdout",
          "output_type": "stream",
          "text": [
            "Saved: pull_0078, seq_len=40\n"
          ]
        },
        {
          "name": "stderr",
          "output_type": "stream",
          "text": [
            "\rExtracting features:  66%|██████▋   | 1254/1888 [37:20<26:50,  2.54s/it]"
          ]
        },
        {
          "name": "stdout",
          "output_type": "stream",
          "text": [
            "Saved: pull_0101, seq_len=40\n"
          ]
        },
        {
          "name": "stderr",
          "output_type": "stream",
          "text": [
            "\rExtracting features:  66%|██████▋   | 1255/1888 [37:22<24:38,  2.34s/it]"
          ]
        },
        {
          "name": "stdout",
          "output_type": "stream",
          "text": [
            "Saved: pull_0067, seq_len=40\n"
          ]
        },
        {
          "name": "stderr",
          "output_type": "stream",
          "text": [
            "\rExtracting features:  67%|██████▋   | 1256/1888 [37:24<22:49,  2.17s/it]"
          ]
        },
        {
          "name": "stdout",
          "output_type": "stream",
          "text": [
            "Saved: pull_0076, seq_len=40\n"
          ]
        },
        {
          "name": "stderr",
          "output_type": "stream",
          "text": [
            "\rExtracting features:  67%|██████▋   | 1257/1888 [37:25<21:40,  2.06s/it]"
          ]
        },
        {
          "name": "stdout",
          "output_type": "stream",
          "text": [
            "Saved: pull_0080, seq_len=40\n"
          ]
        },
        {
          "name": "stderr",
          "output_type": "stream",
          "text": [
            "\rExtracting features:  67%|██████▋   | 1258/1888 [37:27<21:36,  2.06s/it]"
          ]
        },
        {
          "name": "stdout",
          "output_type": "stream",
          "text": [
            "Saved: pull_0088, seq_len=40\n"
          ]
        },
        {
          "name": "stderr",
          "output_type": "stream",
          "text": [
            "\rExtracting features:  67%|██████▋   | 1259/1888 [37:29<20:49,  1.99s/it]"
          ]
        },
        {
          "name": "stdout",
          "output_type": "stream",
          "text": [
            "Saved: pull_0092, seq_len=40\n"
          ]
        },
        {
          "name": "stderr",
          "output_type": "stream",
          "text": [
            "\rExtracting features:  67%|██████▋   | 1260/1888 [37:32<24:35,  2.35s/it]"
          ]
        },
        {
          "name": "stdout",
          "output_type": "stream",
          "text": [
            "Saved: pull_0079, seq_len=40\n"
          ]
        },
        {
          "name": "stderr",
          "output_type": "stream",
          "text": [
            "\rExtracting features:  67%|██████▋   | 1261/1888 [37:35<24:50,  2.38s/it]"
          ]
        },
        {
          "name": "stdout",
          "output_type": "stream",
          "text": [
            "Saved: pull_0013, seq_len=40\n"
          ]
        },
        {
          "name": "stderr",
          "output_type": "stream",
          "text": [
            "\rExtracting features:  67%|██████▋   | 1262/1888 [37:37<25:19,  2.43s/it]"
          ]
        },
        {
          "name": "stdout",
          "output_type": "stream",
          "text": [
            "Saved: pull_0071, seq_len=40\n"
          ]
        },
        {
          "name": "stderr",
          "output_type": "stream",
          "text": [
            "\rExtracting features:  67%|██████▋   | 1263/1888 [37:39<23:23,  2.25s/it]"
          ]
        },
        {
          "name": "stdout",
          "output_type": "stream",
          "text": [
            "Saved: pull_0063, seq_len=40\n"
          ]
        },
        {
          "name": "stderr",
          "output_type": "stream",
          "text": [
            "\rExtracting features:  67%|██████▋   | 1264/1888 [37:41<20:13,  1.94s/it]"
          ]
        },
        {
          "name": "stdout",
          "output_type": "stream",
          "text": [
            "Saved: pull_0100, seq_len=40\n"
          ]
        },
        {
          "name": "stderr",
          "output_type": "stream",
          "text": [
            "\rExtracting features:  67%|██████▋   | 1265/1888 [37:43<20:36,  1.98s/it]"
          ]
        },
        {
          "name": "stdout",
          "output_type": "stream",
          "text": [
            "Saved: pull_0069, seq_len=40\n"
          ]
        },
        {
          "name": "stderr",
          "output_type": "stream",
          "text": [
            "\rExtracting features:  67%|██████▋   | 1266/1888 [37:45<20:43,  2.00s/it]"
          ]
        },
        {
          "name": "stdout",
          "output_type": "stream",
          "text": [
            "Saved: pull_0049, seq_len=40\n"
          ]
        },
        {
          "name": "stderr",
          "output_type": "stream",
          "text": [
            "\rExtracting features:  67%|██████▋   | 1267/1888 [37:46<18:18,  1.77s/it]"
          ]
        },
        {
          "name": "stdout",
          "output_type": "stream",
          "text": [
            "Saved: pull_0062, seq_len=40\n"
          ]
        },
        {
          "name": "stderr",
          "output_type": "stream",
          "text": [
            "\rExtracting features:  67%|██████▋   | 1268/1888 [37:48<18:15,  1.77s/it]"
          ]
        },
        {
          "name": "stdout",
          "output_type": "stream",
          "text": [
            "Saved: pull_0018, seq_len=40\n"
          ]
        },
        {
          "name": "stderr",
          "output_type": "stream",
          "text": [
            "\rExtracting features:  67%|██████▋   | 1269/1888 [37:49<16:40,  1.62s/it]"
          ]
        },
        {
          "name": "stdout",
          "output_type": "stream",
          "text": [
            "Saved: pull_0089, seq_len=40\n"
          ]
        },
        {
          "name": "stderr",
          "output_type": "stream",
          "text": [
            "\rExtracting features:  67%|██████▋   | 1270/1888 [37:51<17:05,  1.66s/it]"
          ]
        },
        {
          "name": "stdout",
          "output_type": "stream",
          "text": [
            "Saved: pull_0059, seq_len=40\n"
          ]
        },
        {
          "name": "stderr",
          "output_type": "stream",
          "text": [
            "\rExtracting features:  67%|██████▋   | 1271/1888 [37:52<16:44,  1.63s/it]"
          ]
        },
        {
          "name": "stdout",
          "output_type": "stream",
          "text": [
            "Saved: pull_0139, seq_len=40\n"
          ]
        },
        {
          "name": "stderr",
          "output_type": "stream",
          "text": [
            "\rExtracting features:  67%|██████▋   | 1272/1888 [37:53<15:15,  1.49s/it]"
          ]
        },
        {
          "name": "stdout",
          "output_type": "stream",
          "text": [
            "Saved: pull_0090, seq_len=40\n"
          ]
        },
        {
          "name": "stderr",
          "output_type": "stream",
          "text": [
            "\rExtracting features:  67%|██████▋   | 1273/1888 [37:56<19:35,  1.91s/it]"
          ]
        },
        {
          "name": "stdout",
          "output_type": "stream",
          "text": [
            "Saved: pull_0060, seq_len=40\n"
          ]
        },
        {
          "name": "stderr",
          "output_type": "stream",
          "text": [
            "\rExtracting features:  67%|██████▋   | 1274/1888 [37:58<19:15,  1.88s/it]"
          ]
        },
        {
          "name": "stdout",
          "output_type": "stream",
          "text": [
            "Saved: pull_0002, seq_len=40\n"
          ]
        },
        {
          "name": "stderr",
          "output_type": "stream",
          "text": [
            "\rExtracting features:  68%|██████▊   | 1275/1888 [38:00<19:26,  1.90s/it]"
          ]
        },
        {
          "name": "stdout",
          "output_type": "stream",
          "text": [
            "Saved: pull_0070, seq_len=40\n"
          ]
        },
        {
          "name": "stderr",
          "output_type": "stream",
          "text": [
            "\rExtracting features:  68%|██████▊   | 1276/1888 [38:02<19:11,  1.88s/it]"
          ]
        },
        {
          "name": "stdout",
          "output_type": "stream",
          "text": [
            "Saved: pull_0061, seq_len=40\n"
          ]
        },
        {
          "name": "stderr",
          "output_type": "stream",
          "text": [
            "\rExtracting features:  68%|██████▊   | 1277/1888 [38:04<19:15,  1.89s/it]"
          ]
        },
        {
          "name": "stdout",
          "output_type": "stream",
          "text": [
            "Saved: pull_0068, seq_len=40\n"
          ]
        },
        {
          "name": "stderr",
          "output_type": "stream",
          "text": [
            "\rExtracting features:  68%|██████▊   | 1278/1888 [38:06<19:06,  1.88s/it]"
          ]
        },
        {
          "name": "stdout",
          "output_type": "stream",
          "text": [
            "Saved: pull_0010, seq_len=40\n"
          ]
        },
        {
          "name": "stderr",
          "output_type": "stream",
          "text": [
            "\rExtracting features:  68%|██████▊   | 1279/1888 [38:08<19:59,  1.97s/it]"
          ]
        },
        {
          "name": "stdout",
          "output_type": "stream",
          "text": [
            "Saved: pull_0065, seq_len=40\n"
          ]
        },
        {
          "name": "stderr",
          "output_type": "stream",
          "text": [
            "\rExtracting features:  68%|██████▊   | 1280/1888 [38:09<18:20,  1.81s/it]"
          ]
        },
        {
          "name": "stdout",
          "output_type": "stream",
          "text": [
            "Saved: pull_0006, seq_len=40\n"
          ]
        },
        {
          "name": "stderr",
          "output_type": "stream",
          "text": [
            "\rExtracting features:  68%|██████▊   | 1281/1888 [38:11<19:02,  1.88s/it]"
          ]
        },
        {
          "name": "stdout",
          "output_type": "stream",
          "text": [
            "Saved: pull_0015, seq_len=40\n"
          ]
        },
        {
          "name": "stderr",
          "output_type": "stream",
          "text": [
            "\rExtracting features:  68%|██████▊   | 1282/1888 [38:22<46:50,  4.64s/it]"
          ]
        },
        {
          "name": "stdout",
          "output_type": "stream",
          "text": [
            "Saved: pull_0134, seq_len=40\n"
          ]
        },
        {
          "name": "stderr",
          "output_type": "stream",
          "text": [
            "\rExtracting features:  68%|██████▊   | 1283/1888 [38:25<40:36,  4.03s/it]"
          ]
        },
        {
          "name": "stdout",
          "output_type": "stream",
          "text": [
            "Saved: pull_0166, seq_len=40\n"
          ]
        },
        {
          "name": "stderr",
          "output_type": "stream",
          "text": [
            "\rExtracting features:  68%|██████▊   | 1284/1888 [38:27<33:48,  3.36s/it]"
          ]
        },
        {
          "name": "stdout",
          "output_type": "stream",
          "text": [
            "Saved: pull_0019, seq_len=40\n"
          ]
        },
        {
          "name": "stderr",
          "output_type": "stream",
          "text": [
            "\rExtracting features:  68%|██████▊   | 1285/1888 [38:28<28:38,  2.85s/it]"
          ]
        },
        {
          "name": "stdout",
          "output_type": "stream",
          "text": [
            "Saved: pull_0064, seq_len=40\n"
          ]
        },
        {
          "name": "stderr",
          "output_type": "stream",
          "text": [
            "\rExtracting features:  68%|██████▊   | 1286/1888 [38:31<26:22,  2.63s/it]"
          ]
        },
        {
          "name": "stdout",
          "output_type": "stream",
          "text": [
            "Saved: pull_0001, seq_len=40\n"
          ]
        },
        {
          "name": "stderr",
          "output_type": "stream",
          "text": [
            "\rExtracting features:  68%|██████▊   | 1287/1888 [38:33<25:01,  2.50s/it]"
          ]
        },
        {
          "name": "stdout",
          "output_type": "stream",
          "text": [
            "Saved: pull_0055, seq_len=40\n"
          ]
        },
        {
          "name": "stderr",
          "output_type": "stream",
          "text": [
            "\rExtracting features:  68%|██████▊   | 1288/1888 [38:35<23:29,  2.35s/it]"
          ]
        },
        {
          "name": "stdout",
          "output_type": "stream",
          "text": [
            "Saved: pull_0050, seq_len=40\n"
          ]
        },
        {
          "name": "stderr",
          "output_type": "stream",
          "text": [
            "\rExtracting features:  68%|██████▊   | 1289/1888 [38:36<19:47,  1.98s/it]"
          ]
        },
        {
          "name": "stdout",
          "output_type": "stream",
          "text": [
            "Saved: pull_0072, seq_len=40\n"
          ]
        },
        {
          "name": "stderr",
          "output_type": "stream",
          "text": [
            "\rExtracting features:  68%|██████▊   | 1290/1888 [38:37<17:14,  1.73s/it]"
          ]
        },
        {
          "name": "stdout",
          "output_type": "stream",
          "text": [
            "Saved: pull_0007, seq_len=40\n"
          ]
        },
        {
          "name": "stderr",
          "output_type": "stream",
          "text": [
            "\rExtracting features:  68%|██████▊   | 1291/1888 [38:39<18:00,  1.81s/it]"
          ]
        },
        {
          "name": "stdout",
          "output_type": "stream",
          "text": [
            "Saved: pull_0056, seq_len=40\n"
          ]
        },
        {
          "name": "stderr",
          "output_type": "stream",
          "text": [
            "\rExtracting features:  68%|██████▊   | 1292/1888 [38:40<16:05,  1.62s/it]"
          ]
        },
        {
          "name": "stdout",
          "output_type": "stream",
          "text": [
            "Saved: pull_0017, seq_len=40\n"
          ]
        },
        {
          "name": "stderr",
          "output_type": "stream",
          "text": [
            "\rExtracting features:  68%|██████▊   | 1293/1888 [38:42<16:23,  1.65s/it]"
          ]
        },
        {
          "name": "stdout",
          "output_type": "stream",
          "text": [
            "Saved: pull_0005, seq_len=40\n"
          ]
        },
        {
          "name": "stderr",
          "output_type": "stream",
          "text": [
            "\rExtracting features:  69%|██████▊   | 1294/1888 [38:43<15:04,  1.52s/it]"
          ]
        },
        {
          "name": "stdout",
          "output_type": "stream",
          "text": [
            "Saved: pull_0075, seq_len=40\n"
          ]
        },
        {
          "name": "stderr",
          "output_type": "stream",
          "text": [
            "\rExtracting features:  69%|██████▊   | 1295/1888 [38:45<16:42,  1.69s/it]"
          ]
        },
        {
          "name": "stdout",
          "output_type": "stream",
          "text": [
            "Saved: pull_0008, seq_len=40\n"
          ]
        },
        {
          "name": "stderr",
          "output_type": "stream",
          "text": [
            "\rExtracting features:  69%|██████▊   | 1296/1888 [38:47<18:12,  1.85s/it]"
          ]
        },
        {
          "name": "stdout",
          "output_type": "stream",
          "text": [
            "Saved: pull_0087, seq_len=40\n"
          ]
        },
        {
          "name": "stderr",
          "output_type": "stream",
          "text": [
            "\rExtracting features:  69%|██████▊   | 1297/1888 [38:50<19:15,  1.95s/it]"
          ]
        },
        {
          "name": "stdout",
          "output_type": "stream",
          "text": [
            "Saved: pull_0014, seq_len=40\n"
          ]
        },
        {
          "name": "stderr",
          "output_type": "stream",
          "text": [
            "\rExtracting features:  69%|██████▉   | 1298/1888 [38:51<18:44,  1.91s/it]"
          ]
        },
        {
          "name": "stdout",
          "output_type": "stream",
          "text": [
            "Saved: pull_0012, seq_len=40\n"
          ]
        },
        {
          "name": "stderr",
          "output_type": "stream",
          "text": [
            "\rExtracting features:  69%|██████▉   | 1299/1888 [38:53<18:21,  1.87s/it]"
          ]
        },
        {
          "name": "stdout",
          "output_type": "stream",
          "text": [
            "Saved: pull_0122, seq_len=40\n"
          ]
        },
        {
          "name": "stderr",
          "output_type": "stream",
          "text": [
            "\rExtracting features:  69%|██████▉   | 1300/1888 [38:55<18:08,  1.85s/it]"
          ]
        },
        {
          "name": "stdout",
          "output_type": "stream",
          "text": [
            "Saved: pull_0150, seq_len=40\n"
          ]
        },
        {
          "name": "stderr",
          "output_type": "stream",
          "text": [
            "\rExtracting features:  69%|██████▉   | 1301/1888 [38:56<16:05,  1.65s/it]"
          ]
        },
        {
          "name": "stdout",
          "output_type": "stream",
          "text": [
            "Saved: pull_0135, seq_len=40\n"
          ]
        },
        {
          "name": "stderr",
          "output_type": "stream",
          "text": [
            "\rExtracting features:  69%|██████▉   | 1302/1888 [38:58<17:21,  1.78s/it]"
          ]
        },
        {
          "name": "stdout",
          "output_type": "stream",
          "text": [
            "Saved: pull_0004, seq_len=40\n"
          ]
        },
        {
          "name": "stderr",
          "output_type": "stream",
          "text": [
            "\rExtracting features:  69%|██████▉   | 1303/1888 [39:00<17:15,  1.77s/it]"
          ]
        },
        {
          "name": "stdout",
          "output_type": "stream",
          "text": [
            "Saved: pull_0066, seq_len=40\n"
          ]
        },
        {
          "name": "stderr",
          "output_type": "stream",
          "text": [
            "\rExtracting features:  69%|██████▉   | 1304/1888 [39:02<17:23,  1.79s/it]"
          ]
        },
        {
          "name": "stdout",
          "output_type": "stream",
          "text": [
            "Saved: pull_0003, seq_len=40\n"
          ]
        },
        {
          "name": "stderr",
          "output_type": "stream",
          "text": [
            "\rExtracting features:  69%|██████▉   | 1305/1888 [39:03<16:32,  1.70s/it]"
          ]
        },
        {
          "name": "stdout",
          "output_type": "stream",
          "text": [
            "Saved: pull_0179, seq_len=40\n"
          ]
        },
        {
          "name": "stderr",
          "output_type": "stream",
          "text": [
            "\rExtracting features:  69%|██████▉   | 1306/1888 [39:05<16:56,  1.75s/it]"
          ]
        },
        {
          "name": "stdout",
          "output_type": "stream",
          "text": [
            "Saved: pull_0137, seq_len=40\n"
          ]
        },
        {
          "name": "stderr",
          "output_type": "stream",
          "text": [
            "\rExtracting features:  69%|██████▉   | 1307/1888 [39:07<15:42,  1.62s/it]"
          ]
        },
        {
          "name": "stdout",
          "output_type": "stream",
          "text": [
            "Saved: pull_0011, seq_len=40\n"
          ]
        },
        {
          "name": "stderr",
          "output_type": "stream",
          "text": [
            "\rExtracting features:  69%|██████▉   | 1308/1888 [39:09<17:04,  1.77s/it]"
          ]
        },
        {
          "name": "stdout",
          "output_type": "stream",
          "text": [
            "Saved: pull_0016, seq_len=40\n"
          ]
        },
        {
          "name": "stderr",
          "output_type": "stream",
          "text": [
            "\rExtracting features:  69%|██████▉   | 1309/1888 [39:10<16:28,  1.71s/it]"
          ]
        },
        {
          "name": "stdout",
          "output_type": "stream",
          "text": [
            "Saved: pull_0096, seq_len=40\n"
          ]
        },
        {
          "name": "stderr",
          "output_type": "stream",
          "text": [
            "\rExtracting features:  69%|██████▉   | 1310/1888 [39:12<17:09,  1.78s/it]"
          ]
        },
        {
          "name": "stdout",
          "output_type": "stream",
          "text": [
            "Saved: pull_0009, seq_len=40\n"
          ]
        },
        {
          "name": "stderr",
          "output_type": "stream",
          "text": [
            "\rExtracting features:  69%|██████▉   | 1311/1888 [39:13<15:38,  1.63s/it]"
          ]
        },
        {
          "name": "stdout",
          "output_type": "stream",
          "text": [
            "Saved: pull_0133, seq_len=40\n"
          ]
        },
        {
          "name": "stderr",
          "output_type": "stream",
          "text": [
            "\rExtracting features:  69%|██████▉   | 1312/1888 [39:15<16:06,  1.68s/it]"
          ]
        },
        {
          "name": "stdout",
          "output_type": "stream",
          "text": [
            "Saved: pull_0030, seq_len=40\n"
          ]
        },
        {
          "name": "stderr",
          "output_type": "stream",
          "text": [
            "\rExtracting features:  70%|██████▉   | 1313/1888 [39:17<16:13,  1.69s/it]"
          ]
        },
        {
          "name": "stdout",
          "output_type": "stream",
          "text": [
            "Saved: pull_0097, seq_len=40\n"
          ]
        },
        {
          "name": "stderr",
          "output_type": "stream",
          "text": [
            "\rExtracting features:  70%|██████▉   | 1314/1888 [39:18<14:54,  1.56s/it]"
          ]
        },
        {
          "name": "stdout",
          "output_type": "stream",
          "text": [
            "Saved: pull_0058, seq_len=40\n"
          ]
        },
        {
          "name": "stderr",
          "output_type": "stream",
          "text": [
            "\rExtracting features:  70%|██████▉   | 1315/1888 [39:20<16:03,  1.68s/it]"
          ]
        },
        {
          "name": "stdout",
          "output_type": "stream",
          "text": [
            "Saved: pull_0086, seq_len=40\n"
          ]
        },
        {
          "name": "stderr",
          "output_type": "stream",
          "text": [
            "\rExtracting features:  70%|██████▉   | 1316/1888 [39:21<14:49,  1.55s/it]"
          ]
        },
        {
          "name": "stdout",
          "output_type": "stream",
          "text": [
            "Saved: pull_0098, seq_len=40\n"
          ]
        },
        {
          "name": "stderr",
          "output_type": "stream",
          "text": [
            "\rExtracting features:  70%|██████▉   | 1317/1888 [39:24<18:10,  1.91s/it]"
          ]
        },
        {
          "name": "stdout",
          "output_type": "stream",
          "text": [
            "Saved: pull_0085, seq_len=40\n"
          ]
        },
        {
          "name": "stderr",
          "output_type": "stream",
          "text": [
            "\rExtracting features:  70%|██████▉   | 1318/1888 [39:25<16:02,  1.69s/it]"
          ]
        },
        {
          "name": "stdout",
          "output_type": "stream",
          "text": [
            "Saved: pull_0144, seq_len=40\n"
          ]
        },
        {
          "name": "stderr",
          "output_type": "stream",
          "text": [
            "\rExtracting features:  70%|██████▉   | 1319/1888 [39:27<16:28,  1.74s/it]"
          ]
        },
        {
          "name": "stdout",
          "output_type": "stream",
          "text": [
            "Saved: pull_0048, seq_len=40\n"
          ]
        },
        {
          "name": "stderr",
          "output_type": "stream",
          "text": [
            "\rExtracting features:  70%|██████▉   | 1320/1888 [39:29<17:39,  1.87s/it]"
          ]
        },
        {
          "name": "stdout",
          "output_type": "stream",
          "text": [
            "Saved: pull_0084, seq_len=40\n"
          ]
        },
        {
          "name": "stderr",
          "output_type": "stream",
          "text": [
            "\rExtracting features:  70%|██████▉   | 1321/1888 [39:31<17:10,  1.82s/it]"
          ]
        },
        {
          "name": "stdout",
          "output_type": "stream",
          "text": [
            "Saved: hook_0174, seq_len=40\n"
          ]
        },
        {
          "name": "stderr",
          "output_type": "stream",
          "text": [
            "\rExtracting features:  70%|███████   | 1322/1888 [39:32<15:04,  1.60s/it]"
          ]
        },
        {
          "name": "stdout",
          "output_type": "stream",
          "text": [
            "Saved: hook_0176, seq_len=40\n"
          ]
        },
        {
          "name": "stderr",
          "output_type": "stream",
          "text": [
            "\rExtracting features:  70%|███████   | 1323/1888 [39:34<15:26,  1.64s/it]"
          ]
        },
        {
          "name": "stdout",
          "output_type": "stream",
          "text": [
            "Saved: hook_0170, seq_len=40\n"
          ]
        },
        {
          "name": "stderr",
          "output_type": "stream",
          "text": [
            "\rExtracting features:  70%|███████   | 1324/1888 [39:41<31:12,  3.32s/it]"
          ]
        },
        {
          "name": "stdout",
          "output_type": "stream",
          "text": [
            "Saved: hook_0172, seq_len=40\n"
          ]
        },
        {
          "name": "stderr",
          "output_type": "stream",
          "text": [
            "\rExtracting features:  70%|███████   | 1325/1888 [39:43<27:50,  2.97s/it]"
          ]
        },
        {
          "name": "stdout",
          "output_type": "stream",
          "text": [
            "Saved: hook_0175, seq_len=40\n"
          ]
        },
        {
          "name": "stderr",
          "output_type": "stream",
          "text": [
            "\rExtracting features:  70%|███████   | 1326/1888 [39:45<24:24,  2.61s/it]"
          ]
        },
        {
          "name": "stdout",
          "output_type": "stream",
          "text": [
            "Saved: hook_0169, seq_len=40\n"
          ]
        },
        {
          "name": "stderr",
          "output_type": "stream",
          "text": [
            "\rExtracting features:  70%|███████   | 1327/1888 [39:46<20:19,  2.17s/it]"
          ]
        },
        {
          "name": "stdout",
          "output_type": "stream",
          "text": [
            "Saved: hook_0173, seq_len=40\n"
          ]
        },
        {
          "name": "stderr",
          "output_type": "stream",
          "text": [
            "\rExtracting features:  70%|███████   | 1328/1888 [39:48<19:17,  2.07s/it]"
          ]
        },
        {
          "name": "stdout",
          "output_type": "stream",
          "text": [
            "Saved: hook_0171, seq_len=40\n"
          ]
        },
        {
          "name": "stderr",
          "output_type": "stream",
          "text": [
            "\rExtracting features:  70%|███████   | 1329/1888 [39:49<17:12,  1.85s/it]"
          ]
        },
        {
          "name": "stdout",
          "output_type": "stream",
          "text": [
            "Saved: hook_0164, seq_len=40\n"
          ]
        },
        {
          "name": "stderr",
          "output_type": "stream",
          "text": [
            "\rExtracting features:  70%|███████   | 1330/1888 [39:51<15:33,  1.67s/it]"
          ]
        },
        {
          "name": "stdout",
          "output_type": "stream",
          "text": [
            "Saved: hook_0168, seq_len=40\n"
          ]
        },
        {
          "name": "stderr",
          "output_type": "stream",
          "text": [
            "\rExtracting features:  70%|███████   | 1331/1888 [39:52<15:31,  1.67s/it]"
          ]
        },
        {
          "name": "stdout",
          "output_type": "stream",
          "text": [
            "Saved: hook_0101, seq_len=40\n"
          ]
        },
        {
          "name": "stderr",
          "output_type": "stream",
          "text": [
            "\rExtracting features:  71%|███████   | 1332/1888 [39:56<20:55,  2.26s/it]"
          ]
        },
        {
          "name": "stdout",
          "output_type": "stream",
          "text": [
            "Saved: hook_0096, seq_len=40\n"
          ]
        },
        {
          "name": "stderr",
          "output_type": "stream",
          "text": [
            "\rExtracting features:  71%|███████   | 1333/1888 [39:58<20:21,  2.20s/it]"
          ]
        },
        {
          "name": "stdout",
          "output_type": "stream",
          "text": [
            "Saved: hook_0167, seq_len=40\n"
          ]
        },
        {
          "name": "stderr",
          "output_type": "stream",
          "text": [
            "\rExtracting features:  71%|███████   | 1334/1888 [40:01<22:16,  2.41s/it]"
          ]
        },
        {
          "name": "stdout",
          "output_type": "stream",
          "text": [
            "Saved: hook_0166, seq_len=40\n"
          ]
        },
        {
          "name": "stderr",
          "output_type": "stream",
          "text": [
            "\rExtracting features:  71%|███████   | 1335/1888 [40:03<20:45,  2.25s/it]"
          ]
        },
        {
          "name": "stdout",
          "output_type": "stream",
          "text": [
            "Saved: hook_0139, seq_len=40\n"
          ]
        },
        {
          "name": "stderr",
          "output_type": "stream",
          "text": [
            "\rExtracting features:  71%|███████   | 1336/1888 [40:05<19:32,  2.12s/it]"
          ]
        },
        {
          "name": "stdout",
          "output_type": "stream",
          "text": [
            "Saved: hook_0160, seq_len=40\n"
          ]
        },
        {
          "name": "stderr",
          "output_type": "stream",
          "text": [
            "\rExtracting features:  71%|███████   | 1337/1888 [40:06<16:58,  1.85s/it]"
          ]
        },
        {
          "name": "stdout",
          "output_type": "stream",
          "text": [
            "Saved: hook_0097, seq_len=40\n"
          ]
        },
        {
          "name": "stderr",
          "output_type": "stream",
          "text": [
            "\rExtracting features:  71%|███████   | 1338/1888 [40:08<16:39,  1.82s/it]"
          ]
        },
        {
          "name": "stdout",
          "output_type": "stream",
          "text": [
            "Saved: hook_0165, seq_len=40\n"
          ]
        },
        {
          "name": "stderr",
          "output_type": "stream",
          "text": [
            "\rExtracting features:  71%|███████   | 1339/1888 [40:09<14:51,  1.62s/it]"
          ]
        },
        {
          "name": "stdout",
          "output_type": "stream",
          "text": [
            "Saved: hook_0098, seq_len=40\n"
          ]
        },
        {
          "name": "stderr",
          "output_type": "stream",
          "text": [
            "\rExtracting features:  71%|███████   | 1340/1888 [40:10<13:25,  1.47s/it]"
          ]
        },
        {
          "name": "stdout",
          "output_type": "stream",
          "text": [
            "Saved: hook_0090, seq_len=40\n"
          ]
        },
        {
          "name": "stderr",
          "output_type": "stream",
          "text": [
            "\rExtracting features:  71%|███████   | 1341/1888 [40:12<14:16,  1.57s/it]"
          ]
        },
        {
          "name": "stdout",
          "output_type": "stream",
          "text": [
            "Saved: hook_0138, seq_len=40\n"
          ]
        },
        {
          "name": "stderr",
          "output_type": "stream",
          "text": [
            "\rExtracting features:  71%|███████   | 1342/1888 [40:13<15:04,  1.66s/it]"
          ]
        },
        {
          "name": "stdout",
          "output_type": "stream",
          "text": [
            "Saved: hook_0130, seq_len=40\n"
          ]
        },
        {
          "name": "stderr",
          "output_type": "stream",
          "text": [
            "\rExtracting features:  71%|███████   | 1343/1888 [40:15<15:02,  1.66s/it]"
          ]
        },
        {
          "name": "stdout",
          "output_type": "stream",
          "text": [
            "Saved: hook_0089, seq_len=40\n"
          ]
        },
        {
          "name": "stderr",
          "output_type": "stream",
          "text": [
            "\rExtracting features:  71%|███████   | 1344/1888 [40:16<13:40,  1.51s/it]"
          ]
        },
        {
          "name": "stdout",
          "output_type": "stream",
          "text": [
            "Saved: hook_0092, seq_len=40\n"
          ]
        },
        {
          "name": "stderr",
          "output_type": "stream",
          "text": [
            "\rExtracting features:  71%|███████   | 1345/1888 [40:18<14:39,  1.62s/it]"
          ]
        },
        {
          "name": "stdout",
          "output_type": "stream",
          "text": [
            "Saved: hook_0162, seq_len=40\n"
          ]
        },
        {
          "name": "stderr",
          "output_type": "stream",
          "text": [
            "\rExtracting features:  71%|███████▏  | 1346/1888 [40:20<15:09,  1.68s/it]"
          ]
        },
        {
          "name": "stdout",
          "output_type": "stream",
          "text": [
            "Saved: hook_0161, seq_len=40\n"
          ]
        },
        {
          "name": "stderr",
          "output_type": "stream",
          "text": [
            "\rExtracting features:  71%|███████▏  | 1347/1888 [40:22<15:20,  1.70s/it]"
          ]
        },
        {
          "name": "stdout",
          "output_type": "stream",
          "text": [
            "Saved: hook_0100, seq_len=40\n"
          ]
        },
        {
          "name": "stderr",
          "output_type": "stream",
          "text": [
            "\rExtracting features:  71%|███████▏  | 1348/1888 [40:23<14:59,  1.67s/it]"
          ]
        },
        {
          "name": "stdout",
          "output_type": "stream",
          "text": [
            "Saved: hook_0154, seq_len=40\n"
          ]
        },
        {
          "name": "stderr",
          "output_type": "stream",
          "text": [
            "\rExtracting features:  71%|███████▏  | 1349/1888 [40:25<14:43,  1.64s/it]"
          ]
        },
        {
          "name": "stdout",
          "output_type": "stream",
          "text": [
            "Saved: hook_0163, seq_len=40\n"
          ]
        },
        {
          "name": "stderr",
          "output_type": "stream",
          "text": [
            "\rExtracting features:  72%|███████▏  | 1350/1888 [40:26<14:05,  1.57s/it]"
          ]
        },
        {
          "name": "stdout",
          "output_type": "stream",
          "text": [
            "Saved: hook_0150, seq_len=40\n"
          ]
        },
        {
          "name": "stderr",
          "output_type": "stream",
          "text": [
            "\rExtracting features:  72%|███████▏  | 1351/1888 [40:28<14:21,  1.60s/it]"
          ]
        },
        {
          "name": "stdout",
          "output_type": "stream",
          "text": [
            "Saved: hook_0091, seq_len=40\n"
          ]
        },
        {
          "name": "stderr",
          "output_type": "stream",
          "text": [
            "\rExtracting features:  72%|███████▏  | 1352/1888 [40:29<13:38,  1.53s/it]"
          ]
        },
        {
          "name": "stdout",
          "output_type": "stream",
          "text": [
            "Saved: hook_0094, seq_len=40\n"
          ]
        },
        {
          "name": "stderr",
          "output_type": "stream",
          "text": [
            "\rExtracting features:  72%|███████▏  | 1353/1888 [40:31<14:32,  1.63s/it]"
          ]
        },
        {
          "name": "stdout",
          "output_type": "stream",
          "text": [
            "Saved: hook_0087, seq_len=40\n"
          ]
        },
        {
          "name": "stderr",
          "output_type": "stream",
          "text": [
            "\rExtracting features:  72%|███████▏  | 1354/1888 [40:32<13:24,  1.51s/it]"
          ]
        },
        {
          "name": "stdout",
          "output_type": "stream",
          "text": [
            "Saved: hook_0088, seq_len=40\n"
          ]
        },
        {
          "name": "stderr",
          "output_type": "stream",
          "text": [
            "\rExtracting features:  72%|███████▏  | 1355/1888 [40:34<12:39,  1.42s/it]"
          ]
        },
        {
          "name": "stdout",
          "output_type": "stream",
          "text": [
            "Saved: hook_0152, seq_len=40\n"
          ]
        },
        {
          "name": "stderr",
          "output_type": "stream",
          "text": [
            "\rExtracting features:  72%|███████▏  | 1356/1888 [40:36<14:35,  1.65s/it]"
          ]
        },
        {
          "name": "stdout",
          "output_type": "stream",
          "text": [
            "Saved: hook_0149, seq_len=40\n"
          ]
        },
        {
          "name": "stderr",
          "output_type": "stream",
          "text": [
            "\rExtracting features:  72%|███████▏  | 1357/1888 [40:37<13:55,  1.57s/it]"
          ]
        },
        {
          "name": "stdout",
          "output_type": "stream",
          "text": [
            "Saved: hook_0153, seq_len=40\n"
          ]
        },
        {
          "name": "stderr",
          "output_type": "stream",
          "text": [
            "\rExtracting features:  72%|███████▏  | 1358/1888 [40:39<14:01,  1.59s/it]"
          ]
        },
        {
          "name": "stdout",
          "output_type": "stream",
          "text": [
            "Saved: hook_0151, seq_len=40\n"
          ]
        },
        {
          "name": "stderr",
          "output_type": "stream",
          "text": [
            "\rExtracting features:  72%|███████▏  | 1359/1888 [40:41<14:16,  1.62s/it]"
          ]
        },
        {
          "name": "stdout",
          "output_type": "stream",
          "text": [
            "Saved: hook_0020, seq_len=40\n"
          ]
        },
        {
          "name": "stderr",
          "output_type": "stream",
          "text": [
            "\rExtracting features:  72%|███████▏  | 1360/1888 [40:43<16:38,  1.89s/it]"
          ]
        },
        {
          "name": "stdout",
          "output_type": "stream",
          "text": [
            "Saved: hook_0013, seq_len=40\n"
          ]
        },
        {
          "name": "stderr",
          "output_type": "stream",
          "text": [
            "\rExtracting features:  72%|███████▏  | 1361/1888 [40:44<14:39,  1.67s/it]"
          ]
        },
        {
          "name": "stdout",
          "output_type": "stream",
          "text": [
            "Saved: hook_0017, seq_len=40\n"
          ]
        },
        {
          "name": "stderr",
          "output_type": "stream",
          "text": [
            "\rExtracting features:  72%|███████▏  | 1362/1888 [40:45<13:17,  1.52s/it]"
          ]
        },
        {
          "name": "stdout",
          "output_type": "stream",
          "text": [
            "Saved: hook_0014, seq_len=40\n"
          ]
        },
        {
          "name": "stderr",
          "output_type": "stream",
          "text": [
            "\rExtracting features:  72%|███████▏  | 1363/1888 [40:47<12:41,  1.45s/it]"
          ]
        },
        {
          "name": "stdout",
          "output_type": "stream",
          "text": [
            "Saved: hook_0015, seq_len=40\n"
          ]
        },
        {
          "name": "stderr",
          "output_type": "stream",
          "text": [
            "\rExtracting features:  72%|███████▏  | 1364/1888 [40:48<12:57,  1.48s/it]"
          ]
        },
        {
          "name": "stdout",
          "output_type": "stream",
          "text": [
            "Saved: hook_0080, seq_len=40\n"
          ]
        },
        {
          "name": "stderr",
          "output_type": "stream",
          "text": [
            "\rExtracting features:  72%|███████▏  | 1365/1888 [40:50<14:17,  1.64s/it]"
          ]
        },
        {
          "name": "stdout",
          "output_type": "stream",
          "text": [
            "Saved: hook_0012, seq_len=40\n"
          ]
        },
        {
          "name": "stderr",
          "output_type": "stream",
          "text": [
            "\rExtracting features:  72%|███████▏  | 1366/1888 [40:52<13:38,  1.57s/it]"
          ]
        },
        {
          "name": "stdout",
          "output_type": "stream",
          "text": [
            "Saved: hook_0081, seq_len=40\n"
          ]
        },
        {
          "name": "stderr",
          "output_type": "stream",
          "text": [
            "\rExtracting features:  72%|███████▏  | 1367/1888 [40:53<12:24,  1.43s/it]"
          ]
        },
        {
          "name": "stdout",
          "output_type": "stream",
          "text": [
            "Saved: hook_0016, seq_len=40\n"
          ]
        },
        {
          "name": "stderr",
          "output_type": "stream",
          "text": [
            "\rExtracting features:  72%|███████▏  | 1368/1888 [40:54<11:49,  1.36s/it]"
          ]
        },
        {
          "name": "stdout",
          "output_type": "stream",
          "text": [
            "Saved: hook_0086, seq_len=40\n"
          ]
        },
        {
          "name": "stderr",
          "output_type": "stream",
          "text": [
            "\rExtracting features:  73%|███████▎  | 1369/1888 [40:56<12:43,  1.47s/it]"
          ]
        },
        {
          "name": "stdout",
          "output_type": "stream",
          "text": [
            "Saved: hook_0021, seq_len=40\n"
          ]
        },
        {
          "name": "stderr",
          "output_type": "stream",
          "text": [
            "\rExtracting features:  73%|███████▎  | 1370/1888 [40:57<13:18,  1.54s/it]"
          ]
        },
        {
          "name": "stdout",
          "output_type": "stream",
          "text": [
            "Saved: hook_0079, seq_len=40\n"
          ]
        },
        {
          "name": "stderr",
          "output_type": "stream",
          "text": [
            "\rExtracting features:  73%|███████▎  | 1371/1888 [40:59<14:04,  1.63s/it]"
          ]
        },
        {
          "name": "stdout",
          "output_type": "stream",
          "text": [
            "Saved: hook_0179, seq_len=40\n"
          ]
        },
        {
          "name": "stderr",
          "output_type": "stream",
          "text": [
            "\rExtracting features:  73%|███████▎  | 1372/1888 [41:01<15:38,  1.82s/it]"
          ]
        },
        {
          "name": "stdout",
          "output_type": "stream",
          "text": [
            "Saved: hook_0006, seq_len=40\n"
          ]
        },
        {
          "name": "stderr",
          "output_type": "stream",
          "text": [
            "\rExtracting features:  73%|███████▎  | 1373/1888 [41:04<16:37,  1.94s/it]"
          ]
        },
        {
          "name": "stdout",
          "output_type": "stream",
          "text": [
            "Saved: hook_0099, seq_len=40\n"
          ]
        },
        {
          "name": "stderr",
          "output_type": "stream",
          "text": [
            "\rExtracting features:  73%|███████▎  | 1374/1888 [41:07<19:29,  2.28s/it]"
          ]
        },
        {
          "name": "stdout",
          "output_type": "stream",
          "text": [
            "Saved: hook_0004, seq_len=40\n"
          ]
        },
        {
          "name": "stderr",
          "output_type": "stream",
          "text": [
            "\rExtracting features:  73%|███████▎  | 1375/1888 [41:09<19:06,  2.24s/it]"
          ]
        },
        {
          "name": "stdout",
          "output_type": "stream",
          "text": [
            "Saved: hook_0005, seq_len=40\n"
          ]
        },
        {
          "name": "stderr",
          "output_type": "stream",
          "text": [
            "\rExtracting features:  73%|███████▎  | 1376/1888 [41:11<19:15,  2.26s/it]"
          ]
        },
        {
          "name": "stdout",
          "output_type": "stream",
          "text": [
            "Saved: hook_0008, seq_len=40\n"
          ]
        },
        {
          "name": "stderr",
          "output_type": "stream",
          "text": [
            "\rExtracting features:  73%|███████▎  | 1377/1888 [41:13<18:02,  2.12s/it]"
          ]
        },
        {
          "name": "stdout",
          "output_type": "stream",
          "text": [
            "Saved: hook_0093, seq_len=40\n"
          ]
        },
        {
          "name": "stderr",
          "output_type": "stream",
          "text": [
            "\rExtracting features:  73%|███████▎  | 1378/1888 [41:15<17:11,  2.02s/it]"
          ]
        },
        {
          "name": "stdout",
          "output_type": "stream",
          "text": [
            "Saved: hook_0009, seq_len=40\n"
          ]
        },
        {
          "name": "stderr",
          "output_type": "stream",
          "text": [
            "\rExtracting features:  73%|███████▎  | 1379/1888 [41:16<15:48,  1.86s/it]"
          ]
        },
        {
          "name": "stdout",
          "output_type": "stream",
          "text": [
            "Saved: hook_0178, seq_len=40\n"
          ]
        },
        {
          "name": "stderr",
          "output_type": "stream",
          "text": [
            "\rExtracting features:  73%|███████▎  | 1380/1888 [41:18<15:21,  1.81s/it]"
          ]
        },
        {
          "name": "stdout",
          "output_type": "stream",
          "text": [
            "Saved: hook_0155, seq_len=40\n"
          ]
        },
        {
          "name": "stderr",
          "output_type": "stream",
          "text": [
            "\rExtracting features:  73%|███████▎  | 1381/1888 [41:20<15:26,  1.83s/it]"
          ]
        },
        {
          "name": "stdout",
          "output_type": "stream",
          "text": [
            "Saved: hook_0128, seq_len=40\n"
          ]
        },
        {
          "name": "stderr",
          "output_type": "stream",
          "text": [
            "\rExtracting features:  73%|███████▎  | 1382/1888 [41:22<17:24,  2.06s/it]"
          ]
        },
        {
          "name": "stdout",
          "output_type": "stream",
          "text": [
            "Saved: hook_0141, seq_len=40\n"
          ]
        },
        {
          "name": "stderr",
          "output_type": "stream",
          "text": [
            "\rExtracting features:  73%|███████▎  | 1383/1888 [41:24<16:50,  2.00s/it]"
          ]
        },
        {
          "name": "stdout",
          "output_type": "stream",
          "text": [
            "Saved: hook_0078, seq_len=40\n"
          ]
        },
        {
          "name": "stderr",
          "output_type": "stream",
          "text": [
            "\rExtracting features:  73%|███████▎  | 1384/1888 [41:27<17:26,  2.08s/it]"
          ]
        },
        {
          "name": "stdout",
          "output_type": "stream",
          "text": [
            "Saved: hook_0177, seq_len=40\n"
          ]
        },
        {
          "name": "stderr",
          "output_type": "stream",
          "text": [
            "\rExtracting features:  73%|███████▎  | 1385/1888 [41:28<15:47,  1.88s/it]"
          ]
        },
        {
          "name": "stdout",
          "output_type": "stream",
          "text": [
            "Saved: hook_0142, seq_len=40\n"
          ]
        },
        {
          "name": "stderr",
          "output_type": "stream",
          "text": [
            "\rExtracting features:  73%|███████▎  | 1386/1888 [41:30<16:13,  1.94s/it]"
          ]
        },
        {
          "name": "stdout",
          "output_type": "stream",
          "text": [
            "Saved: hook_0158, seq_len=40\n"
          ]
        },
        {
          "name": "stderr",
          "output_type": "stream",
          "text": [
            "\rExtracting features:  73%|███████▎  | 1387/1888 [41:32<16:14,  1.94s/it]"
          ]
        },
        {
          "name": "stdout",
          "output_type": "stream",
          "text": [
            "Saved: hook_0146, seq_len=40\n"
          ]
        },
        {
          "name": "stderr",
          "output_type": "stream",
          "text": [
            "\rExtracting features:  74%|███████▎  | 1388/1888 [41:34<15:26,  1.85s/it]"
          ]
        },
        {
          "name": "stdout",
          "output_type": "stream",
          "text": [
            "Saved: hook_0077, seq_len=40\n"
          ]
        },
        {
          "name": "stderr",
          "output_type": "stream",
          "text": [
            "\rExtracting features:  74%|███████▎  | 1389/1888 [41:35<14:10,  1.70s/it]"
          ]
        },
        {
          "name": "stdout",
          "output_type": "stream",
          "text": [
            "Saved: hook_0157, seq_len=40\n"
          ]
        },
        {
          "name": "stderr",
          "output_type": "stream",
          "text": [
            "\rExtracting features:  74%|███████▎  | 1390/1888 [41:36<12:39,  1.52s/it]"
          ]
        },
        {
          "name": "stdout",
          "output_type": "stream",
          "text": [
            "Saved: hook_0126, seq_len=40\n"
          ]
        },
        {
          "name": "stderr",
          "output_type": "stream",
          "text": [
            "\rExtracting features:  74%|███████▎  | 1391/1888 [41:38<13:25,  1.62s/it]"
          ]
        },
        {
          "name": "stdout",
          "output_type": "stream",
          "text": [
            "Saved: hook_0133, seq_len=40\n"
          ]
        },
        {
          "name": "stderr",
          "output_type": "stream",
          "text": [
            "\rExtracting features:  74%|███████▎  | 1392/1888 [41:39<12:21,  1.49s/it]"
          ]
        },
        {
          "name": "stdout",
          "output_type": "stream",
          "text": [
            "Saved: hook_0147, seq_len=40\n"
          ]
        },
        {
          "name": "stderr",
          "output_type": "stream",
          "text": [
            "\rExtracting features:  74%|███████▍  | 1393/1888 [41:41<13:39,  1.65s/it]"
          ]
        },
        {
          "name": "stdout",
          "output_type": "stream",
          "text": [
            "Saved: hook_0131, seq_len=40\n"
          ]
        },
        {
          "name": "stderr",
          "output_type": "stream",
          "text": [
            "\rExtracting features:  74%|███████▍  | 1394/1888 [41:43<12:59,  1.58s/it]"
          ]
        },
        {
          "name": "stdout",
          "output_type": "stream",
          "text": [
            "Saved: hook_0120, seq_len=40\n"
          ]
        },
        {
          "name": "stderr",
          "output_type": "stream",
          "text": [
            "\rExtracting features:  74%|███████▍  | 1395/1888 [41:44<12:09,  1.48s/it]"
          ]
        },
        {
          "name": "stdout",
          "output_type": "stream",
          "text": [
            "Saved: hook_0137, seq_len=40\n"
          ]
        },
        {
          "name": "stderr",
          "output_type": "stream",
          "text": [
            "\rExtracting features:  74%|███████▍  | 1396/1888 [41:45<11:19,  1.38s/it]"
          ]
        },
        {
          "name": "stdout",
          "output_type": "stream",
          "text": [
            "Saved: hook_0125, seq_len=40\n"
          ]
        },
        {
          "name": "stderr",
          "output_type": "stream",
          "text": [
            "\rExtracting features:  74%|███████▍  | 1397/1888 [41:47<12:32,  1.53s/it]"
          ]
        },
        {
          "name": "stdout",
          "output_type": "stream",
          "text": [
            "Saved: hook_0003, seq_len=40\n"
          ]
        },
        {
          "name": "stderr",
          "output_type": "stream",
          "text": [
            "\rExtracting features:  74%|███████▍  | 1398/1888 [41:49<13:01,  1.60s/it]"
          ]
        },
        {
          "name": "stdout",
          "output_type": "stream",
          "text": [
            "Saved: hook_0181, seq_len=40\n"
          ]
        },
        {
          "name": "stderr",
          "output_type": "stream",
          "text": [
            "\rExtracting features:  74%|███████▍  | 1399/1888 [41:50<13:28,  1.65s/it]"
          ]
        },
        {
          "name": "stdout",
          "output_type": "stream",
          "text": [
            "Saved: hook_0132, seq_len=40\n"
          ]
        },
        {
          "name": "stderr",
          "output_type": "stream",
          "text": [
            "\rExtracting features:  74%|███████▍  | 1400/1888 [41:52<13:54,  1.71s/it]"
          ]
        },
        {
          "name": "stdout",
          "output_type": "stream",
          "text": [
            "Saved: hook_0134, seq_len=40\n"
          ]
        },
        {
          "name": "stderr",
          "output_type": "stream",
          "text": [
            "\rExtracting features:  74%|███████▍  | 1401/1888 [41:54<13:41,  1.69s/it]"
          ]
        },
        {
          "name": "stdout",
          "output_type": "stream",
          "text": [
            "Saved: hook_0118, seq_len=40\n"
          ]
        },
        {
          "name": "stderr",
          "output_type": "stream",
          "text": [
            "\rExtracting features:  74%|███████▍  | 1402/1888 [41:55<12:44,  1.57s/it]"
          ]
        },
        {
          "name": "stdout",
          "output_type": "stream",
          "text": [
            "Saved: hook_0123, seq_len=40\n"
          ]
        },
        {
          "name": "stderr",
          "output_type": "stream",
          "text": [
            "\rExtracting features:  74%|███████▍  | 1403/1888 [41:57<13:15,  1.64s/it]"
          ]
        },
        {
          "name": "stdout",
          "output_type": "stream",
          "text": [
            "Saved: hook_0107, seq_len=40\n"
          ]
        },
        {
          "name": "stderr",
          "output_type": "stream",
          "text": [
            "\rExtracting features:  74%|███████▍  | 1404/1888 [41:59<13:34,  1.68s/it]"
          ]
        },
        {
          "name": "stdout",
          "output_type": "stream",
          "text": [
            "Saved: hook_0156, seq_len=40\n"
          ]
        },
        {
          "name": "stderr",
          "output_type": "stream",
          "text": [
            "\rExtracting features:  74%|███████▍  | 1405/1888 [42:00<12:44,  1.58s/it]"
          ]
        },
        {
          "name": "stdout",
          "output_type": "stream",
          "text": [
            "Saved: hook_0105, seq_len=40\n"
          ]
        },
        {
          "name": "stderr",
          "output_type": "stream",
          "text": [
            "\rExtracting features:  74%|███████▍  | 1406/1888 [42:02<13:02,  1.62s/it]"
          ]
        },
        {
          "name": "stdout",
          "output_type": "stream",
          "text": [
            "Saved: hook_0135, seq_len=40\n"
          ]
        },
        {
          "name": "stderr",
          "output_type": "stream",
          "text": [
            "\rExtracting features:  75%|███████▍  | 1407/1888 [42:03<12:21,  1.54s/it]"
          ]
        },
        {
          "name": "stdout",
          "output_type": "stream",
          "text": [
            "Saved: hook_0140, seq_len=40\n"
          ]
        },
        {
          "name": "stderr",
          "output_type": "stream",
          "text": [
            "\rExtracting features:  75%|███████▍  | 1408/1888 [42:05<13:57,  1.75s/it]"
          ]
        },
        {
          "name": "stdout",
          "output_type": "stream",
          "text": [
            "Saved: hook_0124, seq_len=40\n"
          ]
        },
        {
          "name": "stderr",
          "output_type": "stream",
          "text": [
            "\rExtracting features:  75%|███████▍  | 1409/1888 [42:07<14:43,  1.84s/it]"
          ]
        },
        {
          "name": "stdout",
          "output_type": "stream",
          "text": [
            "Saved: hook_0075, seq_len=40\n"
          ]
        },
        {
          "name": "stderr",
          "output_type": "stream",
          "text": [
            "\rExtracting features:  75%|███████▍  | 1410/1888 [42:09<14:19,  1.80s/it]"
          ]
        },
        {
          "name": "stdout",
          "output_type": "stream",
          "text": [
            "Saved: hook_0068, seq_len=40\n"
          ]
        },
        {
          "name": "stderr",
          "output_type": "stream",
          "text": [
            "\rExtracting features:  75%|███████▍  | 1411/1888 [42:11<14:17,  1.80s/it]"
          ]
        },
        {
          "name": "stdout",
          "output_type": "stream",
          "text": [
            "Saved: hook_0104, seq_len=40\n"
          ]
        },
        {
          "name": "stderr",
          "output_type": "stream",
          "text": [
            "\rExtracting features:  75%|███████▍  | 1412/1888 [42:13<14:19,  1.80s/it]"
          ]
        },
        {
          "name": "stdout",
          "output_type": "stream",
          "text": [
            "Saved: hook_0121, seq_len=40\n"
          ]
        },
        {
          "name": "stderr",
          "output_type": "stream",
          "text": [
            "\rExtracting features:  75%|███████▍  | 1413/1888 [42:15<15:36,  1.97s/it]"
          ]
        },
        {
          "name": "stdout",
          "output_type": "stream",
          "text": [
            "Saved: hook_0116, seq_len=40\n"
          ]
        },
        {
          "name": "stderr",
          "output_type": "stream",
          "text": [
            "\rExtracting features:  75%|███████▍  | 1414/1888 [42:19<19:04,  2.41s/it]"
          ]
        },
        {
          "name": "stdout",
          "output_type": "stream",
          "text": [
            "Saved: hook_0070, seq_len=40\n"
          ]
        },
        {
          "name": "stderr",
          "output_type": "stream",
          "text": [
            "\rExtracting features:  75%|███████▍  | 1415/1888 [42:20<16:51,  2.14s/it]"
          ]
        },
        {
          "name": "stdout",
          "output_type": "stream",
          "text": [
            "Saved: hook_0112, seq_len=40\n"
          ]
        },
        {
          "name": "stderr",
          "output_type": "stream",
          "text": [
            "\rExtracting features:  75%|███████▌  | 1416/1888 [42:22<15:56,  2.03s/it]"
          ]
        },
        {
          "name": "stdout",
          "output_type": "stream",
          "text": [
            "Saved: hook_0111, seq_len=40\n"
          ]
        },
        {
          "name": "stderr",
          "output_type": "stream",
          "text": [
            "\rExtracting features:  75%|███████▌  | 1417/1888 [42:23<14:08,  1.80s/it]"
          ]
        },
        {
          "name": "stdout",
          "output_type": "stream",
          "text": [
            "Saved: hook_0074, seq_len=40\n"
          ]
        },
        {
          "name": "stderr",
          "output_type": "stream",
          "text": [
            "\rExtracting features:  75%|███████▌  | 1418/1888 [42:25<13:54,  1.78s/it]"
          ]
        },
        {
          "name": "stdout",
          "output_type": "stream",
          "text": [
            "Saved: hook_0076, seq_len=40\n"
          ]
        },
        {
          "name": "stderr",
          "output_type": "stream",
          "text": [
            "\rExtracting features:  75%|███████▌  | 1419/1888 [42:26<12:14,  1.57s/it]"
          ]
        },
        {
          "name": "stdout",
          "output_type": "stream",
          "text": [
            "Saved: hook_0127, seq_len=40\n"
          ]
        },
        {
          "name": "stderr",
          "output_type": "stream",
          "text": [
            "\rExtracting features:  75%|███████▌  | 1420/1888 [42:28<12:26,  1.60s/it]"
          ]
        },
        {
          "name": "stdout",
          "output_type": "stream",
          "text": [
            "Saved: hook_0069, seq_len=40\n"
          ]
        },
        {
          "name": "stderr",
          "output_type": "stream",
          "text": [
            "\rExtracting features:  75%|███████▌  | 1421/1888 [42:29<11:27,  1.47s/it]"
          ]
        },
        {
          "name": "stdout",
          "output_type": "stream",
          "text": [
            "Saved: hook_0119, seq_len=40\n"
          ]
        },
        {
          "name": "stderr",
          "output_type": "stream",
          "text": [
            "\rExtracting features:  75%|███████▌  | 1422/1888 [42:30<12:01,  1.55s/it]"
          ]
        },
        {
          "name": "stdout",
          "output_type": "stream",
          "text": [
            "Saved: hook_0110, seq_len=40\n"
          ]
        },
        {
          "name": "stderr",
          "output_type": "stream",
          "text": [
            "\rExtracting features:  75%|███████▌  | 1423/1888 [42:32<11:38,  1.50s/it]"
          ]
        },
        {
          "name": "stdout",
          "output_type": "stream",
          "text": [
            "Saved: hook_0159, seq_len=40\n"
          ]
        },
        {
          "name": "stderr",
          "output_type": "stream",
          "text": [
            "\rExtracting features:  75%|███████▌  | 1424/1888 [42:34<12:27,  1.61s/it]"
          ]
        },
        {
          "name": "stdout",
          "output_type": "stream",
          "text": [
            "Saved: hook_0122, seq_len=40\n"
          ]
        },
        {
          "name": "stderr",
          "output_type": "stream",
          "text": [
            "\rExtracting features:  75%|███████▌  | 1425/1888 [42:35<11:27,  1.48s/it]"
          ]
        },
        {
          "name": "stdout",
          "output_type": "stream",
          "text": [
            "Saved: hook_0059, seq_len=40\n"
          ]
        },
        {
          "name": "stderr",
          "output_type": "stream",
          "text": [
            "\rExtracting features:  76%|███████▌  | 1426/1888 [42:37<12:08,  1.58s/it]"
          ]
        },
        {
          "name": "stdout",
          "output_type": "stream",
          "text": [
            "Saved: hook_0072, seq_len=40\n"
          ]
        },
        {
          "name": "stderr",
          "output_type": "stream",
          "text": [
            "\rExtracting features:  76%|███████▌  | 1427/1888 [42:38<12:27,  1.62s/it]"
          ]
        },
        {
          "name": "stdout",
          "output_type": "stream",
          "text": [
            "Saved: hook_0103, seq_len=40\n"
          ]
        },
        {
          "name": "stderr",
          "output_type": "stream",
          "text": [
            "\rExtracting features:  76%|███████▌  | 1428/1888 [42:40<12:32,  1.64s/it]"
          ]
        },
        {
          "name": "stdout",
          "output_type": "stream",
          "text": [
            "Saved: hook_0113, seq_len=40\n"
          ]
        },
        {
          "name": "stderr",
          "output_type": "stream",
          "text": [
            "\rExtracting features:  76%|███████▌  | 1429/1888 [42:42<13:00,  1.70s/it]"
          ]
        },
        {
          "name": "stdout",
          "output_type": "stream",
          "text": [
            "Saved: hook_0108, seq_len=40\n"
          ]
        },
        {
          "name": "stderr",
          "output_type": "stream",
          "text": [
            "\rExtracting features:  76%|███████▌  | 1430/1888 [42:44<14:01,  1.84s/it]"
          ]
        },
        {
          "name": "stdout",
          "output_type": "stream",
          "text": [
            "Saved: hook_0115, seq_len=40\n"
          ]
        },
        {
          "name": "stderr",
          "output_type": "stream",
          "text": [
            "\rExtracting features:  76%|███████▌  | 1431/1888 [42:46<13:28,  1.77s/it]"
          ]
        },
        {
          "name": "stdout",
          "output_type": "stream",
          "text": [
            "Saved: hook_0109, seq_len=40\n"
          ]
        },
        {
          "name": "stderr",
          "output_type": "stream",
          "text": [
            "\rExtracting features:  76%|███████▌  | 1432/1888 [42:47<11:58,  1.58s/it]"
          ]
        },
        {
          "name": "stdout",
          "output_type": "stream",
          "text": [
            "Saved: hook_0136, seq_len=40\n"
          ]
        },
        {
          "name": "stderr",
          "output_type": "stream",
          "text": [
            "\rExtracting features:  76%|███████▌  | 1433/1888 [42:49<12:22,  1.63s/it]"
          ]
        },
        {
          "name": "stdout",
          "output_type": "stream",
          "text": [
            "Saved: hook_0048, seq_len=40\n"
          ]
        },
        {
          "name": "stderr",
          "output_type": "stream",
          "text": [
            "\rExtracting features:  76%|███████▌  | 1434/1888 [42:50<11:40,  1.54s/it]"
          ]
        },
        {
          "name": "stdout",
          "output_type": "stream",
          "text": [
            "Saved: hook_0117, seq_len=40\n"
          ]
        },
        {
          "name": "stderr",
          "output_type": "stream",
          "text": [
            "\rExtracting features:  76%|███████▌  | 1435/1888 [42:52<12:26,  1.65s/it]"
          ]
        },
        {
          "name": "stdout",
          "output_type": "stream",
          "text": [
            "Saved: hook_0106, seq_len=40\n"
          ]
        },
        {
          "name": "stderr",
          "output_type": "stream",
          "text": [
            "\rExtracting features:  76%|███████▌  | 1436/1888 [42:54<12:45,  1.69s/it]"
          ]
        },
        {
          "name": "stdout",
          "output_type": "stream",
          "text": [
            "Saved: hook_0114, seq_len=40\n"
          ]
        },
        {
          "name": "stderr",
          "output_type": "stream",
          "text": [
            "\rExtracting features:  76%|███████▌  | 1437/1888 [42:55<12:44,  1.69s/it]"
          ]
        },
        {
          "name": "stdout",
          "output_type": "stream",
          "text": [
            "Saved: hook_0027, seq_len=40\n"
          ]
        },
        {
          "name": "stderr",
          "output_type": "stream",
          "text": [
            "\rExtracting features:  76%|███████▌  | 1438/1888 [42:57<12:12,  1.63s/it]"
          ]
        },
        {
          "name": "stdout",
          "output_type": "stream",
          "text": [
            "Saved: hook_0129, seq_len=40\n"
          ]
        },
        {
          "name": "stderr",
          "output_type": "stream",
          "text": [
            "\rExtracting features:  76%|███████▌  | 1439/1888 [42:58<11:48,  1.58s/it]"
          ]
        },
        {
          "name": "stdout",
          "output_type": "stream",
          "text": [
            "Saved: hook_0148, seq_len=40\n"
          ]
        },
        {
          "name": "stderr",
          "output_type": "stream",
          "text": [
            "\rExtracting features:  76%|███████▋  | 1440/1888 [42:59<10:43,  1.44s/it]"
          ]
        },
        {
          "name": "stdout",
          "output_type": "stream",
          "text": [
            "Saved: hook_0062, seq_len=40\n"
          ]
        },
        {
          "name": "stderr",
          "output_type": "stream",
          "text": [
            "\rExtracting features:  76%|███████▋  | 1441/1888 [43:01<11:38,  1.56s/it]"
          ]
        },
        {
          "name": "stdout",
          "output_type": "stream",
          "text": [
            "Saved: hook_0002, seq_len=40\n"
          ]
        },
        {
          "name": "stderr",
          "output_type": "stream",
          "text": [
            "\rExtracting features:  76%|███████▋  | 1442/1888 [43:03<11:43,  1.58s/it]"
          ]
        },
        {
          "name": "stdout",
          "output_type": "stream",
          "text": [
            "Saved: hook_0049, seq_len=40\n"
          ]
        },
        {
          "name": "stderr",
          "output_type": "stream",
          "text": [
            "\rExtracting features:  76%|███████▋  | 1443/1888 [43:05<11:52,  1.60s/it]"
          ]
        },
        {
          "name": "stdout",
          "output_type": "stream",
          "text": [
            "Saved: hook_0010, seq_len=40\n"
          ]
        },
        {
          "name": "stderr",
          "output_type": "stream",
          "text": [
            "\rExtracting features:  76%|███████▋  | 1444/1888 [43:06<10:48,  1.46s/it]"
          ]
        },
        {
          "name": "stdout",
          "output_type": "stream",
          "text": [
            "Saved: hook_0071, seq_len=40\n"
          ]
        },
        {
          "name": "stderr",
          "output_type": "stream",
          "text": [
            "\rExtracting features:  77%|███████▋  | 1445/1888 [43:08<11:39,  1.58s/it]"
          ]
        },
        {
          "name": "stdout",
          "output_type": "stream",
          "text": [
            "Saved: hook_0095, seq_len=40\n"
          ]
        },
        {
          "name": "stderr",
          "output_type": "stream",
          "text": [
            "\rExtracting features:  77%|███████▋  | 1446/1888 [43:10<12:42,  1.73s/it]"
          ]
        },
        {
          "name": "stdout",
          "output_type": "stream",
          "text": [
            "Saved: hook_0061, seq_len=40\n"
          ]
        },
        {
          "name": "stderr",
          "output_type": "stream",
          "text": [
            "\rExtracting features:  77%|███████▋  | 1447/1888 [43:11<11:55,  1.62s/it]"
          ]
        },
        {
          "name": "stdout",
          "output_type": "stream",
          "text": [
            "Saved: hook_0056, seq_len=40\n"
          ]
        },
        {
          "name": "stderr",
          "output_type": "stream",
          "text": [
            "\rExtracting features:  77%|███████▋  | 1448/1888 [43:13<11:59,  1.64s/it]"
          ]
        },
        {
          "name": "stdout",
          "output_type": "stream",
          "text": [
            "Saved: hook_0057, seq_len=40\n"
          ]
        },
        {
          "name": "stderr",
          "output_type": "stream",
          "text": [
            "\rExtracting features:  77%|███████▋  | 1449/1888 [43:14<10:44,  1.47s/it]"
          ]
        },
        {
          "name": "stdout",
          "output_type": "stream",
          "text": [
            "Saved: hook_0065, seq_len=40\n"
          ]
        },
        {
          "name": "stderr",
          "output_type": "stream",
          "text": [
            "\rExtracting features:  77%|███████▋  | 1450/1888 [43:15<11:11,  1.53s/it]"
          ]
        },
        {
          "name": "stdout",
          "output_type": "stream",
          "text": [
            "Saved: hook_0064, seq_len=40\n"
          ]
        },
        {
          "name": "stderr",
          "output_type": "stream",
          "text": [
            "\rExtracting features:  77%|███████▋  | 1451/1888 [43:17<11:41,  1.61s/it]"
          ]
        },
        {
          "name": "stdout",
          "output_type": "stream",
          "text": [
            "Saved: hook_0011, seq_len=40\n"
          ]
        },
        {
          "name": "stderr",
          "output_type": "stream",
          "text": [
            "\rExtracting features:  77%|███████▋  | 1452/1888 [43:19<12:04,  1.66s/it]"
          ]
        },
        {
          "name": "stdout",
          "output_type": "stream",
          "text": [
            "Saved: hook_0066, seq_len=40\n"
          ]
        },
        {
          "name": "stderr",
          "output_type": "stream",
          "text": [
            "\rExtracting features:  77%|███████▋  | 1453/1888 [43:21<12:24,  1.71s/it]"
          ]
        },
        {
          "name": "stdout",
          "output_type": "stream",
          "text": [
            "Saved: hook_0054, seq_len=40\n"
          ]
        },
        {
          "name": "stderr",
          "output_type": "stream",
          "text": [
            "\rExtracting features:  77%|███████▋  | 1454/1888 [43:22<11:37,  1.61s/it]"
          ]
        },
        {
          "name": "stdout",
          "output_type": "stream",
          "text": [
            "Saved: hook_0102, seq_len=40\n"
          ]
        },
        {
          "name": "stderr",
          "output_type": "stream",
          "text": [
            "\rExtracting features:  77%|███████▋  | 1455/1888 [43:24<12:00,  1.66s/it]"
          ]
        },
        {
          "name": "stdout",
          "output_type": "stream",
          "text": [
            "Saved: hook_0047, seq_len=40\n"
          ]
        },
        {
          "name": "stderr",
          "output_type": "stream",
          "text": [
            "\rExtracting features:  77%|███████▋  | 1456/1888 [43:26<13:34,  1.89s/it]"
          ]
        },
        {
          "name": "stdout",
          "output_type": "stream",
          "text": [
            "Saved: hook_0085, seq_len=40\n"
          ]
        },
        {
          "name": "stderr",
          "output_type": "stream",
          "text": [
            "\rExtracting features:  77%|███████▋  | 1457/1888 [43:28<13:02,  1.81s/it]"
          ]
        },
        {
          "name": "stdout",
          "output_type": "stream",
          "text": [
            "Saved: hook_0051, seq_len=40\n"
          ]
        },
        {
          "name": "stderr",
          "output_type": "stream",
          "text": [
            "\rExtracting features:  77%|███████▋  | 1458/1888 [43:29<11:45,  1.64s/it]"
          ]
        },
        {
          "name": "stdout",
          "output_type": "stream",
          "text": [
            "Saved: hook_0043, seq_len=40\n"
          ]
        },
        {
          "name": "stderr",
          "output_type": "stream",
          "text": [
            "\rExtracting features:  77%|███████▋  | 1459/1888 [43:31<12:22,  1.73s/it]"
          ]
        },
        {
          "name": "stdout",
          "output_type": "stream",
          "text": [
            "Saved: hook_0001, seq_len=40\n"
          ]
        },
        {
          "name": "stderr",
          "output_type": "stream",
          "text": [
            "\rExtracting features:  77%|███████▋  | 1460/1888 [43:32<11:11,  1.57s/it]"
          ]
        },
        {
          "name": "stdout",
          "output_type": "stream",
          "text": [
            "Saved: hook_0055, seq_len=40\n"
          ]
        },
        {
          "name": "stderr",
          "output_type": "stream",
          "text": [
            "\rExtracting features:  77%|███████▋  | 1461/1888 [43:34<10:17,  1.45s/it]"
          ]
        },
        {
          "name": "stdout",
          "output_type": "stream",
          "text": [
            "Saved: hook_0060, seq_len=40\n"
          ]
        },
        {
          "name": "stderr",
          "output_type": "stream",
          "text": [
            "\rExtracting features:  77%|███████▋  | 1462/1888 [43:35<10:22,  1.46s/it]"
          ]
        },
        {
          "name": "stdout",
          "output_type": "stream",
          "text": [
            "Saved: hook_0067, seq_len=40\n"
          ]
        },
        {
          "name": "stderr",
          "output_type": "stream",
          "text": [
            "\rExtracting features:  77%|███████▋  | 1463/1888 [43:37<10:29,  1.48s/it]"
          ]
        },
        {
          "name": "stdout",
          "output_type": "stream",
          "text": [
            "Saved: hook_0058, seq_len=40\n"
          ]
        },
        {
          "name": "stderr",
          "output_type": "stream",
          "text": [
            "\rExtracting features:  78%|███████▊  | 1464/1888 [43:39<11:46,  1.67s/it]"
          ]
        },
        {
          "name": "stdout",
          "output_type": "stream",
          "text": [
            "Saved: hook_0039, seq_len=40\n"
          ]
        },
        {
          "name": "stderr",
          "output_type": "stream",
          "text": [
            "\rExtracting features:  78%|███████▊  | 1465/1888 [43:41<12:46,  1.81s/it]"
          ]
        },
        {
          "name": "stdout",
          "output_type": "stream",
          "text": [
            "Saved: hook_0037, seq_len=40\n"
          ]
        },
        {
          "name": "stderr",
          "output_type": "stream",
          "text": [
            "\rExtracting features:  78%|███████▊  | 1466/1888 [43:43<12:45,  1.81s/it]"
          ]
        },
        {
          "name": "stdout",
          "output_type": "stream",
          "text": [
            "Saved: hook_0033, seq_len=40\n"
          ]
        },
        {
          "name": "stderr",
          "output_type": "stream",
          "text": [
            "\rExtracting features:  78%|███████▊  | 1467/1888 [43:44<11:56,  1.70s/it]"
          ]
        },
        {
          "name": "stdout",
          "output_type": "stream",
          "text": [
            "Saved: hook_0052, seq_len=40\n"
          ]
        },
        {
          "name": "stderr",
          "output_type": "stream",
          "text": [
            "\rExtracting features:  78%|███████▊  | 1468/1888 [43:46<12:06,  1.73s/it]"
          ]
        },
        {
          "name": "stdout",
          "output_type": "stream",
          "text": [
            "Saved: hook_0045, seq_len=40\n"
          ]
        },
        {
          "name": "stderr",
          "output_type": "stream",
          "text": [
            "\rExtracting features:  78%|███████▊  | 1469/1888 [43:47<11:30,  1.65s/it]"
          ]
        },
        {
          "name": "stdout",
          "output_type": "stream",
          "text": [
            "Saved: hook_0063, seq_len=40\n"
          ]
        },
        {
          "name": "stderr",
          "output_type": "stream",
          "text": [
            "\rExtracting features:  78%|███████▊  | 1470/1888 [43:49<12:24,  1.78s/it]"
          ]
        },
        {
          "name": "stdout",
          "output_type": "stream",
          "text": [
            "Saved: hook_0031, seq_len=40\n"
          ]
        },
        {
          "name": "stderr",
          "output_type": "stream",
          "text": [
            "\rExtracting features:  78%|███████▊  | 1471/1888 [43:52<13:10,  1.90s/it]"
          ]
        },
        {
          "name": "stdout",
          "output_type": "stream",
          "text": [
            "Saved: hook_0041, seq_len=40\n"
          ]
        },
        {
          "name": "stderr",
          "output_type": "stream",
          "text": [
            "\rExtracting features:  78%|███████▊  | 1472/1888 [43:53<11:52,  1.71s/it]"
          ]
        },
        {
          "name": "stdout",
          "output_type": "stream",
          "text": [
            "Saved: hook_0035, seq_len=40\n"
          ]
        },
        {
          "name": "stderr",
          "output_type": "stream",
          "text": [
            "\rExtracting features:  78%|███████▊  | 1473/1888 [43:55<13:31,  1.95s/it]"
          ]
        },
        {
          "name": "stdout",
          "output_type": "stream",
          "text": [
            "Saved: hook_0053, seq_len=40\n"
          ]
        },
        {
          "name": "stderr",
          "output_type": "stream",
          "text": [
            "\rExtracting features:  78%|███████▊  | 1474/1888 [43:58<15:35,  2.26s/it]"
          ]
        },
        {
          "name": "stdout",
          "output_type": "stream",
          "text": [
            "Saved: hook_0050, seq_len=40\n"
          ]
        },
        {
          "name": "stderr",
          "output_type": "stream",
          "text": [
            "\rExtracting features:  78%|███████▊  | 1475/1888 [44:00<15:15,  2.22s/it]"
          ]
        },
        {
          "name": "stdout",
          "output_type": "stream",
          "text": [
            "Saved: hook_0083, seq_len=40\n"
          ]
        },
        {
          "name": "stderr",
          "output_type": "stream",
          "text": [
            "\rExtracting features:  78%|███████▊  | 1476/1888 [44:02<14:13,  2.07s/it]"
          ]
        },
        {
          "name": "stdout",
          "output_type": "stream",
          "text": [
            "Saved: hook_0029, seq_len=40\n"
          ]
        },
        {
          "name": "stderr",
          "output_type": "stream",
          "text": [
            "\rExtracting features:  78%|███████▊  | 1477/1888 [44:04<13:36,  1.99s/it]"
          ]
        },
        {
          "name": "stdout",
          "output_type": "stream",
          "text": [
            "Saved: hook_0018, seq_len=40\n"
          ]
        },
        {
          "name": "stderr",
          "output_type": "stream",
          "text": [
            "\rExtracting features:  78%|███████▊  | 1478/1888 [44:05<12:01,  1.76s/it]"
          ]
        },
        {
          "name": "stdout",
          "output_type": "stream",
          "text": [
            "Saved: hook_0180, seq_len=40\n"
          ]
        },
        {
          "name": "stderr",
          "output_type": "stream",
          "text": [
            "\rExtracting features:  78%|███████▊  | 1479/1888 [44:07<12:17,  1.80s/it]"
          ]
        },
        {
          "name": "stdout",
          "output_type": "stream",
          "text": [
            "Saved: hook_0019, seq_len=40\n"
          ]
        },
        {
          "name": "stderr",
          "output_type": "stream",
          "text": [
            "\rExtracting features:  78%|███████▊  | 1480/1888 [44:09<11:28,  1.69s/it]"
          ]
        },
        {
          "name": "stdout",
          "output_type": "stream",
          "text": [
            "Saved: hook_0007, seq_len=40\n"
          ]
        },
        {
          "name": "stderr",
          "output_type": "stream",
          "text": [
            "\rExtracting features:  78%|███████▊  | 1481/1888 [44:10<11:34,  1.71s/it]"
          ]
        },
        {
          "name": "stdout",
          "output_type": "stream",
          "text": [
            "Saved: hook_0144, seq_len=40\n"
          ]
        },
        {
          "name": "stderr",
          "output_type": "stream",
          "text": [
            "\rExtracting features:  78%|███████▊  | 1482/1888 [44:13<12:49,  1.89s/it]"
          ]
        },
        {
          "name": "stdout",
          "output_type": "stream",
          "text": [
            "Saved: hook_0143, seq_len=40\n"
          ]
        },
        {
          "name": "stderr",
          "output_type": "stream",
          "text": [
            "\rExtracting features:  79%|███████▊  | 1483/1888 [44:14<11:53,  1.76s/it]"
          ]
        },
        {
          "name": "stdout",
          "output_type": "stream",
          "text": [
            "Saved: hook_0038, seq_len=40\n"
          ]
        },
        {
          "name": "stderr",
          "output_type": "stream",
          "text": [
            "\rExtracting features:  79%|███████▊  | 1484/1888 [44:15<10:13,  1.52s/it]"
          ]
        },
        {
          "name": "stdout",
          "output_type": "stream",
          "text": [
            "Saved: hook_0046, seq_len=40\n"
          ]
        },
        {
          "name": "stderr",
          "output_type": "stream",
          "text": [
            "\rExtracting features:  79%|███████▊  | 1485/1888 [44:16<09:27,  1.41s/it]"
          ]
        },
        {
          "name": "stdout",
          "output_type": "stream",
          "text": [
            "Saved: hook_0044, seq_len=40\n"
          ]
        },
        {
          "name": "stderr",
          "output_type": "stream",
          "text": [
            "\rExtracting features:  79%|███████▊  | 1486/1888 [44:18<10:09,  1.52s/it]"
          ]
        },
        {
          "name": "stdout",
          "output_type": "stream",
          "text": [
            "Saved: hook_0030, seq_len=40\n"
          ]
        },
        {
          "name": "stderr",
          "output_type": "stream",
          "text": [
            "\rExtracting features:  79%|███████▉  | 1487/1888 [44:20<10:59,  1.64s/it]"
          ]
        },
        {
          "name": "stdout",
          "output_type": "stream",
          "text": [
            "Saved: hook_0026, seq_len=40\n"
          ]
        },
        {
          "name": "stderr",
          "output_type": "stream",
          "text": [
            "\rExtracting features:  79%|███████▉  | 1488/1888 [44:21<10:09,  1.52s/it]"
          ]
        },
        {
          "name": "stdout",
          "output_type": "stream",
          "text": [
            "Saved: hook_0040, seq_len=40\n"
          ]
        },
        {
          "name": "stderr",
          "output_type": "stream",
          "text": [
            "\rExtracting features:  79%|███████▉  | 1489/1888 [44:23<10:30,  1.58s/it]"
          ]
        },
        {
          "name": "stdout",
          "output_type": "stream",
          "text": [
            "Saved: hook_0042, seq_len=40\n"
          ]
        },
        {
          "name": "stderr",
          "output_type": "stream",
          "text": [
            "\rExtracting features:  79%|███████▉  | 1490/1888 [44:25<10:54,  1.64s/it]"
          ]
        },
        {
          "name": "stdout",
          "output_type": "stream",
          "text": [
            "Saved: hook_0073, seq_len=40\n"
          ]
        },
        {
          "name": "stderr",
          "output_type": "stream",
          "text": [
            "\rExtracting features:  79%|███████▉  | 1491/1888 [44:27<12:17,  1.86s/it]"
          ]
        },
        {
          "name": "stdout",
          "output_type": "stream",
          "text": [
            "Saved: hook_0034, seq_len=40\n"
          ]
        },
        {
          "name": "stderr",
          "output_type": "stream",
          "text": [
            "\rExtracting features:  79%|███████▉  | 1492/1888 [44:29<13:00,  1.97s/it]"
          ]
        },
        {
          "name": "stdout",
          "output_type": "stream",
          "text": [
            "Saved: hook_0023, seq_len=40\n"
          ]
        },
        {
          "name": "stderr",
          "output_type": "stream",
          "text": [
            "\rExtracting features:  79%|███████▉  | 1493/1888 [44:32<13:49,  2.10s/it]"
          ]
        },
        {
          "name": "stdout",
          "output_type": "stream",
          "text": [
            "Saved: hook_0082, seq_len=40\n"
          ]
        },
        {
          "name": "stderr",
          "output_type": "stream",
          "text": [
            "\rExtracting features:  79%|███████▉  | 1494/1888 [44:34<13:22,  2.04s/it]"
          ]
        },
        {
          "name": "stdout",
          "output_type": "stream",
          "text": [
            "Saved: hook_0025, seq_len=40\n"
          ]
        },
        {
          "name": "stderr",
          "output_type": "stream",
          "text": [
            "\rExtracting features:  79%|███████▉  | 1495/1888 [44:35<11:52,  1.81s/it]"
          ]
        },
        {
          "name": "stdout",
          "output_type": "stream",
          "text": [
            "Saved: hook_0022, seq_len=40\n"
          ]
        },
        {
          "name": "stderr",
          "output_type": "stream",
          "text": [
            "\rExtracting features:  79%|███████▉  | 1496/1888 [44:37<12:41,  1.94s/it]"
          ]
        },
        {
          "name": "stdout",
          "output_type": "stream",
          "text": [
            "Saved: hook_0024, seq_len=40\n"
          ]
        },
        {
          "name": "stderr",
          "output_type": "stream",
          "text": [
            "\rExtracting features:  79%|███████▉  | 1497/1888 [44:40<14:06,  2.16s/it]"
          ]
        },
        {
          "name": "stdout",
          "output_type": "stream",
          "text": [
            "Saved: hook_0032, seq_len=40\n"
          ]
        },
        {
          "name": "stderr",
          "output_type": "stream",
          "text": [
            "\rExtracting features:  79%|███████▉  | 1498/1888 [44:41<12:44,  1.96s/it]"
          ]
        },
        {
          "name": "stdout",
          "output_type": "stream",
          "text": [
            "Saved: hook_0145, seq_len=40\n"
          ]
        },
        {
          "name": "stderr",
          "output_type": "stream",
          "text": [
            "\rExtracting features:  79%|███████▉  | 1499/1888 [44:43<12:19,  1.90s/it]"
          ]
        },
        {
          "name": "stdout",
          "output_type": "stream",
          "text": [
            "Saved: hook_0036, seq_len=40\n"
          ]
        },
        {
          "name": "stderr",
          "output_type": "stream",
          "text": [
            "\rExtracting features:  79%|███████▉  | 1500/1888 [44:44<10:50,  1.68s/it]"
          ]
        },
        {
          "name": "stdout",
          "output_type": "stream",
          "text": [
            "Saved: hook_0084, seq_len=40\n"
          ]
        },
        {
          "name": "stderr",
          "output_type": "stream",
          "text": [
            "\rExtracting features:  80%|███████▉  | 1501/1888 [44:46<10:13,  1.59s/it]"
          ]
        },
        {
          "name": "stdout",
          "output_type": "stream",
          "text": [
            "Saved: hook_0028, seq_len=40\n"
          ]
        },
        {
          "name": "stderr",
          "output_type": "stream",
          "text": [
            "\rExtracting features:  80%|███████▉  | 1502/1888 [44:47<09:29,  1.47s/it]"
          ]
        },
        {
          "name": "stdout",
          "output_type": "stream",
          "text": [
            "Saved: sweep_0007, seq_len=40\n"
          ]
        },
        {
          "name": "stderr",
          "output_type": "stream",
          "text": [
            "\rExtracting features:  80%|███████▉  | 1503/1888 [44:48<09:00,  1.40s/it]"
          ]
        },
        {
          "name": "stdout",
          "output_type": "stream",
          "text": [
            "Saved: sweep_0020, seq_len=40\n"
          ]
        },
        {
          "name": "stderr",
          "output_type": "stream",
          "text": [
            "\rExtracting features:  80%|███████▉  | 1504/1888 [44:50<10:38,  1.66s/it]"
          ]
        },
        {
          "name": "stdout",
          "output_type": "stream",
          "text": [
            "Saved: sweep_0006, seq_len=40\n"
          ]
        },
        {
          "name": "stderr",
          "output_type": "stream",
          "text": [
            "\rExtracting features:  80%|███████▉  | 1505/1888 [44:52<10:30,  1.65s/it]"
          ]
        },
        {
          "name": "stdout",
          "output_type": "stream",
          "text": [
            "Saved: sweep_0002, seq_len=40\n"
          ]
        },
        {
          "name": "stderr",
          "output_type": "stream",
          "text": [
            "\rExtracting features:  80%|███████▉  | 1506/1888 [44:54<10:54,  1.71s/it]"
          ]
        },
        {
          "name": "stdout",
          "output_type": "stream",
          "text": [
            "Saved: sweep_0013, seq_len=40\n"
          ]
        },
        {
          "name": "stderr",
          "output_type": "stream",
          "text": [
            "\rExtracting features:  80%|███████▉  | 1507/1888 [44:56<11:05,  1.75s/it]"
          ]
        },
        {
          "name": "stdout",
          "output_type": "stream",
          "text": [
            "Saved: sweep_0190, seq_len=40\n"
          ]
        },
        {
          "name": "stderr",
          "output_type": "stream",
          "text": [
            "\rExtracting features:  80%|███████▉  | 1508/1888 [44:58<13:17,  2.10s/it]"
          ]
        },
        {
          "name": "stdout",
          "output_type": "stream",
          "text": [
            "Saved: sweep_0008, seq_len=40\n"
          ]
        },
        {
          "name": "stderr",
          "output_type": "stream",
          "text": [
            "\rExtracting features:  80%|███████▉  | 1509/1888 [45:00<12:04,  1.91s/it]"
          ]
        },
        {
          "name": "stdout",
          "output_type": "stream",
          "text": [
            "Saved: sweep_0009, seq_len=40\n"
          ]
        },
        {
          "name": "stderr",
          "output_type": "stream",
          "text": [
            "\rExtracting features:  80%|███████▉  | 1510/1888 [45:02<11:53,  1.89s/it]"
          ]
        },
        {
          "name": "stdout",
          "output_type": "stream",
          "text": [
            "Saved: sweep_0011, seq_len=40\n"
          ]
        },
        {
          "name": "stderr",
          "output_type": "stream",
          "text": [
            "\rExtracting features:  80%|████████  | 1511/1888 [45:04<12:22,  1.97s/it]"
          ]
        },
        {
          "name": "stdout",
          "output_type": "stream",
          "text": [
            "Saved: sweep_0023, seq_len=40\n"
          ]
        },
        {
          "name": "stderr",
          "output_type": "stream",
          "text": [
            "\rExtracting features:  80%|████████  | 1512/1888 [45:05<11:03,  1.76s/it]"
          ]
        },
        {
          "name": "stdout",
          "output_type": "stream",
          "text": [
            "Saved: sweep_0014, seq_len=40\n"
          ]
        },
        {
          "name": "stderr",
          "output_type": "stream",
          "text": [
            "\rExtracting features:  80%|████████  | 1513/1888 [45:07<10:55,  1.75s/it]"
          ]
        },
        {
          "name": "stdout",
          "output_type": "stream",
          "text": [
            "Saved: sweep_0004, seq_len=40\n"
          ]
        },
        {
          "name": "stderr",
          "output_type": "stream",
          "text": [
            "\rExtracting features:  80%|████████  | 1514/1888 [45:08<09:51,  1.58s/it]"
          ]
        },
        {
          "name": "stdout",
          "output_type": "stream",
          "text": [
            "Saved: sweep_0015, seq_len=40\n"
          ]
        },
        {
          "name": "stderr",
          "output_type": "stream",
          "text": [
            "\rExtracting features:  80%|████████  | 1515/1888 [45:10<10:08,  1.63s/it]"
          ]
        },
        {
          "name": "stdout",
          "output_type": "stream",
          "text": [
            "Saved: sweep_0017, seq_len=40\n"
          ]
        },
        {
          "name": "stderr",
          "output_type": "stream",
          "text": [
            "\rExtracting features:  80%|████████  | 1516/1888 [45:12<11:08,  1.80s/it]"
          ]
        },
        {
          "name": "stdout",
          "output_type": "stream",
          "text": [
            "Saved: sweep_0005, seq_len=40\n"
          ]
        },
        {
          "name": "stderr",
          "output_type": "stream",
          "text": [
            "\rExtracting features:  80%|████████  | 1517/1888 [45:13<09:56,  1.61s/it]"
          ]
        },
        {
          "name": "stdout",
          "output_type": "stream",
          "text": [
            "Saved: sweep_0001, seq_len=40\n"
          ]
        },
        {
          "name": "stderr",
          "output_type": "stream",
          "text": [
            "\rExtracting features:  80%|████████  | 1518/1888 [45:15<10:58,  1.78s/it]"
          ]
        },
        {
          "name": "stdout",
          "output_type": "stream",
          "text": [
            "Saved: sweep_0010, seq_len=40\n"
          ]
        },
        {
          "name": "stderr",
          "output_type": "stream",
          "text": [
            "\rExtracting features:  80%|████████  | 1519/1888 [45:17<10:39,  1.73s/it]"
          ]
        },
        {
          "name": "stdout",
          "output_type": "stream",
          "text": [
            "Saved: sweep_0003, seq_len=40\n"
          ]
        },
        {
          "name": "stderr",
          "output_type": "stream",
          "text": [
            "\rExtracting features:  81%|████████  | 1520/1888 [45:19<10:33,  1.72s/it]"
          ]
        },
        {
          "name": "stdout",
          "output_type": "stream",
          "text": [
            "Saved: sweep_0024, seq_len=40\n"
          ]
        },
        {
          "name": "stderr",
          "output_type": "stream",
          "text": [
            "\rExtracting features:  81%|████████  | 1521/1888 [45:20<09:39,  1.58s/it]"
          ]
        },
        {
          "name": "stdout",
          "output_type": "stream",
          "text": [
            "Saved: sweep_0012, seq_len=40\n"
          ]
        },
        {
          "name": "stderr",
          "output_type": "stream",
          "text": [
            "\rExtracting features:  81%|████████  | 1522/1888 [45:22<10:12,  1.67s/it]"
          ]
        },
        {
          "name": "stdout",
          "output_type": "stream",
          "text": [
            "Saved: sweep_0028, seq_len=40\n"
          ]
        },
        {
          "name": "stderr",
          "output_type": "stream",
          "text": [
            "\rExtracting features:  81%|████████  | 1523/1888 [45:24<10:49,  1.78s/it]"
          ]
        },
        {
          "name": "stdout",
          "output_type": "stream",
          "text": [
            "Saved: sweep_0039, seq_len=40\n"
          ]
        },
        {
          "name": "stderr",
          "output_type": "stream",
          "text": [
            "\rExtracting features:  81%|████████  | 1524/1888 [45:26<10:42,  1.77s/it]"
          ]
        },
        {
          "name": "stdout",
          "output_type": "stream",
          "text": [
            "Saved: sweep_0016, seq_len=40\n"
          ]
        },
        {
          "name": "stderr",
          "output_type": "stream",
          "text": [
            "\rExtracting features:  81%|████████  | 1525/1888 [45:27<10:51,  1.80s/it]"
          ]
        },
        {
          "name": "stdout",
          "output_type": "stream",
          "text": [
            "Saved: sweep_0037, seq_len=40\n"
          ]
        },
        {
          "name": "stderr",
          "output_type": "stream",
          "text": [
            "\rExtracting features:  81%|████████  | 1526/1888 [45:29<10:41,  1.77s/it]"
          ]
        },
        {
          "name": "stdout",
          "output_type": "stream",
          "text": [
            "Saved: sweep_0022, seq_len=40\n"
          ]
        },
        {
          "name": "stderr",
          "output_type": "stream",
          "text": [
            "\rExtracting features:  81%|████████  | 1527/1888 [45:31<10:44,  1.79s/it]"
          ]
        },
        {
          "name": "stdout",
          "output_type": "stream",
          "text": [
            "Saved: sweep_0029, seq_len=40\n"
          ]
        },
        {
          "name": "stderr",
          "output_type": "stream",
          "text": [
            "\rExtracting features:  81%|████████  | 1528/1888 [45:33<10:52,  1.81s/it]"
          ]
        },
        {
          "name": "stdout",
          "output_type": "stream",
          "text": [
            "Saved: sweep_0038, seq_len=40\n"
          ]
        },
        {
          "name": "stderr",
          "output_type": "stream",
          "text": [
            "\rExtracting features:  81%|████████  | 1529/1888 [45:34<09:44,  1.63s/it]"
          ]
        },
        {
          "name": "stdout",
          "output_type": "stream",
          "text": [
            "Saved: sweep_0019, seq_len=40\n"
          ]
        },
        {
          "name": "stderr",
          "output_type": "stream",
          "text": [
            "\rExtracting features:  81%|████████  | 1530/1888 [45:35<09:08,  1.53s/it]"
          ]
        },
        {
          "name": "stdout",
          "output_type": "stream",
          "text": [
            "Saved: sweep_0035, seq_len=40\n"
          ]
        },
        {
          "name": "stderr",
          "output_type": "stream",
          "text": [
            "\rExtracting features:  81%|████████  | 1531/1888 [45:38<10:25,  1.75s/it]"
          ]
        },
        {
          "name": "stdout",
          "output_type": "stream",
          "text": [
            "Saved: sweep_0018, seq_len=40\n"
          ]
        },
        {
          "name": "stderr",
          "output_type": "stream",
          "text": [
            "\rExtracting features:  81%|████████  | 1532/1888 [45:39<10:24,  1.75s/it]"
          ]
        },
        {
          "name": "stdout",
          "output_type": "stream",
          "text": [
            "Saved: sweep_0049, seq_len=40\n"
          ]
        },
        {
          "name": "stderr",
          "output_type": "stream",
          "text": [
            "\rExtracting features:  81%|████████  | 1533/1888 [45:42<11:13,  1.90s/it]"
          ]
        },
        {
          "name": "stdout",
          "output_type": "stream",
          "text": [
            "Saved: sweep_0021, seq_len=40\n"
          ]
        },
        {
          "name": "stderr",
          "output_type": "stream",
          "text": [
            "\rExtracting features:  81%|████████▏ | 1534/1888 [45:43<10:25,  1.77s/it]"
          ]
        },
        {
          "name": "stdout",
          "output_type": "stream",
          "text": [
            "Saved: sweep_0030, seq_len=40\n"
          ]
        },
        {
          "name": "stderr",
          "output_type": "stream",
          "text": [
            "\rExtracting features:  81%|████████▏ | 1535/1888 [45:45<09:59,  1.70s/it]"
          ]
        },
        {
          "name": "stdout",
          "output_type": "stream",
          "text": [
            "Saved: sweep_0032, seq_len=40\n"
          ]
        },
        {
          "name": "stderr",
          "output_type": "stream",
          "text": [
            "\rExtracting features:  81%|████████▏ | 1536/1888 [45:46<10:10,  1.74s/it]"
          ]
        },
        {
          "name": "stdout",
          "output_type": "stream",
          "text": [
            "Saved: sweep_0031, seq_len=40\n"
          ]
        },
        {
          "name": "stderr",
          "output_type": "stream",
          "text": [
            "\rExtracting features:  81%|████████▏ | 1537/1888 [45:48<10:02,  1.72s/it]"
          ]
        },
        {
          "name": "stdout",
          "output_type": "stream",
          "text": [
            "Saved: sweep_0034, seq_len=40\n"
          ]
        },
        {
          "name": "stderr",
          "output_type": "stream",
          "text": [
            "\rExtracting features:  81%|████████▏ | 1538/1888 [45:50<11:05,  1.90s/it]"
          ]
        },
        {
          "name": "stdout",
          "output_type": "stream",
          "text": [
            "Saved: sweep_0033, seq_len=40\n"
          ]
        },
        {
          "name": "stderr",
          "output_type": "stream",
          "text": [
            "\rExtracting features:  82%|████████▏ | 1539/1888 [45:52<10:53,  1.87s/it]"
          ]
        },
        {
          "name": "stdout",
          "output_type": "stream",
          "text": [
            "Saved: sweep_0027, seq_len=40\n"
          ]
        },
        {
          "name": "stderr",
          "output_type": "stream",
          "text": [
            "\rExtracting features:  82%|████████▏ | 1540/1888 [45:54<10:22,  1.79s/it]"
          ]
        },
        {
          "name": "stdout",
          "output_type": "stream",
          "text": [
            "Saved: sweep_0051, seq_len=40\n"
          ]
        },
        {
          "name": "stderr",
          "output_type": "stream",
          "text": [
            "\rExtracting features:  82%|████████▏ | 1541/1888 [45:55<10:00,  1.73s/it]"
          ]
        },
        {
          "name": "stdout",
          "output_type": "stream",
          "text": [
            "Saved: sweep_0053, seq_len=40\n"
          ]
        },
        {
          "name": "stderr",
          "output_type": "stream",
          "text": [
            "\rExtracting features:  82%|████████▏ | 1542/1888 [45:57<10:30,  1.82s/it]"
          ]
        },
        {
          "name": "stdout",
          "output_type": "stream",
          "text": [
            "Saved: sweep_0043, seq_len=40\n"
          ]
        },
        {
          "name": "stderr",
          "output_type": "stream",
          "text": [
            "\rExtracting features:  82%|████████▏ | 1543/1888 [45:59<10:29,  1.82s/it]"
          ]
        },
        {
          "name": "stdout",
          "output_type": "stream",
          "text": [
            "Saved: sweep_0026, seq_len=40\n"
          ]
        },
        {
          "name": "stderr",
          "output_type": "stream",
          "text": [
            "\rExtracting features:  82%|████████▏ | 1544/1888 [46:01<09:21,  1.63s/it]"
          ]
        },
        {
          "name": "stdout",
          "output_type": "stream",
          "text": [
            "Saved: sweep_0040, seq_len=40\n"
          ]
        },
        {
          "name": "stderr",
          "output_type": "stream",
          "text": [
            "\rExtracting features:  82%|████████▏ | 1545/1888 [46:02<08:43,  1.53s/it]"
          ]
        },
        {
          "name": "stdout",
          "output_type": "stream",
          "text": [
            "Saved: sweep_0058, seq_len=40\n"
          ]
        },
        {
          "name": "stderr",
          "output_type": "stream",
          "text": [
            "\rExtracting features:  82%|████████▏ | 1546/1888 [46:04<09:09,  1.61s/it]"
          ]
        },
        {
          "name": "stdout",
          "output_type": "stream",
          "text": [
            "Saved: sweep_0025, seq_len=40\n"
          ]
        },
        {
          "name": "stderr",
          "output_type": "stream",
          "text": [
            "\rExtracting features:  82%|████████▏ | 1547/1888 [46:07<12:18,  2.16s/it]"
          ]
        },
        {
          "name": "stdout",
          "output_type": "stream",
          "text": [
            "Saved: sweep_0047, seq_len=40\n"
          ]
        },
        {
          "name": "stderr",
          "output_type": "stream",
          "text": [
            "\rExtracting features:  82%|████████▏ | 1548/1888 [46:09<12:15,  2.16s/it]"
          ]
        },
        {
          "name": "stdout",
          "output_type": "stream",
          "text": [
            "Saved: sweep_0060, seq_len=40\n"
          ]
        },
        {
          "name": "stderr",
          "output_type": "stream",
          "text": [
            "\rExtracting features:  82%|████████▏ | 1549/1888 [46:11<11:59,  2.12s/it]"
          ]
        },
        {
          "name": "stdout",
          "output_type": "stream",
          "text": [
            "Saved: sweep_0045, seq_len=40\n"
          ]
        },
        {
          "name": "stderr",
          "output_type": "stream",
          "text": [
            "\rExtracting features:  82%|████████▏ | 1550/1888 [46:18<20:07,  3.57s/it]"
          ]
        },
        {
          "name": "stdout",
          "output_type": "stream",
          "text": [
            "Saved: sweep_0044, seq_len=40\n"
          ]
        },
        {
          "name": "stderr",
          "output_type": "stream",
          "text": [
            "\rExtracting features:  82%|████████▏ | 1551/1888 [46:21<18:29,  3.29s/it]"
          ]
        },
        {
          "name": "stdout",
          "output_type": "stream",
          "text": [
            "Saved: sweep_0056, seq_len=40\n"
          ]
        },
        {
          "name": "stderr",
          "output_type": "stream",
          "text": [
            "\rExtracting features:  82%|████████▏ | 1552/1888 [46:23<16:37,  2.97s/it]"
          ]
        },
        {
          "name": "stdout",
          "output_type": "stream",
          "text": [
            "Saved: sweep_0041, seq_len=40\n"
          ]
        },
        {
          "name": "stderr",
          "output_type": "stream",
          "text": [
            "\rExtracting features:  82%|████████▏ | 1553/1888 [46:26<16:18,  2.92s/it]"
          ]
        },
        {
          "name": "stdout",
          "output_type": "stream",
          "text": [
            "Saved: sweep_0042, seq_len=40\n"
          ]
        },
        {
          "name": "stderr",
          "output_type": "stream",
          "text": [
            "\rExtracting features:  82%|████████▏ | 1554/1888 [46:27<13:37,  2.45s/it]"
          ]
        },
        {
          "name": "stdout",
          "output_type": "stream",
          "text": [
            "Saved: sweep_0066, seq_len=40\n"
          ]
        },
        {
          "name": "stderr",
          "output_type": "stream",
          "text": [
            "\rExtracting features:  82%|████████▏ | 1555/1888 [46:29<12:24,  2.24s/it]"
          ]
        },
        {
          "name": "stdout",
          "output_type": "stream",
          "text": [
            "Saved: sweep_0036, seq_len=40\n"
          ]
        },
        {
          "name": "stderr",
          "output_type": "stream",
          "text": [
            "\rExtracting features:  82%|████████▏ | 1556/1888 [46:32<13:14,  2.39s/it]"
          ]
        },
        {
          "name": "stdout",
          "output_type": "stream",
          "text": [
            "Saved: sweep_0057, seq_len=40\n"
          ]
        },
        {
          "name": "stderr",
          "output_type": "stream",
          "text": [
            "\rExtracting features:  82%|████████▏ | 1557/1888 [46:33<11:47,  2.14s/it]"
          ]
        },
        {
          "name": "stdout",
          "output_type": "stream",
          "text": [
            "Saved: sweep_0050, seq_len=40\n"
          ]
        },
        {
          "name": "stderr",
          "output_type": "stream",
          "text": [
            "\rExtracting features:  83%|████████▎ | 1558/1888 [46:35<10:44,  1.95s/it]"
          ]
        },
        {
          "name": "stdout",
          "output_type": "stream",
          "text": [
            "Saved: sweep_0077, seq_len=40\n"
          ]
        },
        {
          "name": "stderr",
          "output_type": "stream",
          "text": [
            "\rExtracting features:  83%|████████▎ | 1559/1888 [46:37<11:08,  2.03s/it]"
          ]
        },
        {
          "name": "stdout",
          "output_type": "stream",
          "text": [
            "Saved: sweep_0063, seq_len=40\n"
          ]
        },
        {
          "name": "stderr",
          "output_type": "stream",
          "text": [
            "\rExtracting features:  83%|████████▎ | 1560/1888 [46:40<11:58,  2.19s/it]"
          ]
        },
        {
          "name": "stdout",
          "output_type": "stream",
          "text": [
            "Saved: sweep_0059, seq_len=40\n"
          ]
        },
        {
          "name": "stderr",
          "output_type": "stream",
          "text": [
            "\rExtracting features:  83%|████████▎ | 1561/1888 [46:41<10:10,  1.87s/it]"
          ]
        },
        {
          "name": "stdout",
          "output_type": "stream",
          "text": [
            "Saved: sweep_0073, seq_len=40\n"
          ]
        },
        {
          "name": "stderr",
          "output_type": "stream",
          "text": [
            "\rExtracting features:  83%|████████▎ | 1562/1888 [46:44<12:04,  2.22s/it]"
          ]
        },
        {
          "name": "stdout",
          "output_type": "stream",
          "text": [
            "Saved: sweep_0062, seq_len=40\n"
          ]
        },
        {
          "name": "stderr",
          "output_type": "stream",
          "text": [
            "\rExtracting features:  83%|████████▎ | 1563/1888 [46:46<12:07,  2.24s/it]"
          ]
        },
        {
          "name": "stdout",
          "output_type": "stream",
          "text": [
            "Saved: sweep_0052, seq_len=40\n"
          ]
        },
        {
          "name": "stderr",
          "output_type": "stream",
          "text": [
            "\rExtracting features:  83%|████████▎ | 1564/1888 [46:48<11:06,  2.06s/it]"
          ]
        },
        {
          "name": "stdout",
          "output_type": "stream",
          "text": [
            "Saved: sweep_0068, seq_len=40\n"
          ]
        },
        {
          "name": "stderr",
          "output_type": "stream",
          "text": [
            "\rExtracting features:  83%|████████▎ | 1565/1888 [46:49<10:08,  1.88s/it]"
          ]
        },
        {
          "name": "stdout",
          "output_type": "stream",
          "text": [
            "Saved: sweep_0061, seq_len=40\n"
          ]
        },
        {
          "name": "stderr",
          "output_type": "stream",
          "text": [
            "\rExtracting features:  83%|████████▎ | 1566/1888 [46:51<09:56,  1.85s/it]"
          ]
        },
        {
          "name": "stdout",
          "output_type": "stream",
          "text": [
            "Saved: sweep_0067, seq_len=40\n"
          ]
        },
        {
          "name": "stderr",
          "output_type": "stream",
          "text": [
            "\rExtracting features:  83%|████████▎ | 1567/1888 [46:52<08:56,  1.67s/it]"
          ]
        },
        {
          "name": "stdout",
          "output_type": "stream",
          "text": [
            "Saved: sweep_0071, seq_len=40\n"
          ]
        },
        {
          "name": "stderr",
          "output_type": "stream",
          "text": [
            "\rExtracting features:  83%|████████▎ | 1568/1888 [46:54<09:09,  1.72s/it]"
          ]
        },
        {
          "name": "stdout",
          "output_type": "stream",
          "text": [
            "Saved: sweep_0046, seq_len=40\n"
          ]
        },
        {
          "name": "stderr",
          "output_type": "stream",
          "text": [
            "\rExtracting features:  83%|████████▎ | 1569/1888 [46:55<08:09,  1.53s/it]"
          ]
        },
        {
          "name": "stdout",
          "output_type": "stream",
          "text": [
            "Saved: sweep_0076, seq_len=40\n"
          ]
        },
        {
          "name": "stderr",
          "output_type": "stream",
          "text": [
            "\rExtracting features:  83%|████████▎ | 1570/1888 [46:57<09:10,  1.73s/it]"
          ]
        },
        {
          "name": "stdout",
          "output_type": "stream",
          "text": [
            "Saved: sweep_0055, seq_len=40\n"
          ]
        },
        {
          "name": "stderr",
          "output_type": "stream",
          "text": [
            "\rExtracting features:  83%|████████▎ | 1571/1888 [46:59<09:14,  1.75s/it]"
          ]
        },
        {
          "name": "stdout",
          "output_type": "stream",
          "text": [
            "Saved: sweep_0087, seq_len=40\n"
          ]
        },
        {
          "name": "stderr",
          "output_type": "stream",
          "text": [
            "\rExtracting features:  83%|████████▎ | 1572/1888 [47:00<08:16,  1.57s/it]"
          ]
        },
        {
          "name": "stdout",
          "output_type": "stream",
          "text": [
            "Saved: sweep_0075, seq_len=40\n"
          ]
        },
        {
          "name": "stderr",
          "output_type": "stream",
          "text": [
            "\rExtracting features:  83%|████████▎ | 1573/1888 [47:01<07:48,  1.49s/it]"
          ]
        },
        {
          "name": "stdout",
          "output_type": "stream",
          "text": [
            "Saved: sweep_0048, seq_len=40\n"
          ]
        },
        {
          "name": "stderr",
          "output_type": "stream",
          "text": [
            "\rExtracting features:  83%|████████▎ | 1574/1888 [47:03<08:29,  1.62s/it]"
          ]
        },
        {
          "name": "stdout",
          "output_type": "stream",
          "text": [
            "Saved: sweep_0054, seq_len=40\n"
          ]
        },
        {
          "name": "stderr",
          "output_type": "stream",
          "text": [
            "\rExtracting features:  83%|████████▎ | 1575/1888 [47:05<08:36,  1.65s/it]"
          ]
        },
        {
          "name": "stdout",
          "output_type": "stream",
          "text": [
            "Saved: sweep_0064, seq_len=40\n"
          ]
        },
        {
          "name": "stderr",
          "output_type": "stream",
          "text": [
            "\rExtracting features:  83%|████████▎ | 1576/1888 [47:07<08:45,  1.68s/it]"
          ]
        },
        {
          "name": "stdout",
          "output_type": "stream",
          "text": [
            "Saved: sweep_0078, seq_len=40\n"
          ]
        },
        {
          "name": "stderr",
          "output_type": "stream",
          "text": [
            "\rExtracting features:  84%|████████▎ | 1577/1888 [47:08<08:24,  1.62s/it]"
          ]
        },
        {
          "name": "stdout",
          "output_type": "stream",
          "text": [
            "Saved: sweep_0074, seq_len=40\n"
          ]
        },
        {
          "name": "stderr",
          "output_type": "stream",
          "text": [
            "\rExtracting features:  84%|████████▎ | 1578/1888 [47:10<08:20,  1.61s/it]"
          ]
        },
        {
          "name": "stdout",
          "output_type": "stream",
          "text": [
            "Saved: sweep_0081, seq_len=40\n"
          ]
        },
        {
          "name": "stderr",
          "output_type": "stream",
          "text": [
            "\rExtracting features:  84%|████████▎ | 1579/1888 [47:11<07:59,  1.55s/it]"
          ]
        },
        {
          "name": "stdout",
          "output_type": "stream",
          "text": [
            "Saved: sweep_0080, seq_len=40\n"
          ]
        },
        {
          "name": "stderr",
          "output_type": "stream",
          "text": [
            "\rExtracting features:  84%|████████▎ | 1580/1888 [47:13<07:30,  1.46s/it]"
          ]
        },
        {
          "name": "stdout",
          "output_type": "stream",
          "text": [
            "Saved: sweep_0093, seq_len=40\n"
          ]
        },
        {
          "name": "stderr",
          "output_type": "stream",
          "text": [
            "\rExtracting features:  84%|████████▎ | 1581/1888 [47:15<08:16,  1.62s/it]"
          ]
        },
        {
          "name": "stdout",
          "output_type": "stream",
          "text": [
            "Saved: sweep_0091, seq_len=40\n"
          ]
        },
        {
          "name": "stderr",
          "output_type": "stream",
          "text": [
            "\rExtracting features:  84%|████████▍ | 1582/1888 [47:16<07:32,  1.48s/it]"
          ]
        },
        {
          "name": "stdout",
          "output_type": "stream",
          "text": [
            "Saved: sweep_0070, seq_len=40\n"
          ]
        },
        {
          "name": "stderr",
          "output_type": "stream",
          "text": [
            "\rExtracting features:  84%|████████▍ | 1583/1888 [47:18<07:54,  1.56s/it]"
          ]
        },
        {
          "name": "stdout",
          "output_type": "stream",
          "text": [
            "Saved: sweep_0065, seq_len=40\n"
          ]
        },
        {
          "name": "stderr",
          "output_type": "stream",
          "text": [
            "\rExtracting features:  84%|████████▍ | 1584/1888 [47:19<08:15,  1.63s/it]"
          ]
        },
        {
          "name": "stdout",
          "output_type": "stream",
          "text": [
            "Saved: sweep_0088, seq_len=40\n"
          ]
        },
        {
          "name": "stderr",
          "output_type": "stream",
          "text": [
            "\rExtracting features:  84%|████████▍ | 1585/1888 [47:21<08:20,  1.65s/it]"
          ]
        },
        {
          "name": "stdout",
          "output_type": "stream",
          "text": [
            "Saved: sweep_0094, seq_len=40\n"
          ]
        },
        {
          "name": "stderr",
          "output_type": "stream",
          "text": [
            "\rExtracting features:  84%|████████▍ | 1586/1888 [47:23<08:27,  1.68s/it]"
          ]
        },
        {
          "name": "stdout",
          "output_type": "stream",
          "text": [
            "Saved: sweep_0085, seq_len=40\n"
          ]
        },
        {
          "name": "stderr",
          "output_type": "stream",
          "text": [
            "\rExtracting features:  84%|████████▍ | 1587/1888 [47:24<08:09,  1.63s/it]"
          ]
        },
        {
          "name": "stdout",
          "output_type": "stream",
          "text": [
            "Saved: sweep_0102, seq_len=40\n"
          ]
        },
        {
          "name": "stderr",
          "output_type": "stream",
          "text": [
            "\rExtracting features:  84%|████████▍ | 1588/1888 [47:26<07:49,  1.57s/it]"
          ]
        },
        {
          "name": "stdout",
          "output_type": "stream",
          "text": [
            "Saved: sweep_0079, seq_len=40\n"
          ]
        },
        {
          "name": "stderr",
          "output_type": "stream",
          "text": [
            "\rExtracting features:  84%|████████▍ | 1589/1888 [47:27<07:28,  1.50s/it]"
          ]
        },
        {
          "name": "stdout",
          "output_type": "stream",
          "text": [
            "Saved: sweep_0095, seq_len=40\n"
          ]
        },
        {
          "name": "stderr",
          "output_type": "stream",
          "text": [
            "\rExtracting features:  84%|████████▍ | 1590/1888 [47:29<07:49,  1.58s/it]"
          ]
        },
        {
          "name": "stdout",
          "output_type": "stream",
          "text": [
            "Saved: sweep_0086, seq_len=40\n"
          ]
        },
        {
          "name": "stderr",
          "output_type": "stream",
          "text": [
            "\rExtracting features:  84%|████████▍ | 1591/1888 [47:31<08:17,  1.67s/it]"
          ]
        },
        {
          "name": "stdout",
          "output_type": "stream",
          "text": [
            "Saved: sweep_0069, seq_len=40\n"
          ]
        },
        {
          "name": "stderr",
          "output_type": "stream",
          "text": [
            "\rExtracting features:  84%|████████▍ | 1592/1888 [47:33<09:32,  1.93s/it]"
          ]
        },
        {
          "name": "stdout",
          "output_type": "stream",
          "text": [
            "Saved: sweep_0096, seq_len=40\n"
          ]
        },
        {
          "name": "stderr",
          "output_type": "stream",
          "text": [
            "\rExtracting features:  84%|████████▍ | 1593/1888 [47:35<08:59,  1.83s/it]"
          ]
        },
        {
          "name": "stdout",
          "output_type": "stream",
          "text": [
            "Saved: sweep_0100, seq_len=40\n"
          ]
        },
        {
          "name": "stderr",
          "output_type": "stream",
          "text": [
            "\rExtracting features:  84%|████████▍ | 1594/1888 [47:36<08:40,  1.77s/it]"
          ]
        },
        {
          "name": "stdout",
          "output_type": "stream",
          "text": [
            "Saved: sweep_0101, seq_len=40\n"
          ]
        },
        {
          "name": "stderr",
          "output_type": "stream",
          "text": [
            "\rExtracting features:  84%|████████▍ | 1595/1888 [47:38<07:47,  1.60s/it]"
          ]
        },
        {
          "name": "stdout",
          "output_type": "stream",
          "text": [
            "Saved: sweep_0072, seq_len=40\n"
          ]
        },
        {
          "name": "stderr",
          "output_type": "stream",
          "text": [
            "\rExtracting features:  85%|████████▍ | 1596/1888 [47:39<07:21,  1.51s/it]"
          ]
        },
        {
          "name": "stdout",
          "output_type": "stream",
          "text": [
            "Saved: sweep_0084, seq_len=40\n"
          ]
        },
        {
          "name": "stderr",
          "output_type": "stream",
          "text": [
            "\rExtracting features:  85%|████████▍ | 1597/1888 [47:41<08:11,  1.69s/it]"
          ]
        },
        {
          "name": "stdout",
          "output_type": "stream",
          "text": [
            "Saved: sweep_0097, seq_len=40\n"
          ]
        },
        {
          "name": "stderr",
          "output_type": "stream",
          "text": [
            "\rExtracting features:  85%|████████▍ | 1598/1888 [47:43<08:36,  1.78s/it]"
          ]
        },
        {
          "name": "stdout",
          "output_type": "stream",
          "text": [
            "Saved: sweep_0089, seq_len=40\n"
          ]
        },
        {
          "name": "stderr",
          "output_type": "stream",
          "text": [
            "\rExtracting features:  85%|████████▍ | 1599/1888 [47:49<14:56,  3.10s/it]"
          ]
        },
        {
          "name": "stdout",
          "output_type": "stream",
          "text": [
            "Saved: sweep_0106, seq_len=40\n"
          ]
        },
        {
          "name": "stderr",
          "output_type": "stream",
          "text": [
            "\rExtracting features:  85%|████████▍ | 1600/1888 [47:51<13:28,  2.81s/it]"
          ]
        },
        {
          "name": "stdout",
          "output_type": "stream",
          "text": [
            "Saved: sweep_0113, seq_len=40\n"
          ]
        },
        {
          "name": "stderr",
          "output_type": "stream",
          "text": [
            "\rExtracting features:  85%|████████▍ | 1601/1888 [47:53<12:02,  2.52s/it]"
          ]
        },
        {
          "name": "stdout",
          "output_type": "stream",
          "text": [
            "Saved: sweep_0109, seq_len=40\n"
          ]
        },
        {
          "name": "stderr",
          "output_type": "stream",
          "text": [
            "\rExtracting features:  85%|████████▍ | 1602/1888 [47:55<11:29,  2.41s/it]"
          ]
        },
        {
          "name": "stdout",
          "output_type": "stream",
          "text": [
            "Saved: sweep_0082, seq_len=40\n"
          ]
        },
        {
          "name": "stderr",
          "output_type": "stream",
          "text": [
            "\rExtracting features:  85%|████████▍ | 1603/1888 [47:57<10:29,  2.21s/it]"
          ]
        },
        {
          "name": "stdout",
          "output_type": "stream",
          "text": [
            "Saved: sweep_0121, seq_len=40\n"
          ]
        },
        {
          "name": "stderr",
          "output_type": "stream",
          "text": [
            "\rExtracting features:  85%|████████▍ | 1604/1888 [47:58<09:05,  1.92s/it]"
          ]
        },
        {
          "name": "stdout",
          "output_type": "stream",
          "text": [
            "Saved: sweep_0099, seq_len=40\n"
          ]
        },
        {
          "name": "stderr",
          "output_type": "stream",
          "text": [
            "\rExtracting features:  85%|████████▌ | 1605/1888 [48:00<09:16,  1.97s/it]"
          ]
        },
        {
          "name": "stdout",
          "output_type": "stream",
          "text": [
            "Saved: sweep_0098, seq_len=40\n"
          ]
        },
        {
          "name": "stderr",
          "output_type": "stream",
          "text": [
            "\rExtracting features:  85%|████████▌ | 1606/1888 [48:02<08:48,  1.87s/it]"
          ]
        },
        {
          "name": "stdout",
          "output_type": "stream",
          "text": [
            "Saved: sweep_0119, seq_len=40\n"
          ]
        },
        {
          "name": "stderr",
          "output_type": "stream",
          "text": [
            "\rExtracting features:  85%|████████▌ | 1607/1888 [48:08<14:28,  3.09s/it]"
          ]
        },
        {
          "name": "stdout",
          "output_type": "stream",
          "text": [
            "Saved: sweep_0090, seq_len=40\n"
          ]
        },
        {
          "name": "stderr",
          "output_type": "stream",
          "text": [
            "\rExtracting features:  85%|████████▌ | 1608/1888 [48:10<12:38,  2.71s/it]"
          ]
        },
        {
          "name": "stdout",
          "output_type": "stream",
          "text": [
            "Saved: sweep_0131, seq_len=40\n"
          ]
        },
        {
          "name": "stderr",
          "output_type": "stream",
          "text": [
            "\rExtracting features:  85%|████████▌ | 1609/1888 [48:12<11:51,  2.55s/it]"
          ]
        },
        {
          "name": "stdout",
          "output_type": "stream",
          "text": [
            "Saved: sweep_0103, seq_len=40\n"
          ]
        },
        {
          "name": "stderr",
          "output_type": "stream",
          "text": [
            "\rExtracting features:  85%|████████▌ | 1610/1888 [48:14<10:38,  2.30s/it]"
          ]
        },
        {
          "name": "stdout",
          "output_type": "stream",
          "text": [
            "Saved: sweep_0083, seq_len=40\n"
          ]
        },
        {
          "name": "stderr",
          "output_type": "stream",
          "text": [
            "\rExtracting features:  85%|████████▌ | 1611/1888 [48:15<09:54,  2.15s/it]"
          ]
        },
        {
          "name": "stdout",
          "output_type": "stream",
          "text": [
            "Saved: sweep_0118, seq_len=40\n"
          ]
        },
        {
          "name": "stderr",
          "output_type": "stream",
          "text": [
            "\rExtracting features:  85%|████████▌ | 1612/1888 [48:17<08:32,  1.86s/it]"
          ]
        },
        {
          "name": "stdout",
          "output_type": "stream",
          "text": [
            "Saved: sweep_0112, seq_len=40\n"
          ]
        },
        {
          "name": "stderr",
          "output_type": "stream",
          "text": [
            "\rExtracting features:  85%|████████▌ | 1613/1888 [48:18<08:27,  1.85s/it]"
          ]
        },
        {
          "name": "stdout",
          "output_type": "stream",
          "text": [
            "Saved: sweep_0108, seq_len=40\n"
          ]
        },
        {
          "name": "stderr",
          "output_type": "stream",
          "text": [
            "\rExtracting features:  85%|████████▌ | 1614/1888 [48:20<08:16,  1.81s/it]"
          ]
        },
        {
          "name": "stdout",
          "output_type": "stream",
          "text": [
            "Saved: sweep_0110, seq_len=40\n"
          ]
        },
        {
          "name": "stderr",
          "output_type": "stream",
          "text": [
            "\rExtracting features:  86%|████████▌ | 1615/1888 [48:22<08:08,  1.79s/it]"
          ]
        },
        {
          "name": "stdout",
          "output_type": "stream",
          "text": [
            "Saved: sweep_0116, seq_len=40\n"
          ]
        },
        {
          "name": "stderr",
          "output_type": "stream",
          "text": [
            "\rExtracting features:  86%|████████▌ | 1616/1888 [48:24<08:04,  1.78s/it]"
          ]
        },
        {
          "name": "stdout",
          "output_type": "stream",
          "text": [
            "Saved: sweep_0104, seq_len=40\n"
          ]
        },
        {
          "name": "stderr",
          "output_type": "stream",
          "text": [
            "\rExtracting features:  86%|████████▌ | 1617/1888 [48:26<08:11,  1.81s/it]"
          ]
        },
        {
          "name": "stdout",
          "output_type": "stream",
          "text": [
            "Saved: sweep_0092, seq_len=40\n"
          ]
        },
        {
          "name": "stderr",
          "output_type": "stream",
          "text": [
            "\rExtracting features:  86%|████████▌ | 1618/1888 [48:27<08:08,  1.81s/it]"
          ]
        },
        {
          "name": "stdout",
          "output_type": "stream",
          "text": [
            "Saved: sweep_0137, seq_len=40\n"
          ]
        },
        {
          "name": "stderr",
          "output_type": "stream",
          "text": [
            "\rExtracting features:  86%|████████▌ | 1619/1888 [48:29<08:04,  1.80s/it]"
          ]
        },
        {
          "name": "stdout",
          "output_type": "stream",
          "text": [
            "Saved: sweep_0140, seq_len=40\n"
          ]
        },
        {
          "name": "stderr",
          "output_type": "stream",
          "text": [
            "\rExtracting features:  86%|████████▌ | 1620/1888 [48:31<08:26,  1.89s/it]"
          ]
        },
        {
          "name": "stdout",
          "output_type": "stream",
          "text": [
            "Saved: sweep_0135, seq_len=40\n"
          ]
        },
        {
          "name": "stderr",
          "output_type": "stream",
          "text": [
            "\rExtracting features:  86%|████████▌ | 1621/1888 [48:32<07:29,  1.68s/it]"
          ]
        },
        {
          "name": "stdout",
          "output_type": "stream",
          "text": [
            "Saved: sweep_0130, seq_len=40\n"
          ]
        },
        {
          "name": "stderr",
          "output_type": "stream",
          "text": [
            "\rExtracting features:  86%|████████▌ | 1622/1888 [48:34<06:49,  1.54s/it]"
          ]
        },
        {
          "name": "stdout",
          "output_type": "stream",
          "text": [
            "Saved: sweep_0105, seq_len=40\n"
          ]
        },
        {
          "name": "stderr",
          "output_type": "stream",
          "text": [
            "\rExtracting features:  86%|████████▌ | 1623/1888 [48:35<06:58,  1.58s/it]"
          ]
        },
        {
          "name": "stdout",
          "output_type": "stream",
          "text": [
            "Saved: sweep_0127, seq_len=40\n"
          ]
        },
        {
          "name": "stderr",
          "output_type": "stream",
          "text": [
            "\rExtracting features:  86%|████████▌ | 1624/1888 [48:38<08:29,  1.93s/it]"
          ]
        },
        {
          "name": "stdout",
          "output_type": "stream",
          "text": [
            "Saved: sweep_0123, seq_len=40\n"
          ]
        },
        {
          "name": "stderr",
          "output_type": "stream",
          "text": [
            "\rExtracting features:  86%|████████▌ | 1625/1888 [48:40<08:56,  2.04s/it]"
          ]
        },
        {
          "name": "stdout",
          "output_type": "stream",
          "text": [
            "Saved: sweep_0122, seq_len=40\n"
          ]
        },
        {
          "name": "stderr",
          "output_type": "stream",
          "text": [
            "\rExtracting features:  86%|████████▌ | 1626/1888 [48:42<08:51,  2.03s/it]"
          ]
        },
        {
          "name": "stdout",
          "output_type": "stream",
          "text": [
            "Saved: sweep_0120, seq_len=40\n"
          ]
        },
        {
          "name": "stderr",
          "output_type": "stream",
          "text": [
            "\rExtracting features:  86%|████████▌ | 1627/1888 [48:44<07:45,  1.78s/it]"
          ]
        },
        {
          "name": "stdout",
          "output_type": "stream",
          "text": [
            "Saved: sweep_0128, seq_len=40\n"
          ]
        },
        {
          "name": "stderr",
          "output_type": "stream",
          "text": [
            "\rExtracting features:  86%|████████▌ | 1628/1888 [48:45<07:39,  1.77s/it]"
          ]
        },
        {
          "name": "stdout",
          "output_type": "stream",
          "text": [
            "Saved: sweep_0114, seq_len=40\n"
          ]
        },
        {
          "name": "stderr",
          "output_type": "stream",
          "text": [
            "\rExtracting features:  86%|████████▋ | 1629/1888 [48:47<07:02,  1.63s/it]"
          ]
        },
        {
          "name": "stdout",
          "output_type": "stream",
          "text": [
            "Saved: sweep_0134, seq_len=40\n"
          ]
        },
        {
          "name": "stderr",
          "output_type": "stream",
          "text": [
            "\rExtracting features:  86%|████████▋ | 1630/1888 [48:48<06:35,  1.53s/it]"
          ]
        },
        {
          "name": "stdout",
          "output_type": "stream",
          "text": [
            "Saved: sweep_0111, seq_len=40\n"
          ]
        },
        {
          "name": "stderr",
          "output_type": "stream",
          "text": [
            "\rExtracting features:  86%|████████▋ | 1631/1888 [48:49<06:07,  1.43s/it]"
          ]
        },
        {
          "name": "stdout",
          "output_type": "stream",
          "text": [
            "Saved: sweep_0144, seq_len=40\n"
          ]
        },
        {
          "name": "stderr",
          "output_type": "stream",
          "text": [
            "\rExtracting features:  86%|████████▋ | 1632/1888 [48:51<06:34,  1.54s/it]"
          ]
        },
        {
          "name": "stdout",
          "output_type": "stream",
          "text": [
            "Saved: sweep_0115, seq_len=40\n"
          ]
        },
        {
          "name": "stderr",
          "output_type": "stream",
          "text": [
            "\rExtracting features:  86%|████████▋ | 1633/1888 [48:53<06:47,  1.60s/it]"
          ]
        },
        {
          "name": "stdout",
          "output_type": "stream",
          "text": [
            "Saved: sweep_0133, seq_len=40\n"
          ]
        },
        {
          "name": "stderr",
          "output_type": "stream",
          "text": [
            "\rExtracting features:  87%|████████▋ | 1634/1888 [48:55<07:06,  1.68s/it]"
          ]
        },
        {
          "name": "stdout",
          "output_type": "stream",
          "text": [
            "Saved: sweep_0117, seq_len=40\n"
          ]
        },
        {
          "name": "stderr",
          "output_type": "stream",
          "text": [
            "\rExtracting features:  87%|████████▋ | 1635/1888 [48:56<07:19,  1.74s/it]"
          ]
        },
        {
          "name": "stdout",
          "output_type": "stream",
          "text": [
            "Saved: sweep_0107, seq_len=40\n"
          ]
        },
        {
          "name": "stderr",
          "output_type": "stream",
          "text": [
            "\rExtracting features:  87%|████████▋ | 1636/1888 [48:59<08:28,  2.02s/it]"
          ]
        },
        {
          "name": "stdout",
          "output_type": "stream",
          "text": [
            "Saved: sweep_0124, seq_len=40\n"
          ]
        },
        {
          "name": "stderr",
          "output_type": "stream",
          "text": [
            "\rExtracting features:  87%|████████▋ | 1637/1888 [49:00<07:31,  1.80s/it]"
          ]
        },
        {
          "name": "stdout",
          "output_type": "stream",
          "text": [
            "Saved: sweep_0129, seq_len=40\n"
          ]
        },
        {
          "name": "stderr",
          "output_type": "stream",
          "text": [
            "\rExtracting features:  87%|████████▋ | 1638/1888 [49:03<08:06,  1.95s/it]"
          ]
        },
        {
          "name": "stdout",
          "output_type": "stream",
          "text": [
            "Saved: sweep_0125, seq_len=40\n"
          ]
        },
        {
          "name": "stderr",
          "output_type": "stream",
          "text": [
            "\rExtracting features:  87%|████████▋ | 1639/1888 [49:04<07:26,  1.79s/it]"
          ]
        },
        {
          "name": "stdout",
          "output_type": "stream",
          "text": [
            "Saved: sweep_0160, seq_len=40\n"
          ]
        },
        {
          "name": "stderr",
          "output_type": "stream",
          "text": [
            "\rExtracting features:  87%|████████▋ | 1640/1888 [49:06<07:20,  1.78s/it]"
          ]
        },
        {
          "name": "stdout",
          "output_type": "stream",
          "text": [
            "Saved: sweep_0145, seq_len=40\n"
          ]
        },
        {
          "name": "stderr",
          "output_type": "stream",
          "text": [
            "\rExtracting features:  87%|████████▋ | 1641/1888 [49:08<07:21,  1.79s/it]"
          ]
        },
        {
          "name": "stdout",
          "output_type": "stream",
          "text": [
            "Saved: sweep_0138, seq_len=40\n"
          ]
        },
        {
          "name": "stderr",
          "output_type": "stream",
          "text": [
            "\rExtracting features:  87%|████████▋ | 1642/1888 [49:09<06:35,  1.61s/it]"
          ]
        },
        {
          "name": "stdout",
          "output_type": "stream",
          "text": [
            "Saved: sweep_0155, seq_len=40\n"
          ]
        },
        {
          "name": "stderr",
          "output_type": "stream",
          "text": [
            "\rExtracting features:  87%|████████▋ | 1643/1888 [49:11<06:54,  1.69s/it]"
          ]
        },
        {
          "name": "stdout",
          "output_type": "stream",
          "text": [
            "Saved: sweep_0146, seq_len=40\n"
          ]
        },
        {
          "name": "stderr",
          "output_type": "stream",
          "text": [
            "\rExtracting features:  87%|████████▋ | 1644/1888 [49:12<06:55,  1.70s/it]"
          ]
        },
        {
          "name": "stdout",
          "output_type": "stream",
          "text": [
            "Saved: sweep_0158, seq_len=40\n"
          ]
        },
        {
          "name": "stderr",
          "output_type": "stream",
          "text": [
            "\rExtracting features:  87%|████████▋ | 1645/1888 [49:14<06:14,  1.54s/it]"
          ]
        },
        {
          "name": "stdout",
          "output_type": "stream",
          "text": [
            "Saved: sweep_0142, seq_len=40\n"
          ]
        },
        {
          "name": "stderr",
          "output_type": "stream",
          "text": [
            "\rExtracting features:  87%|████████▋ | 1646/1888 [49:16<06:54,  1.71s/it]"
          ]
        },
        {
          "name": "stdout",
          "output_type": "stream",
          "text": [
            "Saved: sweep_0136, seq_len=40\n"
          ]
        },
        {
          "name": "stderr",
          "output_type": "stream",
          "text": [
            "\rExtracting features:  87%|████████▋ | 1647/1888 [49:17<06:46,  1.69s/it]"
          ]
        },
        {
          "name": "stdout",
          "output_type": "stream",
          "text": [
            "Saved: sweep_0154, seq_len=40\n"
          ]
        },
        {
          "name": "stderr",
          "output_type": "stream",
          "text": [
            "\rExtracting features:  87%|████████▋ | 1648/1888 [49:19<07:08,  1.78s/it]"
          ]
        },
        {
          "name": "stdout",
          "output_type": "stream",
          "text": [
            "Saved: sweep_0157, seq_len=40\n"
          ]
        },
        {
          "name": "stderr",
          "output_type": "stream",
          "text": [
            "\rExtracting features:  87%|████████▋ | 1649/1888 [49:21<06:22,  1.60s/it]"
          ]
        },
        {
          "name": "stdout",
          "output_type": "stream",
          "text": [
            "Saved: sweep_0148, seq_len=40\n"
          ]
        },
        {
          "name": "stderr",
          "output_type": "stream",
          "text": [
            "\rExtracting features:  87%|████████▋ | 1650/1888 [49:22<05:53,  1.49s/it]"
          ]
        },
        {
          "name": "stdout",
          "output_type": "stream",
          "text": [
            "Saved: sweep_0147, seq_len=40\n"
          ]
        },
        {
          "name": "stderr",
          "output_type": "stream",
          "text": [
            "\rExtracting features:  87%|████████▋ | 1651/1888 [49:23<05:30,  1.40s/it]"
          ]
        },
        {
          "name": "stdout",
          "output_type": "stream",
          "text": [
            "Saved: sweep_0141, seq_len=40\n"
          ]
        },
        {
          "name": "stderr",
          "output_type": "stream",
          "text": [
            "\rExtracting features:  88%|████████▊ | 1652/1888 [49:26<07:29,  1.90s/it]"
          ]
        },
        {
          "name": "stdout",
          "output_type": "stream",
          "text": [
            "Saved: sweep_0152, seq_len=40\n"
          ]
        },
        {
          "name": "stderr",
          "output_type": "stream",
          "text": [
            "\rExtracting features:  88%|████████▊ | 1653/1888 [49:28<07:39,  1.95s/it]"
          ]
        },
        {
          "name": "stdout",
          "output_type": "stream",
          "text": [
            "Saved: sweep_0126, seq_len=40\n"
          ]
        },
        {
          "name": "stderr",
          "output_type": "stream",
          "text": [
            "\rExtracting features:  88%|████████▊ | 1654/1888 [49:30<07:09,  1.84s/it]"
          ]
        },
        {
          "name": "stdout",
          "output_type": "stream",
          "text": [
            "Saved: sweep_0139, seq_len=40\n"
          ]
        },
        {
          "name": "stderr",
          "output_type": "stream",
          "text": [
            "\rExtracting features:  88%|████████▊ | 1655/1888 [49:32<07:39,  1.97s/it]"
          ]
        },
        {
          "name": "stdout",
          "output_type": "stream",
          "text": [
            "Saved: sweep_0151, seq_len=40\n"
          ]
        },
        {
          "name": "stderr",
          "output_type": "stream",
          "text": [
            "\rExtracting features:  88%|████████▊ | 1656/1888 [49:34<07:28,  1.93s/it]"
          ]
        },
        {
          "name": "stdout",
          "output_type": "stream",
          "text": [
            "Saved: sweep_0132, seq_len=40\n"
          ]
        },
        {
          "name": "stderr",
          "output_type": "stream",
          "text": [
            "\rExtracting features:  88%|████████▊ | 1657/1888 [49:36<07:22,  1.91s/it]"
          ]
        },
        {
          "name": "stdout",
          "output_type": "stream",
          "text": [
            "Saved: sweep_0150, seq_len=40\n"
          ]
        },
        {
          "name": "stderr",
          "output_type": "stream",
          "text": [
            "\rExtracting features:  88%|████████▊ | 1658/1888 [49:37<06:29,  1.69s/it]"
          ]
        },
        {
          "name": "stdout",
          "output_type": "stream",
          "text": [
            "Saved: sweep_0149, seq_len=40\n"
          ]
        },
        {
          "name": "stderr",
          "output_type": "stream",
          "text": [
            "\rExtracting features:  88%|████████▊ | 1659/1888 [49:38<05:49,  1.53s/it]"
          ]
        },
        {
          "name": "stdout",
          "output_type": "stream",
          "text": [
            "Saved: sweep_0143, seq_len=40\n"
          ]
        },
        {
          "name": "stderr",
          "output_type": "stream",
          "text": [
            "\rExtracting features:  88%|████████▊ | 1660/1888 [49:40<06:22,  1.68s/it]"
          ]
        },
        {
          "name": "stdout",
          "output_type": "stream",
          "text": [
            "Saved: sweep_0166, seq_len=40\n"
          ]
        },
        {
          "name": "stderr",
          "output_type": "stream",
          "text": [
            "\rExtracting features:  88%|████████▊ | 1661/1888 [49:42<06:11,  1.63s/it]"
          ]
        },
        {
          "name": "stdout",
          "output_type": "stream",
          "text": [
            "Saved: sweep_0175, seq_len=40\n"
          ]
        },
        {
          "name": "stderr",
          "output_type": "stream",
          "text": [
            "\rExtracting features:  88%|████████▊ | 1662/1888 [49:44<07:30,  1.99s/it]"
          ]
        },
        {
          "name": "stdout",
          "output_type": "stream",
          "text": [
            "Saved: sweep_0153, seq_len=40\n"
          ]
        },
        {
          "name": "stderr",
          "output_type": "stream",
          "text": [
            "\rExtracting features:  88%|████████▊ | 1663/1888 [49:46<06:32,  1.74s/it]"
          ]
        },
        {
          "name": "stdout",
          "output_type": "stream",
          "text": [
            "Saved: sweep_0164, seq_len=40\n"
          ]
        },
        {
          "name": "stderr",
          "output_type": "stream",
          "text": [
            "\rExtracting features:  88%|████████▊ | 1664/1888 [49:47<06:00,  1.61s/it]"
          ]
        },
        {
          "name": "stdout",
          "output_type": "stream",
          "text": [
            "Saved: sweep_0189, seq_len=40\n"
          ]
        },
        {
          "name": "stderr",
          "output_type": "stream",
          "text": [
            "\rExtracting features:  88%|████████▊ | 1665/1888 [49:49<06:07,  1.65s/it]"
          ]
        },
        {
          "name": "stdout",
          "output_type": "stream",
          "text": [
            "Saved: sweep_0181, seq_len=40\n"
          ]
        },
        {
          "name": "stderr",
          "output_type": "stream",
          "text": [
            "\rExtracting features:  88%|████████▊ | 1666/1888 [49:50<06:11,  1.68s/it]"
          ]
        },
        {
          "name": "stdout",
          "output_type": "stream",
          "text": [
            "Saved: sweep_0171, seq_len=40\n"
          ]
        },
        {
          "name": "stderr",
          "output_type": "stream",
          "text": [
            "\rExtracting features:  88%|████████▊ | 1667/1888 [49:52<06:10,  1.68s/it]"
          ]
        },
        {
          "name": "stdout",
          "output_type": "stream",
          "text": [
            "Saved: sweep_0162, seq_len=40\n"
          ]
        },
        {
          "name": "stderr",
          "output_type": "stream",
          "text": [
            "\rExtracting features:  88%|████████▊ | 1668/1888 [49:53<05:54,  1.61s/it]"
          ]
        },
        {
          "name": "stdout",
          "output_type": "stream",
          "text": [
            "Saved: sweep_0168, seq_len=40\n"
          ]
        },
        {
          "name": "stderr",
          "output_type": "stream",
          "text": [
            "\rExtracting features:  88%|████████▊ | 1669/1888 [49:55<05:38,  1.54s/it]"
          ]
        },
        {
          "name": "stdout",
          "output_type": "stream",
          "text": [
            "Saved: sweep_0169, seq_len=40\n"
          ]
        },
        {
          "name": "stderr",
          "output_type": "stream",
          "text": [
            "\rExtracting features:  88%|████████▊ | 1670/1888 [49:56<05:04,  1.40s/it]"
          ]
        },
        {
          "name": "stdout",
          "output_type": "stream",
          "text": [
            "Saved: sweep_0156, seq_len=40\n"
          ]
        },
        {
          "name": "stderr",
          "output_type": "stream",
          "text": [
            "\rExtracting features:  89%|████████▊ | 1671/1888 [49:58<05:25,  1.50s/it]"
          ]
        },
        {
          "name": "stdout",
          "output_type": "stream",
          "text": [
            "Saved: sweep_0177, seq_len=40\n"
          ]
        },
        {
          "name": "stderr",
          "output_type": "stream",
          "text": [
            "\rExtracting features:  89%|████████▊ | 1672/1888 [50:00<05:54,  1.64s/it]"
          ]
        },
        {
          "name": "stdout",
          "output_type": "stream",
          "text": [
            "Saved: sweep_0178, seq_len=40\n"
          ]
        },
        {
          "name": "stderr",
          "output_type": "stream",
          "text": [
            "\rExtracting features:  89%|████████▊ | 1673/1888 [50:01<06:05,  1.70s/it]"
          ]
        },
        {
          "name": "stdout",
          "output_type": "stream",
          "text": [
            "Saved: sweep_0163, seq_len=40\n"
          ]
        },
        {
          "name": "stderr",
          "output_type": "stream",
          "text": [
            "\rExtracting features:  89%|████████▊ | 1674/1888 [50:03<05:52,  1.65s/it]"
          ]
        },
        {
          "name": "stdout",
          "output_type": "stream",
          "text": [
            "Saved: sweep_0191, seq_len=40\n"
          ]
        },
        {
          "name": "stderr",
          "output_type": "stream",
          "text": [
            "\rExtracting features:  89%|████████▊ | 1675/1888 [50:04<05:27,  1.54s/it]"
          ]
        },
        {
          "name": "stdout",
          "output_type": "stream",
          "text": [
            "Saved: sweep_0173, seq_len=40\n"
          ]
        },
        {
          "name": "stderr",
          "output_type": "stream",
          "text": [
            "\rExtracting features:  89%|████████▉ | 1676/1888 [50:07<07:12,  2.04s/it]"
          ]
        },
        {
          "name": "stdout",
          "output_type": "stream",
          "text": [
            "Saved: sweep_0179, seq_len=40\n"
          ]
        },
        {
          "name": "stderr",
          "output_type": "stream",
          "text": [
            "\rExtracting features:  89%|████████▉ | 1677/1888 [50:10<07:40,  2.18s/it]"
          ]
        },
        {
          "name": "stdout",
          "output_type": "stream",
          "text": [
            "Saved: sweep_0184, seq_len=40\n"
          ]
        },
        {
          "name": "stderr",
          "output_type": "stream",
          "text": [
            "\rExtracting features:  89%|████████▉ | 1678/1888 [50:12<07:09,  2.05s/it]"
          ]
        },
        {
          "name": "stdout",
          "output_type": "stream",
          "text": [
            "Saved: sweep_0161, seq_len=40\n"
          ]
        },
        {
          "name": "stderr",
          "output_type": "stream",
          "text": [
            "\rExtracting features:  89%|████████▉ | 1679/1888 [50:13<06:09,  1.77s/it]"
          ]
        },
        {
          "name": "stdout",
          "output_type": "stream",
          "text": [
            "Saved: sweep_0167, seq_len=40\n"
          ]
        },
        {
          "name": "stderr",
          "output_type": "stream",
          "text": [
            "\rExtracting features:  89%|████████▉ | 1680/1888 [50:14<05:29,  1.59s/it]"
          ]
        },
        {
          "name": "stdout",
          "output_type": "stream",
          "text": [
            "Saved: sweep_0170, seq_len=40\n"
          ]
        },
        {
          "name": "stderr",
          "output_type": "stream",
          "text": [
            "\rExtracting features:  89%|████████▉ | 1681/1888 [50:16<05:42,  1.65s/it]"
          ]
        },
        {
          "name": "stdout",
          "output_type": "stream",
          "text": [
            "Saved: sweep_0165, seq_len=40\n"
          ]
        },
        {
          "name": "stderr",
          "output_type": "stream",
          "text": [
            "\rExtracting features:  89%|████████▉ | 1682/1888 [50:18<05:50,  1.70s/it]"
          ]
        },
        {
          "name": "stdout",
          "output_type": "stream",
          "text": [
            "Saved: sweep_0159, seq_len=40\n"
          ]
        },
        {
          "name": "stderr",
          "output_type": "stream",
          "text": [
            "\rExtracting features:  89%|████████▉ | 1683/1888 [50:19<05:40,  1.66s/it]"
          ]
        },
        {
          "name": "stdout",
          "output_type": "stream",
          "text": [
            "Saved: sweep_0176, seq_len=40\n"
          ]
        },
        {
          "name": "stderr",
          "output_type": "stream",
          "text": [
            "\rExtracting features:  89%|████████▉ | 1684/1888 [50:21<05:59,  1.76s/it]"
          ]
        },
        {
          "name": "stdout",
          "output_type": "stream",
          "text": [
            "Saved: sweep_0174, seq_len=40\n"
          ]
        },
        {
          "name": "stderr",
          "output_type": "stream",
          "text": [
            "\rExtracting features:  89%|████████▉ | 1685/1888 [50:24<06:35,  1.95s/it]"
          ]
        },
        {
          "name": "stdout",
          "output_type": "stream",
          "text": [
            "Saved: sweep_0182, seq_len=40\n"
          ]
        },
        {
          "name": "stderr",
          "output_type": "stream",
          "text": [
            "\rExtracting features:  89%|████████▉ | 1686/1888 [50:26<06:33,  1.95s/it]"
          ]
        },
        {
          "name": "stdout",
          "output_type": "stream",
          "text": [
            "Saved: sweep_0185, seq_len=40\n"
          ]
        },
        {
          "name": "stderr",
          "output_type": "stream",
          "text": [
            "\rExtracting features:  89%|████████▉ | 1687/1888 [50:28<06:37,  1.98s/it]"
          ]
        },
        {
          "name": "stdout",
          "output_type": "stream",
          "text": [
            "Saved: sweep_0187, seq_len=40\n"
          ]
        },
        {
          "name": "stderr",
          "output_type": "stream",
          "text": [
            "\rExtracting features:  89%|████████▉ | 1688/1888 [50:29<06:26,  1.93s/it]"
          ]
        },
        {
          "name": "stdout",
          "output_type": "stream",
          "text": [
            "Saved: sweep_0193, seq_len=40\n"
          ]
        },
        {
          "name": "stderr",
          "output_type": "stream",
          "text": [
            "\rExtracting features:  89%|████████▉ | 1689/1888 [50:31<05:58,  1.80s/it]"
          ]
        },
        {
          "name": "stdout",
          "output_type": "stream",
          "text": [
            "Saved: sweep_0186, seq_len=40\n"
          ]
        },
        {
          "name": "stderr",
          "output_type": "stream",
          "text": [
            "\rExtracting features:  90%|████████▉ | 1690/1888 [50:34<07:35,  2.30s/it]"
          ]
        },
        {
          "name": "stdout",
          "output_type": "stream",
          "text": [
            "Saved: sweep_0183, seq_len=40\n"
          ]
        },
        {
          "name": "stderr",
          "output_type": "stream",
          "text": [
            "\rExtracting features:  90%|████████▉ | 1691/1888 [50:43<13:54,  4.24s/it]"
          ]
        },
        {
          "name": "stdout",
          "output_type": "stream",
          "text": [
            "Saved: sweep_0194, seq_len=40\n"
          ]
        },
        {
          "name": "stderr",
          "output_type": "stream",
          "text": [
            "\rExtracting features:  90%|████████▉ | 1692/1888 [50:47<13:07,  4.02s/it]"
          ]
        },
        {
          "name": "stdout",
          "output_type": "stream",
          "text": [
            "Saved: sweep_0188, seq_len=40\n"
          ]
        },
        {
          "name": "stderr",
          "output_type": "stream",
          "text": [
            "\rExtracting features:  90%|████████▉ | 1693/1888 [50:48<10:16,  3.16s/it]"
          ]
        },
        {
          "name": "stdout",
          "output_type": "stream",
          "text": [
            "Saved: sweep_0180, seq_len=40\n"
          ]
        },
        {
          "name": "stderr",
          "output_type": "stream",
          "text": [
            "\rExtracting features:  90%|████████▉ | 1694/1888 [50:53<12:13,  3.78s/it]"
          ]
        },
        {
          "name": "stdout",
          "output_type": "stream",
          "text": [
            "Saved: sweep_0192, seq_len=40\n"
          ]
        },
        {
          "name": "stderr",
          "output_type": "stream",
          "text": [
            "\rExtracting features:  90%|████████▉ | 1695/1888 [50:55<10:47,  3.36s/it]"
          ]
        },
        {
          "name": "stdout",
          "output_type": "stream",
          "text": [
            "Saved: sweep_0172, seq_len=40\n"
          ]
        },
        {
          "name": "stderr",
          "output_type": "stream",
          "text": [
            "\rExtracting features:  90%|████████▉ | 1696/1888 [50:57<08:56,  2.80s/it]"
          ]
        },
        {
          "name": "stdout",
          "output_type": "stream",
          "text": [
            "Saved: straight_0024, seq_len=40\n"
          ]
        },
        {
          "name": "stderr",
          "output_type": "stream",
          "text": [
            "\rExtracting features:  90%|████████▉ | 1697/1888 [50:59<07:57,  2.50s/it]"
          ]
        },
        {
          "name": "stdout",
          "output_type": "stream",
          "text": [
            "Saved: straight_0015, seq_len=40\n"
          ]
        },
        {
          "name": "stderr",
          "output_type": "stream",
          "text": [
            "\rExtracting features:  90%|████████▉ | 1698/1888 [51:00<06:27,  2.04s/it]"
          ]
        },
        {
          "name": "stdout",
          "output_type": "stream",
          "text": [
            "Saved: straight_0028, seq_len=40\n"
          ]
        },
        {
          "name": "stderr",
          "output_type": "stream",
          "text": [
            "\rExtracting features:  90%|████████▉ | 1699/1888 [51:01<05:33,  1.77s/it]"
          ]
        },
        {
          "name": "stdout",
          "output_type": "stream",
          "text": [
            "Saved: straight_0020, seq_len=40\n"
          ]
        },
        {
          "name": "stderr",
          "output_type": "stream",
          "text": [
            "\rExtracting features:  90%|█████████ | 1700/1888 [51:02<04:46,  1.52s/it]"
          ]
        },
        {
          "name": "stdout",
          "output_type": "stream",
          "text": [
            "Saved: straight_0027, seq_len=40\n"
          ]
        },
        {
          "name": "stderr",
          "output_type": "stream",
          "text": [
            "\rExtracting features:  90%|█████████ | 1701/1888 [51:03<04:20,  1.40s/it]"
          ]
        },
        {
          "name": "stdout",
          "output_type": "stream",
          "text": [
            "Saved: straight_0025, seq_len=40\n"
          ]
        },
        {
          "name": "stderr",
          "output_type": "stream",
          "text": [
            "\rExtracting features:  90%|█████████ | 1702/1888 [51:04<04:08,  1.34s/it]"
          ]
        },
        {
          "name": "stdout",
          "output_type": "stream",
          "text": [
            "Saved: straight_0018, seq_len=40\n"
          ]
        },
        {
          "name": "stderr",
          "output_type": "stream",
          "text": [
            "\rExtracting features:  90%|█████████ | 1703/1888 [51:06<04:39,  1.51s/it]"
          ]
        },
        {
          "name": "stdout",
          "output_type": "stream",
          "text": [
            "Saved: straight_0016, seq_len=40\n"
          ]
        },
        {
          "name": "stderr",
          "output_type": "stream",
          "text": [
            "\rExtracting features:  90%|█████████ | 1704/1888 [51:08<04:42,  1.54s/it]"
          ]
        },
        {
          "name": "stdout",
          "output_type": "stream",
          "text": [
            "Saved: straight_0022, seq_len=40\n"
          ]
        },
        {
          "name": "stderr",
          "output_type": "stream",
          "text": [
            "\rExtracting features:  90%|█████████ | 1705/1888 [51:15<10:32,  3.46s/it]"
          ]
        },
        {
          "name": "stdout",
          "output_type": "stream",
          "text": [
            "Saved: straight_0030, seq_len=40\n"
          ]
        },
        {
          "name": "stderr",
          "output_type": "stream",
          "text": [
            "\rExtracting features:  90%|█████████ | 1706/1888 [51:18<09:24,  3.10s/it]"
          ]
        },
        {
          "name": "stdout",
          "output_type": "stream",
          "text": [
            "Saved: straight_0002, seq_len=40\n"
          ]
        },
        {
          "name": "stderr",
          "output_type": "stream",
          "text": [
            "\rExtracting features:  90%|█████████ | 1707/1888 [51:20<08:52,  2.94s/it]"
          ]
        },
        {
          "name": "stdout",
          "output_type": "stream",
          "text": [
            "Saved: straight_0004, seq_len=40\n"
          ]
        },
        {
          "name": "stderr",
          "output_type": "stream",
          "text": [
            "\rExtracting features:  90%|█████████ | 1708/1888 [51:22<07:32,  2.51s/it]"
          ]
        },
        {
          "name": "stdout",
          "output_type": "stream",
          "text": [
            "Saved: straight_0017, seq_len=40\n"
          ]
        },
        {
          "name": "stderr",
          "output_type": "stream",
          "text": [
            "\rExtracting features:  91%|█████████ | 1709/1888 [51:24<07:24,  2.48s/it]"
          ]
        },
        {
          "name": "stdout",
          "output_type": "stream",
          "text": [
            "Saved: straight_0038, seq_len=40\n"
          ]
        },
        {
          "name": "stderr",
          "output_type": "stream",
          "text": [
            "\rExtracting features:  91%|█████████ | 1710/1888 [51:26<06:54,  2.33s/it]"
          ]
        },
        {
          "name": "stdout",
          "output_type": "stream",
          "text": [
            "Saved: straight_0005, seq_len=40\n"
          ]
        },
        {
          "name": "stderr",
          "output_type": "stream",
          "text": [
            "\rExtracting features:  91%|█████████ | 1711/1888 [51:27<05:53,  2.00s/it]"
          ]
        },
        {
          "name": "stdout",
          "output_type": "stream",
          "text": [
            "Saved: straight_0026, seq_len=40\n"
          ]
        },
        {
          "name": "stderr",
          "output_type": "stream",
          "text": [
            "\rExtracting features:  91%|█████████ | 1712/1888 [51:29<05:55,  2.02s/it]"
          ]
        },
        {
          "name": "stdout",
          "output_type": "stream",
          "text": [
            "Saved: straight_0008, seq_len=40\n"
          ]
        },
        {
          "name": "stderr",
          "output_type": "stream",
          "text": [
            "\rExtracting features:  91%|█████████ | 1713/1888 [51:31<05:12,  1.79s/it]"
          ]
        },
        {
          "name": "stdout",
          "output_type": "stream",
          "text": [
            "Saved: straight_0009, seq_len=40\n"
          ]
        },
        {
          "name": "stderr",
          "output_type": "stream",
          "text": [
            "\rExtracting features:  91%|█████████ | 1714/1888 [51:33<05:41,  1.96s/it]"
          ]
        },
        {
          "name": "stdout",
          "output_type": "stream",
          "text": [
            "Saved: straight_0014, seq_len=40\n"
          ]
        },
        {
          "name": "stderr",
          "output_type": "stream",
          "text": [
            "\rExtracting features:  91%|█████████ | 1715/1888 [51:35<05:29,  1.90s/it]"
          ]
        },
        {
          "name": "stdout",
          "output_type": "stream",
          "text": [
            "Saved: straight_0007, seq_len=40\n"
          ]
        },
        {
          "name": "stderr",
          "output_type": "stream",
          "text": [
            "\rExtracting features:  91%|█████████ | 1716/1888 [51:37<05:51,  2.04s/it]"
          ]
        },
        {
          "name": "stdout",
          "output_type": "stream",
          "text": [
            "Saved: straight_0037, seq_len=40\n"
          ]
        },
        {
          "name": "stderr",
          "output_type": "stream",
          "text": [
            "\rExtracting features:  91%|█████████ | 1717/1888 [51:39<05:16,  1.85s/it]"
          ]
        },
        {
          "name": "stdout",
          "output_type": "stream",
          "text": [
            "Saved: straight_0012, seq_len=40\n"
          ]
        },
        {
          "name": "stderr",
          "output_type": "stream",
          "text": [
            "\rExtracting features:  91%|█████████ | 1718/1888 [51:40<05:12,  1.84s/it]"
          ]
        },
        {
          "name": "stdout",
          "output_type": "stream",
          "text": [
            "Saved: straight_0035, seq_len=40\n"
          ]
        },
        {
          "name": "stderr",
          "output_type": "stream",
          "text": [
            "\rExtracting features:  91%|█████████ | 1719/1888 [51:47<09:02,  3.21s/it]"
          ]
        },
        {
          "name": "stdout",
          "output_type": "stream",
          "text": [
            "Saved: straight_0023, seq_len=40\n"
          ]
        },
        {
          "name": "stderr",
          "output_type": "stream",
          "text": [
            "\rExtracting features:  91%|█████████ | 1720/1888 [51:49<07:52,  2.81s/it]"
          ]
        },
        {
          "name": "stdout",
          "output_type": "stream",
          "text": [
            "Saved: straight_0031, seq_len=40\n"
          ]
        },
        {
          "name": "stderr",
          "output_type": "stream",
          "text": [
            "\rExtracting features:  91%|█████████ | 1721/1888 [51:50<06:31,  2.34s/it]"
          ]
        },
        {
          "name": "stdout",
          "output_type": "stream",
          "text": [
            "Saved: straight_0013, seq_len=40\n"
          ]
        },
        {
          "name": "stderr",
          "output_type": "stream",
          "text": [
            "\rExtracting features:  91%|█████████ | 1722/1888 [51:51<05:45,  2.08s/it]"
          ]
        },
        {
          "name": "stdout",
          "output_type": "stream",
          "text": [
            "Saved: straight_0034, seq_len=40\n"
          ]
        },
        {
          "name": "stderr",
          "output_type": "stream",
          "text": [
            "\rExtracting features:  91%|█████████▏| 1723/1888 [51:54<05:43,  2.08s/it]"
          ]
        },
        {
          "name": "stdout",
          "output_type": "stream",
          "text": [
            "Saved: straight_0011, seq_len=40\n"
          ]
        },
        {
          "name": "stderr",
          "output_type": "stream",
          "text": [
            "\rExtracting features:  91%|█████████▏| 1724/1888 [52:00<08:56,  3.27s/it]"
          ]
        },
        {
          "name": "stdout",
          "output_type": "stream",
          "text": [
            "Saved: straight_0029, seq_len=40\n"
          ]
        },
        {
          "name": "stderr",
          "output_type": "stream",
          "text": [
            "\rExtracting features:  91%|█████████▏| 1725/1888 [52:01<07:11,  2.65s/it]"
          ]
        },
        {
          "name": "stdout",
          "output_type": "stream",
          "text": [
            "Saved: straight_0021, seq_len=40\n"
          ]
        },
        {
          "name": "stderr",
          "output_type": "stream",
          "text": [
            "\rExtracting features:  91%|█████████▏| 1726/1888 [52:04<07:56,  2.94s/it]"
          ]
        },
        {
          "name": "stdout",
          "output_type": "stream",
          "text": [
            "Saved: straight_0010, seq_len=40\n"
          ]
        },
        {
          "name": "stderr",
          "output_type": "stream",
          "text": [
            "\rExtracting features:  91%|█████████▏| 1727/1888 [52:06<06:34,  2.45s/it]"
          ]
        },
        {
          "name": "stdout",
          "output_type": "stream",
          "text": [
            "Saved: straight_0001, seq_len=40\n"
          ]
        },
        {
          "name": "stderr",
          "output_type": "stream",
          "text": [
            "\rExtracting features:  92%|█████████▏| 1728/1888 [52:07<05:35,  2.09s/it]"
          ]
        },
        {
          "name": "stdout",
          "output_type": "stream",
          "text": [
            "Saved: straight_0006, seq_len=40\n"
          ]
        },
        {
          "name": "stderr",
          "output_type": "stream",
          "text": [
            "\rExtracting features:  92%|█████████▏| 1729/1888 [52:09<05:19,  2.01s/it]"
          ]
        },
        {
          "name": "stdout",
          "output_type": "stream",
          "text": [
            "Saved: straight_0052, seq_len=40\n"
          ]
        },
        {
          "name": "stderr",
          "output_type": "stream",
          "text": [
            "\rExtracting features:  92%|█████████▏| 1730/1888 [52:12<05:52,  2.23s/it]"
          ]
        },
        {
          "name": "stdout",
          "output_type": "stream",
          "text": [
            "Saved: straight_0044, seq_len=40\n"
          ]
        },
        {
          "name": "stderr",
          "output_type": "stream",
          "text": [
            "\rExtracting features:  92%|█████████▏| 1731/1888 [52:13<05:11,  1.98s/it]"
          ]
        },
        {
          "name": "stdout",
          "output_type": "stream",
          "text": [
            "Saved: straight_0041, seq_len=40\n"
          ]
        },
        {
          "name": "stderr",
          "output_type": "stream",
          "text": [
            "\rExtracting features:  92%|█████████▏| 1732/1888 [52:14<04:42,  1.81s/it]"
          ]
        },
        {
          "name": "stdout",
          "output_type": "stream",
          "text": [
            "Saved: straight_0032, seq_len=40\n"
          ]
        },
        {
          "name": "stderr",
          "output_type": "stream",
          "text": [
            "\rExtracting features:  92%|█████████▏| 1733/1888 [52:16<04:17,  1.66s/it]"
          ]
        },
        {
          "name": "stdout",
          "output_type": "stream",
          "text": [
            "Saved: straight_0036, seq_len=40\n"
          ]
        },
        {
          "name": "stderr",
          "output_type": "stream",
          "text": [
            "\rExtracting features:  92%|█████████▏| 1734/1888 [52:17<04:00,  1.56s/it]"
          ]
        },
        {
          "name": "stdout",
          "output_type": "stream",
          "text": [
            "Saved: straight_0056, seq_len=40\n"
          ]
        },
        {
          "name": "stderr",
          "output_type": "stream",
          "text": [
            "\rExtracting features:  92%|█████████▏| 1735/1888 [52:19<04:20,  1.70s/it]"
          ]
        },
        {
          "name": "stdout",
          "output_type": "stream",
          "text": [
            "Saved: straight_0019, seq_len=40\n"
          ]
        },
        {
          "name": "stderr",
          "output_type": "stream",
          "text": [
            "\rExtracting features:  92%|█████████▏| 1736/1888 [52:21<04:35,  1.81s/it]"
          ]
        },
        {
          "name": "stdout",
          "output_type": "stream",
          "text": [
            "Saved: straight_0040, seq_len=40\n"
          ]
        },
        {
          "name": "stderr",
          "output_type": "stream",
          "text": [
            "\rExtracting features:  92%|█████████▏| 1737/1888 [52:24<05:12,  2.07s/it]"
          ]
        },
        {
          "name": "stdout",
          "output_type": "stream",
          "text": [
            "Saved: straight_0053, seq_len=40\n"
          ]
        },
        {
          "name": "stderr",
          "output_type": "stream",
          "text": [
            "\rExtracting features:  92%|█████████▏| 1738/1888 [52:27<06:10,  2.47s/it]"
          ]
        },
        {
          "name": "stdout",
          "output_type": "stream",
          "text": [
            "Saved: straight_0042, seq_len=40\n"
          ]
        },
        {
          "name": "stderr",
          "output_type": "stream",
          "text": [
            "\rExtracting features:  92%|█████████▏| 1739/1888 [52:29<05:48,  2.34s/it]"
          ]
        },
        {
          "name": "stdout",
          "output_type": "stream",
          "text": [
            "Saved: straight_0048, seq_len=40\n"
          ]
        },
        {
          "name": "stderr",
          "output_type": "stream",
          "text": [
            "\rExtracting features:  92%|█████████▏| 1740/1888 [52:32<06:18,  2.56s/it]"
          ]
        },
        {
          "name": "stdout",
          "output_type": "stream",
          "text": [
            "Saved: straight_0070, seq_len=40\n"
          ]
        },
        {
          "name": "stderr",
          "output_type": "stream",
          "text": [
            "\rExtracting features:  92%|█████████▏| 1741/1888 [52:35<06:17,  2.57s/it]"
          ]
        },
        {
          "name": "stdout",
          "output_type": "stream",
          "text": [
            "Saved: straight_0039, seq_len=40\n"
          ]
        },
        {
          "name": "stderr",
          "output_type": "stream",
          "text": [
            "\rExtracting features:  92%|█████████▏| 1742/1888 [52:36<05:33,  2.28s/it]"
          ]
        },
        {
          "name": "stdout",
          "output_type": "stream",
          "text": [
            "Saved: straight_0033, seq_len=40\n"
          ]
        },
        {
          "name": "stderr",
          "output_type": "stream",
          "text": [
            "\rExtracting features:  92%|█████████▏| 1743/1888 [52:39<05:21,  2.22s/it]"
          ]
        },
        {
          "name": "stdout",
          "output_type": "stream",
          "text": [
            "Saved: straight_0055, seq_len=40\n"
          ]
        },
        {
          "name": "stderr",
          "output_type": "stream",
          "text": [
            "\rExtracting features:  92%|█████████▏| 1744/1888 [52:40<05:02,  2.10s/it]"
          ]
        },
        {
          "name": "stdout",
          "output_type": "stream",
          "text": [
            "Saved: straight_0068, seq_len=40\n"
          ]
        },
        {
          "name": "stderr",
          "output_type": "stream",
          "text": [
            "\rExtracting features:  92%|█████████▏| 1745/1888 [52:42<04:53,  2.05s/it]"
          ]
        },
        {
          "name": "stdout",
          "output_type": "stream",
          "text": [
            "Saved: straight_0003, seq_len=40\n"
          ]
        },
        {
          "name": "stderr",
          "output_type": "stream",
          "text": [
            "\rExtracting features:  92%|█████████▏| 1746/1888 [52:44<04:15,  1.80s/it]"
          ]
        },
        {
          "name": "stdout",
          "output_type": "stream",
          "text": [
            "Saved: straight_0043, seq_len=40\n"
          ]
        },
        {
          "name": "stderr",
          "output_type": "stream",
          "text": [
            "\rExtracting features:  93%|█████████▎| 1747/1888 [52:45<04:17,  1.82s/it]"
          ]
        },
        {
          "name": "stdout",
          "output_type": "stream",
          "text": [
            "Saved: straight_0047, seq_len=40\n"
          ]
        },
        {
          "name": "stderr",
          "output_type": "stream",
          "text": [
            "\rExtracting features:  93%|█████████▎| 1748/1888 [52:48<04:40,  2.00s/it]"
          ]
        },
        {
          "name": "stdout",
          "output_type": "stream",
          "text": [
            "Saved: straight_0046, seq_len=40\n"
          ]
        },
        {
          "name": "stderr",
          "output_type": "stream",
          "text": [
            "\rExtracting features:  93%|█████████▎| 1749/1888 [52:49<04:20,  1.87s/it]"
          ]
        },
        {
          "name": "stdout",
          "output_type": "stream",
          "text": [
            "Saved: straight_0085, seq_len=40\n"
          ]
        },
        {
          "name": "stderr",
          "output_type": "stream",
          "text": [
            "\rExtracting features:  93%|█████████▎| 1750/1888 [52:52<04:37,  2.01s/it]"
          ]
        },
        {
          "name": "stdout",
          "output_type": "stream",
          "text": [
            "Saved: straight_0061, seq_len=40\n"
          ]
        },
        {
          "name": "stderr",
          "output_type": "stream",
          "text": [
            "\rExtracting features:  93%|█████████▎| 1751/1888 [52:54<04:37,  2.02s/it]"
          ]
        },
        {
          "name": "stdout",
          "output_type": "stream",
          "text": [
            "Saved: straight_0079, seq_len=40\n"
          ]
        },
        {
          "name": "stderr",
          "output_type": "stream",
          "text": [
            "\rExtracting features:  93%|█████████▎| 1752/1888 [53:02<08:36,  3.80s/it]"
          ]
        },
        {
          "name": "stdout",
          "output_type": "stream",
          "text": [
            "Saved: straight_0075, seq_len=40\n"
          ]
        },
        {
          "name": "stderr",
          "output_type": "stream",
          "text": [
            "\rExtracting features:  93%|█████████▎| 1753/1888 [53:04<07:12,  3.20s/it]"
          ]
        },
        {
          "name": "stdout",
          "output_type": "stream",
          "text": [
            "Saved: straight_0089, seq_len=40\n"
          ]
        },
        {
          "name": "stderr",
          "output_type": "stream",
          "text": [
            "\rExtracting features:  93%|█████████▎| 1754/1888 [53:05<05:49,  2.61s/it]"
          ]
        },
        {
          "name": "stdout",
          "output_type": "stream",
          "text": [
            "Saved: straight_0054, seq_len=40\n"
          ]
        },
        {
          "name": "stderr",
          "output_type": "stream",
          "text": [
            "\rExtracting features:  93%|█████████▎| 1755/1888 [53:06<04:57,  2.23s/it]"
          ]
        },
        {
          "name": "stdout",
          "output_type": "stream",
          "text": [
            "Saved: straight_0051, seq_len=40\n"
          ]
        },
        {
          "name": "stderr",
          "output_type": "stream",
          "text": [
            "\rExtracting features:  93%|█████████▎| 1756/1888 [53:08<04:38,  2.11s/it]"
          ]
        },
        {
          "name": "stdout",
          "output_type": "stream",
          "text": [
            "Saved: straight_0095, seq_len=40\n"
          ]
        },
        {
          "name": "stderr",
          "output_type": "stream",
          "text": [
            "\rExtracting features:  93%|█████████▎| 1757/1888 [53:10<04:40,  2.14s/it]"
          ]
        },
        {
          "name": "stdout",
          "output_type": "stream",
          "text": [
            "Saved: straight_0065, seq_len=40\n"
          ]
        },
        {
          "name": "stderr",
          "output_type": "stream",
          "text": [
            "\rExtracting features:  93%|█████████▎| 1758/1888 [53:12<04:08,  1.91s/it]"
          ]
        },
        {
          "name": "stdout",
          "output_type": "stream",
          "text": [
            "Saved: straight_0076, seq_len=40\n"
          ]
        },
        {
          "name": "stderr",
          "output_type": "stream",
          "text": [
            "\rExtracting features:  93%|█████████▎| 1759/1888 [53:14<04:24,  2.05s/it]"
          ]
        },
        {
          "name": "stdout",
          "output_type": "stream",
          "text": [
            "Saved: straight_0058, seq_len=40\n"
          ]
        },
        {
          "name": "stderr",
          "output_type": "stream",
          "text": [
            "\rExtracting features:  93%|█████████▎| 1760/1888 [53:15<03:58,  1.86s/it]"
          ]
        },
        {
          "name": "stdout",
          "output_type": "stream",
          "text": [
            "Saved: straight_0045, seq_len=40\n"
          ]
        },
        {
          "name": "stderr",
          "output_type": "stream",
          "text": [
            "\rExtracting features:  93%|█████████▎| 1761/1888 [53:17<04:02,  1.91s/it]"
          ]
        },
        {
          "name": "stdout",
          "output_type": "stream",
          "text": [
            "Saved: straight_0086, seq_len=40\n"
          ]
        },
        {
          "name": "stderr",
          "output_type": "stream",
          "text": [
            "\rExtracting features:  93%|█████████▎| 1762/1888 [53:20<04:14,  2.02s/it]"
          ]
        },
        {
          "name": "stdout",
          "output_type": "stream",
          "text": [
            "Saved: straight_0064, seq_len=40\n"
          ]
        },
        {
          "name": "stderr",
          "output_type": "stream",
          "text": [
            "\rExtracting features:  93%|█████████▎| 1763/1888 [53:22<04:12,  2.02s/it]"
          ]
        },
        {
          "name": "stdout",
          "output_type": "stream",
          "text": [
            "Saved: straight_0059, seq_len=40\n"
          ]
        },
        {
          "name": "stderr",
          "output_type": "stream",
          "text": [
            "\rExtracting features:  93%|█████████▎| 1764/1888 [53:23<03:46,  1.83s/it]"
          ]
        },
        {
          "name": "stdout",
          "output_type": "stream",
          "text": [
            "Saved: straight_0049, seq_len=40\n"
          ]
        },
        {
          "name": "stderr",
          "output_type": "stream",
          "text": [
            "\rExtracting features:  93%|█████████▎| 1765/1888 [53:25<03:50,  1.87s/it]"
          ]
        },
        {
          "name": "stdout",
          "output_type": "stream",
          "text": [
            "Saved: straight_0062, seq_len=40\n"
          ]
        },
        {
          "name": "stderr",
          "output_type": "stream",
          "text": [
            "\rExtracting features:  94%|█████████▎| 1766/1888 [53:27<03:43,  1.83s/it]"
          ]
        },
        {
          "name": "stdout",
          "output_type": "stream",
          "text": [
            "Saved: straight_0050, seq_len=40\n"
          ]
        },
        {
          "name": "stderr",
          "output_type": "stream",
          "text": [
            "\rExtracting features:  94%|█████████▎| 1767/1888 [53:29<03:41,  1.83s/it]"
          ]
        },
        {
          "name": "stdout",
          "output_type": "stream",
          "text": [
            "Saved: straight_0073, seq_len=40\n"
          ]
        },
        {
          "name": "stderr",
          "output_type": "stream",
          "text": [
            "\rExtracting features:  94%|█████████▎| 1768/1888 [53:30<03:43,  1.86s/it]"
          ]
        },
        {
          "name": "stdout",
          "output_type": "stream",
          "text": [
            "Saved: straight_0063, seq_len=40\n"
          ]
        },
        {
          "name": "stderr",
          "output_type": "stream",
          "text": [
            "\rExtracting features:  94%|█████████▎| 1769/1888 [53:32<03:46,  1.90s/it]"
          ]
        },
        {
          "name": "stdout",
          "output_type": "stream",
          "text": [
            "Saved: straight_0099, seq_len=40\n"
          ]
        },
        {
          "name": "stderr",
          "output_type": "stream",
          "text": [
            "\rExtracting features:  94%|█████████▍| 1770/1888 [53:34<03:29,  1.77s/it]"
          ]
        },
        {
          "name": "stdout",
          "output_type": "stream",
          "text": [
            "Saved: straight_0081, seq_len=40\n"
          ]
        },
        {
          "name": "stderr",
          "output_type": "stream",
          "text": [
            "\rExtracting features:  94%|█████████▍| 1771/1888 [53:36<03:36,  1.85s/it]"
          ]
        },
        {
          "name": "stdout",
          "output_type": "stream",
          "text": [
            "Saved: straight_0067, seq_len=40\n"
          ]
        },
        {
          "name": "stderr",
          "output_type": "stream",
          "text": [
            "\rExtracting features:  94%|█████████▍| 1772/1888 [53:38<03:49,  1.98s/it]"
          ]
        },
        {
          "name": "stdout",
          "output_type": "stream",
          "text": [
            "Saved: straight_0072, seq_len=40\n"
          ]
        },
        {
          "name": "stderr",
          "output_type": "stream",
          "text": [
            "\rExtracting features:  94%|█████████▍| 1773/1888 [53:40<03:35,  1.87s/it]"
          ]
        },
        {
          "name": "stdout",
          "output_type": "stream",
          "text": [
            "Saved: straight_0094, seq_len=40\n"
          ]
        },
        {
          "name": "stderr",
          "output_type": "stream",
          "text": [
            "\rExtracting features:  94%|█████████▍| 1774/1888 [53:41<03:16,  1.72s/it]"
          ]
        },
        {
          "name": "stdout",
          "output_type": "stream",
          "text": [
            "Saved: straight_0087, seq_len=40\n"
          ]
        },
        {
          "name": "stderr",
          "output_type": "stream",
          "text": [
            "\rExtracting features:  94%|█████████▍| 1775/1888 [53:44<03:35,  1.91s/it]"
          ]
        },
        {
          "name": "stdout",
          "output_type": "stream",
          "text": [
            "Saved: straight_0057, seq_len=40\n"
          ]
        },
        {
          "name": "stderr",
          "output_type": "stream",
          "text": [
            "\rExtracting features:  94%|█████████▍| 1776/1888 [53:46<03:34,  1.92s/it]"
          ]
        },
        {
          "name": "stdout",
          "output_type": "stream",
          "text": [
            "Saved: straight_0069, seq_len=40\n"
          ]
        },
        {
          "name": "stderr",
          "output_type": "stream",
          "text": [
            "\rExtracting features:  94%|█████████▍| 1777/1888 [53:48<03:34,  1.93s/it]"
          ]
        },
        {
          "name": "stdout",
          "output_type": "stream",
          "text": [
            "Saved: straight_0083, seq_len=40\n"
          ]
        },
        {
          "name": "stderr",
          "output_type": "stream",
          "text": [
            "\rExtracting features:  94%|█████████▍| 1778/1888 [53:50<03:46,  2.06s/it]"
          ]
        },
        {
          "name": "stdout",
          "output_type": "stream",
          "text": [
            "Saved: straight_0066, seq_len=40\n"
          ]
        },
        {
          "name": "stderr",
          "output_type": "stream",
          "text": [
            "\rExtracting features:  94%|█████████▍| 1779/1888 [53:52<03:37,  2.00s/it]"
          ]
        },
        {
          "name": "stdout",
          "output_type": "stream",
          "text": [
            "Saved: straight_0080, seq_len=40\n"
          ]
        },
        {
          "name": "stderr",
          "output_type": "stream",
          "text": [
            "\rExtracting features:  94%|█████████▍| 1780/1888 [53:53<03:11,  1.78s/it]"
          ]
        },
        {
          "name": "stdout",
          "output_type": "stream",
          "text": [
            "Saved: straight_0088, seq_len=40\n"
          ]
        },
        {
          "name": "stderr",
          "output_type": "stream",
          "text": [
            "\rExtracting features:  94%|█████████▍| 1781/1888 [53:55<03:08,  1.76s/it]"
          ]
        },
        {
          "name": "stdout",
          "output_type": "stream",
          "text": [
            "Saved: straight_0093, seq_len=40\n"
          ]
        },
        {
          "name": "stderr",
          "output_type": "stream",
          "text": [
            "\rExtracting features:  94%|█████████▍| 1782/1888 [53:56<03:02,  1.72s/it]"
          ]
        },
        {
          "name": "stdout",
          "output_type": "stream",
          "text": [
            "Saved: straight_0060, seq_len=40\n"
          ]
        },
        {
          "name": "stderr",
          "output_type": "stream",
          "text": [
            "\rExtracting features:  94%|█████████▍| 1783/1888 [53:58<03:07,  1.78s/it]"
          ]
        },
        {
          "name": "stdout",
          "output_type": "stream",
          "text": [
            "Saved: straight_0071, seq_len=40\n"
          ]
        },
        {
          "name": "stderr",
          "output_type": "stream",
          "text": [
            "\rExtracting features:  94%|█████████▍| 1784/1888 [53:59<02:47,  1.61s/it]"
          ]
        },
        {
          "name": "stdout",
          "output_type": "stream",
          "text": [
            "Saved: straight_0077, seq_len=40\n"
          ]
        },
        {
          "name": "stderr",
          "output_type": "stream",
          "text": [
            "\rExtracting features:  95%|█████████▍| 1785/1888 [54:01<02:51,  1.66s/it]"
          ]
        },
        {
          "name": "stdout",
          "output_type": "stream",
          "text": [
            "Saved: straight_0074, seq_len=40\n"
          ]
        },
        {
          "name": "stderr",
          "output_type": "stream",
          "text": [
            "\rExtracting features:  95%|█████████▍| 1786/1888 [54:03<02:59,  1.76s/it]"
          ]
        },
        {
          "name": "stdout",
          "output_type": "stream",
          "text": [
            "Saved: straight_0084, seq_len=40\n"
          ]
        },
        {
          "name": "stderr",
          "output_type": "stream",
          "text": [
            "\rExtracting features:  95%|█████████▍| 1787/1888 [54:05<02:47,  1.66s/it]"
          ]
        },
        {
          "name": "stdout",
          "output_type": "stream",
          "text": [
            "Saved: straight_0122, seq_len=40\n"
          ]
        },
        {
          "name": "stderr",
          "output_type": "stream",
          "text": [
            "\rExtracting features:  95%|█████████▍| 1788/1888 [54:07<02:55,  1.75s/it]"
          ]
        },
        {
          "name": "stdout",
          "output_type": "stream",
          "text": [
            "Saved: straight_0106, seq_len=40\n"
          ]
        },
        {
          "name": "stderr",
          "output_type": "stream",
          "text": [
            "\rExtracting features:  95%|█████████▍| 1789/1888 [54:08<02:40,  1.63s/it]"
          ]
        },
        {
          "name": "stdout",
          "output_type": "stream",
          "text": [
            "Saved: straight_0102, seq_len=40\n"
          ]
        },
        {
          "name": "stderr",
          "output_type": "stream",
          "text": [
            "\rExtracting features:  95%|█████████▍| 1790/1888 [54:10<02:48,  1.72s/it]"
          ]
        },
        {
          "name": "stdout",
          "output_type": "stream",
          "text": [
            "Saved: straight_0103, seq_len=40\n"
          ]
        },
        {
          "name": "stderr",
          "output_type": "stream",
          "text": [
            "\rExtracting features:  95%|█████████▍| 1791/1888 [54:12<02:49,  1.75s/it]"
          ]
        },
        {
          "name": "stdout",
          "output_type": "stream",
          "text": [
            "Saved: straight_0090, seq_len=40\n"
          ]
        },
        {
          "name": "stderr",
          "output_type": "stream",
          "text": [
            "\rExtracting features:  95%|█████████▍| 1792/1888 [54:24<07:59,  5.00s/it]"
          ]
        },
        {
          "name": "stdout",
          "output_type": "stream",
          "text": [
            "Saved: straight_0096, seq_len=40\n"
          ]
        },
        {
          "name": "stderr",
          "output_type": "stream",
          "text": [
            "\rExtracting features:  95%|█████████▍| 1793/1888 [54:26<06:25,  4.06s/it]"
          ]
        },
        {
          "name": "stdout",
          "output_type": "stream",
          "text": [
            "Saved: straight_0091, seq_len=40\n"
          ]
        },
        {
          "name": "stderr",
          "output_type": "stream",
          "text": [
            "\rExtracting features:  95%|█████████▌| 1794/1888 [54:33<07:27,  4.76s/it]"
          ]
        },
        {
          "name": "stdout",
          "output_type": "stream",
          "text": [
            "Saved: straight_0115, seq_len=40\n"
          ]
        },
        {
          "name": "stderr",
          "output_type": "stream",
          "text": [
            "\rExtracting features:  95%|█████████▌| 1795/1888 [54:36<06:46,  4.37s/it]"
          ]
        },
        {
          "name": "stdout",
          "output_type": "stream",
          "text": [
            "Saved: straight_0098, seq_len=40\n"
          ]
        },
        {
          "name": "stderr",
          "output_type": "stream",
          "text": [
            "\rExtracting features:  95%|█████████▌| 1796/1888 [54:38<05:30,  3.59s/it]"
          ]
        },
        {
          "name": "stdout",
          "output_type": "stream",
          "text": [
            "Saved: straight_0111, seq_len=40\n"
          ]
        },
        {
          "name": "stderr",
          "output_type": "stream",
          "text": [
            "\rExtracting features:  95%|█████████▌| 1797/1888 [54:39<04:33,  3.01s/it]"
          ]
        },
        {
          "name": "stdout",
          "output_type": "stream",
          "text": [
            "Saved: straight_0109, seq_len=40\n"
          ]
        },
        {
          "name": "stderr",
          "output_type": "stream",
          "text": [
            "\rExtracting features:  95%|█████████▌| 1798/1888 [54:41<03:59,  2.66s/it]"
          ]
        },
        {
          "name": "stdout",
          "output_type": "stream",
          "text": [
            "Saved: straight_0092, seq_len=40\n"
          ]
        },
        {
          "name": "stderr",
          "output_type": "stream",
          "text": [
            "\rExtracting features:  95%|█████████▌| 1799/1888 [54:43<03:32,  2.39s/it]"
          ]
        },
        {
          "name": "stdout",
          "output_type": "stream",
          "text": [
            "Saved: straight_0126, seq_len=40\n"
          ]
        },
        {
          "name": "stderr",
          "output_type": "stream",
          "text": [
            "\rExtracting features:  95%|█████████▌| 1800/1888 [54:45<03:16,  2.24s/it]"
          ]
        },
        {
          "name": "stdout",
          "output_type": "stream",
          "text": [
            "Saved: straight_0104, seq_len=40\n"
          ]
        },
        {
          "name": "stderr",
          "output_type": "stream",
          "text": [
            "\rExtracting features:  95%|█████████▌| 1801/1888 [54:46<02:49,  1.95s/it]"
          ]
        },
        {
          "name": "stdout",
          "output_type": "stream",
          "text": [
            "Saved: straight_0113, seq_len=40\n"
          ]
        },
        {
          "name": "stderr",
          "output_type": "stream",
          "text": [
            "\rExtracting features:  95%|█████████▌| 1802/1888 [54:48<02:42,  1.89s/it]"
          ]
        },
        {
          "name": "stdout",
          "output_type": "stream",
          "text": [
            "Saved: straight_0112, seq_len=40\n"
          ]
        },
        {
          "name": "stderr",
          "output_type": "stream",
          "text": [
            "\rExtracting features:  95%|█████████▌| 1803/1888 [54:49<02:24,  1.70s/it]"
          ]
        },
        {
          "name": "stdout",
          "output_type": "stream",
          "text": [
            "Saved: straight_0110, seq_len=40\n"
          ]
        },
        {
          "name": "stderr",
          "output_type": "stream",
          "text": [
            "\rExtracting features:  96%|█████████▌| 1804/1888 [54:51<02:28,  1.77s/it]"
          ]
        },
        {
          "name": "stdout",
          "output_type": "stream",
          "text": [
            "Saved: straight_0108, seq_len=40\n"
          ]
        },
        {
          "name": "stderr",
          "output_type": "stream",
          "text": [
            "\rExtracting features:  96%|█████████▌| 1805/1888 [54:53<02:36,  1.89s/it]"
          ]
        },
        {
          "name": "stdout",
          "output_type": "stream",
          "text": [
            "Saved: straight_0105, seq_len=40\n"
          ]
        },
        {
          "name": "stderr",
          "output_type": "stream",
          "text": [
            "\rExtracting features:  96%|█████████▌| 1806/1888 [54:55<02:36,  1.90s/it]"
          ]
        },
        {
          "name": "stdout",
          "output_type": "stream",
          "text": [
            "Saved: straight_0082, seq_len=40\n"
          ]
        },
        {
          "name": "stderr",
          "output_type": "stream",
          "text": [
            "\rExtracting features:  96%|█████████▌| 1807/1888 [54:57<02:37,  1.95s/it]"
          ]
        },
        {
          "name": "stdout",
          "output_type": "stream",
          "text": [
            "Saved: straight_0078, seq_len=40\n"
          ]
        },
        {
          "name": "stderr",
          "output_type": "stream",
          "text": [
            "\rExtracting features:  96%|█████████▌| 1808/1888 [54:59<02:17,  1.72s/it]"
          ]
        },
        {
          "name": "stdout",
          "output_type": "stream",
          "text": [
            "Saved: straight_0119, seq_len=40\n"
          ]
        },
        {
          "name": "stderr",
          "output_type": "stream",
          "text": [
            "\rExtracting features:  96%|█████████▌| 1809/1888 [55:01<02:25,  1.84s/it]"
          ]
        },
        {
          "name": "stdout",
          "output_type": "stream",
          "text": [
            "Saved: straight_0140, seq_len=40\n"
          ]
        },
        {
          "name": "stderr",
          "output_type": "stream",
          "text": [
            "\rExtracting features:  96%|█████████▌| 1810/1888 [55:03<02:41,  2.07s/it]"
          ]
        },
        {
          "name": "stdout",
          "output_type": "stream",
          "text": [
            "Saved: straight_0120, seq_len=40\n"
          ]
        },
        {
          "name": "stderr",
          "output_type": "stream",
          "text": [
            "\rExtracting features:  96%|█████████▌| 1811/1888 [55:06<02:53,  2.25s/it]"
          ]
        },
        {
          "name": "stdout",
          "output_type": "stream",
          "text": [
            "Saved: straight_0100, seq_len=40\n"
          ]
        },
        {
          "name": "stderr",
          "output_type": "stream",
          "text": [
            "\rExtracting features:  96%|█████████▌| 1812/1888 [55:08<02:42,  2.13s/it]"
          ]
        },
        {
          "name": "stdout",
          "output_type": "stream",
          "text": [
            "Saved: straight_0141, seq_len=40\n"
          ]
        },
        {
          "name": "stderr",
          "output_type": "stream",
          "text": [
            "\rExtracting features:  96%|█████████▌| 1813/1888 [55:10<02:49,  2.26s/it]"
          ]
        },
        {
          "name": "stdout",
          "output_type": "stream",
          "text": [
            "Saved: straight_0123, seq_len=40\n"
          ]
        },
        {
          "name": "stderr",
          "output_type": "stream",
          "text": [
            "\rExtracting features:  96%|█████████▌| 1814/1888 [55:12<02:38,  2.14s/it]"
          ]
        },
        {
          "name": "stdout",
          "output_type": "stream",
          "text": [
            "Saved: straight_0101, seq_len=40\n"
          ]
        },
        {
          "name": "stderr",
          "output_type": "stream",
          "text": [
            "\rExtracting features:  96%|█████████▌| 1815/1888 [55:14<02:21,  1.94s/it]"
          ]
        },
        {
          "name": "stdout",
          "output_type": "stream",
          "text": [
            "Saved: straight_0131, seq_len=40\n"
          ]
        },
        {
          "name": "stderr",
          "output_type": "stream",
          "text": [
            "\rExtracting features:  96%|█████████▌| 1816/1888 [55:16<02:18,  1.93s/it]"
          ]
        },
        {
          "name": "stdout",
          "output_type": "stream",
          "text": [
            "Saved: straight_0135, seq_len=40\n"
          ]
        },
        {
          "name": "stderr",
          "output_type": "stream",
          "text": [
            "\rExtracting features:  96%|█████████▌| 1817/1888 [55:17<02:10,  1.84s/it]"
          ]
        },
        {
          "name": "stdout",
          "output_type": "stream",
          "text": [
            "Saved: straight_0097, seq_len=40\n"
          ]
        },
        {
          "name": "stderr",
          "output_type": "stream",
          "text": [
            "\rExtracting features:  96%|█████████▋| 1818/1888 [55:19<02:04,  1.77s/it]"
          ]
        },
        {
          "name": "stdout",
          "output_type": "stream",
          "text": [
            "Saved: straight_0168, seq_len=40\n"
          ]
        },
        {
          "name": "stderr",
          "output_type": "stream",
          "text": [
            "\rExtracting features:  96%|█████████▋| 1819/1888 [55:21<02:13,  1.93s/it]"
          ]
        },
        {
          "name": "stdout",
          "output_type": "stream",
          "text": [
            "Saved: straight_0147, seq_len=40\n"
          ]
        },
        {
          "name": "stderr",
          "output_type": "stream",
          "text": [
            "\rExtracting features:  96%|█████████▋| 1820/1888 [55:23<02:12,  1.95s/it]"
          ]
        },
        {
          "name": "stdout",
          "output_type": "stream",
          "text": [
            "Saved: straight_0107, seq_len=40\n"
          ]
        },
        {
          "name": "stderr",
          "output_type": "stream",
          "text": [
            "\rExtracting features:  96%|█████████▋| 1821/1888 [55:24<01:56,  1.75s/it]"
          ]
        },
        {
          "name": "stdout",
          "output_type": "stream",
          "text": [
            "Saved: straight_0117, seq_len=40\n"
          ]
        },
        {
          "name": "stderr",
          "output_type": "stream",
          "text": [
            "\rExtracting features:  97%|█████████▋| 1822/1888 [55:30<03:20,  3.04s/it]"
          ]
        },
        {
          "name": "stdout",
          "output_type": "stream",
          "text": [
            "Saved: straight_0118, seq_len=40\n"
          ]
        },
        {
          "name": "stderr",
          "output_type": "stream",
          "text": [
            "\rExtracting features:  97%|█████████▋| 1823/1888 [55:32<02:54,  2.69s/it]"
          ]
        },
        {
          "name": "stdout",
          "output_type": "stream",
          "text": [
            "Saved: straight_0156, seq_len=40\n"
          ]
        },
        {
          "name": "stderr",
          "output_type": "stream",
          "text": [
            "\rExtracting features:  97%|█████████▋| 1824/1888 [55:34<02:34,  2.42s/it]"
          ]
        },
        {
          "name": "stdout",
          "output_type": "stream",
          "text": [
            "Saved: straight_0136, seq_len=40\n"
          ]
        },
        {
          "name": "stderr",
          "output_type": "stream",
          "text": [
            "\rExtracting features:  97%|█████████▋| 1825/1888 [55:35<02:09,  2.06s/it]"
          ]
        },
        {
          "name": "stdout",
          "output_type": "stream",
          "text": [
            "Saved: straight_0121, seq_len=40\n"
          ]
        },
        {
          "name": "stderr",
          "output_type": "stream",
          "text": [
            "\rExtracting features:  97%|█████████▋| 1826/1888 [55:37<01:53,  1.84s/it]"
          ]
        },
        {
          "name": "stdout",
          "output_type": "stream",
          "text": [
            "Saved: straight_0130, seq_len=40\n"
          ]
        },
        {
          "name": "stderr",
          "output_type": "stream",
          "text": [
            "\rExtracting features:  97%|█████████▋| 1827/1888 [55:39<01:53,  1.85s/it]"
          ]
        },
        {
          "name": "stdout",
          "output_type": "stream",
          "text": [
            "Saved: straight_0125, seq_len=40\n"
          ]
        },
        {
          "name": "stderr",
          "output_type": "stream",
          "text": [
            "\rExtracting features:  97%|█████████▋| 1828/1888 [55:40<01:52,  1.88s/it]"
          ]
        },
        {
          "name": "stdout",
          "output_type": "stream",
          "text": [
            "Saved: straight_0137, seq_len=40\n"
          ]
        },
        {
          "name": "stderr",
          "output_type": "stream",
          "text": [
            "\rExtracting features:  97%|█████████▋| 1829/1888 [55:42<01:47,  1.82s/it]"
          ]
        },
        {
          "name": "stdout",
          "output_type": "stream",
          "text": [
            "Saved: straight_0116, seq_len=40\n"
          ]
        },
        {
          "name": "stderr",
          "output_type": "stream",
          "text": [
            "\rExtracting features:  97%|█████████▋| 1830/1888 [55:44<01:47,  1.86s/it]"
          ]
        },
        {
          "name": "stdout",
          "output_type": "stream",
          "text": [
            "Saved: straight_0174, seq_len=40\n"
          ]
        },
        {
          "name": "stderr",
          "output_type": "stream",
          "text": [
            "\rExtracting features:  97%|█████████▋| 1831/1888 [55:46<01:44,  1.83s/it]"
          ]
        },
        {
          "name": "stdout",
          "output_type": "stream",
          "text": [
            "Saved: straight_0157, seq_len=40\n"
          ]
        },
        {
          "name": "stderr",
          "output_type": "stream",
          "text": [
            "\rExtracting features:  97%|█████████▋| 1832/1888 [55:47<01:35,  1.70s/it]"
          ]
        },
        {
          "name": "stdout",
          "output_type": "stream",
          "text": [
            "Saved: straight_0139, seq_len=40\n"
          ]
        },
        {
          "name": "stderr",
          "output_type": "stream",
          "text": [
            "\rExtracting features:  97%|█████████▋| 1833/1888 [55:50<01:44,  1.90s/it]"
          ]
        },
        {
          "name": "stdout",
          "output_type": "stream",
          "text": [
            "Saved: straight_0127, seq_len=40\n"
          ]
        },
        {
          "name": "stderr",
          "output_type": "stream",
          "text": [
            "\rExtracting features:  97%|█████████▋| 1834/1888 [55:53<02:08,  2.37s/it]"
          ]
        },
        {
          "name": "stdout",
          "output_type": "stream",
          "text": [
            "Saved: straight_0133, seq_len=40\n"
          ]
        },
        {
          "name": "stderr",
          "output_type": "stream",
          "text": [
            "\rExtracting features:  97%|█████████▋| 1835/1888 [55:55<01:55,  2.18s/it]"
          ]
        },
        {
          "name": "stdout",
          "output_type": "stream",
          "text": [
            "Saved: straight_0158, seq_len=40\n"
          ]
        },
        {
          "name": "stderr",
          "output_type": "stream",
          "text": [
            "\rExtracting features:  97%|█████████▋| 1836/1888 [55:57<01:46,  2.04s/it]"
          ]
        },
        {
          "name": "stdout",
          "output_type": "stream",
          "text": [
            "Saved: straight_0183, seq_len=40\n"
          ]
        },
        {
          "name": "stderr",
          "output_type": "stream",
          "text": [
            "\rExtracting features:  97%|█████████▋| 1837/1888 [55:58<01:40,  1.96s/it]"
          ]
        },
        {
          "name": "stdout",
          "output_type": "stream",
          "text": [
            "Saved: straight_0129, seq_len=40\n"
          ]
        },
        {
          "name": "stderr",
          "output_type": "stream",
          "text": [
            "\rExtracting features:  97%|█████████▋| 1838/1888 [56:00<01:27,  1.75s/it]"
          ]
        },
        {
          "name": "stdout",
          "output_type": "stream",
          "text": [
            "Saved: straight_0114, seq_len=40\n"
          ]
        },
        {
          "name": "stderr",
          "output_type": "stream",
          "text": [
            "\rExtracting features:  97%|█████████▋| 1839/1888 [56:01<01:27,  1.78s/it]"
          ]
        },
        {
          "name": "stdout",
          "output_type": "stream",
          "text": [
            "Saved: straight_0142, seq_len=40\n"
          ]
        },
        {
          "name": "stderr",
          "output_type": "stream",
          "text": [
            "\rExtracting features:  97%|█████████▋| 1840/1888 [56:05<01:46,  2.21s/it]"
          ]
        },
        {
          "name": "stdout",
          "output_type": "stream",
          "text": [
            "Saved: straight_0163, seq_len=40\n"
          ]
        },
        {
          "name": "stderr",
          "output_type": "stream",
          "text": [
            "\rExtracting features:  98%|█████████▊| 1841/1888 [56:07<01:46,  2.27s/it]"
          ]
        },
        {
          "name": "stdout",
          "output_type": "stream",
          "text": [
            "Saved: straight_0149, seq_len=40\n"
          ]
        },
        {
          "name": "stderr",
          "output_type": "stream",
          "text": [
            "\rExtracting features:  98%|█████████▊| 1842/1888 [56:08<01:31,  1.99s/it]"
          ]
        },
        {
          "name": "stdout",
          "output_type": "stream",
          "text": [
            "Saved: straight_0144, seq_len=40\n"
          ]
        },
        {
          "name": "stderr",
          "output_type": "stream",
          "text": [
            "\rExtracting features:  98%|█████████▊| 1843/1888 [56:10<01:27,  1.95s/it]"
          ]
        },
        {
          "name": "stdout",
          "output_type": "stream",
          "text": [
            "Saved: straight_0124, seq_len=40\n"
          ]
        },
        {
          "name": "stderr",
          "output_type": "stream",
          "text": [
            "\rExtracting features:  98%|█████████▊| 1844/1888 [56:12<01:23,  1.89s/it]"
          ]
        },
        {
          "name": "stdout",
          "output_type": "stream",
          "text": [
            "Saved: straight_0128, seq_len=40\n"
          ]
        },
        {
          "name": "stderr",
          "output_type": "stream",
          "text": [
            "\rExtracting features:  98%|█████████▊| 1845/1888 [56:14<01:21,  1.89s/it]"
          ]
        },
        {
          "name": "stdout",
          "output_type": "stream",
          "text": [
            "Saved: straight_0134, seq_len=40\n"
          ]
        },
        {
          "name": "stderr",
          "output_type": "stream",
          "text": [
            "\rExtracting features:  98%|█████████▊| 1846/1888 [56:16<01:20,  1.91s/it]"
          ]
        },
        {
          "name": "stdout",
          "output_type": "stream",
          "text": [
            "Saved: straight_0151, seq_len=40\n"
          ]
        },
        {
          "name": "stderr",
          "output_type": "stream",
          "text": [
            "\rExtracting features:  98%|█████████▊| 1847/1888 [56:18<01:17,  1.88s/it]"
          ]
        },
        {
          "name": "stdout",
          "output_type": "stream",
          "text": [
            "Saved: straight_0143, seq_len=40\n"
          ]
        },
        {
          "name": "stderr",
          "output_type": "stream",
          "text": [
            "\rExtracting features:  98%|█████████▊| 1848/1888 [56:19<01:12,  1.81s/it]"
          ]
        },
        {
          "name": "stdout",
          "output_type": "stream",
          "text": [
            "Saved: straight_0132, seq_len=40\n"
          ]
        },
        {
          "name": "stderr",
          "output_type": "stream",
          "text": [
            "\rExtracting features:  98%|█████████▊| 1849/1888 [56:21<01:12,  1.85s/it]"
          ]
        },
        {
          "name": "stdout",
          "output_type": "stream",
          "text": [
            "Saved: straight_0152, seq_len=40\n"
          ]
        },
        {
          "name": "stderr",
          "output_type": "stream",
          "text": [
            "\rExtracting features:  98%|█████████▊| 1850/1888 [56:23<01:14,  1.96s/it]"
          ]
        },
        {
          "name": "stdout",
          "output_type": "stream",
          "text": [
            "Saved: straight_0154, seq_len=40\n"
          ]
        },
        {
          "name": "stderr",
          "output_type": "stream",
          "text": [
            "\rExtracting features:  98%|█████████▊| 1851/1888 [56:26<01:16,  2.07s/it]"
          ]
        },
        {
          "name": "stdout",
          "output_type": "stream",
          "text": [
            "Saved: straight_0169, seq_len=40\n"
          ]
        },
        {
          "name": "stderr",
          "output_type": "stream",
          "text": [
            "\rExtracting features:  98%|█████████▊| 1852/1888 [56:28<01:12,  2.02s/it]"
          ]
        },
        {
          "name": "stdout",
          "output_type": "stream",
          "text": [
            "Saved: straight_0170, seq_len=40\n"
          ]
        },
        {
          "name": "stderr",
          "output_type": "stream",
          "text": [
            "\rExtracting features:  98%|█████████▊| 1853/1888 [56:29<01:08,  1.94s/it]"
          ]
        },
        {
          "name": "stdout",
          "output_type": "stream",
          "text": [
            "Saved: straight_0164, seq_len=40\n"
          ]
        },
        {
          "name": "stderr",
          "output_type": "stream",
          "text": [
            "\rExtracting features:  98%|█████████▊| 1854/1888 [56:32<01:12,  2.15s/it]"
          ]
        },
        {
          "name": "stdout",
          "output_type": "stream",
          "text": [
            "Saved: straight_0177, seq_len=40\n"
          ]
        },
        {
          "name": "stderr",
          "output_type": "stream",
          "text": [
            "\rExtracting features:  98%|█████████▊| 1855/1888 [56:33<01:03,  1.92s/it]"
          ]
        },
        {
          "name": "stdout",
          "output_type": "stream",
          "text": [
            "Saved: straight_0155, seq_len=40\n"
          ]
        },
        {
          "name": "stderr",
          "output_type": "stream",
          "text": [
            "\rExtracting features:  98%|█████████▊| 1856/1888 [56:35<01:01,  1.91s/it]"
          ]
        },
        {
          "name": "stdout",
          "output_type": "stream",
          "text": [
            "Saved: straight_0167, seq_len=40\n"
          ]
        },
        {
          "name": "stderr",
          "output_type": "stream",
          "text": [
            "\rExtracting features:  98%|█████████▊| 1857/1888 [56:37<01:01,  1.98s/it]"
          ]
        },
        {
          "name": "stdout",
          "output_type": "stream",
          "text": [
            "Saved: straight_0153, seq_len=40\n"
          ]
        },
        {
          "name": "stderr",
          "output_type": "stream",
          "text": [
            "\rExtracting features:  98%|█████████▊| 1858/1888 [56:39<00:56,  1.89s/it]"
          ]
        },
        {
          "name": "stdout",
          "output_type": "stream",
          "text": [
            "Saved: straight_0185, seq_len=40\n"
          ]
        },
        {
          "name": "stderr",
          "output_type": "stream",
          "text": [
            "\rExtracting features:  98%|█████████▊| 1859/1888 [56:41<00:51,  1.76s/it]"
          ]
        },
        {
          "name": "stdout",
          "output_type": "stream",
          "text": [
            "Saved: straight_0148, seq_len=40\n"
          ]
        },
        {
          "name": "stderr",
          "output_type": "stream",
          "text": [
            "\rExtracting features:  99%|█████████▊| 1860/1888 [56:42<00:45,  1.62s/it]"
          ]
        },
        {
          "name": "stdout",
          "output_type": "stream",
          "text": [
            "Saved: straight_0186, seq_len=40\n"
          ]
        },
        {
          "name": "stderr",
          "output_type": "stream",
          "text": [
            "\rExtracting features:  99%|█████████▊| 1861/1888 [56:44<00:50,  1.86s/it]"
          ]
        },
        {
          "name": "stdout",
          "output_type": "stream",
          "text": [
            "Saved: straight_0160, seq_len=40\n"
          ]
        },
        {
          "name": "stderr",
          "output_type": "stream",
          "text": [
            "\rExtracting features:  99%|█████████▊| 1862/1888 [56:46<00:50,  1.93s/it]"
          ]
        },
        {
          "name": "stdout",
          "output_type": "stream",
          "text": [
            "Saved: straight_0162, seq_len=40\n"
          ]
        },
        {
          "name": "stderr",
          "output_type": "stream",
          "text": [
            "\rExtracting features:  99%|█████████▊| 1863/1888 [56:48<00:43,  1.76s/it]"
          ]
        },
        {
          "name": "stdout",
          "output_type": "stream",
          "text": [
            "Saved: straight_0145, seq_len=40\n"
          ]
        },
        {
          "name": "stderr",
          "output_type": "stream",
          "text": [
            "\rExtracting features:  99%|█████████▊| 1864/1888 [56:50<00:46,  1.94s/it]"
          ]
        },
        {
          "name": "stdout",
          "output_type": "stream",
          "text": [
            "Saved: straight_0146, seq_len=40\n"
          ]
        },
        {
          "name": "stderr",
          "output_type": "stream",
          "text": [
            "\rExtracting features:  99%|█████████▉| 1865/1888 [56:52<00:45,  1.96s/it]"
          ]
        },
        {
          "name": "stdout",
          "output_type": "stream",
          "text": [
            "Saved: straight_0191, seq_len=40\n"
          ]
        },
        {
          "name": "stderr",
          "output_type": "stream",
          "text": [
            "\rExtracting features:  99%|█████████▉| 1866/1888 [56:54<00:39,  1.81s/it]"
          ]
        },
        {
          "name": "stdout",
          "output_type": "stream",
          "text": [
            "Saved: straight_0166, seq_len=40\n"
          ]
        },
        {
          "name": "stderr",
          "output_type": "stream",
          "text": [
            "\rExtracting features:  99%|█████████▉| 1867/1888 [56:56<00:38,  1.85s/it]"
          ]
        },
        {
          "name": "stdout",
          "output_type": "stream",
          "text": [
            "Saved: straight_0138, seq_len=40\n"
          ]
        },
        {
          "name": "stderr",
          "output_type": "stream",
          "text": [
            "\rExtracting features:  99%|█████████▉| 1868/1888 [56:58<00:39,  1.99s/it]"
          ]
        },
        {
          "name": "stdout",
          "output_type": "stream",
          "text": [
            "Saved: straight_0159, seq_len=40\n"
          ]
        },
        {
          "name": "stderr",
          "output_type": "stream",
          "text": [
            "\rExtracting features:  99%|█████████▉| 1869/1888 [57:00<00:37,  1.95s/it]"
          ]
        },
        {
          "name": "stdout",
          "output_type": "stream",
          "text": [
            "Saved: straight_0172, seq_len=40\n"
          ]
        },
        {
          "name": "stderr",
          "output_type": "stream",
          "text": [
            "\rExtracting features:  99%|█████████▉| 1870/1888 [57:02<00:35,  1.96s/it]"
          ]
        },
        {
          "name": "stdout",
          "output_type": "stream",
          "text": [
            "Saved: straight_0178, seq_len=40\n"
          ]
        },
        {
          "name": "stderr",
          "output_type": "stream",
          "text": [
            "\rExtracting features:  99%|█████████▉| 1871/1888 [57:04<00:32,  1.93s/it]"
          ]
        },
        {
          "name": "stdout",
          "output_type": "stream",
          "text": [
            "Saved: straight_0190, seq_len=40\n"
          ]
        },
        {
          "name": "stderr",
          "output_type": "stream",
          "text": [
            "\rExtracting features:  99%|█████████▉| 1872/1888 [57:05<00:29,  1.85s/it]"
          ]
        },
        {
          "name": "stdout",
          "output_type": "stream",
          "text": [
            "Saved: straight_0181, seq_len=40\n"
          ]
        },
        {
          "name": "stderr",
          "output_type": "stream",
          "text": [
            "\rExtracting features:  99%|█████████▉| 1873/1888 [57:07<00:27,  1.84s/it]"
          ]
        },
        {
          "name": "stdout",
          "output_type": "stream",
          "text": [
            "Saved: straight_0173, seq_len=40\n"
          ]
        },
        {
          "name": "stderr",
          "output_type": "stream",
          "text": [
            "\rExtracting features:  99%|█████████▉| 1874/1888 [57:11<00:32,  2.36s/it]"
          ]
        },
        {
          "name": "stdout",
          "output_type": "stream",
          "text": [
            "Saved: straight_0193, seq_len=40\n"
          ]
        },
        {
          "name": "stderr",
          "output_type": "stream",
          "text": [
            "\rExtracting features:  99%|█████████▉| 1875/1888 [57:13<00:31,  2.40s/it]"
          ]
        },
        {
          "name": "stdout",
          "output_type": "stream",
          "text": [
            "Saved: straight_0150, seq_len=40\n"
          ]
        },
        {
          "name": "stderr",
          "output_type": "stream",
          "text": [
            "\rExtracting features:  99%|█████████▉| 1876/1888 [57:15<00:26,  2.18s/it]"
          ]
        },
        {
          "name": "stdout",
          "output_type": "stream",
          "text": [
            "Saved: straight_0192, seq_len=40\n"
          ]
        },
        {
          "name": "stderr",
          "output_type": "stream",
          "text": [
            "\rExtracting features:  99%|█████████▉| 1877/1888 [57:17<00:23,  2.17s/it]"
          ]
        },
        {
          "name": "stdout",
          "output_type": "stream",
          "text": [
            "Saved: straight_0176, seq_len=40\n"
          ]
        },
        {
          "name": "stderr",
          "output_type": "stream",
          "text": [
            "\rExtracting features:  99%|█████████▉| 1878/1888 [57:18<00:18,  1.88s/it]"
          ]
        },
        {
          "name": "stdout",
          "output_type": "stream",
          "text": [
            "Saved: straight_0187, seq_len=40\n"
          ]
        },
        {
          "name": "stderr",
          "output_type": "stream",
          "text": [
            "\rExtracting features: 100%|█████████▉| 1879/1888 [57:20<00:17,  1.89s/it]"
          ]
        },
        {
          "name": "stdout",
          "output_type": "stream",
          "text": [
            "Saved: straight_0165, seq_len=40\n"
          ]
        },
        {
          "name": "stderr",
          "output_type": "stream",
          "text": [
            "\rExtracting features: 100%|█████████▉| 1880/1888 [57:22<00:16,  2.05s/it]"
          ]
        },
        {
          "name": "stdout",
          "output_type": "stream",
          "text": [
            "Saved: straight_0161, seq_len=40\n"
          ]
        },
        {
          "name": "stderr",
          "output_type": "stream",
          "text": [
            "\rExtracting features: 100%|█████████▉| 1881/1888 [57:24<00:12,  1.80s/it]"
          ]
        },
        {
          "name": "stdout",
          "output_type": "stream",
          "text": [
            "Saved: straight_0180, seq_len=40\n"
          ]
        },
        {
          "name": "stderr",
          "output_type": "stream",
          "text": [
            "\rExtracting features: 100%|█████████▉| 1882/1888 [57:27<00:13,  2.28s/it]"
          ]
        },
        {
          "name": "stdout",
          "output_type": "stream",
          "text": [
            "Saved: straight_0171, seq_len=40\n"
          ]
        },
        {
          "name": "stderr",
          "output_type": "stream",
          "text": [
            "\rExtracting features: 100%|█████████▉| 1883/1888 [57:29<00:10,  2.17s/it]"
          ]
        },
        {
          "name": "stdout",
          "output_type": "stream",
          "text": [
            "Saved: straight_0188, seq_len=40\n"
          ]
        },
        {
          "name": "stderr",
          "output_type": "stream",
          "text": [
            "\rExtracting features: 100%|█████████▉| 1884/1888 [57:34<00:12,  3.01s/it]"
          ]
        },
        {
          "name": "stdout",
          "output_type": "stream",
          "text": [
            "Saved: straight_0182, seq_len=40\n"
          ]
        },
        {
          "name": "stderr",
          "output_type": "stream",
          "text": [
            "\rExtracting features: 100%|█████████▉| 1885/1888 [57:36<00:08,  2.74s/it]"
          ]
        },
        {
          "name": "stdout",
          "output_type": "stream",
          "text": [
            "Saved: straight_0189, seq_len=40\n"
          ]
        },
        {
          "name": "stderr",
          "output_type": "stream",
          "text": [
            "\rExtracting features: 100%|█████████▉| 1886/1888 [57:38<00:05,  2.52s/it]"
          ]
        },
        {
          "name": "stdout",
          "output_type": "stream",
          "text": [
            "Saved: straight_0184, seq_len=40\n"
          ]
        },
        {
          "name": "stderr",
          "output_type": "stream",
          "text": [
            "\rExtracting features: 100%|█████████▉| 1887/1888 [57:40<00:02,  2.31s/it]"
          ]
        },
        {
          "name": "stdout",
          "output_type": "stream",
          "text": [
            "Saved: straight_0179, seq_len=40\n"
          ]
        },
        {
          "name": "stderr",
          "output_type": "stream",
          "text": [
            "Extracting features: 100%|██████████| 1888/1888 [57:41<00:00,  1.83s/it]"
          ]
        },
        {
          "name": "stdout",
          "output_type": "stream",
          "text": [
            "Saved: straight_0175, seq_len=40\n",
            "Feature extraction complete.\n"
          ]
        },
        {
          "name": "stderr",
          "output_type": "stream",
          "text": [
            "\n"
          ]
        }
      ],
      "source": [
        "import os\n",
        "import cv2\n",
        "import numpy as np\n",
        "import torch\n",
        "from torchvision import transforms, models\n",
        "import torch.nn as nn\n",
        "from PIL import Image\n",
        "\n",
        "# Global constants\n",
        "FRAME_HEIGHT = 224\n",
        "FRAME_WIDTH = 224\n",
        "NUM_FRAMES = 40\n",
        "BATCH_SIZE = 16\n",
        "MOTION_THRESHOLD = 30  # threshold for frame difference\n",
        "DEVICE = torch.device(\"cuda\" if torch.cuda.is_available() else \"cpu\")\n",
        "\n",
        "# Pre-load the feature extractor\n",
        "feature_extractor = models.resnet50(pretrained=True)\n",
        "feature_extractor = nn.Sequential(*list(feature_extractor.children())[:-1])\n",
        "feature_extractor.eval().to(DEVICE)\n",
        "\n",
        "# Define image transforms\n",
        "def get_transform():\n",
        "    return transforms.Compose([\n",
        "        transforms.ToPILImage(),\n",
        "        transforms.Resize((FRAME_HEIGHT, FRAME_WIDTH)),\n",
        "        transforms.ToTensor(),\n",
        "        transforms.Normalize(mean=[0.485, 0.456, 0.406],\n",
        "                             std=[0.229, 0.224, 0.225])\n",
        "    ])\n",
        "\n",
        "transform = get_transform()\n",
        "\n",
        "def sample_key_frames(video_path, num_frames=NUM_FRAMES):\n",
        "    \"\"\"\n",
        "    Sample frames based on motion: picks frames with significant difference,\n",
        "    then uniform-samples to fixed length.\n",
        "    \"\"\"\n",
        "    cap = cv2.VideoCapture(video_path)\n",
        "    frames = []\n",
        "    diffs = []\n",
        "    prev_gray = None\n",
        "\n",
        "    # Read all frames first (or up to a cap)\n",
        "    while True:\n",
        "        ret, frame = cap.read()\n",
        "        if not ret:\n",
        "            break\n",
        "        rgb = cv2.cvtColor(frame, cv2.COLOR_BGR2RGB)\n",
        "        gray = cv2.cvtColor(frame, cv2.COLOR_BGR2GRAY)\n",
        "        if prev_gray is not None:\n",
        "            diff = cv2.absdiff(gray, prev_gray)\n",
        "            diffs.append(np.mean(diff))\n",
        "            frames.append(rgb)\n",
        "        else:\n",
        "            # first frame, always include\n",
        "            diffs.append(0)\n",
        "            frames.append(rgb)\n",
        "        prev_gray = gray\n",
        "    cap.release()\n",
        "\n",
        "    if len(frames) == 0:\n",
        "        # blank placeholder\n",
        "        return [np.zeros((FRAME_HEIGHT, FRAME_WIDTH, 3), dtype=np.uint8)] * num_frames\n",
        "\n",
        "    # Compute top-k motion frames\n",
        "    motion_indices = np.argsort(diffs)[-num_frames:]\n",
        "    # If fewer, pad by repeating last\n",
        "    if len(motion_indices) < num_frames:\n",
        "        motion_indices = list(motion_indices) + [motion_indices[-1]] * (num_frames - len(motion_indices))\n",
        "\n",
        "    # Uniformly select among these key frames if too many\n",
        "    motion_indices = sorted(motion_indices)\n",
        "    if len(motion_indices) > num_frames:\n",
        "        motion_indices = np.linspace(0, len(motion_indices)-1, num_frames, dtype=int)\n",
        "        motion_indices = [motion_indices[i] for i in range(num_frames)]\n",
        "\n",
        "    sampled = [frames[i] for i in motion_indices]\n",
        "    return sampled\n",
        "\n",
        "\n",
        "def extract_frames(video_path, num_frames=NUM_FRAMES):\n",
        "    \"\"\"\n",
        "    Extract and transform frames using motion-aware sampling.\n",
        "    Returns torch.Tensor (num_frames, 3, H, W) and seq_len.\n",
        "    \"\"\"\n",
        "    raw_frames = sample_key_frames(video_path, num_frames)\n",
        "    transformed = []\n",
        "    for frame in raw_frames:\n",
        "        try:\n",
        "            t = transform(frame)\n",
        "        except Exception:\n",
        "            # fallback blank\n",
        "            t = torch.zeros(3, FRAME_HEIGHT, FRAME_WIDTH)\n",
        "        transformed.append(t)\n",
        "    seq_len = len(transformed)\n",
        "    frames_tensor = torch.stack(transformed)\n",
        "    return frames_tensor, seq_len\n",
        "\n",
        "\n",
        "def extract_features(frames, batch_size=BATCH_SIZE):\n",
        "    \"\"\"\n",
        "    Extract CNN features on device, chunked in batches.\n",
        "    \"\"\"\n",
        "    features = []\n",
        "    with torch.no_grad():\n",
        "        for i in range(0, frames.size(0), batch_size):\n",
        "            batch = frames[i:i+batch_size].to(DEVICE)\n",
        "            out = feature_extractor(batch)\n",
        "            out = out.view(out.size(0), -1)\n",
        "            features.append(out.cpu())\n",
        "    return torch.cat(features, dim=0)\n",
        "\n",
        "\n",
        "def extract_and_save_features(video_path, output_dir):\n",
        "    os.makedirs(output_dir, exist_ok=True)\n",
        "    video_name = os.path.splitext(os.path.basename(video_path))[0]\n",
        "    frames, seq_len = extract_frames(video_path)\n",
        "    feats = extract_features(frames)\n",
        "    save_dict = {'features': feats, 'seq_len': seq_len}\n",
        "    save_path = os.path.join(output_dir, f\"{video_name}_features.pt\")\n",
        "    torch.save(save_dict, save_path)\n",
        "    print(f\"Saved: {video_name}, seq_len={seq_len}\")\n",
        "\n",
        "if __name__ == '__main__':\n",
        "    train_video_dir = \"/content/drive/MyDrive/CricShot10 dataset\"\n",
        "    features_train_dir = \"/content/drive/MyDrive/cricket_features/train-new\"\n",
        "\n",
        "    from glob import glob\n",
        "    train_paths = [p for p in glob(os.path.join(train_video_dir, '*', '*')) if p.endswith(('.avi', '.mp4'))]\n",
        "    print(f\"Found {len(train_paths)} videos. Using device: {DEVICE}\")\n",
        "\n",
        "    for vp in tqdm(train_paths, desc=\"Extracting features\"):\n",
        "        extract_and_save_features(vp, features_train_dir)\n",
        "    print(\"Feature extraction complete.\")"
      ]
    },
    {
      "cell_type": "code",
      "execution_count": null,
      "metadata": {
        "colab": {
          "base_uri": "https://localhost:8080/"
        },
        "id": "oMqYsE3GtlYa",
        "outputId": "ed0689ba-1eab-4f71-b397-6b4c69d3e5bf"
      },
      "outputs": [
        {
          "name": "stdout",
          "output_type": "stream",
          "text": [
            "Total feature files found: 1888\n",
            "Train files: 1510 | Val files: 189 | Test files: 189\n"
          ]
        }
      ],
      "source": [
        "import os\n",
        "import numpy as np\n",
        "from sklearn.model_selection import train_test_split\n",
        "import os\n",
        "import torch\n",
        "from torch.utils.data import Dataset\n",
        "from sklearn.preprocessing import LabelEncoder\n",
        "import joblib\n",
        "import torchvision\n",
        "\n",
        "FEATURE_DIR = \"/content/drive/MyDrive/cricket_features/train-new\"\n",
        "\n",
        "CLASSES_LIST = [\"cover\", \"defense\", \"flick\", \"hook\", \"late_cut\", \"lofted\", \"pull\", \"square_cut\", \"straight\", \"sweep\"]\n",
        "\n",
        "all_files = []\n",
        "all_labels = []\n",
        "\n",
        "label_encoder = LabelEncoder()\n",
        "label_encoder.fit(CLASSES_LIST)\n",
        "\n",
        "# Save it for future use\n",
        "joblib.dump(label_encoder, \"label_encoder.pkl\")\n",
        "\n",
        "for file_name in os.listdir(FEATURE_DIR):\n",
        "    if file_name.endswith('.pt'):\n",
        "        # Example: \"square_cut_001_features.pt\" → class name is \"square_cut\"\n",
        "        base_name = file_name.split('_features.pt')[0]\n",
        "        class_name = '_'.join(base_name.split('_')[:-1])\n",
        "        if class_name in CLASSES_LIST:\n",
        "            label = CLASSES_LIST.index(class_name)\n",
        "            all_files.append(file_name)\n",
        "            all_labels.append(label)\n",
        "        else:\n",
        "            print(f\"Warning: {class_name} not found in class list. Skipping {file_name}.\")\n",
        "\n",
        "print(\"Total feature files found:\", len(all_files))\n",
        "\n",
        "# Split data into training, validation, and test sets (for example, 80/10/10)\n",
        "train_files, temp_files, train_labels, temp_labels = train_test_split(all_files, all_labels, test_size=0.2, stratify=all_labels, random_state=42)\n",
        "val_files, test_files, val_labels, test_labels = train_test_split(temp_files, temp_labels, test_size=0.5, stratify=temp_labels, random_state=42)\n",
        "\n",
        "print(f\"Train files: {len(train_files)} | Val files: {len(val_files)} | Test files: {len(test_files)}\")"
      ]
    },
    {
      "cell_type": "code",
      "execution_count": null,
      "metadata": {
        "id": "dpmVFtaWtlVX"
      },
      "outputs": [],
      "source": [
        "class FeatureDataset(Dataset):\n",
        "    def __init__(self, feature_dir, file_list, labels):\n",
        "        \"\"\"\n",
        "        Args:\n",
        "            feature_dir (str): Directory containing saved .pt feature files.\n",
        "            file_list (list): List of feature filenames (with extension) found in the feature_dir.\n",
        "            labels (list): Corresponding list of labels (as integers) for each file.\n",
        "        \"\"\"\n",
        "        self.feature_dir = feature_dir\n",
        "        self.file_list = file_list\n",
        "        self.labels = labels\n",
        "\n",
        "    def __len__(self):\n",
        "        return len(self.file_list)\n",
        "    def __getitem__(self, idx):\n",
        "        file_name = self.file_list[idx]\n",
        "        file_path = os.path.join(self.feature_dir, file_name)\n",
        "        data = torch.load(file_path, weights_only=True)\n",
        "        # Assume your .pt files are dictionaries with keys \"features\" and \"seq_len\"\n",
        "        features = data['features']   # Tensor of shape (NUM_FRAMES, FEATURE_DIM)\n",
        "        seq_len = data.get('seq_len', features.shape[0])  # Use recorded sequence length, if available\n",
        "        label = self.labels[idx]\n",
        "        # Optionally, you could also return seq_len if you plan to pack sequences in your LRCN.\n",
        "        return features, seq_len, label\n"
      ]
    },
    {
      "cell_type": "code",
      "execution_count": null,
      "metadata": {
        "colab": {
          "base_uri": "https://localhost:8080/"
        },
        "id": "sMcKYNLAtlSv",
        "outputId": "65bce8b6-085e-4f53-b517-ab6e45aba8d9"
      },
      "outputs": [
        {
          "name": "stderr",
          "output_type": "stream",
          "text": [
            "/usr/local/lib/python3.11/dist-packages/torch/utils/data/dataloader.py:624: UserWarning: This DataLoader will create 4 worker processes in total. Our suggested max number of worker in current system is 2, which is smaller than what this DataLoader is going to create. Please be aware that excessive worker creation might get DataLoader running slow or even freeze, lower the worker number to avoid potential slowness/freeze if necessary.\n",
            "  warnings.warn(\n"
          ]
        }
      ],
      "source": [
        "from torch.utils.data import DataLoader\n",
        "\n",
        "BATCH_SIZE = 16\n",
        "\n",
        "train_dataset = FeatureDataset(FEATURE_DIR, train_files, train_labels)\n",
        "val_dataset   = FeatureDataset(FEATURE_DIR, val_files, val_labels)\n",
        "test_dataset  = FeatureDataset(FEATURE_DIR, test_files, test_labels)\n",
        "\n",
        "train_loader = DataLoader(train_dataset, batch_size=BATCH_SIZE, shuffle=True, num_workers=2)\n",
        "val_loader   = DataLoader(val_dataset, batch_size=BATCH_SIZE, shuffle=False, num_workers=2)\n",
        "test_loader  = DataLoader(test_dataset, batch_size=BATCH_SIZE, shuffle=False, num_workers=2)\n"
      ]
    },
    {
      "cell_type": "code",
      "execution_count": null,
      "metadata": {
        "id": "GHV6_1ORtlPu"
      },
      "outputs": [],
      "source": [
        "\n",
        "import torch\n",
        "import torch.nn as nn\n",
        "import torch.optim as optim\n",
        "from torch.nn.utils.rnn import pack_padded_sequence, pad_packed_sequence\n",
        "\n",
        "\n",
        "\n",
        "class LRCN(nn.Module):\n",
        "    def __init__(self, input_size=2048,\n",
        "                 hidden_size=512,      # Reduced from 768 to 512\n",
        "                 num_layers=2,         # Reduced from 2 to 1\n",
        "                 num_classes=10,\n",
        "                 dropout=0.5):         # Increased dropout\n",
        "        super(LRCN, self).__init__()\n",
        "\n",
        "        # Feature embedding with normalization\n",
        "        self.feature_embedding = nn.Sequential(\n",
        "            nn.Linear(input_size, hidden_size),\n",
        "            nn.LayerNorm(hidden_size),\n",
        "            nn.Dropout(0.6),\n",
        "            nn.ReLU(),\n",
        "\n",
        "            nn.Linear(hidden_size, hidden_size),\n",
        "            nn.LayerNorm(hidden_size),\n",
        "            nn.Dropout(0.6),\n",
        "            nn.ReLU()\n",
        "        )\n",
        "\n",
        "\n",
        "        self.lstm = nn.LSTM(\n",
        "            input_size=hidden_size,    # Now takes input from feature embedding\n",
        "            hidden_size=hidden_size,\n",
        "            num_layers=num_layers,\n",
        "            batch_first=True,\n",
        "            bidirectional=True,\n",
        "            dropout=0.5\n",
        "        )\n",
        "\n",
        "        # Attention mechanism\n",
        "        self.attention = nn.Linear(hidden_size * 2, 1)\n",
        "\n",
        "        # Classifier with strong regularization\n",
        "        self.classifier = nn.Sequential(\n",
        "            nn.Linear(hidden_size * 2, hidden_size),\n",
        "            nn.LayerNorm(hidden_size),  # Layer normalization instead of batch norm\n",
        "            nn.Dropout(0.8),        # Higher dropout\n",
        "            nn.ReLU(),\n",
        "            nn.Linear(hidden_size, num_classes)\n",
        "        )\n",
        "\n",
        "        # L2 regularization will be applied through weight decay in optimizer\n",
        "\n",
        "    def forward(self, x, lengths):\n",
        "        # Apply feature embedding first\n",
        "        x = self.feature_embedding(x)\n",
        "\n",
        "        # Pack sequence0\n",
        "        packed = pack_padded_sequence(x, lengths.cpu(), batch_first=True, enforce_sorted=False)\n",
        "        packed_output, _ = self.lstm(packed)\n",
        "        output, _ = pad_packed_sequence(packed_output, batch_first=True)\n",
        "\n",
        "        # Apply attention\n",
        "        attn_weights = torch.softmax(self.attention(output).squeeze(-1), dim=1)\n",
        "\n",
        "        # Apply weighted sum\n",
        "        weighted_output = torch.sum(output * attn_weights.unsqueeze(-1), dim=1)\n",
        "\n",
        "        # Apply classifier\n",
        "        logits = self.classifier(weighted_output)\n",
        "        return logits"
      ]
    },
    {
      "cell_type": "code",
      "execution_count": null,
      "metadata": {
        "id": "vkPbtPR2tlMU"
      },
      "outputs": [],
      "source": [
        "# FEATURE_DIM=2048\n",
        "# NUM_CLASSES=10\n",
        "# NUM_FRAMES=40\n",
        "\n",
        "FEATURE_DIM = 2048\n",
        "NUM_CLASSES = 10\n",
        "NUM_FRAMES = 40\n",
        "EPOCHS = 100\n",
        "LEARNING_RATE = 1e-4\n",
        "WEIGHT_DECAY = 1e-5\n",
        "EARLY_STOPPING_PATIENCE = 10"
      ]
    },
    {
      "cell_type": "code",
      "execution_count": null,
      "metadata": {
        "colab": {
          "base_uri": "https://localhost:8080/"
        },
        "id": "vtM34pPltlJT",
        "outputId": "0da3a1ff-f3ab-41c3-fd39-72e82fd551e3"
      },
      "outputs": [
        {
          "name": "stdout",
          "output_type": "stream",
          "text": [
            "Using device: cuda\n"
          ]
        },
        {
          "name": "stderr",
          "output_type": "stream",
          "text": [
            "/usr/local/lib/python3.11/dist-packages/torch/optim/lr_scheduler.py:62: UserWarning: The verbose parameter is deprecated. Please use get_last_lr() to access the learning rate.\n",
            "  warnings.warn(\n"
          ]
        },
        {
          "name": "stdout",
          "output_type": "stream",
          "text": [
            "Epoch 1/100: Train Loss 2.4524, Train Acc 0.1139 | Val Loss 2.2869, Val Acc 0.1164\n",
            "Saved best model with validation loss: 2.2869\n",
            "Epoch 2/100: Train Loss 2.3550, Train Acc 0.1212 | Val Loss 2.2084, Val Acc 0.2593\n",
            "Saved best model with validation loss: 2.2084\n",
            "Epoch 3/100: Train Loss 2.2522, Train Acc 0.1623 | Val Loss 2.0404, Val Acc 0.2275\n",
            "Saved best model with validation loss: 2.0404\n",
            "Epoch 4/100: Train Loss 2.1395, Train Acc 0.2046 | Val Loss 1.9763, Val Acc 0.2540\n",
            "Saved best model with validation loss: 1.9763\n",
            "Epoch 5/100: Train Loss 2.0944, Train Acc 0.2192 | Val Loss 1.8839, Val Acc 0.2910\n",
            "Saved best model with validation loss: 1.8839\n",
            "Epoch 6/100: Train Loss 2.0157, Train Acc 0.2583 | Val Loss 1.8023, Val Acc 0.3386\n",
            "Saved best model with validation loss: 1.8023\n",
            "Epoch 7/100: Train Loss 1.9797, Train Acc 0.2675 | Val Loss 1.7701, Val Acc 0.3598\n",
            "Saved best model with validation loss: 1.7701\n",
            "Epoch 8/100: Train Loss 1.8957, Train Acc 0.3053 | Val Loss 1.7561, Val Acc 0.3386\n",
            "Saved best model with validation loss: 1.7561\n",
            "Epoch 9/100: Train Loss 1.8578, Train Acc 0.3152 | Val Loss 1.6659, Val Acc 0.3492\n",
            "Saved best model with validation loss: 1.6659\n",
            "Epoch 10/100: Train Loss 1.8499, Train Acc 0.3358 | Val Loss 1.6258, Val Acc 0.4127\n",
            "Saved best model with validation loss: 1.6258\n",
            "Epoch 11/100: Train Loss 1.7646, Train Acc 0.3570 | Val Loss 1.5794, Val Acc 0.4656\n",
            "Saved best model with validation loss: 1.5794\n",
            "Epoch 12/100: Train Loss 1.7230, Train Acc 0.3848 | Val Loss 1.5256, Val Acc 0.4603\n",
            "Saved best model with validation loss: 1.5256\n",
            "Epoch 13/100: Train Loss 1.6554, Train Acc 0.4166 | Val Loss 1.5366, Val Acc 0.4921\n",
            "Epoch 14/100: Train Loss 1.6043, Train Acc 0.4417 | Val Loss 1.4883, Val Acc 0.4497\n",
            "Saved best model with validation loss: 1.4883\n",
            "Epoch 15/100: Train Loss 1.5935, Train Acc 0.4265 | Val Loss 1.4137, Val Acc 0.5132\n",
            "Saved best model with validation loss: 1.4137\n",
            "Epoch 16/100: Train Loss 1.5109, Train Acc 0.4702 | Val Loss 1.4083, Val Acc 0.5079\n",
            "Saved best model with validation loss: 1.4083\n",
            "Epoch 17/100: Train Loss 1.5095, Train Acc 0.4788 | Val Loss 1.3798, Val Acc 0.5238\n",
            "Saved best model with validation loss: 1.3798\n",
            "Epoch 18/100: Train Loss 1.4880, Train Acc 0.4848 | Val Loss 1.5133, Val Acc 0.4709\n",
            "Epoch 19/100: Train Loss 1.4868, Train Acc 0.4894 | Val Loss 1.3801, Val Acc 0.5185\n",
            "Epoch 20/100: Train Loss 1.4120, Train Acc 0.5272 | Val Loss 1.3049, Val Acc 0.5767\n",
            "Saved best model with validation loss: 1.3049\n",
            "Epoch 21/100: Train Loss 1.3702, Train Acc 0.5477 | Val Loss 1.3193, Val Acc 0.5397\n",
            "Epoch 22/100: Train Loss 1.3777, Train Acc 0.5444 | Val Loss 1.3061, Val Acc 0.5556\n",
            "Epoch 23/100: Train Loss 1.3240, Train Acc 0.5530 | Val Loss 1.2147, Val Acc 0.6085\n",
            "Saved best model with validation loss: 1.2147\n",
            "Epoch 24/100: Train Loss 1.2922, Train Acc 0.5682 | Val Loss 1.2049, Val Acc 0.5979\n",
            "Saved best model with validation loss: 1.2049\n",
            "Epoch 25/100: Train Loss 1.2726, Train Acc 0.5828 | Val Loss 1.1949, Val Acc 0.5979\n",
            "Saved best model with validation loss: 1.1949\n",
            "Epoch 26/100: Train Loss 1.2558, Train Acc 0.5987 | Val Loss 1.1556, Val Acc 0.6243\n",
            "Saved best model with validation loss: 1.1556\n",
            "Epoch 27/100: Train Loss 1.2311, Train Acc 0.5874 | Val Loss 1.1462, Val Acc 0.5979\n",
            "Saved best model with validation loss: 1.1462\n",
            "Epoch 28/100: Train Loss 1.1870, Train Acc 0.6119 | Val Loss 1.2153, Val Acc 0.5926\n",
            "Epoch 29/100: Train Loss 1.1746, Train Acc 0.6113 | Val Loss 1.2903, Val Acc 0.5450\n",
            "Epoch 30/100: Train Loss 1.1918, Train Acc 0.6106 | Val Loss 1.1476, Val Acc 0.6032\n",
            "Epoch 31/100: Train Loss 1.1061, Train Acc 0.6437 | Val Loss 1.1617, Val Acc 0.5979\n",
            "Epoch 32/100: Train Loss 1.1128, Train Acc 0.6457 | Val Loss 1.1946, Val Acc 0.5714\n",
            "Epoch 33/100: Train Loss 1.0626, Train Acc 0.6490 | Val Loss 1.1175, Val Acc 0.6085\n",
            "Saved best model with validation loss: 1.1175\n",
            "Epoch 34/100: Train Loss 1.0441, Train Acc 0.6669 | Val Loss 1.2002, Val Acc 0.5608\n",
            "Epoch 35/100: Train Loss 1.0990, Train Acc 0.6391 | Val Loss 1.1369, Val Acc 0.6190\n",
            "Epoch 36/100: Train Loss 1.0622, Train Acc 0.6596 | Val Loss 1.1016, Val Acc 0.6190\n",
            "Saved best model with validation loss: 1.1016\n",
            "Epoch 37/100: Train Loss 1.0504, Train Acc 0.6781 | Val Loss 1.0701, Val Acc 0.6455\n",
            "Saved best model with validation loss: 1.0701\n",
            "Epoch 38/100: Train Loss 1.0026, Train Acc 0.6748 | Val Loss 1.1177, Val Acc 0.6085\n",
            "Epoch 39/100: Train Loss 0.9723, Train Acc 0.6921 | Val Loss 1.2531, Val Acc 0.5873\n",
            "Epoch 40/100: Train Loss 0.9496, Train Acc 0.6848 | Val Loss 1.0557, Val Acc 0.6296\n",
            "Saved best model with validation loss: 1.0557\n",
            "Epoch 41/100: Train Loss 1.0214, Train Acc 0.6894 | Val Loss 1.1444, Val Acc 0.6032\n",
            "Epoch 42/100: Train Loss 0.9322, Train Acc 0.7060 | Val Loss 1.1015, Val Acc 0.6349\n",
            "Epoch 43/100: Train Loss 0.9441, Train Acc 0.7026 | Val Loss 1.0570, Val Acc 0.6243\n",
            "Epoch 44/100: Train Loss 0.8970, Train Acc 0.7238 | Val Loss 1.0654, Val Acc 0.6243\n",
            "Epoch 45/100: Train Loss 0.9119, Train Acc 0.7166 | Val Loss 1.1333, Val Acc 0.6243\n",
            "Epoch 46/100: Train Loss 1.0316, Train Acc 0.6861 | Val Loss 1.1523, Val Acc 0.6138\n",
            "Epoch 47/100: Train Loss 0.8815, Train Acc 0.7424 | Val Loss 1.0466, Val Acc 0.6402\n",
            "Saved best model with validation loss: 1.0466\n",
            "Epoch 48/100: Train Loss 0.8359, Train Acc 0.7536 | Val Loss 1.0367, Val Acc 0.6561\n",
            "Saved best model with validation loss: 1.0367\n",
            "Epoch 49/100: Train Loss 0.8007, Train Acc 0.7603 | Val Loss 0.9862, Val Acc 0.6614\n",
            "Saved best model with validation loss: 0.9862\n",
            "Epoch 50/100: Train Loss 0.8061, Train Acc 0.7656 | Val Loss 1.0245, Val Acc 0.6984\n",
            "Epoch 51/100: Train Loss 0.8045, Train Acc 0.7589 | Val Loss 1.0225, Val Acc 0.6455\n",
            "Epoch 52/100: Train Loss 0.7605, Train Acc 0.7715 | Val Loss 0.9861, Val Acc 0.6772\n",
            "Saved best model with validation loss: 0.9861\n",
            "Epoch 53/100: Train Loss 0.7373, Train Acc 0.7722 | Val Loss 1.0674, Val Acc 0.6402\n",
            "Epoch 54/100: Train Loss 0.7530, Train Acc 0.7755 | Val Loss 1.0231, Val Acc 0.6455\n",
            "Epoch 55/100: Train Loss 0.7225, Train Acc 0.7947 | Val Loss 0.9888, Val Acc 0.6667\n",
            "Epoch 56/100: Train Loss 0.7486, Train Acc 0.7808 | Val Loss 1.0051, Val Acc 0.6772\n",
            "Epoch 57/100: Train Loss 0.7317, Train Acc 0.7848 | Val Loss 0.9802, Val Acc 0.6772\n",
            "Saved best model with validation loss: 0.9802\n",
            "Epoch 58/100: Train Loss 0.7267, Train Acc 0.7755 | Val Loss 0.9629, Val Acc 0.6561\n",
            "Saved best model with validation loss: 0.9629\n",
            "Epoch 59/100: Train Loss 0.6992, Train Acc 0.7993 | Val Loss 0.9881, Val Acc 0.6772\n",
            "Epoch 60/100: Train Loss 0.6976, Train Acc 0.7907 | Val Loss 0.9690, Val Acc 0.6561\n",
            "Epoch 61/100: Train Loss 0.6968, Train Acc 0.8060 | Val Loss 0.9886, Val Acc 0.6667\n",
            "Epoch 62/100: Train Loss 0.6840, Train Acc 0.8053 | Val Loss 1.0420, Val Acc 0.6772\n",
            "Epoch 63/100: Train Loss 0.6748, Train Acc 0.8113 | Val Loss 0.9991, Val Acc 0.6667\n",
            "Epoch 64/100: Train Loss 0.6642, Train Acc 0.8166 | Val Loss 1.0629, Val Acc 0.6614\n",
            "Epoch 65/100: Train Loss 0.6330, Train Acc 0.8232 | Val Loss 0.9854, Val Acc 0.6878\n",
            "Epoch 66/100: Train Loss 0.6268, Train Acc 0.8265 | Val Loss 0.9609, Val Acc 0.6825\n",
            "Saved best model with validation loss: 0.9609\n",
            "Epoch 67/100: Train Loss 0.6159, Train Acc 0.8285 | Val Loss 0.9585, Val Acc 0.6878\n",
            "Saved best model with validation loss: 0.9585\n",
            "Epoch 68/100: Train Loss 0.6120, Train Acc 0.8364 | Val Loss 0.9482, Val Acc 0.6772\n",
            "Saved best model with validation loss: 0.9482\n",
            "Epoch 69/100: Train Loss 0.6231, Train Acc 0.8298 | Val Loss 0.9708, Val Acc 0.6667\n",
            "Epoch 70/100: Train Loss 0.6092, Train Acc 0.8325 | Val Loss 0.9366, Val Acc 0.7037\n",
            "Saved best model with validation loss: 0.9366\n",
            "Epoch 71/100: Train Loss 0.6090, Train Acc 0.8344 | Val Loss 0.9447, Val Acc 0.6984\n",
            "Epoch 72/100: Train Loss 0.5884, Train Acc 0.8344 | Val Loss 0.9530, Val Acc 0.6984\n",
            "Epoch 73/100: Train Loss 0.5756, Train Acc 0.8483 | Val Loss 0.9586, Val Acc 0.6984\n",
            "Epoch 74/100: Train Loss 0.5652, Train Acc 0.8397 | Val Loss 0.9414, Val Acc 0.7090\n",
            "Epoch 75/100: Train Loss 0.5501, Train Acc 0.8543 | Val Loss 0.9466, Val Acc 0.6931\n",
            "Epoch 76/100: Train Loss 0.5565, Train Acc 0.8517 | Val Loss 0.9323, Val Acc 0.6720\n",
            "Saved best model with validation loss: 0.9323\n"
          ]
        }
      ],
      "source": [
        "import torch.optim as optim\n",
        "\n",
        "\n",
        "# Set device\n",
        "device = torch.device(\"cuda\" if torch.cuda.is_available() else \"cpu\")\n",
        "print(\"Using device:\", device)\n",
        "\n",
        "# Instantiate the model, loss function, and optimizer\n",
        "model = LRCN(\n",
        "    input_size=FEATURE_DIM,\n",
        "    hidden_size=128,  # Reduced from 1024\n",
        "    num_layers=2,     # Reduced from 3\n",
        "    num_classes=NUM_CLASSES,\n",
        "    dropout=0.3      # Increased from 0.5\n",
        ").to(device)\n",
        "\n",
        "criterion = nn.CrossEntropyLoss()\n",
        "optimizer = optim.Adam(\n",
        "    model.parameters(),\n",
        "    lr=LEARNING_RATE,\n",
        "    weight_decay=WEIGHT_DECAY  # Added weight decay\n",
        ")\n",
        "\n",
        "# Learning rate scheduler - reduces learning rate when validation loss plateaus\n",
        "scheduler = optim.lr_scheduler.ReduceLROnPlateau(\n",
        "    optimizer,\n",
        "    mode='min',       # Monitor validation loss for improvement\n",
        "    factor=0.5,       # Multiply learning rate by this factor when reducing\n",
        "    patience=5,       # Wait for 5 epochs with no improvement before reducing LR\n",
        "    verbose=True      # Print message when LR is reduced\n",
        ")\n",
        "\n",
        "# Early stopping parameters\n",
        "best_val_loss = float('inf')\n",
        "early_stopping_counter = 0\n",
        "best_model_path = 'best_lrcn_model.pth'\n",
        "\n",
        "# Training and validation loop\n",
        "for epoch in range(EPOCHS):\n",
        "    # TRAINING PHASE\n",
        "    model.train()\n",
        "    train_loss = 0.0\n",
        "    train_correct = 0\n",
        "    train_total = 0\n",
        "\n",
        "    # Training loop\n",
        "    for features, seq_len, labels in train_loader:\n",
        "        # features shape: (batch, NUM_FRAMES, FEATURE_DIM)\n",
        "        features = features.to(device)\n",
        "        labels = labels.to(device)\n",
        "\n",
        "        # Convert sequence lengths tensor\n",
        "        lengths = torch.tensor([min(seq_len_i, NUM_FRAMES) for seq_len_i in seq_len], dtype=torch.int64)\n",
        "        lengths = lengths.to(device)\n",
        "\n",
        "        # Forward pass\n",
        "        optimizer.zero_grad()\n",
        "        outputs = model(features, lengths)\n",
        "        loss = criterion(outputs, labels)\n",
        "\n",
        "        # Backward pass\n",
        "        loss.backward()\n",
        "        optimizer.step()\n",
        "\n",
        "        # Accumulate metrics\n",
        "        train_loss += loss.item() * features.size(0)\n",
        "        _, preds = torch.max(outputs, 1)\n",
        "        train_correct += torch.sum(preds == labels.data).item()\n",
        "        train_total += features.size(0)\n",
        "\n",
        "    # Calculate epoch metrics\n",
        "    train_loss_epoch = train_loss / train_total\n",
        "    train_acc = train_correct / train_total\n",
        "\n",
        "    # VALIDATION PHASE\n",
        "    model.eval()\n",
        "    val_loss = 0.0\n",
        "    val_correct = 0\n",
        "    val_total = 0\n",
        "\n",
        "    with torch.no_grad():\n",
        "        for features, seq_len, labels in val_loader:\n",
        "            features = features.to(device)\n",
        "            labels = labels.to(device)\n",
        "\n",
        "            lengths = torch.tensor([min(seq_len_i, NUM_FRAMES) for seq_len_i in seq_len], dtype=torch.int64)\n",
        "            lengths = lengths.to(device)\n",
        "\n",
        "            outputs = model(features, lengths)\n",
        "            loss = criterion(outputs, labels)\n",
        "\n",
        "            val_loss += loss.item() * features.size(0)\n",
        "            _, preds = torch.max(outputs, 1)\n",
        "            val_correct += torch.sum(preds == labels.data).item()\n",
        "            val_total += features.size(0)\n",
        "\n",
        "    val_loss_epoch = val_loss / val_total\n",
        "    val_acc = val_correct / val_total\n",
        "\n",
        "    # Print metrics\n",
        "    print(f\"Epoch {epoch+1}/{EPOCHS}: Train Loss {train_loss_epoch:.4f}, Train Acc {train_acc:.4f} | Val Loss {val_loss_epoch:.4f}, Val Acc {val_acc:.4f}\")\n",
        "\n",
        "    # Learning rate scheduling\n",
        "    scheduler.step(val_loss_epoch)\n",
        "\n",
        "    # Early stopping check\n",
        "    if val_loss_epoch < best_val_loss:\n",
        "        best_val_loss = val_loss_epoch\n",
        "        early_stopping_counter = 0\n",
        "        # Save best model\n",
        "        torch.save(model.state_dict(), best_model_path)\n",
        "        print(f\"Saved best model with validation loss: {best_val_loss:.4f}\")\n",
        "    else:\n",
        "        early_stopping_counter += 1\n",
        "        if early_stopping_counter >= EARLY_STOPPING_PATIENCE:\n",
        "            print(f\"Early stopping triggered at epoch {epoch+1}\")\n",
        "            break\n",
        "\n",
        "print(\"Training completed!\")"
      ]
    },
    {
      "cell_type": "code",
      "execution_count": null,
      "metadata": {
        "id": "LdBw5tOs8j9_"
      },
      "outputs": [],
      "source": []
    }
  ],
  "metadata": {
    "accelerator": "GPU",
    "colab": {
      "gpuType": "T4",
      "provenance": []
    },
    "kernelspec": {
      "display_name": "Python 3",
      "name": "python3"
    },
    "language_info": {
      "name": "python"
    }
  },
  "nbformat": 4,
  "nbformat_minor": 0
}
